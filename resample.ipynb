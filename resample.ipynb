{
 "cells": [
  {
   "cell_type": "code",
   "execution_count": 100,
   "metadata": {},
   "outputs": [],
   "source": [
    "import numpy as np\n",
    "import msprime\n",
    "import matplotlib.pyplot as plt\n",
    "import pandas as pd\n",
    "from sklearn.utils import resample\n",
    "from statistics import mean, stdev\n",
    "from sklearn.model_selection import KFold\n",
    "from math import sqrt\n",
    "import seaborn as sns\n",
    "import allel"
   ]
  },
  {
   "cell_type": "code",
   "execution_count": 2,
   "metadata": {},
   "outputs": [],
   "source": [
    "seq_len = 1e8\n",
    "rec_rate = 1e-8\n",
    "mut_rate = 1e-8\n",
    "split_time = 50 # in generations"
   ]
  },
  {
   "cell_type": "code",
   "execution_count": 3,
   "metadata": {},
   "outputs": [
    {
     "data": {
      "text/plain": [
       "PopulationSplit(time=50, derived=['A', 'B'], ancestral='C')"
      ]
     },
     "execution_count": 3,
     "metadata": {},
     "output_type": "execute_result"
    }
   ],
   "source": [
    "demography = msprime.Demography()\n",
    "demography.add_population(name=\"A\", initial_size=1000) \n",
    "demography.add_population(name=\"B\", initial_size=1000)\n",
    "demography.add_population(name=\"C\", initial_size=1000)\n",
    "demography.add_population_split(time=split_time, derived=[\"A\", \"B\"], ancestral=\"C\")"
   ]
  },
  {
   "cell_type": "code",
   "execution_count": 4,
   "metadata": {},
   "outputs": [],
   "source": [
    " ts = msprime.sim_ancestry(\n",
    "        samples={'A':1000, 'B':1000}, # diploid samples\n",
    "        demography=demography,\n",
    "        ploidy=2,\n",
    "        sequence_length=seq_len,\n",
    "        discrete_genome=False,\n",
    "        recombination_rate=rec_rate, \n",
    "        model='dtwf',\n",
    "    )\n",
    "\n",
    "ts = msprime.sim_mutations(\n",
    "    ts, \n",
    "    rate=mut_rate, \n",
    "    discrete_genome=False,\n",
    "    start_time=split_time,\n",
    "    )"
   ]
  },
  {
   "cell_type": "code",
   "execution_count": 13,
   "metadata": {},
   "outputs": [
    {
     "data": {
      "text/html": [
       "\n",
       "            <div>\n",
       "              <style>\n",
       "                .tskit-table thead tr th {text-align: left;padding: 0.5em 0.5em;}\n",
       "                .tskit-table tbody tr td {padding: 0.5em 0.5em;}\n",
       "                .tskit-table tbody tr td:first-of-type {text-align: left;}\n",
       "                .tskit-details-label {vertical-align: top; padding-right:5px;}\n",
       "                .tskit-table-set {display: inline-flex;flex-wrap: wrap;margin: -12px 0 0 -12px;width: calc(100% + 12px);}\n",
       "                .tskit-table-set-table {margin: 12px 0 0 12px;}\n",
       "                details {display: inline-block;}\n",
       "                summary {cursor: pointer; outline: 0; display: list-item;}\n",
       "              </style>\n",
       "              <div class=\"tskit-table-set\">\n",
       "                <div class=\"tskit-table-set-table\">\n",
       "                  <table class=\"tskit-table\">\n",
       "                    <thead>\n",
       "                      <tr>\n",
       "                        <th style=\"padding:0;line-height:21px;\">\n",
       "                          <img style=\"height: 32px;display: inline-block;padding: 3px 5px 3px 0;\" src=\"https://raw.githubusercontent.com/tskit-dev/administrative/main/tskit_logo.svg\"/>\n",
       "                          <a target=\"_blank\" href=\"https://tskit.readthedocs.io/en/latest/python-api.html#the-treesequence-class\"> Tree Sequence </a>\n",
       "                        </th>\n",
       "                      </tr>\n",
       "                    </thead>\n",
       "                    <tbody>\n",
       "                      <tr><td>Trees</td><td>46535</td></tr>\n",
       "                      <tr><td>Sequence Length</td><td>100000000.0</td></tr>\n",
       "                      <tr><td>Sample Nodes</td><td>4000</td></tr>\n",
       "                      <tr><td>Total Size</td><td>7.7 MiB</td></tr>\n",
       "                      <tr>\n",
       "                        <td>Metadata</td><td style=\"text-align: left;\">No Metadata</td></tr>\n",
       "                    </tbody>\n",
       "                  </table>\n",
       "                </div>\n",
       "                <div class=\"tskit-table-set-table\">\n",
       "                  <table class=\"tskit-table\">\n",
       "                    <thead>\n",
       "                      <tr>\n",
       "                        <th style=\"line-height:21px;\">Table</th>\n",
       "                        <th>Rows</th>\n",
       "                        <th>Size</th>\n",
       "                        <th>Has Metadata</th>\n",
       "                      </tr>\n",
       "                    </thead>\n",
       "                    <tbody>\n",
       "                    \n",
       "                  <tr>\n",
       "                    <td>Edges</td>\n",
       "                      <td>174688</td>\n",
       "                      <td>4.7 MiB</td>\n",
       "                      <td style=\"text-align: center;\">\n",
       "                        \n",
       "                      </td>\n",
       "                    </tr>\n",
       "                \n",
       "                  <tr>\n",
       "                    <td>Individuals</td>\n",
       "                      <td>2000</td>\n",
       "                      <td>31.3 KiB</td>\n",
       "                      <td style=\"text-align: center;\">\n",
       "                        \n",
       "                      </td>\n",
       "                    </tr>\n",
       "                \n",
       "                  <tr>\n",
       "                    <td>Migrations</td>\n",
       "                      <td>0</td>\n",
       "                      <td>4 Bytes</td>\n",
       "                      <td style=\"text-align: center;\">\n",
       "                        \n",
       "                      </td>\n",
       "                    </tr>\n",
       "                \n",
       "                  <tr>\n",
       "                    <td>Mutations</td>\n",
       "                      <td>22564</td>\n",
       "                      <td>639.0 KiB</td>\n",
       "                      <td style=\"text-align: center;\">\n",
       "                        \n",
       "                      </td>\n",
       "                    </tr>\n",
       "                \n",
       "                  <tr>\n",
       "                    <td>Nodes</td>\n",
       "                      <td>31076</td>\n",
       "                      <td>728.3 KiB</td>\n",
       "                      <td style=\"text-align: center;\">\n",
       "                        \n",
       "                      </td>\n",
       "                    </tr>\n",
       "                \n",
       "                  <tr>\n",
       "                    <td>Populations</td>\n",
       "                      <td>3</td>\n",
       "                      <td>278 Bytes</td>\n",
       "                      <td style=\"text-align: center;\">\n",
       "                        ✅\n",
       "                      </td>\n",
       "                    </tr>\n",
       "                \n",
       "                  <tr>\n",
       "                    <td>Provenances</td>\n",
       "                      <td>2</td>\n",
       "                      <td>2.5 KiB</td>\n",
       "                      <td style=\"text-align: center;\">\n",
       "                        \n",
       "                      </td>\n",
       "                    </tr>\n",
       "                \n",
       "                  <tr>\n",
       "                    <td>Sites</td>\n",
       "                      <td>22564</td>\n",
       "                      <td>374.6 KiB</td>\n",
       "                      <td style=\"text-align: center;\">\n",
       "                        \n",
       "                      </td>\n",
       "                    </tr>\n",
       "                \n",
       "                    </tbody>\n",
       "                  </table>\n",
       "                </div>\n",
       "              </div>\n",
       "            </div>\n",
       "            "
      ],
      "text/plain": [
       "<tskit.trees.TreeSequence at 0x7fb0c9b2bcd0>"
      ]
     },
     "execution_count": 13,
     "metadata": {},
     "output_type": "execute_result"
    }
   ],
   "source": [
    "ts"
   ]
  },
  {
   "cell_type": "code",
   "execution_count": 22,
   "metadata": {},
   "outputs": [
    {
     "name": "stdout",
     "output_type": "stream",
     "text": [
      "Site(id=0, position=8473.858337816917, ancestral_state='A', mutations=[Mutation(id=0, site=0, node=23066, derived_state='T', parent=-1, metadata=b'', time=831.8728790942114)], metadata=b'')\n"
     ]
    }
   ],
   "source": [
    "for site in ts.sites():\n",
    "    print(site)\n",
    "    break"
   ]
  },
  {
   "cell_type": "code",
   "execution_count": 23,
   "metadata": {},
   "outputs": [
    {
     "data": {
      "text/plain": [
       "22564"
      ]
     },
     "execution_count": 23,
     "metadata": {},
     "output_type": "execute_result"
    }
   ],
   "source": []
  },
  {
   "cell_type": "markdown",
   "metadata": {},
   "source": [
    "## Functions"
   ]
  },
  {
   "cell_type": "code",
   "execution_count": 6,
   "metadata": {},
   "outputs": [],
   "source": [
    "def get_fst(dA, dB, dAB):\n",
    "    mean_within = (dA + dB) / 2\n",
    "    between = dAB \n",
    "    Fst = 1 - mean_within.sum() / between.sum()\n",
    "    return Fst"
   ]
  },
  {
   "cell_type": "code",
   "execution_count": 7,
   "metadata": {},
   "outputs": [],
   "source": [
    "def get_fst_general(ts, pop1_samples, pop2_samples, sites_index):\n",
    "    \"\"\"return fst\n",
    "    ts = tree seqeunce\n",
    "    pop1_samples = the samples from the first popualtion to be used\n",
    "    pop2_samples = the samples from the second population to be used\n",
    "    sites_index = the indexs of the sites to be used.\n",
    "   \n",
    "    all of  (pop1_samples, pop2_samples, and sites_index) may have duplicates.\n",
    "    \"\"\"\n",
    "   \n",
    "    ga = allel.GenotypeArray(\n",
    "        ts.genotype_matrix().reshape(\n",
    "            ts.num_sites, ts.num_samples, 1),\n",
    "        dtype='i1')\n",
    "    \n",
    "    ac1 = ga[sites_index][:, pop1_samples, :].count_alleles()\n",
    "    ac2 = ga[sites_index][:, pop2_samples].count_alleles()\n",
    "    num, denom = allel.hudson_fst(ac1, ac2)\n",
    "    fst = np.sum(num) / np.sum(denom)\n",
    "    return fst"
   ]
  },
  {
   "cell_type": "code",
   "execution_count": 8,
   "metadata": {},
   "outputs": [],
   "source": [
    "def get_CI_normal(data):\n",
    "    est_mean = mean(data)\n",
    "    \n",
    "    length = len(data)\n",
    "\n",
    "    upper = est_fst + 1.96 * (stdev(data) / sqrt(length))\n",
    "    lower = est_fst - 1.96 * (stdev(data) / sqrt(length))\n",
    "\n",
    "    return lower, upper\n",
    "\n",
    "\n",
    "def get_CI_quantile(data):\n",
    "\n",
    "    lower = np.quantile(data, 0.05)\n",
    "    upper = np.quantile(data, 0.95)\n",
    "\n",
    "    return lower, upper"
   ]
  },
  {
   "cell_type": "markdown",
   "metadata": {},
   "source": [
    "#### Bootstrap Resampling"
   ]
  },
  {
   "cell_type": "code",
   "execution_count": 9,
   "metadata": {},
   "outputs": [],
   "source": [
    "def bootstrap(ts, popA, popB, bootstrap_time, bootstrap_size, size, fst, sites_index, method):\n",
    "    '''\n",
    "    Bootstrap Resampling over the given sample and return the coverage rate\n",
    "    @method = 0 over individuals otherwise over sites\n",
    "    ''' \n",
    "    \n",
    "    popA_resample = popA\n",
    "    popB_resample = popB\n",
    "    sites_resample = sites_index\n",
    "    \n",
    "    within = []\n",
    "    for i in range(bootstrap_time):\n",
    "        fst_bt = []\n",
    "        for j in range(bootstrap_size):\n",
    "            \n",
    "            if method == 0:\n",
    "                popA_resample = np.random.choice(popA, size, replace=True)\n",
    "                popB_resample = np.random.choice(popB, size, replace=True)\n",
    "            else:\n",
    "                sites_resample = np.random.choice(sites_index, size, replace=True)\n",
    "                \n",
    "            fst_bt.append(get_fst_general(ts, popA_resample, popB_resample, sites_resample))\n",
    "            \n",
    "        lower, upper = get_CI_quantile(fst_bt)\n",
    "        \n",
    "        print((lower, upper))\n",
    "\n",
    "        if fst < upper and fst > lower:\n",
    "            within.append(1)\n",
    "        else:\n",
    "            within.append(0)\n",
    "            \n",
    "            \n",
    "    print('Coverage rate is: ', mean(within))\n",
    "\n",
    "    return mean(within)"
   ]
  },
  {
   "cell_type": "markdown",
   "metadata": {},
   "source": [
    "#### Jackknife Resampling \n",
    "see https://scikit-learn.org/stable/modules/generated/sklearn.model_selection.KFold.html#sklearn.model_selection.KFold \n",
    "for reference of kfold split"
   ]
  },
  {
   "cell_type": "code",
   "execution_count": 92,
   "metadata": {},
   "outputs": [],
   "source": [
    "def jackknife_ind(kf, ts, popA, popB, sites_index):\n",
    "    index = np.arange(len(popA))\n",
    "    fst_block = []\n",
    "    \n",
    "    for index,_ in kf.split(index):\n",
    "        popA_block = popA[index]\n",
    "        popB_block = popB[index]\n",
    "        fst_block.append(get_fst_general(ts, popA_block, popB_block, sites_index))\n",
    "        \n",
    "    return mean(fst_block)\n",
    "\n",
    "def jackknife_sites(kf, ts, popA, popB, sites_index):\n",
    "    fst_block = []\n",
    "    \n",
    "    for index,_ in kf.split(sites_index):\n",
    "        sites_block = sites_index[index]\n",
    "        fst_block.append(get_fst_general(ts, popA, popB, sites_block))\n",
    "        \n",
    "    return mean(fst_block)\n",
    "\n",
    "def jackknife(ts, popA, popB, bootstrap_time, bootstrap_size, size, fst, sites_index, method):\n",
    "     \n",
    "    within = []\n",
    "    kf = KFold(n_splits=10, shuffle=True)\n",
    "    \n",
    "    for i in range(bootstrap_time):\n",
    "        fst_jk = []\n",
    "        for j in range(bootstrap_size):\n",
    "\n",
    "            if method == 0:\n",
    "                func = jackknife_ind \n",
    "            else:\n",
    "                func = jackknife_sites\n",
    "                \n",
    "            fst_jk.append(func(kf, ts, popA, popB, sites_index))\n",
    "            \n",
    "        lower, upper = get_CI_quantile(fst_jk)\n",
    "        \n",
    "        print((lower, upper))\n",
    "\n",
    "        if fst < upper and fst > lower:\n",
    "            within.append(1)\n",
    "        else:\n",
    "            within.append(0)\n",
    "                \n",
    "    print(f'Coverage rate is: {mean(within)} \\n')\n",
    "\n",
    "    return mean(within)\n",
    "    "
   ]
  },
  {
   "cell_type": "code",
   "execution_count": 90,
   "metadata": {},
   "outputs": [],
   "source": [
    "def replicate(replicate_time, ts, popA, popB, bootstrap_time, \n",
    "                  bootstrap_size, size, fst, sites_index, func, method):\n",
    "    \n",
    "    popA_sample = popA\n",
    "    popB_sample = popB\n",
    "    sites_sample = sites_index\n",
    "    \n",
    "    rate_list = []\n",
    "            \n",
    "    for time in range(replicate_time):\n",
    "        \n",
    "        print(f'Replicate time: {time}')\n",
    "        \n",
    "        if method == 0:\n",
    "            popA_sample = np.random.choice(popA, size, replace=False)\n",
    "            popB_sample = np.random.choice(popB, size, replace=False)\n",
    "        else:\n",
    "            sites_sample = np.random.choice(sites_index, size, replace=False)\n",
    "\n",
    "        rate = func(ts, popA_sample, popB_sample, bootstrap_time, \n",
    "                            bootstrap_size, size, fst, sites_sample, method)\n",
    "\n",
    "        rate_list.append(rate)\n",
    "        \n",
    "    return rate_list"
   ]
  },
  {
   "cell_type": "code",
   "execution_count": 94,
   "metadata": {},
   "outputs": [],
   "source": [
    "def simulation(bootstrap_time, bootstrap_size, sample_size, replicate_time, func, method):\n",
    "    \n",
    "    '''\n",
    "    @replicate_times: times of replication of simulation\n",
    "    @bootstrap_time: times of resampling over each simulation  \n",
    "    @bootstrap_size: size of each resampling \n",
    "    @sample_size: a list of sample size\n",
    "    @method: 0: resample with individuals, 1: resample with sites\n",
    "    @func: func to use for resampling: bootstrap or jackknife block\n",
    "    '''\n",
    "    \n",
    "    popA = ts.samples(population = 0)\n",
    "    popB = ts.samples(population = 1)\n",
    "\n",
    "    sites_index = np.arange(len(ts.sites()))\n",
    "\n",
    "    fst = get_fst_general(ts, popA, popB, sites_index)\n",
    "    print(f'Fst value is: {fst}')\n",
    "    func_name = func.__name__\n",
    "    \n",
    "    if method == 0:\n",
    "        print(f'{func_name.upper()} OVER INDIVIDUALS')\n",
    "    else:\n",
    "        print(f'{func_name.upper()} OVER SITES')\n",
    "    \n",
    "    coverage_rate = {}\n",
    "\n",
    "    for size in sample_size:\n",
    "        \n",
    "        print(f'Sample size: {size}')\n",
    "        \n",
    "        coverage_rate[size] = replicate(replicate_time, ts, popA, popB, \n",
    "                                        bootstrap_time, bootstrap_size, size, \n",
    "                                        fst, sites_index, func, method) \n",
    "        \n",
    "        print(f'Coverage rate for size {size} is: {coverage_rate[size]}: \\n')\n",
    "\n",
    "    return coverage_rate\n"
   ]
  },
  {
   "cell_type": "code",
   "execution_count": 99,
   "metadata": {},
   "outputs": [],
   "source": [
    "ind_size = np.linspace(100, 1000, 10)\n",
    "sites_size = np.linspace(1000, 10000, 10)"
   ]
  },
  {
   "cell_type": "code",
   "execution_count": 87,
   "metadata": {},
   "outputs": [
    {
     "name": "stdout",
     "output_type": "stream",
     "text": [
      "Fst value is: 0.026293477935966713\n",
      "BOOTSTRAP OVER INDIVIDUALS\n",
      "Sample size: 100\n",
      "Replicate time: 0\n",
      "(0.033919379328343546, 0.03886779740563828)\n",
      "(0.03360105358982893, 0.0382605836227519)\n",
      "(0.03445600175989992, 0.03745124527441967)\n",
      "(0.0328447944283908, 0.037655550261859676)\n",
      "(0.03403031320414443, 0.039816001075653605)\n",
      "Coverage rate is:  0\n",
      "Replicate time: 1\n",
      "(0.03464580819780551, 0.041173764105206935)\n",
      "(0.03498394746745327, 0.039412129123958)\n",
      "(0.034812254135339206, 0.0413452691775905)\n",
      "(0.03488300033148257, 0.03910047948433612)\n",
      "(0.034110410404255456, 0.03905641810342584)\n",
      "Coverage rate is:  0\n",
      "Replicate time: 2\n",
      "(0.03361931007640105, 0.040312111229052844)\n",
      "(0.03278620032800271, 0.038786715796565036)\n",
      "(0.031642011338138334, 0.0400632342860376)\n",
      "(0.03256754356870734, 0.03728536071736181)\n",
      "(0.035326917752235926, 0.03892552574936073)\n",
      "Coverage rate is:  0\n",
      "Coverage rate is: [0, 0, 0]\n"
     ]
    }
   ],
   "source": [
    "coverage_bt_ind = simulation(bootstrap_time=5, bootstrap_size=10, \n",
    "                          sample_size=ind_size, replicate_time=3, func=bootstrap, method = 0)"
   ]
  },
  {
   "cell_type": "code",
   "execution_count": 91,
   "metadata": {},
   "outputs": [
    {
     "name": "stdout",
     "output_type": "stream",
     "text": [
      "Fst value is: 0.026293477935966713\n",
      "BOOTSTRAP OVER SITES\n",
      "Sample size: 1000\n",
      "Replicate time: 0\n",
      "(0.026205112262437512, 0.030971963397772962)\n",
      "(0.027068200212294106, 0.030443263546365784)\n",
      "(0.027489093162296398, 0.030608283153173328)\n",
      "(0.026583164012769132, 0.029980024185312436)\n",
      "(0.026180745627258525, 0.030063523762967476)\n",
      "Coverage rate is:  0.4\n",
      "Replicate time: 1\n",
      "(0.02445224861135497, 0.027362992779976246)\n",
      "(0.024264453278104364, 0.028306466002544314)\n",
      "(0.0246235002165971, 0.02785159368636903)\n",
      "(0.022497749491481367, 0.027528083314013713)\n",
      "(0.024005988857915824, 0.02718086126511402)\n",
      "Coverage rate is:  1\n",
      "Replicate time: 2\n",
      "(0.0246228975340426, 0.028006411782524845)\n",
      "(0.025561638514586732, 0.030779994516356286)\n",
      "(0.024927942396050676, 0.02852912435720769)\n",
      "(0.025281129256680815, 0.0300615214412814)\n",
      "(0.025077824454483436, 0.030282822753862626)\n",
      "Coverage rate is:  1\n",
      "Coverage rate is: [0.4, 1, 1]\n"
     ]
    }
   ],
   "source": [
    "coverage_bt_sites = simulation(bootstrap_time=5, bootstrap_size=10, \n",
    "                          sample_size=sites_size, replicate_time=3, func=bootstrap, method = 1)"
   ]
  },
  {
   "cell_type": "code",
   "execution_count": 95,
   "metadata": {},
   "outputs": [
    {
     "name": "stdout",
     "output_type": "stream",
     "text": [
      "Fst value is: 0.026293477935966713\n",
      "JACKKNIFE OVER INDIVIDUALS\n",
      "Sample size: 100\n",
      "Replicate time: 0\n",
      "(0.030104503889665547, 0.030163580318473365)\n",
      "(0.03009373136660798, 0.03016832339107155)\n",
      "(0.03012332179925057, 0.030170016317229563)\n",
      "(0.0301115815620328, 0.030163587693588952)\n",
      "(0.0300986304867933, 0.030175352034594795)\n",
      "Coverage rate is: 0 \n",
      "\n",
      "Replicate time: 1\n",
      "(0.027544325244095183, 0.027596251778819005)\n",
      "(0.02753792831717515, 0.027580880963223954)\n",
      "(0.027541392847634807, 0.027591824761844012)\n",
      "(0.02752610344405089, 0.02759148410175454)\n",
      "(0.027551027310279412, 0.02760460078089473)\n",
      "Coverage rate is: 0 \n",
      "\n",
      "Replicate time: 2\n",
      "(0.02518182574749256, 0.025233224361170908)\n",
      "(0.025154683698643834, 0.025234480317407992)\n",
      "(0.025161213630035414, 0.025242530547476577)\n",
      "(0.025178987742050442, 0.025235581419799608)\n",
      "(0.025155522706480013, 0.025219494043056283)\n",
      "Coverage rate is: 0 \n",
      "\n",
      "Coverage rate for 100 is: [0, 0, 0]: \n",
      "\n"
     ]
    }
   ],
   "source": [
    "coverage_jk_ind = simulation(bootstrap_time=5, bootstrap_size=10, \n",
    "                          sample_size=ind_size, replicate_time=3, func=jackknife, method = 0)"
   ]
  },
  {
   "cell_type": "code",
   "execution_count": 97,
   "metadata": {},
   "outputs": [
    {
     "name": "stdout",
     "output_type": "stream",
     "text": [
      "Fst value is: 0.026293477935966713\n",
      "JACKKNIFE OVER SITES\n",
      "Sample size: 1000\n",
      "Replicate time: 0\n",
      "(0.02823807376275367, 0.02824253704477888)\n",
      "(0.02823694579714109, 0.02824194903624372)\n",
      "(0.028238493547759813, 0.028243994596409097)\n",
      "(0.02823648839252952, 0.028242071042664484)\n",
      "(0.028236367775076703, 0.028241348229662837)\n",
      "Coverage rate is: 0 \n",
      "\n",
      "Replicate time: 1\n",
      "(0.02733669401905544, 0.027341938868323853)\n",
      "(0.027333205703725726, 0.027340333137927324)\n",
      "(0.02733635451570037, 0.027340131372190067)\n",
      "(0.02733691120652617, 0.027340501942564807)\n",
      "(0.027333507182971332, 0.02734082653914683)\n",
      "Coverage rate is: 0 \n",
      "\n",
      "Replicate time: 2\n",
      "(0.025199382176720797, 0.025204368470762642)\n",
      "(0.02519924839205187, 0.025204372476698992)\n",
      "(0.025199390475653165, 0.02520392194533611)\n",
      "(0.025200370000232855, 0.025204210945852124)\n",
      "(0.025200573116200917, 0.025205158332127324)\n",
      "Coverage rate is: 0 \n",
      "\n",
      "Coverage rate for 1000 is: [0, 0, 0]: \n",
      "\n"
     ]
    }
   ],
   "source": [
    "coverage_jk_sites = simulation(bootstrap_time=5, bootstrap_size=10, \n",
    "                          sample_size=sites_size, replicate_time=3, func=jackknife, method = 1)"
   ]
  },
  {
   "cell_type": "code",
   "execution_count": 110,
   "metadata": {},
   "outputs": [],
   "source": [
    "def build_df(data):\n",
    "    df = pd.DataFrame.from_dict(coverage_ind, orient='index')\n",
    "    df['mean'] = df.mean(axis=1)\n",
    "    return df"
   ]
  },
  {
   "cell_type": "code",
   "execution_count": 111,
   "metadata": {},
   "outputs": [
    {
     "data": {
      "text/html": [
       "<div>\n",
       "<style scoped>\n",
       "    .dataframe tbody tr th:only-of-type {\n",
       "        vertical-align: middle;\n",
       "    }\n",
       "\n",
       "    .dataframe tbody tr th {\n",
       "        vertical-align: top;\n",
       "    }\n",
       "\n",
       "    .dataframe thead th {\n",
       "        text-align: right;\n",
       "    }\n",
       "</style>\n",
       "<table border=\"1\" class=\"dataframe\">\n",
       "  <thead>\n",
       "    <tr style=\"text-align: right;\">\n",
       "      <th></th>\n",
       "      <th>0</th>\n",
       "      <th>1</th>\n",
       "      <th>2</th>\n",
       "      <th>mean</th>\n",
       "    </tr>\n",
       "  </thead>\n",
       "  <tbody>\n",
       "    <tr>\n",
       "      <th>100</th>\n",
       "      <td>0</td>\n",
       "      <td>0</td>\n",
       "      <td>0</td>\n",
       "      <td>0.0</td>\n",
       "    </tr>\n",
       "  </tbody>\n",
       "</table>\n",
       "</div>"
      ],
      "text/plain": [
       "     0  1  2  mean\n",
       "100  0  0  0   0.0"
      ]
     },
     "execution_count": 111,
     "metadata": {},
     "output_type": "execute_result"
    }
   ],
   "source": [
    "build_df(coverage_bt_ind)"
   ]
  }
 ],
 "metadata": {
  "kernelspec": {
   "display_name": "Python 3",
   "language": "python",
   "name": "python3"
  },
  "language_info": {
   "codemirror_mode": {
    "name": "ipython",
    "version": 3
   },
   "file_extension": ".py",
   "mimetype": "text/x-python",
   "name": "python",
   "nbconvert_exporter": "python",
   "pygments_lexer": "ipython3",
   "version": "3.8.3"
  }
 },
 "nbformat": 4,
 "nbformat_minor": 4
}

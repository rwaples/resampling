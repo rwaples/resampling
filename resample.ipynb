{
 "cells": [
  {
   "cell_type": "code",
   "execution_count": 2,
   "metadata": {},
   "outputs": [],
   "source": [
    "import numpy as np\n",
    "import msprime\n",
    "import matplotlib.pyplot as plt\n",
    "import pandas as pd\n",
    "from sklearn.utils import resample\n",
    "from statistics import mean, stdev\n",
    "from sklearn.model_selection import KFold\n",
    "from math import sqrt\n",
    "import seaborn as sns\n",
    "import allel"
   ]
  },
  {
   "cell_type": "code",
   "execution_count": 3,
   "metadata": {},
   "outputs": [],
   "source": [
    "seq_len = 1e8\n",
    "rec_rate = 1e-8\n",
    "mut_rate = 1e-8\n",
    "split_time = 50 # in generations"
   ]
  },
  {
   "cell_type": "code",
   "execution_count": 4,
   "metadata": {},
   "outputs": [
    {
     "data": {
      "text/plain": [
       "PopulationSplit(time=50, derived=['A', 'B'], ancestral='C')"
      ]
     },
     "execution_count": 4,
     "metadata": {},
     "output_type": "execute_result"
    }
   ],
   "source": [
    "demography = msprime.Demography()\n",
    "demography.add_population(name=\"A\", initial_size=1000) \n",
    "demography.add_population(name=\"B\", initial_size=1000)\n",
    "demography.add_population(name=\"C\", initial_size=1000)\n",
    "demography.add_population_split(time=split_time, derived=[\"A\", \"B\"], ancestral=\"C\")"
   ]
  },
  {
   "cell_type": "code",
   "execution_count": 5,
   "metadata": {},
   "outputs": [],
   "source": [
    " ts = msprime.sim_ancestry(\n",
    "        samples={'A':1000, 'B':1000}, # diploid samples\n",
    "        demography=demography,\n",
    "        ploidy=2,\n",
    "        sequence_length=seq_len,\n",
    "        discrete_genome=False,\n",
    "        recombination_rate=rec_rate, \n",
    "        model='dtwf',\n",
    "    )\n",
    "\n",
    "ts = msprime.sim_mutations(\n",
    "    ts, \n",
    "    rate=mut_rate, \n",
    "    discrete_genome=False,\n",
    "    start_time=split_time,\n",
    "    )"
   ]
  },
  {
   "cell_type": "code",
   "execution_count": 6,
   "metadata": {},
   "outputs": [
    {
     "data": {
      "text/html": [
       "\n",
       "            <div>\n",
       "              <style>\n",
       "                .tskit-table thead tr th {text-align: left;padding: 0.5em 0.5em;}\n",
       "                .tskit-table tbody tr td {padding: 0.5em 0.5em;}\n",
       "                .tskit-table tbody tr td:first-of-type {text-align: left;}\n",
       "                .tskit-details-label {vertical-align: top; padding-right:5px;}\n",
       "                .tskit-table-set {display: inline-flex;flex-wrap: wrap;margin: -12px 0 0 -12px;width: calc(100% + 12px);}\n",
       "                .tskit-table-set-table {margin: 12px 0 0 12px;}\n",
       "                details {display: inline-block;}\n",
       "                summary {cursor: pointer; outline: 0; display: list-item;}\n",
       "              </style>\n",
       "              <div class=\"tskit-table-set\">\n",
       "                <div class=\"tskit-table-set-table\">\n",
       "                  <table class=\"tskit-table\">\n",
       "                    <thead>\n",
       "                      <tr>\n",
       "                        <th style=\"padding:0;line-height:21px;\">\n",
       "                          <img style=\"height: 32px;display: inline-block;padding: 3px 5px 3px 0;\" src=\"https://raw.githubusercontent.com/tskit-dev/administrative/main/tskit_logo.svg\"/>\n",
       "                          <a target=\"_blank\" href=\"https://tskit.readthedocs.io/en/latest/python-api.html#the-treesequence-class\"> Tree Sequence </a>\n",
       "                        </th>\n",
       "                      </tr>\n",
       "                    </thead>\n",
       "                    <tbody>\n",
       "                      <tr><td>Trees</td><td>46301</td></tr>\n",
       "                      <tr><td>Sequence Length</td><td>100000000.0</td></tr>\n",
       "                      <tr><td>Sample Nodes</td><td>4000</td></tr>\n",
       "                      <tr><td>Total Size</td><td>7.7 MiB</td></tr>\n",
       "                      <tr>\n",
       "                        <td>Metadata</td><td style=\"text-align: left;\">No Metadata</td></tr>\n",
       "                    </tbody>\n",
       "                  </table>\n",
       "                </div>\n",
       "                <div class=\"tskit-table-set-table\">\n",
       "                  <table class=\"tskit-table\">\n",
       "                    <thead>\n",
       "                      <tr>\n",
       "                        <th style=\"line-height:21px;\">Table</th>\n",
       "                        <th>Rows</th>\n",
       "                        <th>Size</th>\n",
       "                        <th>Has Metadata</th>\n",
       "                      </tr>\n",
       "                    </thead>\n",
       "                    <tbody>\n",
       "                    \n",
       "                  <tr>\n",
       "                    <td>Edges</td>\n",
       "                      <td>173768</td>\n",
       "                      <td>4.6 MiB</td>\n",
       "                      <td style=\"text-align: center;\">\n",
       "                        \n",
       "                      </td>\n",
       "                    </tr>\n",
       "                \n",
       "                  <tr>\n",
       "                    <td>Individuals</td>\n",
       "                      <td>2000</td>\n",
       "                      <td>31.3 KiB</td>\n",
       "                      <td style=\"text-align: center;\">\n",
       "                        \n",
       "                      </td>\n",
       "                    </tr>\n",
       "                \n",
       "                  <tr>\n",
       "                    <td>Migrations</td>\n",
       "                      <td>0</td>\n",
       "                      <td>4 Bytes</td>\n",
       "                      <td style=\"text-align: center;\">\n",
       "                        \n",
       "                      </td>\n",
       "                    </tr>\n",
       "                \n",
       "                  <tr>\n",
       "                    <td>Mutations</td>\n",
       "                      <td>22040</td>\n",
       "                      <td>624.2 KiB</td>\n",
       "                      <td style=\"text-align: center;\">\n",
       "                        \n",
       "                      </td>\n",
       "                    </tr>\n",
       "                \n",
       "                  <tr>\n",
       "                    <td>Nodes</td>\n",
       "                      <td>30940</td>\n",
       "                      <td>725.2 KiB</td>\n",
       "                      <td style=\"text-align: center;\">\n",
       "                        \n",
       "                      </td>\n",
       "                    </tr>\n",
       "                \n",
       "                  <tr>\n",
       "                    <td>Populations</td>\n",
       "                      <td>3</td>\n",
       "                      <td>278 Bytes</td>\n",
       "                      <td style=\"text-align: center;\">\n",
       "                        ✅\n",
       "                      </td>\n",
       "                    </tr>\n",
       "                \n",
       "                  <tr>\n",
       "                    <td>Provenances</td>\n",
       "                      <td>2</td>\n",
       "                      <td>2.5 KiB</td>\n",
       "                      <td style=\"text-align: center;\">\n",
       "                        \n",
       "                      </td>\n",
       "                    </tr>\n",
       "                \n",
       "                  <tr>\n",
       "                    <td>Sites</td>\n",
       "                      <td>22040</td>\n",
       "                      <td>365.9 KiB</td>\n",
       "                      <td style=\"text-align: center;\">\n",
       "                        \n",
       "                      </td>\n",
       "                    </tr>\n",
       "                \n",
       "                    </tbody>\n",
       "                  </table>\n",
       "                </div>\n",
       "              </div>\n",
       "            </div>\n",
       "            "
      ],
      "text/plain": [
       "<tskit.trees.TreeSequence at 0x7fd817cdfc70>"
      ]
     },
     "execution_count": 6,
     "metadata": {},
     "output_type": "execute_result"
    }
   ],
   "source": [
    "ts"
   ]
  },
  {
   "cell_type": "code",
   "execution_count": 22,
   "metadata": {},
   "outputs": [
    {
     "name": "stdout",
     "output_type": "stream",
     "text": [
      "Site(id=0, position=8473.858337816917, ancestral_state='A', mutations=[Mutation(id=0, site=0, node=23066, derived_state='T', parent=-1, metadata=b'', time=831.8728790942114)], metadata=b'')\n"
     ]
    }
   ],
   "source": [
    "for site in ts.sites():\n",
    "    print(site)\n",
    "    break"
   ]
  },
  {
   "cell_type": "code",
   "execution_count": 23,
   "metadata": {},
   "outputs": [
    {
     "data": {
      "text/plain": [
       "22564"
      ]
     },
     "execution_count": 23,
     "metadata": {},
     "output_type": "execute_result"
    }
   ],
   "source": []
  },
  {
   "cell_type": "markdown",
   "metadata": {},
   "source": [
    "## Functions"
   ]
  },
  {
   "cell_type": "code",
   "execution_count": 6,
   "metadata": {},
   "outputs": [],
   "source": [
    "def get_fst(dA, dB, dAB):\n",
    "    mean_within = (dA + dB) / 2\n",
    "    between = dAB \n",
    "    Fst = 1 - mean_within.sum() / between.sum()\n",
    "    return Fst"
   ]
  },
  {
   "cell_type": "code",
   "execution_count": 7,
   "metadata": {},
   "outputs": [],
   "source": [
    "def get_fst_general(ts, pop1_samples, pop2_samples, sites_index):\n",
    "    \"\"\"return fst\n",
    "    ts = tree seqeunce\n",
    "    pop1_samples = the samples from the first popualtion to be used\n",
    "    pop2_samples = the samples from the second population to be used\n",
    "    sites_index = the indexs of the sites to be used.\n",
    "   \n",
    "    all of  (pop1_samples, pop2_samples, and sites_index) may have duplicates.\n",
    "    \"\"\"\n",
    "   \n",
    "    ga = allel.GenotypeArray(\n",
    "        ts.genotype_matrix().reshape(\n",
    "            ts.num_sites, ts.num_samples, 1),\n",
    "        dtype='i1')\n",
    "    \n",
    "    ac1 = ga[sites_index][:, pop1_samples, :].count_alleles()\n",
    "    ac2 = ga[sites_index][:, pop2_samples].count_alleles()\n",
    "    num, denom = allel.hudson_fst(ac1, ac2)\n",
    "    fst = np.sum(num) / np.sum(denom)\n",
    "    return fst"
   ]
  },
  {
   "cell_type": "code",
   "execution_count": 8,
   "metadata": {},
   "outputs": [],
   "source": [
    "def get_CI_normal(data):\n",
    "    est_mean = mean(data)\n",
    "    \n",
    "    length = len(data)\n",
    "\n",
    "    upper = est_fst + 1.96 * (stdev(data) / sqrt(length))\n",
    "    lower = est_fst - 1.96 * (stdev(data) / sqrt(length))\n",
    "\n",
    "    return lower, upper\n",
    "\n",
    "\n",
    "def get_CI_quantile(data):\n",
    "\n",
    "    lower = np.quantile(data, 0.05)\n",
    "    upper = np.quantile(data, 0.95)\n",
    "\n",
    "    return lower, upper"
   ]
  },
  {
   "cell_type": "markdown",
   "metadata": {},
   "source": [
    "#### Bootstrap Resampling"
   ]
  },
  {
   "cell_type": "code",
   "execution_count": 9,
   "metadata": {},
   "outputs": [],
   "source": [
    "def bootstrap(ts, popA, popB, bootstrap_time, bootstrap_size, size, fst, sites_index, method):\n",
    "    '''\n",
    "    Bootstrap Resampling over the given sample and return the coverage rate\n",
    "    @method = 0 over individuals otherwise over sites\n",
    "    ''' \n",
    "    \n",
    "    popA_resample = popA\n",
    "    popB_resample = popB\n",
    "    sites_resample = sites_index\n",
    "    \n",
    "    within = []\n",
    "    for i in range(bootstrap_time):\n",
    "        fst_bt = []\n",
    "        for j in range(bootstrap_size):\n",
    "            \n",
    "            if method == 0:\n",
    "                popA_resample = np.random.choice(popA, size, replace=True)\n",
    "                popB_resample = np.random.choice(popB, size, replace=True)\n",
    "            else:\n",
    "                sites_resample = np.random.choice(sites_index, size, replace=True)\n",
    "                \n",
    "            fst_bt.append(get_fst_general(ts, popA_resample, popB_resample, sites_resample))\n",
    "            \n",
    "        lower, upper = get_CI_quantile(fst_bt)\n",
    "        \n",
    "        print((lower, upper))\n",
    "\n",
    "        if fst < upper and fst > lower:\n",
    "            within.append(1)\n",
    "        else:\n",
    "            within.append(0)\n",
    "            \n",
    "            \n",
    "    print('Coverage rate is: ', mean(within))\n",
    "\n",
    "    return mean(within)"
   ]
  },
  {
   "cell_type": "markdown",
   "metadata": {},
   "source": [
    "#### Jackknife Resampling \n",
    "see https://scikit-learn.org/stable/modules/generated/sklearn.model_selection.KFold.html#sklearn.model_selection.KFold \n",
    "for reference of kfold split"
   ]
  },
  {
   "cell_type": "code",
   "execution_count": 92,
   "metadata": {},
   "outputs": [],
   "source": [
    "def jackknife_ind(kf, ts, popA, popB, sites_index):\n",
    "    index = np.arange(len(popA))\n",
    "    fst_block = []\n",
    "    \n",
    "    for index,_ in kf.split(index):\n",
    "        popA_block = popA[index]\n",
    "        popB_block = popB[index]\n",
    "        fst_block.append(get_fst_general(ts, popA_block, popB_block, sites_index))\n",
    "        \n",
    "    return mean(fst_block)\n",
    "\n",
    "def jackknife_sites(kf, ts, popA, popB, sites_index):\n",
    "    fst_block = []\n",
    "    \n",
    "    for index,_ in kf.split(sites_index):\n",
    "        sites_block = sites_index[index]\n",
    "        fst_block.append(get_fst_general(ts, popA, popB, sites_block))\n",
    "        \n",
    "    return mean(fst_block)\n",
    "\n",
    "def jackknife(ts, popA, popB, bootstrap_time, bootstrap_size, size, fst, sites_index, method):\n",
    "     \n",
    "    within = []\n",
    "    kf = KFold(n_splits=10, shuffle=True)\n",
    "    \n",
    "    for i in range(bootstrap_time):\n",
    "        fst_jk = []\n",
    "        for j in range(bootstrap_size):\n",
    "\n",
    "            if method == 0:\n",
    "                func = jackknife_ind \n",
    "            else:\n",
    "                func = jackknife_sites\n",
    "                \n",
    "            fst_jk.append(func(kf, ts, popA, popB, sites_index))\n",
    "            \n",
    "        lower, upper = get_CI_quantile(fst_jk)\n",
    "        \n",
    "        print((lower, upper))\n",
    "\n",
    "        if fst < upper and fst > lower:\n",
    "            within.append(1)\n",
    "        else:\n",
    "            within.append(0)\n",
    "                \n",
    "    print(f'Coverage rate is: {mean(within)} \\n')\n",
    "\n",
    "    return mean(within)\n",
    "    "
   ]
  },
  {
   "cell_type": "code",
   "execution_count": 90,
   "metadata": {},
   "outputs": [],
   "source": [
    "def replicate(replicate_time, ts, popA, popB, bootstrap_time, \n",
    "                  bootstrap_size, size, fst, sites_index, func, method):\n",
    "    \n",
    "    popA_sample = popA\n",
    "    popB_sample = popB\n",
    "    sites_sample = sites_index\n",
    "    \n",
    "    rate_list = []\n",
    "            \n",
    "    for time in range(replicate_time):\n",
    "        \n",
    "        print(f'Replicate time: {time}')\n",
    "        \n",
    "        if method == 0:\n",
    "            popA_sample = np.random.choice(popA, size, replace=False)\n",
    "            popB_sample = np.random.choice(popB, size, replace=False)\n",
    "        else:\n",
    "            sites_sample = np.random.choice(sites_index, size, replace=False)\n",
    "\n",
    "        rate = func(ts, popA_sample, popB_sample, bootstrap_time, \n",
    "                            bootstrap_size, size, fst, sites_sample, method)\n",
    "\n",
    "        rate_list.append(rate)\n",
    "        \n",
    "    return rate_list"
   ]
  },
  {
   "cell_type": "code",
   "execution_count": 94,
   "metadata": {},
   "outputs": [],
   "source": [
    "def simulation(bootstrap_time, bootstrap_size, sample_size, replicate_time, func, method):\n",
    "    \n",
    "    '''\n",
    "    @replicate_times: times of replication of simulation\n",
    "    @bootstrap_time: times of resampling over each simulation  \n",
    "    @bootstrap_size: size of each resampling \n",
    "    @sample_size: a list of sample size\n",
    "    @method: 0: resample with individuals, 1: resample with sites\n",
    "    @func: func to use for resampling: bootstrap or jackknife block\n",
    "    '''\n",
    "    \n",
    "    popA = ts.samples(population = 0)\n",
    "    popB = ts.samples(population = 1)\n",
    "\n",
    "    sites_index = np.arange(len(ts.sites()))\n",
    "\n",
    "    fst = get_fst_general(ts, popA, popB, sites_index)\n",
    "    print(f'Fst value is: {fst}')\n",
    "    func_name = func.__name__\n",
    "    \n",
    "    if method == 0:\n",
    "        print(f'{func_name.upper()} OVER INDIVIDUALS')\n",
    "    else:\n",
    "        print(f'{func_name.upper()} OVER SITES')\n",
    "    \n",
    "    coverage_rate = {}\n",
    "\n",
    "    for size in sample_size:\n",
    "        \n",
    "        print(f'Sample size: {size}')\n",
    "        \n",
    "        coverage_rate[size] = replicate(replicate_time, ts, popA, popB, \n",
    "                                        bootstrap_time, bootstrap_size, size, \n",
    "                                        fst, sites_index, func, method) \n",
    "        \n",
    "        print(f'Coverage rate for size {size} is: {coverage_rate[size]}: \\n')\n",
    "\n",
    "    return coverage_rate\n"
   ]
  },
  {
   "cell_type": "code",
   "execution_count": 99,
   "metadata": {},
   "outputs": [],
   "source": [
    "ind_size = np.linspace(100, 1000, 10)\n",
    "sites_size = np.linspace(1000, 10000, 10)"
   ]
  },
  {
   "cell_type": "code",
   "execution_count": 87,
   "metadata": {},
   "outputs": [
    {
     "name": "stdout",
     "output_type": "stream",
     "text": [
      "Fst value is: 0.026293477935966713\n",
      "BOOTSTRAP OVER INDIVIDUALS\n",
      "Sample size: 100\n",
      "Replicate time: 0\n",
      "(0.033919379328343546, 0.03886779740563828)\n",
      "(0.03360105358982893, 0.0382605836227519)\n",
      "(0.03445600175989992, 0.03745124527441967)\n",
      "(0.0328447944283908, 0.037655550261859676)\n",
      "(0.03403031320414443, 0.039816001075653605)\n",
      "Coverage rate is:  0\n",
      "Replicate time: 1\n",
      "(0.03464580819780551, 0.041173764105206935)\n",
      "(0.03498394746745327, 0.039412129123958)\n",
      "(0.034812254135339206, 0.0413452691775905)\n",
      "(0.03488300033148257, 0.03910047948433612)\n",
      "(0.034110410404255456, 0.03905641810342584)\n",
      "Coverage rate is:  0\n",
      "Replicate time: 2\n",
      "(0.03361931007640105, 0.040312111229052844)\n",
      "(0.03278620032800271, 0.038786715796565036)\n",
      "(0.031642011338138334, 0.0400632342860376)\n",
      "(0.03256754356870734, 0.03728536071736181)\n",
      "(0.035326917752235926, 0.03892552574936073)\n",
      "Coverage rate is:  0\n",
      "Coverage rate is: [0, 0, 0]\n"
     ]
    }
   ],
   "source": [
    "coverage_bt_ind = simulation(bootstrap_time=5, bootstrap_size=10, \n",
    "                          sample_size=ind_size, replicate_time=3, func=bootstrap, method = 0)"
   ]
  },
  {
   "cell_type": "code",
   "execution_count": 91,
   "metadata": {},
   "outputs": [
    {
     "name": "stdout",
     "output_type": "stream",
     "text": [
      "Fst value is: 0.026293477935966713\n",
      "BOOTSTRAP OVER SITES\n",
      "Sample size: 1000\n",
      "Replicate time: 0\n",
      "(0.026205112262437512, 0.030971963397772962)\n",
      "(0.027068200212294106, 0.030443263546365784)\n",
      "(0.027489093162296398, 0.030608283153173328)\n",
      "(0.026583164012769132, 0.029980024185312436)\n",
      "(0.026180745627258525, 0.030063523762967476)\n",
      "Coverage rate is:  0.4\n",
      "Replicate time: 1\n",
      "(0.02445224861135497, 0.027362992779976246)\n",
      "(0.024264453278104364, 0.028306466002544314)\n",
      "(0.0246235002165971, 0.02785159368636903)\n",
      "(0.022497749491481367, 0.027528083314013713)\n",
      "(0.024005988857915824, 0.02718086126511402)\n",
      "Coverage rate is:  1\n",
      "Replicate time: 2\n",
      "(0.0246228975340426, 0.028006411782524845)\n",
      "(0.025561638514586732, 0.030779994516356286)\n",
      "(0.024927942396050676, 0.02852912435720769)\n",
      "(0.025281129256680815, 0.0300615214412814)\n",
      "(0.025077824454483436, 0.030282822753862626)\n",
      "Coverage rate is:  1\n",
      "Coverage rate is: [0.4, 1, 1]\n"
     ]
    }
   ],
   "source": [
    "coverage_bt_sites = simulation(bootstrap_time=5, bootstrap_size=10, \n",
    "                          sample_size=sites_size, replicate_time=3, func=bootstrap, method = 1)"
   ]
  },
  {
   "cell_type": "code",
   "execution_count": 95,
   "metadata": {},
   "outputs": [
    {
     "name": "stdout",
     "output_type": "stream",
     "text": [
      "Fst value is: 0.026293477935966713\n",
      "JACKKNIFE OVER INDIVIDUALS\n",
      "Sample size: 100\n",
      "Replicate time: 0\n",
      "(0.030104503889665547, 0.030163580318473365)\n",
      "(0.03009373136660798, 0.03016832339107155)\n",
      "(0.03012332179925057, 0.030170016317229563)\n",
      "(0.0301115815620328, 0.030163587693588952)\n",
      "(0.0300986304867933, 0.030175352034594795)\n",
      "Coverage rate is: 0 \n",
      "\n",
      "Replicate time: 1\n",
      "(0.027544325244095183, 0.027596251778819005)\n",
      "(0.02753792831717515, 0.027580880963223954)\n",
      "(0.027541392847634807, 0.027591824761844012)\n",
      "(0.02752610344405089, 0.02759148410175454)\n",
      "(0.027551027310279412, 0.02760460078089473)\n",
      "Coverage rate is: 0 \n",
      "\n",
      "Replicate time: 2\n",
      "(0.02518182574749256, 0.025233224361170908)\n",
      "(0.025154683698643834, 0.025234480317407992)\n",
      "(0.025161213630035414, 0.025242530547476577)\n",
      "(0.025178987742050442, 0.025235581419799608)\n",
      "(0.025155522706480013, 0.025219494043056283)\n",
      "Coverage rate is: 0 \n",
      "\n",
      "Coverage rate for 100 is: [0, 0, 0]: \n",
      "\n"
     ]
    }
   ],
   "source": [
    "coverage_jk_ind = simulation(bootstrap_time=5, bootstrap_size=10, \n",
    "                          sample_size=ind_size, replicate_time=3, func=jackknife, method = 0)"
   ]
  },
  {
   "cell_type": "code",
   "execution_count": 97,
   "metadata": {},
   "outputs": [
    {
     "name": "stdout",
     "output_type": "stream",
     "text": [
      "Fst value is: 0.026293477935966713\n",
      "JACKKNIFE OVER SITES\n",
      "Sample size: 1000\n",
      "Replicate time: 0\n",
      "(0.02823807376275367, 0.02824253704477888)\n",
      "(0.02823694579714109, 0.02824194903624372)\n",
      "(0.028238493547759813, 0.028243994596409097)\n",
      "(0.02823648839252952, 0.028242071042664484)\n",
      "(0.028236367775076703, 0.028241348229662837)\n",
      "Coverage rate is: 0 \n",
      "\n",
      "Replicate time: 1\n",
      "(0.02733669401905544, 0.027341938868323853)\n",
      "(0.027333205703725726, 0.027340333137927324)\n",
      "(0.02733635451570037, 0.027340131372190067)\n",
      "(0.02733691120652617, 0.027340501942564807)\n",
      "(0.027333507182971332, 0.02734082653914683)\n",
      "Coverage rate is: 0 \n",
      "\n",
      "Replicate time: 2\n",
      "(0.025199382176720797, 0.025204368470762642)\n",
      "(0.02519924839205187, 0.025204372476698992)\n",
      "(0.025199390475653165, 0.02520392194533611)\n",
      "(0.025200370000232855, 0.025204210945852124)\n",
      "(0.025200573116200917, 0.025205158332127324)\n",
      "Coverage rate is: 0 \n",
      "\n",
      "Coverage rate for 1000 is: [0, 0, 0]: \n",
      "\n"
     ]
    }
   ],
   "source": [
    "coverage_jk_sites = simulation(bootstrap_time=5, bootstrap_size=10, \n",
    "                          sample_size=sites_size, replicate_time=3, func=jackknife, method = 1)"
   ]
  },
  {
   "cell_type": "code",
   "execution_count": 110,
   "metadata": {},
   "outputs": [],
   "source": [
    "def build_df(data):\n",
    "    df = pd.DataFrame.from_dict(coverage_ind, orient='index')\n",
    "    df['mean'] = df.mean(axis=1)\n",
    "    return df"
   ]
  },
  {
   "cell_type": "code",
   "execution_count": 111,
   "metadata": {},
   "outputs": [
    {
     "data": {
      "text/html": [
       "<div>\n",
       "<style scoped>\n",
       "    .dataframe tbody tr th:only-of-type {\n",
       "        vertical-align: middle;\n",
       "    }\n",
       "\n",
       "    .dataframe tbody tr th {\n",
       "        vertical-align: top;\n",
       "    }\n",
       "\n",
       "    .dataframe thead th {\n",
       "        text-align: right;\n",
       "    }\n",
       "</style>\n",
       "<table border=\"1\" class=\"dataframe\">\n",
       "  <thead>\n",
       "    <tr style=\"text-align: right;\">\n",
       "      <th></th>\n",
       "      <th>0</th>\n",
       "      <th>1</th>\n",
       "      <th>2</th>\n",
       "      <th>mean</th>\n",
       "    </tr>\n",
       "  </thead>\n",
       "  <tbody>\n",
       "    <tr>\n",
       "      <th>100</th>\n",
       "      <td>0</td>\n",
       "      <td>0</td>\n",
       "      <td>0</td>\n",
       "      <td>0.0</td>\n",
       "    </tr>\n",
       "  </tbody>\n",
       "</table>\n",
       "</div>"
      ],
      "text/plain": [
       "     0  1  2  mean\n",
       "100  0  0  0   0.0"
      ]
     },
     "execution_count": 111,
     "metadata": {},
     "output_type": "execute_result"
    }
   ],
   "source": [
    "build_df(coverage_bt_ind)"
   ]
  },
  {
   "cell_type": "markdown",
   "metadata": {},
   "source": [
    "# Resampling over sample data to verify the functions"
   ]
  },
  {
   "cell_type": "code",
   "execution_count": 7,
   "metadata": {},
   "outputs": [],
   "source": [
    "from sklearn.datasets import load_iris\n",
    "import numpy as np\n",
    "import pandas as pd\n",
    "import seaborn as sns\n",
    "import matplotlib.pyplot as plt\n",
    "from math import sqrt\n",
    "from statistics import mean, stdev\n",
    "from scipy.stats import norm"
   ]
  },
  {
   "cell_type": "code",
   "execution_count": 8,
   "metadata": {},
   "outputs": [
    {
     "data": {
      "text/html": [
       "<div>\n",
       "<style scoped>\n",
       "    .dataframe tbody tr th:only-of-type {\n",
       "        vertical-align: middle;\n",
       "    }\n",
       "\n",
       "    .dataframe tbody tr th {\n",
       "        vertical-align: top;\n",
       "    }\n",
       "\n",
       "    .dataframe thead th {\n",
       "        text-align: right;\n",
       "    }\n",
       "</style>\n",
       "<table border=\"1\" class=\"dataframe\">\n",
       "  <thead>\n",
       "    <tr style=\"text-align: right;\">\n",
       "      <th></th>\n",
       "      <th>sepal length (cm)</th>\n",
       "      <th>sepal width (cm)</th>\n",
       "      <th>petal length (cm)</th>\n",
       "      <th>petal width (cm)</th>\n",
       "    </tr>\n",
       "  </thead>\n",
       "  <tbody>\n",
       "    <tr>\n",
       "      <th>0</th>\n",
       "      <td>5.1</td>\n",
       "      <td>3.5</td>\n",
       "      <td>1.4</td>\n",
       "      <td>0.2</td>\n",
       "    </tr>\n",
       "    <tr>\n",
       "      <th>1</th>\n",
       "      <td>4.9</td>\n",
       "      <td>3.0</td>\n",
       "      <td>1.4</td>\n",
       "      <td>0.2</td>\n",
       "    </tr>\n",
       "    <tr>\n",
       "      <th>2</th>\n",
       "      <td>4.7</td>\n",
       "      <td>3.2</td>\n",
       "      <td>1.3</td>\n",
       "      <td>0.2</td>\n",
       "    </tr>\n",
       "    <tr>\n",
       "      <th>3</th>\n",
       "      <td>4.6</td>\n",
       "      <td>3.1</td>\n",
       "      <td>1.5</td>\n",
       "      <td>0.2</td>\n",
       "    </tr>\n",
       "    <tr>\n",
       "      <th>4</th>\n",
       "      <td>5.0</td>\n",
       "      <td>3.6</td>\n",
       "      <td>1.4</td>\n",
       "      <td>0.2</td>\n",
       "    </tr>\n",
       "    <tr>\n",
       "      <th>...</th>\n",
       "      <td>...</td>\n",
       "      <td>...</td>\n",
       "      <td>...</td>\n",
       "      <td>...</td>\n",
       "    </tr>\n",
       "    <tr>\n",
       "      <th>145</th>\n",
       "      <td>6.7</td>\n",
       "      <td>3.0</td>\n",
       "      <td>5.2</td>\n",
       "      <td>2.3</td>\n",
       "    </tr>\n",
       "    <tr>\n",
       "      <th>146</th>\n",
       "      <td>6.3</td>\n",
       "      <td>2.5</td>\n",
       "      <td>5.0</td>\n",
       "      <td>1.9</td>\n",
       "    </tr>\n",
       "    <tr>\n",
       "      <th>147</th>\n",
       "      <td>6.5</td>\n",
       "      <td>3.0</td>\n",
       "      <td>5.2</td>\n",
       "      <td>2.0</td>\n",
       "    </tr>\n",
       "    <tr>\n",
       "      <th>148</th>\n",
       "      <td>6.2</td>\n",
       "      <td>3.4</td>\n",
       "      <td>5.4</td>\n",
       "      <td>2.3</td>\n",
       "    </tr>\n",
       "    <tr>\n",
       "      <th>149</th>\n",
       "      <td>5.9</td>\n",
       "      <td>3.0</td>\n",
       "      <td>5.1</td>\n",
       "      <td>1.8</td>\n",
       "    </tr>\n",
       "  </tbody>\n",
       "</table>\n",
       "<p>150 rows × 4 columns</p>\n",
       "</div>"
      ],
      "text/plain": [
       "     sepal length (cm)  sepal width (cm)  petal length (cm)  petal width (cm)\n",
       "0                  5.1               3.5                1.4               0.2\n",
       "1                  4.9               3.0                1.4               0.2\n",
       "2                  4.7               3.2                1.3               0.2\n",
       "3                  4.6               3.1                1.5               0.2\n",
       "4                  5.0               3.6                1.4               0.2\n",
       "..                 ...               ...                ...               ...\n",
       "145                6.7               3.0                5.2               2.3\n",
       "146                6.3               2.5                5.0               1.9\n",
       "147                6.5               3.0                5.2               2.0\n",
       "148                6.2               3.4                5.4               2.3\n",
       "149                5.9               3.0                5.1               1.8\n",
       "\n",
       "[150 rows x 4 columns]"
      ]
     },
     "execution_count": 8,
     "metadata": {},
     "output_type": "execute_result"
    }
   ],
   "source": [
    "# load iris data \n",
    "iris = load_iris()\n",
    "df = pd.DataFrame(iris['data'], columns=iris['feature_names'])\n",
    "df"
   ]
  },
  {
   "cell_type": "code",
   "execution_count": 9,
   "metadata": {},
   "outputs": [
    {
     "data": {
      "text/plain": [
       "['sepal length (cm)',\n",
       " 'sepal width (cm)',\n",
       " 'petal length (cm)',\n",
       " 'petal width (cm)']"
      ]
     },
     "execution_count": 9,
     "metadata": {},
     "output_type": "execute_result"
    }
   ],
   "source": [
    "iris['feature_names']"
   ]
  },
  {
   "cell_type": "code",
   "execution_count": 30,
   "metadata": {},
   "outputs": [
    {
     "name": "stdout",
     "output_type": "stream",
     "text": [
      "The mean for sepal width is 3.0573333333333332\n"
     ]
    }
   ],
   "source": [
    "sepal_width = df['sepal width (cm)']\n",
    "pop_mean = mean(sepal_width)\n",
    "print('The mean for sepal width is', pop_mean)"
   ]
  },
  {
   "cell_type": "markdown",
   "metadata": {},
   "source": [
    "## From the whole population, we only observe 50 data and we would like to estimate the mean with for the whole population from the observed data."
   ]
  },
  {
   "cell_type": "code",
   "execution_count": 16,
   "metadata": {},
   "outputs": [
    {
     "data": {
      "text/plain": [
       "array([2.8, 3.4, 2.8, 3.4, 2.4, 4.1, 3.8, 2.7, 3.4, 3.3, 2.3, 3. , 2.5,\n",
       "       3. , 3. , 3. , 2.9, 2.7, 2.4, 3.8, 3. , 3.6, 3.6, 3.6, 3.1, 4.2,\n",
       "       3. , 3.2, 3. , 3.9, 3.2, 3. , 2.5, 3. , 3.4, 3.8, 2.2, 3.4, 3.1,\n",
       "       3.1, 3.2, 3. , 3. , 3. , 3.2, 3. , 3. , 3.5, 2.3, 2.7])"
      ]
     },
     "execution_count": 16,
     "metadata": {},
     "output_type": "execute_result"
    }
   ],
   "source": [
    "obs_width = np.random.choice(sepal_width, size=50, replace=False)\n",
    "obs_width"
   ]
  },
  {
   "cell_type": "code",
   "execution_count": 20,
   "metadata": {},
   "outputs": [],
   "source": [
    "bootstrap_size = 10000"
   ]
  },
  {
   "cell_type": "code",
   "execution_count": 21,
   "metadata": {},
   "outputs": [],
   "source": [
    "def bootstrap(data, bootstrap_size, func):\n",
    "    '''\n",
    "    data: data to bootstrap\n",
    "    bootstrap_size: bootstrap size\n",
    "    func: parameter to estimate\n",
    "    '''\n",
    "    n = len(data)\n",
    "    param_bt = [0] * bootstrap_size\n",
    "    for i in range(bootstrap_size):\n",
    "        sample_bt = np.random.choice(data, n, replace=True)\n",
    "        param_bt[i] = func(sample_bt)\n",
    "        \n",
    "    return param_bt"
   ]
  },
  {
   "cell_type": "code",
   "execution_count": 22,
   "metadata": {},
   "outputs": [],
   "source": [
    "width_mean_bt = bootstrap(obs_width, bootstrap_size, mean)"
   ]
  },
  {
   "cell_type": "code",
   "execution_count": 98,
   "metadata": {},
   "outputs": [],
   "source": [
    "def get_CI_normal(data, confidence, est_param):\n",
    "    '''\n",
    "    data: data to estimate \n",
    "    confidence: width of the interval\n",
    "    est_param: value of the estimated parameter of the original data\n",
    "    '''\n",
    "    qnorm = abs(norm.ppf((1 - confidence) / 2))\n",
    "\n",
    "    upper = est_param + qnorm * np.std(data, ddof=1) # change degree of freedom\n",
    "    lower = est_param - qnorm * np.std(data, ddof=1)\n",
    "\n",
    "    return lower, upper\n",
    "\n",
    "\n",
    "def get_CI_quantile(data, confidence, est_param):\n",
    "    \n",
    "    cutoff = (1 - confidence) / 2\n",
    "    lower = np.quantile(data, cutoff)\n",
    "    upper = np.quantile(data, 1 - cutoff)\n",
    "\n",
    "    return lower, upper\n",
    "\n",
    "\n",
    "def get_CI_biased_corrected_norm(data, confidence, est_param):\n",
    "    param_bar = mean(data)\n",
    "    est_bias = param_bar - est_param\n",
    "    est_param -= est_bias\n",
    "    \n",
    "    qnorm = abs(norm.ppf((1 - confidence) / 2))\n",
    "\n",
    "    upper = est_param + qnorm * np.std(data, ddof=1)\n",
    "    lower = est_param - qnorm * np.std(data, ddof=1)\n",
    "    \n",
    "    return lower, upper"
   ]
  },
  {
   "cell_type": "code",
   "execution_count": 99,
   "metadata": {},
   "outputs": [],
   "source": [
    "normal = get_CI_normal(width_mean_bt, 0.95, mean(obs_width))"
   ]
  },
  {
   "cell_type": "code",
   "execution_count": 100,
   "metadata": {},
   "outputs": [],
   "source": [
    "quantile = get_CI_quantile(width_mean_bt, 0.95, mean(obs_width))"
   ]
  },
  {
   "cell_type": "code",
   "execution_count": 101,
   "metadata": {},
   "outputs": [],
   "source": [
    "biased = get_CI_biased_corrected_norm(width_mean_bt, 0.95, mean(obs_width))"
   ]
  },
  {
   "cell_type": "code",
   "execution_count": 102,
   "metadata": {},
   "outputs": [
    {
     "name": "stdout",
     "output_type": "stream",
     "text": [
      "The population mean is 3.0573333333333332 \n",
      "\n",
      "The observed mean is 3.11 \n",
      "\n",
      "Normal CI (2.9836558900290786, 3.236344109970921) \n",
      "\n",
      "Normal CI (2.984, 3.236) \n",
      "\n",
      "Normal CI (2.9845336900290786, 3.237221909970921) \n",
      "\n"
     ]
    }
   ],
   "source": [
    "print('The population mean is', pop_mean, '\\n')\n",
    "print('The observed mean is', mean(obs_width), '\\n')\n",
    "print('Normal CI', normal, '\\n')\n",
    "print('Normal CI', quantile, '\\n')\n",
    "print('Normal CI', biased, '\\n')"
   ]
  },
  {
   "cell_type": "code",
   "execution_count": 103,
   "metadata": {},
   "outputs": [
    {
     "data": {
      "image/png": "[encoded data removed]",
      "text/plain": [
       "<Figure size 1080x720 with 1 Axes>"
      ]
     },
     "metadata": {
      "needs_background": "light"
     },
     "output_type": "display_data"
    }
   ],
   "source": [
    "fig = plt.figure(dpi=180)\n",
    "sns.histplot(width_mean_bt)\n",
    "plt.axvline(x=mean(obs_width), color = 'r', label = 'observe')\n",
    "plt.axvline(x=pop_mean, color = 'g', label = 'pop')\n",
    "plt.axvline(x=normal[0], color = 'b', label = 'normal')\n",
    "plt.axvline(x=normal[1], color = 'b')\n",
    "plt.axvline(x=quantile[0], color = 'm', label = 'quantile')\n",
    "plt.axvline(x=quantile[1], color = 'm')\n",
    "plt.axvline(x=biased[0], color = 'y', label = 'biased corrected')\n",
    "plt.axvline(x=biased[1], color = 'y')\n",
    "plt.legend(loc='best', fontsize = 'xx-small')\n",
    "plt.show()"
   ]
  },
  {
   "cell_type": "code",
   "execution_count": 126,
   "metadata": {},
   "outputs": [],
   "source": [
    "# pseudo values method \n",
    "def jackknife(x, func):\n",
    "    n = len(x)\n",
    "    pse = []\n",
    "    idx = np.arange(n)\n",
    "    \n",
    "    for i in range(n):\n",
    "        one_out = x[idx != i]\n",
    "        pse.append(n * func(x) - (n - 1) * func(one_out))\n",
    "        \n",
    "    return pse\n",
    "        \n",
    "\n",
    "def jackknife_block(x, func, nfold):\n",
    "    kf = KFold(n_splits=nfold)\n",
    "    pse = []\n",
    "    \n",
    "    for index,_ in kf.split(x):\n",
    "        block = x[index]\n",
    "        pse.append(nfold * func(x) - (nfold - 1) * func(block))\n",
    "        \n",
    "    return np.array(pse)\n",
    "\n",
    "\n",
    "def jk_get_CI(x, confidence):\n",
    "    \n",
    "    qnorm = abs(norm.ppf((1 - confidence) / 2))\n",
    "\n",
    "    upper = mean(x) + qnorm * np.std(x, ddof=1) / sqrt(len(x)) # change degree of freedom\n",
    "    lower = mean(x) - qnorm * np.std(x, ddof=1) / sqrt(len(x))\n",
    "\n",
    "    return lower, upper"
   ]
  },
  {
   "cell_type": "code",
   "execution_count": 84,
   "metadata": {},
   "outputs": [],
   "source": [
    "jk = jackknife(obs_width, mean)\n",
    "jk_CI = jk_get_CI(jk, 0.95)"
   ]
  },
  {
   "cell_type": "code",
   "execution_count": 118,
   "metadata": {},
   "outputs": [],
   "source": [
    "jk_block = jackknife_block(obs_width, mean, nfold=5)\n",
    "jk_block_CI = jk_get_CI(jk, 0.95)"
   ]
  },
  {
   "cell_type": "code",
   "execution_count": 119,
   "metadata": {},
   "outputs": [
    {
     "data": {
      "text/plain": [
       "array([3.21, 2.86, 3.42, 3.07, 2.99])"
      ]
     },
     "execution_count": 119,
     "metadata": {},
     "output_type": "execute_result"
    }
   ],
   "source": [
    "jk_block"
   ]
  },
  {
   "cell_type": "code",
   "execution_count": 120,
   "metadata": {},
   "outputs": [
    {
     "data": {
      "text/plain": [
       "(2.982394821528999, 3.237605178470999)"
      ]
     },
     "execution_count": 120,
     "metadata": {},
     "output_type": "execute_result"
    }
   ],
   "source": [
    "jk_block_CI"
   ]
  },
  {
   "cell_type": "code",
   "execution_count": 72,
   "metadata": {},
   "outputs": [
    {
     "name": "stdout",
     "output_type": "stream",
     "text": [
      "The population mean is 3.0573333333333332 \n",
      "\n",
      "The observed mean is 3.11 \n",
      "\n",
      "Normal CI by Jackknife is (2.9823948215289984, 3.237605178470997) \n",
      "\n"
     ]
    }
   ],
   "source": [
    "print('The population mean is', pop_mean, '\\n')\n",
    "print('The observed mean is', mean(obs_width), '\\n')\n",
    "print('Normal CI by Jackknife is', jk_CI, '\\n')"
   ]
  },
  {
   "cell_type": "code",
   "execution_count": 121,
   "metadata": {},
   "outputs": [
    {
     "data": {
      "image/png": "[encoded data removed]",
      "text/plain": [
       "<Figure size 900x600 with 1 Axes>"
      ]
     },
     "metadata": {
      "needs_background": "light"
     },
     "output_type": "display_data"
    }
   ],
   "source": [
    "fig2 = plt.figure(dpi=150)\n",
    "sns.histplot(jk)\n",
    "plt.axvline(x=mean(obs_width), color = 'r', label = 'observe')\n",
    "plt.axvline(x=pop_mean, color = 'g', label = 'pop')\n",
    "plt.axvline(x=jk_CI[0], color = 'y', label = 'jackknife CI')\n",
    "plt.axvline(x=jk_CI[1], color = 'y')\n",
    "plt.axvline(x=jk_block_CI[0], color = 'm', label = 'jackknife block CI')\n",
    "plt.axvline(x=jk_block_CI[1], color = 'm')\n",
    "plt.legend(loc=0)\n",
    "plt.show()"
   ]
  },
  {
   "cell_type": "code",
   "execution_count": 129,
   "metadata": {},
   "outputs": [],
   "source": [
    "def bt_coverage(x, est_function, CI_function, confidence, pop_value, size, bootstrap_size):\n",
    "    rate = []\n",
    "    \n",
    "    for i in range(size):\n",
    "        resample_data = bootstrap(x, bootstrap_size, est_function)\n",
    "        lower, upper = CI_function(resample_data, confidence, est_function(x))\n",
    "        \n",
    "        if lower < pop_value < upper:\n",
    "            rate.append(1)\n",
    "        else:\n",
    "            rate.append(0)\n",
    "    \n",
    "    return rate\n",
    "\n",
    "\n",
    "def jk_coverage(x, est_function, confidence, pop_value, size, nfold=None):\n",
    "    rate = []\n",
    "    for i in range(size):\n",
    "        \n",
    "        if nfold is not None: \n",
    "            resample_data = jackknife_block(x, est_function, nfold)\n",
    "        else:\n",
    "            resample_data = jackknife(x, est_function)\n",
    "            \n",
    "        lower, upper = jk_get_CI(resample_data, confidence)\n",
    "        \n",
    "        if lower < pop_value < upper:\n",
    "            rate.append(1)\n",
    "        else:\n",
    "            rate.append(0)\n",
    "    \n",
    "    return rate"
   ]
  },
  {
   "cell_type": "code",
   "execution_count": 130,
   "metadata": {},
   "outputs": [],
   "source": [
    "bt_coverage_normal = bt_coverage(obs_width, mean, get_CI_normal, 0.95, pop_mean, 20, 1000)\n",
    "bt_coverage_quantile = bt_coverage(obs_width, mean, get_CI_quantile, 0.95, pop_mean, 20, 1000)\n",
    "bt_coverage_biased = bt_coverage(obs_width, mean, get_CI_biased_corrected_norm, 0.95, pop_mean, 20, 1000)\n",
    "jk_coverage_rate = jk_coverage(obs_width, mean, 0.95, pop_mean, 20)\n",
    "jk_block_coverage = jk_coverage(obs_width, mean, 0.95, pop_mean, 20, nfold=5)"
   ]
  },
  {
   "cell_type": "code",
   "execution_count": 131,
   "metadata": {},
   "outputs": [],
   "source": [
    "coverage_df = {'pop_width': [pop_mean] * 5,\n",
    "               'obs_width': [mean(obs_width)] * 5,\n",
    "               'resample method': ['bootstrap', 'bootstrap', 'bootstrap', 'jackknife', 'jackknife block'],\n",
    "               'CI method': ['noraml', 'quantile', 'biased corrected', 'pseudo normal', 'pseudo normal'],\n",
    "               'confidence': ['95%'] * 5, \n",
    "               'resample means': [bt_coverage_normal, bt_coverage_quantile, bt_coverage_biased, jk_coverage_rate, jk_block_coverage],\n",
    "               'rate': [mean(bt_coverage_normal), mean(bt_coverage_quantile), \n",
    "                        mean(bt_coverage_biased), mean(jk_coverage_rate), mean(jk_block_coverage)]}\n",
    "\n",
    "coverage_df = pd.DataFrame(coverage_df)"
   ]
  },
  {
   "cell_type": "code",
   "execution_count": 132,
   "metadata": {},
   "outputs": [
    {
     "data": {
      "text/html": [
       "<style  type=\"text/css\" >\n",
       "</style><table id=\"T_3d89eba4_eb3e_11eb_824a_9801a798329d\" ><thead>    <tr>        <th class=\"blank level0\" ></th>        <th class=\"col_heading level0 col0\" >pop_width</th>        <th class=\"col_heading level0 col1\" >obs_width</th>        <th class=\"col_heading level0 col2\" >resample method</th>        <th class=\"col_heading level0 col3\" >CI method</th>        <th class=\"col_heading level0 col4\" >confidence</th>        <th class=\"col_heading level0 col5\" >resample means</th>        <th class=\"col_heading level0 col6\" >rate</th>    </tr></thead><tbody>\n",
       "                <tr>\n",
       "                        <th id=\"T_3d89eba4_eb3e_11eb_824a_9801a798329dlevel0_row0\" class=\"row_heading level0 row0\" >0</th>\n",
       "                        <td id=\"T_3d89eba4_eb3e_11eb_824a_9801a798329drow0_col0\" class=\"data row0 col0\" >3.057333</td>\n",
       "                        <td id=\"T_3d89eba4_eb3e_11eb_824a_9801a798329drow0_col1\" class=\"data row0 col1\" >3.110000</td>\n",
       "                        <td id=\"T_3d89eba4_eb3e_11eb_824a_9801a798329drow0_col2\" class=\"data row0 col2\" >bootstrap</td>\n",
       "                        <td id=\"T_3d89eba4_eb3e_11eb_824a_9801a798329drow0_col3\" class=\"data row0 col3\" >noraml</td>\n",
       "                        <td id=\"T_3d89eba4_eb3e_11eb_824a_9801a798329drow0_col4\" class=\"data row0 col4\" >95%</td>\n",
       "                        <td id=\"T_3d89eba4_eb3e_11eb_824a_9801a798329drow0_col5\" class=\"data row0 col5\" >[1, 1, 1, 1, 1, 1, 1, 1, 1, 1, 1, 1, 1, 1, 1, 1, 1, 1, 1, 1]</td>\n",
       "                        <td id=\"T_3d89eba4_eb3e_11eb_824a_9801a798329drow0_col6\" class=\"data row0 col6\" >1</td>\n",
       "            </tr>\n",
       "            <tr>\n",
       "                        <th id=\"T_3d89eba4_eb3e_11eb_824a_9801a798329dlevel0_row1\" class=\"row_heading level0 row1\" >1</th>\n",
       "                        <td id=\"T_3d89eba4_eb3e_11eb_824a_9801a798329drow1_col0\" class=\"data row1 col0\" >3.057333</td>\n",
       "                        <td id=\"T_3d89eba4_eb3e_11eb_824a_9801a798329drow1_col1\" class=\"data row1 col1\" >3.110000</td>\n",
       "                        <td id=\"T_3d89eba4_eb3e_11eb_824a_9801a798329drow1_col2\" class=\"data row1 col2\" >bootstrap</td>\n",
       "                        <td id=\"T_3d89eba4_eb3e_11eb_824a_9801a798329drow1_col3\" class=\"data row1 col3\" >quantile</td>\n",
       "                        <td id=\"T_3d89eba4_eb3e_11eb_824a_9801a798329drow1_col4\" class=\"data row1 col4\" >95%</td>\n",
       "                        <td id=\"T_3d89eba4_eb3e_11eb_824a_9801a798329drow1_col5\" class=\"data row1 col5\" >[1, 1, 1, 1, 1, 1, 1, 1, 1, 1, 1, 1, 1, 1, 1, 1, 1, 1, 1, 1]</td>\n",
       "                        <td id=\"T_3d89eba4_eb3e_11eb_824a_9801a798329drow1_col6\" class=\"data row1 col6\" >1</td>\n",
       "            </tr>\n",
       "            <tr>\n",
       "                        <th id=\"T_3d89eba4_eb3e_11eb_824a_9801a798329dlevel0_row2\" class=\"row_heading level0 row2\" >2</th>\n",
       "                        <td id=\"T_3d89eba4_eb3e_11eb_824a_9801a798329drow2_col0\" class=\"data row2 col0\" >3.057333</td>\n",
       "                        <td id=\"T_3d89eba4_eb3e_11eb_824a_9801a798329drow2_col1\" class=\"data row2 col1\" >3.110000</td>\n",
       "                        <td id=\"T_3d89eba4_eb3e_11eb_824a_9801a798329drow2_col2\" class=\"data row2 col2\" >bootstrap</td>\n",
       "                        <td id=\"T_3d89eba4_eb3e_11eb_824a_9801a798329drow2_col3\" class=\"data row2 col3\" >biased corrected</td>\n",
       "                        <td id=\"T_3d89eba4_eb3e_11eb_824a_9801a798329drow2_col4\" class=\"data row2 col4\" >95%</td>\n",
       "                        <td id=\"T_3d89eba4_eb3e_11eb_824a_9801a798329drow2_col5\" class=\"data row2 col5\" >[1, 1, 1, 1, 1, 1, 1, 1, 1, 1, 1, 1, 1, 1, 1, 1, 1, 1, 1, 1]</td>\n",
       "                        <td id=\"T_3d89eba4_eb3e_11eb_824a_9801a798329drow2_col6\" class=\"data row2 col6\" >1</td>\n",
       "            </tr>\n",
       "            <tr>\n",
       "                        <th id=\"T_3d89eba4_eb3e_11eb_824a_9801a798329dlevel0_row3\" class=\"row_heading level0 row3\" >3</th>\n",
       "                        <td id=\"T_3d89eba4_eb3e_11eb_824a_9801a798329drow3_col0\" class=\"data row3 col0\" >3.057333</td>\n",
       "                        <td id=\"T_3d89eba4_eb3e_11eb_824a_9801a798329drow3_col1\" class=\"data row3 col1\" >3.110000</td>\n",
       "                        <td id=\"T_3d89eba4_eb3e_11eb_824a_9801a798329drow3_col2\" class=\"data row3 col2\" >jackknife</td>\n",
       "                        <td id=\"T_3d89eba4_eb3e_11eb_824a_9801a798329drow3_col3\" class=\"data row3 col3\" >pseudo normal</td>\n",
       "                        <td id=\"T_3d89eba4_eb3e_11eb_824a_9801a798329drow3_col4\" class=\"data row3 col4\" >95%</td>\n",
       "                        <td id=\"T_3d89eba4_eb3e_11eb_824a_9801a798329drow3_col5\" class=\"data row3 col5\" >[1, 1, 1, 1, 1, 1, 1, 1, 1, 1, 1, 1, 1, 1, 1, 1, 1, 1, 1, 1]</td>\n",
       "                        <td id=\"T_3d89eba4_eb3e_11eb_824a_9801a798329drow3_col6\" class=\"data row3 col6\" >1</td>\n",
       "            </tr>\n",
       "            <tr>\n",
       "                        <th id=\"T_3d89eba4_eb3e_11eb_824a_9801a798329dlevel0_row4\" class=\"row_heading level0 row4\" >4</th>\n",
       "                        <td id=\"T_3d89eba4_eb3e_11eb_824a_9801a798329drow4_col0\" class=\"data row4 col0\" >3.057333</td>\n",
       "                        <td id=\"T_3d89eba4_eb3e_11eb_824a_9801a798329drow4_col1\" class=\"data row4 col1\" >3.110000</td>\n",
       "                        <td id=\"T_3d89eba4_eb3e_11eb_824a_9801a798329drow4_col2\" class=\"data row4 col2\" >jackknife block</td>\n",
       "                        <td id=\"T_3d89eba4_eb3e_11eb_824a_9801a798329drow4_col3\" class=\"data row4 col3\" >pseudo normal</td>\n",
       "                        <td id=\"T_3d89eba4_eb3e_11eb_824a_9801a798329drow4_col4\" class=\"data row4 col4\" >95%</td>\n",
       "                        <td id=\"T_3d89eba4_eb3e_11eb_824a_9801a798329drow4_col5\" class=\"data row4 col5\" >[1, 1, 1, 1, 1, 1, 1, 1, 1, 1, 1, 1, 1, 1, 1, 1, 1, 1, 1, 1]</td>\n",
       "                        <td id=\"T_3d89eba4_eb3e_11eb_824a_9801a798329drow4_col6\" class=\"data row4 col6\" >1</td>\n",
       "            </tr>\n",
       "    </tbody></table>"
      ],
      "text/plain": [
       "<pandas.io.formats.style.Styler at 0x7fd81a642430>"
      ]
     },
     "execution_count": 132,
     "metadata": {},
     "output_type": "execute_result"
    }
   ],
   "source": [
    "coverage_df.style"
   ]
  },
  {
   "cell_type": "code",
   "execution_count": null,
   "metadata": {},
   "outputs": [],
   "source": []
  }
 ],
 "metadata": {
  "kernelspec": {
   "display_name": "Python 3",
   "language": "python",
   "name": "python3"
  },
  "language_info": {
   "codemirror_mode": {
    "name": "ipython",
    "version": 3
   },
   "file_extension": ".py",
   "mimetype": "text/x-python",
   "name": "python",
   "nbconvert_exporter": "python",
   "pygments_lexer": "ipython3",
   "version": "3.8.3"
  }
 },
 "nbformat": 4,
 "nbformat_minor": 4
}

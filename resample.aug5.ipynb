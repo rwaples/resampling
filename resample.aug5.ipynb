{
 "cells": [
  {
   "cell_type": "code",
   "execution_count": 1,
   "metadata": {},
   "outputs": [],
   "source": [
    "import numpy as np\n",
    "import scipy.stats\n",
    "import msprime\n",
    "import pandas as pd\n",
    "import allel\n",
    "import multiprocessing\n",
    "import pyarrow # required for pandas Data.Frame.to_arrow()"
   ]
  },
  {
   "cell_type": "markdown",
   "metadata": {},
   "source": [
    "# Functions"
   ]
  },
  {
   "cell_type": "markdown",
   "metadata": {},
   "source": [
    "### Demographic simulations"
   ]
  },
  {
   "cell_type": "code",
   "execution_count": 3,
   "metadata": {},
   "outputs": [],
   "source": [
    "def sim_one_population(diploid_size, seq_len, rec_rate, mut_rate):\n",
    "    '''simulate two populations that have diverged\n",
    "        from a common ancestral population.\n",
    "    Returns a tree sequence.\n",
    "\n",
    "    @diploid_size = the population size of each population,\n",
    "        also the size of the ancestral population\n",
    "    @seq_len = length of the genome, units ~ base-pairs\n",
    "    @rec_rate = recombination rate, units = rate per bp, per generation\n",
    "    @mut_rate = mutation rate, units = rate per bp, per generation\n",
    "    '''\n",
    "\n",
    "    demography = msprime.Demography()\n",
    "    demography.add_population(name=\"A\", initial_size=diploid_size)\n",
    "\n",
    "    ts = msprime.sim_ancestry(\n",
    "        samples={'A': diploid_size},  # diploid samples\n",
    "        demography=demography,\n",
    "        ploidy=2,\n",
    "        sequence_length=seq_len,\n",
    "        discrete_genome=False,\n",
    "        recombination_rate=rec_rate,\n",
    "        model='dtwf',\n",
    "    )\n",
    "\n",
    "    ts = msprime.sim_mutations(\n",
    "        ts,\n",
    "        rate=mut_rate,\n",
    "        discrete_genome=False,\n",
    "        )\n",
    "\n",
    "    return ts"
   ]
  },
  {
   "cell_type": "code",
   "execution_count": 13,
   "metadata": {},
   "outputs": [],
   "source": [
    "def sample_individuals(haploid_indexes, n, replace):\n",
    "    \"\"\"\n",
    "    return the (haploid) indexes that correspond to\n",
    "    taking n diploid samples from the supplied haploid indexes\n",
    "\n",
    "    @haploid_indexes = contiguous indexes for haploids\n",
    "        should be from a single population.\n",
    "    @n = the number of diploid indiviudals to take.\n",
    "    \"\"\"\n",
    "\n",
    "    # ensure the haploid indexes are consecutive\n",
    "    diff = np.diff(haploid_indexes)\n",
    "    assert np.sum(diff == 1) == (len(haploid_indexes)-1)\n",
    "\n",
    "    ind_indexes = haploid_indexes[::2]\n",
    "    ind_samples = np.sort(np.random.choice(ind_indexes, n, replace=replace))\n",
    "    haploid_samples = np.zeros(len(ind_samples)*2, dtype='int')\n",
    "    haploid_samples[0::2] = ind_samples\n",
    "    haploid_samples[1::2] = ind_samples+1\n",
    "    return(haploid_samples)"
   ]
  },
  {
   "cell_type": "code",
   "execution_count": 16,
   "metadata": {},
   "outputs": [],
   "source": [
    "def observe(ts, num_inds, max_sites):\n",
    "    '''\n",
    "    oberserve num_inds diploids from each population\n",
    "    simplify the ts, removing non-variable sites across those individuals\n",
    "\n",
    "    @ts = tree-sequence\n",
    "    @num_inds = number of diploids to sample from each population\n",
    "    @max_sites = retain at most max_sites, from among variable sites\n",
    "    '''\n",
    "\n",
    "    popA = ts.samples(population=0)\n",
    "    popA_inds = sample_individuals(popA, num_inds, replace=False)\n",
    "    all_inds = popA_inds\n",
    "    obs_ts = ts.simplify(samples=all_inds)\n",
    "\n",
    "    if obs_ts.num_sites > max_sites:\n",
    "        all_sites = np.arange(len(obs_ts.sites()))\n",
    "        sites_keep = np.random.choice(all_sites, max_sites, replace=False)\n",
    "        sites_remove = np.setdiff1d(all_sites, sites_keep)\n",
    "        obs_ts = obs_ts.delete_sites(sites_remove)\n",
    "    return(obs_ts)"
   ]
  },
  {
   "cell_type": "markdown",
   "metadata": {},
   "source": [
    "# Example simulation and observation"
   ]
  },
  {
   "cell_type": "code",
   "execution_count": 22,
   "metadata": {},
   "outputs": [],
   "source": [
    "# simulation of the entire demographic history\n",
    "pop_ts = sim_one_population(\n",
    "    diploid_size=200,\n",
    "    seq_len=1e9,\n",
    "    rec_rate=1e-8,\n",
    "    mut_rate=1e-8\n",
    ")"
   ]
  },
  {
   "cell_type": "markdown",
   "metadata": {},
   "source": [
    " sim_population() generates one population with a constant population size.  \n",
    " \n",
    " Here we have specified:\n",
    " \n",
    " `diploid_size = 200` so each population is composed of 200 diploid individuals.\n",
    " \n",
    " `seq_len = 1e9` so the genome is ~ a billion basepairs (bp) long.\n",
    " \n",
    " `rec_rate = 1e-8` so the recombination rate is .00000001 per bp per generation.\n",
    " \n",
    " `mut_rate = 1e-8` so the mutation rate is .00000001 per bp per generation (same as the mut_rate)."
   ]
  },
  {
   "cell_type": "markdown",
   "metadata": {},
   "source": [
    "## Data structure\n",
    "The genetic data is store as a tree sequence [link to documentation](https://tskit.dev/tskit/docs/stable/data-model.html)"
   ]
  },
  {
   "cell_type": "code",
   "execution_count": 24,
   "metadata": {},
   "outputs": [
    {
     "data": {
      "text/plain": [
       "400"
      ]
     },
     "execution_count": 24,
     "metadata": {},
     "output_type": "execute_result"
    }
   ],
   "source": [
    "# for a tree-sequence, \"samples\" are always haploid,\n",
    "# while we will generally be addressing diploid individuals\n",
    "pop_ts.num_samples"
   ]
  },
  {
   "cell_type": "markdown",
   "metadata": {},
   "source": [
    "This ts has 400 \"samples\". This is due to having one population with 200 diploids. \n",
    "\n",
    "`200 (diploids) * 2 (samples per diploid)`"
   ]
  },
  {
   "cell_type": "markdown",
   "metadata": {},
   "source": [
    "### The `ts` above contains the full history of all indiviudals. \n",
    "\n",
    "In practice, researchers rarely get to observe all individuals or variable sites.  \n",
    "\n",
    "#### We can also simulate a situation where we only get to observe a subset of the individuals/sites."
   ]
  },
  {
   "cell_type": "code",
   "execution_count": 25,
   "metadata": {},
   "outputs": [],
   "source": [
    "# The observe() function returns another ts that contains\n",
    "#     a subset of the individuals and/or sites.\n",
    "obs_ts = observe(ts=pop_ts, num_inds=50, max_sites=5000)"
   ]
  },
  {
   "cell_type": "markdown",
   "metadata": {},
   "source": [
    " Here we have specified:\n",
    " \n",
    " `ts = pop_ts` so the pop_ts is the initial 2-population ts, with 200 individuals per pop.\n",
    " \n",
    " `num_inds = 50` so there will be 50 inds individuals per pop in the returned ts.\n",
    " \n",
    " `max_sites = 5000` so their will be at most 5000 variable sites in the returned ts."
   ]
  },
  {
   "cell_type": "code",
   "execution_count": 28,
   "metadata": {},
   "outputs": [
    {
     "data": {
      "text/plain": [
       "(100, 400)"
      ]
     },
     "execution_count": 28,
     "metadata": {},
     "output_type": "execute_result"
    }
   ],
   "source": [
    "# 50 individuals * 2 (pops) * 2 (samples per diploid)\n",
    "obs_ts.num_samples, pop_ts.num_samples"
   ]
  },
  {
   "cell_type": "code",
   "execution_count": 27,
   "metadata": {},
   "outputs": [
    {
     "data": {
      "text/plain": [
       "(5000, 53285)"
      ]
     },
     "execution_count": 27,
     "metadata": {},
     "output_type": "execute_result"
    }
   ],
   "source": [
    "# the number of sites has also be reduced\n",
    "obs_ts.num_sites, "
   ]
  },
  {
   "cell_type": "markdown",
   "metadata": {},
   "source": [
    "# Summary statistics"
   ]
  },
  {
   "cell_type": "markdown",
   "metadata": {},
   "source": [
    "Diversity, also often called pi, is a measure the average number of nucleotide differences between genotypes drawn from the same population. \n",
    "\n",
    "$ \\pi_{within} $  = the average number of pairwise differences between two samples from the same population.\n",
    "\n",
    "Often, this definition also includes non-variable sites, but we will ignore this and focus just on the variable sites. In this context this is also called the expected heterozygosity."
   ]
  },
  {
   "cell_type": "code",
   "execution_count": 143,
   "metadata": {},
   "outputs": [],
   "source": [
    "def site_diversity(ac, n):\n",
    "    \"\"\"\n",
    "    returns the diversity at one or more sites\n",
    "    \n",
    "    @ac = count of one of the alleles \n",
    "    @n = numer of samples\n",
    "    \"\"\"\n",
    "    \n",
    "    assert (ac <= n)\n",
    "    \n",
    "    npairs = int(n*(n-1)/2)  # total numbers of pairs of samples\n",
    "    n_different_pairs = ac * (n-ac) # number of those pairs that have different alleles\n",
    "    return (n_different_pairs/npairs)"
   ]
  },
  {
   "cell_type": "code",
   "execution_count": 144,
   "metadata": {},
   "outputs": [
    {
     "data": {
      "text/plain": [
       "0.09595959595959595"
      ]
     },
     "execution_count": 144,
     "metadata": {},
     "output_type": "execute_result"
    }
   ],
   "source": [
    "site_diversity(5, 100)"
   ]
  },
  {
   "cell_type": "code",
   "execution_count": 145,
   "metadata": {},
   "outputs": [
    {
     "data": {
      "text/plain": [
       "array([0, 0, 0, 0, 0, 0, 0, 0, 0, 0, 0, 0, 0, 0, 0, 1, 0, 0, 0, 0, 0, 0,\n",
       "       0, 0, 0, 0, 0, 0, 0, 0, 0, 0, 0, 0, 0, 0, 0, 0, 0, 0, 0, 0, 0, 0,\n",
       "       0, 0, 1, 0, 0, 0, 0, 0, 0, 0, 0, 0, 0, 0, 0, 0, 0, 0, 0, 1, 0, 0,\n",
       "       1, 0, 0, 0, 0, 0, 0, 0, 0, 0, 0, 1, 0, 0, 0, 0, 0, 0, 0, 0, 0, 0,\n",
       "       0, 0, 0, 0, 0, 0, 0, 0, 0, 0, 0, 0], dtype=int8)"
      ]
     },
     "execution_count": 145,
     "metadata": {},
     "output_type": "execute_result"
    }
   ],
   "source": [
    "obs_ts.genotype_matrix()[0,:]"
   ]
  },
  {
   "cell_type": "code",
   "execution_count": 146,
   "metadata": {},
   "outputs": [
    {
     "data": {
      "text/plain": [
       "(5, 100)"
      ]
     },
     "execution_count": 146,
     "metadata": {},
     "output_type": "execute_result"
    }
   ],
   "source": [
    "obs_ts.genotype_matrix()[0,:].sum(), len(obs_ts.genotype_matrix()[0,:])"
   ]
  },
  {
   "cell_type": "code",
   "execution_count": 141,
   "metadata": {},
   "outputs": [
    {
     "data": {
      "text/plain": [
       "array([0.0959596 , 0.05878788, 0.02      , ..., 0.36848485, 0.13151515,\n",
       "       0.4759596 ])"
      ]
     },
     "execution_count": 141,
     "metadata": {},
     "output_type": "execute_result"
    }
   ],
   "source": [
    "# diversity at each site\n",
    "site_diversity(obs_ts.genotype_matrix().sum(1), obs_ts.num_samples)"
   ]
  },
  {
   "cell_type": "code",
   "execution_count": 129,
   "metadata": {},
   "outputs": [
    {
     "data": {
      "text/plain": [
       "0.1938157171717172"
      ]
     },
     "execution_count": 129,
     "metadata": {},
     "output_type": "execute_result"
    }
   ],
   "source": [
    "# mean diversity across sites\n",
    "site_diversity(obs_ts.genotype_matrix().sum(1), obs_ts.num_samples).mean()"
   ]
  },
  {
   "cell_type": "code",
   "execution_count": 130,
   "metadata": {},
   "outputs": [
    {
     "data": {
      "text/plain": [
       "array([0.0959596 , 0.05878788, 0.02      , ..., 0.36848485, 0.13151515,\n",
       "       0.4759596 ])"
      ]
     },
     "execution_count": 130,
     "metadata": {},
     "output_type": "execute_result"
    }
   ],
   "source": [
    "# you can also get this with the tskit API, but this wont allow repeated sites or samples\n",
    "obs_ts.diversity(span_normalise = False, windows = 'sites')"
   ]
  },
  {
   "cell_type": "code",
   "execution_count": 118,
   "metadata": {},
   "outputs": [],
   "source": [
    "def get_diversity_general(ts, samples, sites_index):\n",
    "    \"\"\"returns average pairwise diversity of a set of samples across a set of sites. \n",
    "\n",
    "    This function is general in the sense that (samples) and (sites_index)may have duplicates.\n",
    "\n",
    "    @ts = tree sequence\n",
    "    @samples = the samples from the first population to be used\n",
    "    @sites_index = the indexes of the sites to be used.\n",
    "    \"\"\"\n",
    "    nsamples = len(samples)\n",
    "    genos = obs_ts.genotype_matrix()\n",
    "    diver = site_diversity(genos[sites_index, :][:,samples].sum(1), nsamples).mean()\n",
    "    return diver"
   ]
  },
  {
   "cell_type": "code",
   "execution_count": 152,
   "metadata": {},
   "outputs": [
    {
     "data": {
      "text/plain": [
       "0.19465935353535355"
      ]
     },
     "execution_count": 152,
     "metadata": {},
     "output_type": "execute_result"
    }
   ],
   "source": [
    "# bootstrap over sites \n",
    "get_diversity_general(\n",
    "    ts=obs_ts,\n",
    "    samples=np.arange(obs_ts.num_samples),\n",
    "    sites_index=np.random.choice(obs_ts.num_sites, obs_ts.num_sites, replace = True),\n",
    "    )"
   ]
  },
  {
   "cell_type": "code",
   "execution_count": 153,
   "metadata": {},
   "outputs": [
    {
     "data": {
      "text/plain": [
       "0.19097870707070708"
      ]
     },
     "execution_count": 153,
     "metadata": {},
     "output_type": "execute_result"
    }
   ],
   "source": [
    "# bootstrap over samples \n",
    "get_diversity_general(\n",
    "    ts=obs_ts,\n",
    "    samples=np.random.choice(obs_ts.num_samples, obs_ts.num_samples, replace = True),\n",
    "    sites_index=np.arange(obs_ts.num_sites),\n",
    "    )"
   ]
  },
  {
   "cell_type": "code",
   "execution_count": 156,
   "metadata": {},
   "outputs": [
    {
     "data": {
      "text/plain": [
       "Text(0.5, 1.0, '5000 bootstraps over sites')"
      ]
     },
     "execution_count": 156,
     "metadata": {},
     "output_type": "execute_result"
    },
    {
     "data": {
      "image/png": "[encoded data removed]",
      "text/plain": [
       "<Figure size 432x288 with 1 Axes>"
      ]
     },
     "metadata": {
      "needs_background": "light"
     },
     "output_type": "display_data"
    }
   ],
   "source": [
    "res = []\n",
    "for i in range(5000):\n",
    "    res.append(get_diversity_general(\n",
    "        ts=obs_ts,\n",
    "        samples=np.arange(obs_ts.num_samples),\n",
    "        sites_index=np.random.choice(obs_ts.num_sites, obs_ts.num_sites, replace = True),\n",
    "        )\n",
    "    )\n",
    "\n",
    "sns.histplot(res)\n",
    "plt.axvline(site_diversity(obs_ts.genotype_matrix().sum(1), obs_ts.num_samples).mean(), color = 'red')\n",
    "plt.title('5000 bootstraps over sites')"
   ]
  },
  {
   "cell_type": "code",
   "execution_count": 157,
   "metadata": {},
   "outputs": [
    {
     "data": {
      "text/plain": [
       "Text(0.5, 1.0, '5000 bootstraps over samples')"
      ]
     },
     "execution_count": 157,
     "metadata": {},
     "output_type": "execute_result"
    },
    {
     "data": {
      "image/png": "[encoded data removed]",
      "text/plain": [
       "<Figure size 432x288 with 1 Axes>"
      ]
     },
     "metadata": {
      "needs_background": "light"
     },
     "output_type": "display_data"
    }
   ],
   "source": [
    "res = []\n",
    "for i in range(5000):\n",
    "    res.append(get_diversity_general(\n",
    "        ts=obs_ts,\n",
    "    samples=np.random.choice(obs_ts.num_samples, obs_ts.num_samples, replace = True),\n",
    "    sites_index=np.arange(obs_ts.num_sites),\n",
    "        )\n",
    "    )\n",
    "\n",
    "sns.histplot(res)\n",
    "plt.axvline(site_diversity(obs_ts.genotype_matrix().sum(1), obs_ts.num_samples).mean(), color = 'red')\n",
    "plt.title('5000 bootstraps over samples')"
   ]
  },
  {
   "cell_type": "code",
   "execution_count": null,
   "metadata": {},
   "outputs": [],
   "source": []
  },
  {
   "cell_type": "code",
   "execution_count": null,
   "metadata": {},
   "outputs": [],
   "source": []
  },
  {
   "cell_type": "code",
   "execution_count": null,
   "metadata": {},
   "outputs": [],
   "source": []
  },
  {
   "cell_type": "code",
   "execution_count": null,
   "metadata": {},
   "outputs": [],
   "source": []
  },
  {
   "cell_type": "code",
   "execution_count": null,
   "metadata": {},
   "outputs": [],
   "source": []
  }
 ],
 "metadata": {
  "kernelspec": {
   "display_name": "Python 3 (ipykernel)",
   "language": "python",
   "name": "python3"
  },
  "language_info": {
   "codemirror_mode": {
    "name": "ipython",
    "version": 3
   },
   "file_extension": ".py",
   "mimetype": "text/x-python",
   "name": "python",
   "nbconvert_exporter": "python",
   "pygments_lexer": "ipython3",
   "version": "3.9.5"
  }
 },
 "nbformat": 4,
 "nbformat_minor": 4
}

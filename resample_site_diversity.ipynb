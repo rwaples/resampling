{
 "cells": [
  {
   "cell_type": "code",
   "execution_count": 1,
   "metadata": {},
   "outputs": [],
   "source": [
    "import numpy as np\n",
    "import msprime\n",
    "import pandas as pd\n",
    "import allel\n",
    "\n",
    "from sklearn.model_selection import KFold\n",
    "import seaborn as sns\n",
    "import matplotlib.pyplot as plt\n",
    "from math import sqrt\n",
    "from statistics import mean, stdev\n",
    "from scipy.stats import norm\n",
    "\n",
    "from multiprocessing import Pool, cpu_count\n",
    "\n",
    "from resample import site_diversity, bt_resample_sites"
   ]
  },
  {
   "cell_type": "markdown",
   "metadata": {},
   "source": [
    "## Functions to generate simulation and observation"
   ]
  },
  {
   "cell_type": "code",
   "execution_count": 2,
   "metadata": {},
   "outputs": [],
   "source": [
    "def sim_one_population(diploid_size, seq_len, rec_rate, mut_rate):\n",
    "    '''simulate two populations that have diverged\n",
    "        from a common ancestral population.\n",
    "    Returns a tree sequence.\n",
    "\n",
    "    @diploid_size = the population size of each population,\n",
    "        also the size of the ancestral population\n",
    "    @seq_len = length of the genome, units ~ base-pairs\n",
    "    @rec_rate = recombination rate, units = rate per bp, per generation\n",
    "    @mut_rate = mutation rate, units = rate per bp, per generation\n",
    "    '''\n",
    "\n",
    "    demography = msprime.Demography()\n",
    "    demography.add_population(name=\"A\", initial_size=diploid_size)\n",
    "\n",
    "    ts = msprime.sim_ancestry(\n",
    "        samples={'A': diploid_size},  # diploid samples\n",
    "        demography=demography,\n",
    "        ploidy=2,\n",
    "        sequence_length=seq_len,\n",
    "        discrete_genome=False,\n",
    "        recombination_rate=rec_rate,\n",
    "        model='dtwf',\n",
    "    )\n",
    "\n",
    "    ts = msprime.sim_mutations(\n",
    "        ts,\n",
    "        rate=mut_rate,\n",
    "        discrete_genome=False,\n",
    "        )\n",
    "\n",
    "    return ts"
   ]
  },
  {
   "cell_type": "code",
   "execution_count": 3,
   "metadata": {},
   "outputs": [],
   "source": [
    "def sample_individuals(haploid_indexes, n, replace):\n",
    "    \"\"\"\n",
    "    return the (haploid) indexes that correspond to\n",
    "    taking n diploid samples from the supplied haploid indexes\n",
    "\n",
    "    @haploid_indexes = contiguous indexes for haploids\n",
    "        should be from a single population.\n",
    "    @n = the number of diploid indiviudals to take.\n",
    "    \"\"\"\n",
    "\n",
    "    # ensure the haploid indexes are consecutive\n",
    "    diff = np.diff(haploid_indexes)\n",
    "    assert np.sum(diff == 1) == (len(haploid_indexes)-1)\n",
    "\n",
    "    ind_indexes = haploid_indexes[::2]\n",
    "    ind_samples = np.sort(np.random.choice(ind_indexes, n, replace=replace))\n",
    "    haploid_samples = np.zeros(len(ind_samples)*2, dtype='int')\n",
    "    haploid_samples[0::2] = ind_samples\n",
    "    haploid_samples[1::2] = ind_samples+1\n",
    "    return(haploid_samples)"
   ]
  },
  {
   "cell_type": "code",
   "execution_count": 4,
   "metadata": {},
   "outputs": [],
   "source": [
    "def observe(ts, num_inds, max_sites):\n",
    "    '''\n",
    "    oberserve num_inds diploids from each population\n",
    "    simplify the ts, removing non-variable sites across those individuals\n",
    "\n",
    "    @ts = tree-sequence\n",
    "    @num_inds = number of diploids to sample from each population\n",
    "    @max_sites = retain at most max_sites, from among variable sites\n",
    "    '''\n",
    "\n",
    "    popA = ts.samples(population=0)\n",
    "    popA_inds = sample_individuals(popA, num_inds, replace=False)\n",
    "    all_inds = popA_inds\n",
    "    obs_ts = ts.simplify(samples=all_inds, filter_sites=False)\n",
    "\n",
    "    if obs_ts.num_sites > max_sites:\n",
    "        all_sites = np.arange(len(obs_ts.sites()))\n",
    "        sites_keep = np.random.choice(all_sites, max_sites, replace=False)\n",
    "        sites_remove = np.setdiff1d(all_sites, sites_keep)\n",
    "        obs_ts = obs_ts.delete_sites(sites_remove)\n",
    "    return(obs_ts)"
   ]
  },
  {
   "cell_type": "markdown",
   "metadata": {},
   "source": [
    "## Functions to caculate the site diversity of samples"
   ]
  },
  {
   "cell_type": "code",
   "execution_count": 5,
   "metadata": {},
   "outputs": [],
   "source": [
    "def get_diversity_general(ts, samples, sites_index):\n",
    "    \"\"\"returns average pairwise diversity of a set of samples across a set of sites. \n",
    "\n",
    "    This function is general in the sense that (samples) and (sites_index)may have duplicates.\n",
    "\n",
    "    @ts = tree sequence\n",
    "    @samples = the samples from the first population to be used\n",
    "    @sites_index = the indexes of the sites to be used.\n",
    "    \"\"\"\n",
    "    \n",
    "    nsamples = len(samples)\n",
    "    genos = obs_ts.genotype_matrix()\n",
    "    \n",
    "    ac = genos[sites_index, :][:,samples].sum(1)\n",
    "    \n",
    "    npairs = int(nsamples * (nsamples - 1) / 2)  # total numbers of pairs of samples\n",
    "    n_different_pairs = ac * (nsamples - ac) # number of those pairs that have different alleles\n",
    "    \n",
    "    return (n_different_pairs/npairs).mean()"
   ]
  },
  {
   "cell_type": "markdown",
   "metadata": {},
   "source": [
    "## Functions to obtain the confidence interval from bootstrap resample"
   ]
  },
  {
   "cell_type": "code",
   "execution_count": 6,
   "metadata": {},
   "outputs": [],
   "source": [
    "def get_CI_normal(data, confidence, obs_value):\n",
    "    '''\n",
    "    @data: estimated parameters (e.g. means of 1000 resample data)\n",
    "    @confidence: width of the interval\n",
    "    @est_param: value of the estimated parameter of the data that is resampled\n",
    "    '''\n",
    "    qnorm = abs(norm.ppf((1 - confidence) / 2))\n",
    "\n",
    "    upper = obs_value + qnorm * np.std(data, ddof=1) # change degree of freedom\n",
    "    lower = obs_value - qnorm * np.std(data, ddof=1)\n",
    "\n",
    "    return lower, upper\n",
    "\n",
    "\n",
    "def get_CI_quantile(data, confidence):\n",
    "    \n",
    "    cutoff = (1 - confidence) / 2\n",
    "    lower = np.quantile(data, cutoff)\n",
    "    upper = np.quantile(data, 1 - cutoff)\n",
    "\n",
    "    return lower, upper\n",
    "\n",
    "\n",
    "def get_CI_biased_corrected_norm(data, confidence, obs_value):\n",
    "    x_bar = mean(data)\n",
    "    est_bias = x_bar - obs_value\n",
    "    obs_value -= est_bias\n",
    "    \n",
    "    qnorm = abs(norm.ppf((1 - confidence) / 2))\n",
    "\n",
    "    upper = obs_value + qnorm * np.std(data, ddof=1)\n",
    "    lower = obs_value - qnorm * np.std(data, ddof=1)\n",
    "    \n",
    "    return lower, upper"
   ]
  },
  {
   "cell_type": "markdown",
   "metadata": {},
   "source": [
    "## Functions to obtain the confidence interval from jackknife resample"
   ]
  },
  {
   "cell_type": "code",
   "execution_count": 7,
   "metadata": {},
   "outputs": [],
   "source": [
    "def jk_get_CI(data, confidence):\n",
    "    \n",
    "    qnorm = abs(norm.ppf((1 - confidence) / 2))\n",
    "\n",
    "    upper = mean(data) + qnorm * np.std(data, ddof=1) / sqrt(len(data)) # change degree of freedom\n",
    "    lower = mean(data) - qnorm * np.std(data, ddof=1) / sqrt(len(data))\n",
    "\n",
    "    return lower, upper"
   ]
  },
  {
   "cell_type": "markdown",
   "metadata": {},
   "source": [
    "## Functions to draw plots"
   ]
  },
  {
   "cell_type": "code",
   "execution_count": 8,
   "metadata": {},
   "outputs": [],
   "source": [
    "def histplot(data, pop_value, obs_value, normal, quantile, biased):\n",
    "    '''\n",
    "    Display the histogram of the site diversity of the resampled data and draw lines of \n",
    "    population site diversity, observed population site diversity, and three different CI.\n",
    "    '''\n",
    "    fig = plt.figure(dpi=180)\n",
    "    sns.histplot(data)\n",
    "    plt.axvline(x=obs_value, color = 'r', label = 'observe')\n",
    "    plt.axvline(x=pop_value, color = 'g', label = 'pop')\n",
    "    plt.axvline(x=normal[0], color = 'b', label = 'normal')\n",
    "    plt.axvline(x=normal[1], color = 'b')\n",
    "    plt.axvline(x=quantile[0], color = 'm', label = 'quantile')\n",
    "    plt.axvline(x=quantile[1], color = 'm')\n",
    "    plt.axvline(x=biased[0], color = 'y', label = 'biased corrected')\n",
    "    plt.axvline(x=biased[1], color = 'y')\n",
    "    plt.legend(loc='best', fontsize = 'xx-small')\n",
    "    plt.xlabel('Estimate site diversity of the resampled observed population')\n",
    "    plt.show()\n",
    "    \n",
    "\n",
    "def jk_histplot(data, pop_value, obs_value, jk_CI, jk_block_CI):\n",
    "    fig2 = plt.figure(dpi=150)\n",
    "    sns.histplot(data)\n",
    "    plt.axvline(x=obs_value, color = 'r', label = 'observe')\n",
    "    plt.axvline(x=pop_value, color = 'g', label = 'pop')\n",
    "    plt.axvline(x=jk_CI[0], color = 'y', label = 'jackknife CI')\n",
    "    plt.axvline(x=jk_CI[1], color = 'y')\n",
    "    plt.axvline(x=jk_block_CI[0], color = 'm', label = 'jackknife block CI')\n",
    "    plt.axvline(x=jk_block_CI[1], color = 'm')\n",
    "    plt.legend(loc=0)\n",
    "    plt.title('Histogram of site diversity from Jackknife Resample')\n",
    "    plt.show()"
   ]
  },
  {
   "cell_type": "markdown",
   "metadata": {},
   "source": [
    "# We observe 50 individuals and at most 5000 sites from the population and we want to use different resample methods and the observed population to estimate the site diversity of the whole population."
   ]
  },
  {
   "cell_type": "code",
   "execution_count": 9,
   "metadata": {},
   "outputs": [],
   "source": [
    "# simulation of the entire demographic history\n",
    "pop_ts = sim_one_population(\n",
    "    diploid_size=200,\n",
    "    seq_len=1e9,\n",
    "    rec_rate=1e-8,\n",
    "    mut_rate=1e-8\n",
    ")\n",
    "\n",
    "obs_ts = observe(ts=pop_ts, num_inds=50, max_sites=5000)"
   ]
  },
  {
   "cell_type": "code",
   "execution_count": 10,
   "metadata": {},
   "outputs": [
    {
     "data": {
      "text/plain": [
       "(400, 52768)"
      ]
     },
     "execution_count": 10,
     "metadata": {},
     "output_type": "execute_result"
    }
   ],
   "source": [
    "pop_ts.num_samples, pop_ts.num_sites"
   ]
  },
  {
   "cell_type": "code",
   "execution_count": 11,
   "metadata": {},
   "outputs": [
    {
     "data": {
      "text/plain": [
       "(100, 5000)"
      ]
     },
     "execution_count": 11,
     "metadata": {},
     "output_type": "execute_result"
    }
   ],
   "source": [
    "obs_ts.num_samples, obs_ts.num_sites"
   ]
  },
  {
   "cell_type": "code",
   "execution_count": 12,
   "metadata": {},
   "outputs": [
    {
     "name": "stdout",
     "output_type": "stream",
     "text": [
      "Site diversity for the simulated population is:  0.15081724075957023\n",
      "Site diversity for the observed population is:  0.152544\n"
     ]
    }
   ],
   "source": [
    "pop_ts_diversity = pop_ts.diversity(span_normalise = False, windows = 'sites').mean()\n",
    "\n",
    "obs_ts_diversity = obs_ts.diversity(span_normalise = False, windows = 'sites').mean()\n",
    "\n",
    "print('Site diversity for the simulated population is: ', pop_ts_diversity)\n",
    "print('Site diversity for the observed population is: ', obs_ts_diversity)"
   ]
  },
  {
   "cell_type": "code",
   "execution_count": 13,
   "metadata": {},
   "outputs": [
    {
     "data": {
      "text/plain": [
       "(5000, 100)"
      ]
     },
     "execution_count": 13,
     "metadata": {},
     "output_type": "execute_result"
    }
   ],
   "source": [
    "obs_ts.genotype_matrix().shape"
   ]
  },
  {
   "cell_type": "code",
   "execution_count": 14,
   "metadata": {},
   "outputs": [
    {
     "data": {
      "text/plain": [
       "array([0.48868687, 0.03959596, 0.11393939, ..., 0.50505051, 0.        ,\n",
       "       0.39818182])"
      ]
     },
     "execution_count": 14,
     "metadata": {},
     "output_type": "execute_result"
    }
   ],
   "source": [
    "# site diversity for the observed population\n",
    "diversity = site_diversity(obs_ts)\n",
    "diversity"
   ]
  },
  {
   "cell_type": "markdown",
   "metadata": {},
   "source": [
    "## 1. Bootstrap over sites"
   ]
  },
  {
   "cell_type": "code",
   "execution_count": 166,
   "metadata": {},
   "outputs": [
    {
     "name": "stdout",
     "output_type": "stream",
     "text": [
      "CPU times: user 1.54 s, sys: 208 ms, total: 1.75 s\n",
      "Wall time: 1.86 s\n"
     ]
    }
   ],
   "source": [
    "%%time\n",
    "# use numpy array to speed up the bootstrap process\n",
    "bt_weights = np.random.multinomial(\n",
    "    n=obs_ts.num_sites,\n",
    "    pvals=np.ones(obs_ts.num_sites) / obs_ts.num_sites,\n",
    "    size=5000\n",
    ")\n",
    "\n",
    "bt_val = np.mean((diversity * bt_weights), axis=1)"
   ]
  },
  {
   "cell_type": "code",
   "execution_count": 167,
   "metadata": {},
   "outputs": [],
   "source": [
    "sites_normal = get_CI_normal(data=bt_val, confidence=0.95, obs_value=obs_ts_diversity)\n",
    "sites_quantile = get_CI_quantile(data=bt_val, confidence=0.95)\n",
    "sites_biased = get_CI_biased_corrected_norm(data=bt_val, confidence=0.95, obs_value=obs_ts_diversity)"
   ]
  },
  {
   "cell_type": "code",
   "execution_count": 168,
   "metadata": {},
   "outputs": [
    {
     "name": "stdout",
     "output_type": "stream",
     "text": [
      "Normal CI (0.13999683134210242, 0.14928793633466528) \n",
      "\n",
      "Quantile CI (0.13991165757575758, 0.14928341212121213) \n",
      "\n",
      "Biased Corrected Normal CI (0.14001725990775898, 0.14930836490032184) \n",
      "\n"
     ]
    }
   ],
   "source": [
    "print('Normal CI', sites_normal, '\\n')\n",
    "print('Quantile CI', sites_quantile, '\\n')\n",
    "print('Biased Corrected Normal CI', sites_biased, '\\n')"
   ]
  },
  {
   "cell_type": "code",
   "execution_count": 169,
   "metadata": {},
   "outputs": [
    {
     "data": {
      "image/png": "[encoded data removed]",
      "text/plain": [
       "<Figure size 1080x720 with 1 Axes>"
      ]
     },
     "metadata": {
      "needs_background": "light"
     },
     "output_type": "display_data"
    }
   ],
   "source": [
    "histplot(data=bt_val, pop_value=pop_ts_diversity, obs_value=obs_ts_diversity, \n",
    "         normal=sites_normal, quantile=sites_quantile, biased=sites_biased)"
   ]
  },
  {
   "cell_type": "markdown",
   "metadata": {},
   "source": [
    "## 2. Bootstrap over samples "
   ]
  },
  {
   "cell_type": "code",
   "execution_count": 109,
   "metadata": {},
   "outputs": [
    {
     "name": "stdout",
     "output_type": "stream",
     "text": [
      "CPU times: user 5min 34s, sys: 4 s, total: 5min 38s\n",
      "Wall time: 5min 46s\n"
     ]
    }
   ],
   "source": [
    "%%time\n",
    "bt_sample_res = [\n",
    "    get_diversity_general(\n",
    "        ts=obs_ts,\n",
    "        samples=np.random.choice(obs_ts.num_samples, obs_ts.num_samples, replace = True),\n",
    "        sites_index=np.arange(obs_ts.num_sites)) for _ in range(5000)]"
   ]
  },
  {
   "cell_type": "code",
   "execution_count": 110,
   "metadata": {},
   "outputs": [],
   "source": [
    "sample_normal = get_CI_normal(data=bt_sample_res, confidence=0.95, obs_value=obs_ts_diversity)\n",
    "sample_quantile = get_CI_quantile(data=bt_sample_res, confidence=0.95)\n",
    "sample_biased = get_CI_biased_corrected_norm(data=bt_sample_res, confidence=0.95, obs_value=obs_ts_diversity)"
   ]
  },
  {
   "cell_type": "code",
   "execution_count": 111,
   "metadata": {},
   "outputs": [
    {
     "name": "stdout",
     "output_type": "stream",
     "text": [
      "Normal CI (0.15035025577241648, 0.15133648794617646) \n",
      "\n",
      "Quantile CI (0.1495673447236181, 0.15055639918341707) \n",
      "\n",
      "Biased Corrected Normal CI (0.15111265331312, 0.15209888548687997) \n",
      "\n"
     ]
    }
   ],
   "source": [
    "print('Normal CI', sample_normal, '\\n')\n",
    "print('Quantile CI', sample_quantile, '\\n')\n",
    "print('Biased Corrected Normal CI', sample_biased, '\\n')"
   ]
  },
  {
   "cell_type": "code",
   "execution_count": 113,
   "metadata": {},
   "outputs": [
    {
     "data": {
      "image/png": "[encoded data removed]",
      "text/plain": [
       "<Figure size 1080x720 with 1 Axes>"
      ]
     },
     "metadata": {
      "needs_background": "light"
     },
     "output_type": "display_data"
    }
   ],
   "source": [
    "histplot(data=bt_sample_res, pop_value=pop_ts_diversity, obs_value=obs_ts_diversity, \n",
    "         normal=sample_normal, quantile=sample_quantile, biased=sample_biased)"
   ]
  },
  {
   "cell_type": "markdown",
   "metadata": {},
   "source": [
    "## 3. Jackknife over sites"
   ]
  },
  {
   "cell_type": "code",
   "execution_count": 15,
   "metadata": {},
   "outputs": [
    {
     "name": "stdout",
     "output_type": "stream",
     "text": [
      "CPU times: user 187 ms, sys: 185 ms, total: 372 ms\n",
      "Wall time: 745 ms\n"
     ]
    }
   ],
   "source": [
    "%%time\n",
    "# try to speed up the jackknife process\n",
    "jk_weights = np.ones((obs_ts.num_sites, obs_ts.num_sites), dtype=int)\n",
    "np.fill_diagonal(jk_weights, 0)\n",
    "\n",
    "jk_val = (diversity * jk_weights).sum(axis=1) / (obs_ts.num_sites - 1)"
   ]
  },
  {
   "cell_type": "code",
   "execution_count": 16,
   "metadata": {},
   "outputs": [
    {
     "data": {
      "text/plain": [
       "array([[0, 1, 1, ..., 1, 1, 1],\n",
       "       [1, 0, 1, ..., 1, 1, 1],\n",
       "       [1, 1, 0, ..., 1, 1, 1],\n",
       "       ...,\n",
       "       [1, 1, 1, ..., 0, 1, 1],\n",
       "       [1, 1, 1, ..., 1, 0, 1],\n",
       "       [1, 1, 1, ..., 1, 1, 0]])"
      ]
     },
     "execution_count": 16,
     "metadata": {},
     "output_type": "execute_result"
    }
   ],
   "source": [
    "jk_weights"
   ]
  },
  {
   "cell_type": "code",
   "execution_count": 17,
   "metadata": {},
   "outputs": [
    {
     "data": {
      "text/plain": [
       "(5000, 5000)"
      ]
     },
     "execution_count": 17,
     "metadata": {},
     "output_type": "execute_result"
    }
   ],
   "source": [
    "jk_weights.shape"
   ]
  },
  {
   "cell_type": "code",
   "execution_count": 18,
   "metadata": {},
   "outputs": [
    {
     "data": {
      "text/plain": [
       "array([0.15247676, 0.15256659, 0.15255172, ..., 0.15247348, 0.15257451,\n",
       "       0.15249486])"
      ]
     },
     "execution_count": 18,
     "metadata": {},
     "output_type": "execute_result"
    }
   ],
   "source": [
    "# diversity by deleting one site\n",
    "jk_val"
   ]
  },
  {
   "cell_type": "code",
   "execution_count": 19,
   "metadata": {},
   "outputs": [
    {
     "data": {
      "text/plain": [
       "<AxesSubplot:ylabel='Count'>"
      ]
     },
     "execution_count": 19,
     "metadata": {},
     "output_type": "execute_result"
    },
    {
     "data": {
      "image/png": "[encoded data removed]",
      "text/plain": [
       "<Figure size 432x288 with 1 Axes>"
      ]
     },
     "metadata": {
      "needs_background": "light"
     },
     "output_type": "display_data"
    }
   ],
   "source": [
    "sns.histplot(jk_val)"
   ]
  },
  {
   "cell_type": "code",
   "execution_count": 20,
   "metadata": {},
   "outputs": [],
   "source": [
    "jk_pse_val = obs_ts.num_sites * obs_ts_diversity - (obs_ts.num_sites - 1) * jk_val"
   ]
  },
  {
   "cell_type": "code",
   "execution_count": 21,
   "metadata": {},
   "outputs": [
    {
     "data": {
      "text/plain": [
       "array([0.48868687, 0.03959596, 0.11393939, ..., 0.50505051, 0.        ,\n",
       "       0.39818182])"
      ]
     },
     "execution_count": 21,
     "metadata": {},
     "output_type": "execute_result"
    }
   ],
   "source": [
    "jk_pse_val"
   ]
  },
  {
   "cell_type": "code",
   "execution_count": 22,
   "metadata": {},
   "outputs": [
    {
     "data": {
      "text/plain": [
       "139"
      ]
     },
     "execution_count": 22,
     "metadata": {},
     "output_type": "execute_result"
    }
   ],
   "source": [
    "sum(jk_pse_val > 0.5)"
   ]
  },
  {
   "cell_type": "code",
   "execution_count": 23,
   "metadata": {},
   "outputs": [
    {
     "data": {
      "text/plain": [
       "<AxesSubplot:ylabel='Count'>"
      ]
     },
     "execution_count": 23,
     "metadata": {},
     "output_type": "execute_result"
    },
    {
     "data": {
      "image/png": "[encoded data removed]",
      "text/plain": [
       "<Figure size 432x288 with 1 Axes>"
      ]
     },
     "metadata": {
      "needs_background": "light"
     },
     "output_type": "display_data"
    }
   ],
   "source": [
    "sns.histplot(jk_pse_val)"
   ]
  },
  {
   "cell_type": "code",
   "execution_count": 24,
   "metadata": {},
   "outputs": [],
   "source": [
    "# jackknife block\n",
    "n_fold = obs_ts.num_sites // 100\n",
    "num_sites = len(diversity)\n",
    "jk_block_weights = np.ones((n_fold, num_sites), dtype=int)\n",
    "kf = KFold(n_splits=n_fold)\n",
    "    \n",
    "# fill deleleted block with 0\n",
    "for i, (_, zero_index) in enumerate(kf.split(np.arange(num_sites))):\n",
    "    jk_block_weights[i][zero_index] = 0"
   ]
  },
  {
   "cell_type": "code",
   "execution_count": 25,
   "metadata": {},
   "outputs": [
    {
     "data": {
      "text/plain": [
       "array([[0, 0, 0, ..., 1, 1, 1],\n",
       "       [1, 1, 1, ..., 1, 1, 1],\n",
       "       [1, 1, 1, ..., 1, 1, 1],\n",
       "       ...,\n",
       "       [1, 1, 1, ..., 1, 1, 1],\n",
       "       [1, 1, 1, ..., 1, 1, 1],\n",
       "       [1, 1, 1, ..., 0, 0, 0]])"
      ]
     },
     "execution_count": 25,
     "metadata": {},
     "output_type": "execute_result"
    }
   ],
   "source": [
    "jk_block_weights"
   ]
  },
  {
   "cell_type": "code",
   "execution_count": 28,
   "metadata": {},
   "outputs": [
    {
     "data": {
      "text/plain": [
       "array([4900, 4900, 4900, 4900, 4900, 4900, 4900, 4900, 4900, 4900, 4900,\n",
       "       4900, 4900, 4900, 4900, 4900, 4900, 4900, 4900, 4900, 4900, 4900,\n",
       "       4900, 4900, 4900, 4900, 4900, 4900, 4900, 4900, 4900, 4900, 4900,\n",
       "       4900, 4900, 4900, 4900, 4900, 4900, 4900, 4900, 4900, 4900, 4900,\n",
       "       4900, 4900, 4900, 4900, 4900, 4900])"
      ]
     },
     "execution_count": 28,
     "metadata": {},
     "output_type": "execute_result"
    }
   ],
   "source": [
    "(jk_block_weights == 1).sum(axis=1)"
   ]
  },
  {
   "cell_type": "code",
   "execution_count": 29,
   "metadata": {},
   "outputs": [
    {
     "data": {
      "text/plain": [
       "<AxesSubplot:ylabel='Count'>"
      ]
     },
     "execution_count": 29,
     "metadata": {},
     "output_type": "execute_result"
    },
    {
     "data": {
      "image/png": "[encoded data removed]",
      "text/plain": [
       "<Figure size 432x288 with 1 Axes>"
      ]
     },
     "metadata": {
      "needs_background": "light"
     },
     "output_type": "display_data"
    }
   ],
   "source": [
    "jk_block_val = (diversity * jk_block_weights).sum(axis=1) / ((jk_block_weights == 1).sum(axis=1))\n",
    "sns.histplot(jk_block_val)"
   ]
  },
  {
   "cell_type": "code",
   "execution_count": 30,
   "metadata": {},
   "outputs": [
    {
     "data": {
      "text/plain": [
       "<AxesSubplot:ylabel='Count'>"
      ]
     },
     "execution_count": 30,
     "metadata": {},
     "output_type": "execute_result"
    },
    {
     "data": {
      "image/png": "[encoded data removed]",
      "text/plain": [
       "<Figure size 432x288 with 1 Axes>"
      ]
     },
     "metadata": {
      "needs_background": "light"
     },
     "output_type": "display_data"
    }
   ],
   "source": [
    "jk_block_pse = n_fold * obs_ts_diversity - (n_fold - 1) * jk_block_val\n",
    "sns.histplot(jk_block_pse)"
   ]
  },
  {
   "cell_type": "code",
   "execution_count": 31,
   "metadata": {},
   "outputs": [
    {
     "name": "stdout",
     "output_type": "stream",
     "text": [
      "Jackknife CI (0.14783701852862868, 0.15725098147138117) \n",
      "\n",
      "Block Jackknife CI (0.14691928636025714, 0.15816871363974266) \n",
      "\n"
     ]
    }
   ],
   "source": [
    "jk_sites_CI = jk_get_CI(data=jk_pse_val, confidence=0.95)\n",
    "jk_block_sites_CI = jk_get_CI(data=jk_block_pse, confidence=0.95)\n",
    "print('Jackknife CI', jk_sites_CI, '\\n')\n",
    "print('Block Jackknife CI', jk_block_sites_CI, '\\n')"
   ]
  },
  {
   "cell_type": "code",
   "execution_count": 33,
   "metadata": {},
   "outputs": [
    {
     "ename": "NameError",
     "evalue": "name 'jk_block_pse_val' is not defined",
     "output_type": "error",
     "traceback": [
      "\u001b[0;31m---------------------------------------------------------------------------\u001b[0m",
      "\u001b[0;31mNameError\u001b[0m                                 Traceback (most recent call last)",
      "\u001b[0;32m<ipython-input-33-95bfa28c78ff>\u001b[0m in \u001b[0;36m<module>\u001b[0;34m\u001b[0m\n\u001b[0;32m----> 1\u001b[0;31m jk_histplot(data=jk_block_pse_val, pop_value=pop_ts_diversity, obs_value=obs_ts_diversity, \n\u001b[0m\u001b[1;32m      2\u001b[0m          jk_CI=jk_sites_CI, jk_block_CI=jk_block_sites_CI)\n",
      "\u001b[0;31mNameError\u001b[0m: name 'jk_block_pse_val' is not defined"
     ]
    }
   ],
   "source": [
    "jk_histplot(data=jk_block_pse, pop_value=pop_ts_diversity, obs_value=obs_ts_diversity, \n",
    "         jk_CI=jk_sites_CI, jk_block_CI=jk_block_sites_CI)"
   ]
  },
  {
   "cell_type": "markdown",
   "metadata": {},
   "source": [
    "#### Why are there so much 0s?"
   ]
  },
  {
   "cell_type": "markdown",
   "metadata": {},
   "source": [
    "## 4. Jackknife over samples"
   ]
  },
  {
   "cell_type": "code",
   "execution_count": 34,
   "metadata": {},
   "outputs": [],
   "source": [
    "jk_sample_res = []\n",
    "for i in range(obs_ts.num_samples):\n",
    "    leave_one_out = get_diversity_general(\n",
    "        ts=obs_ts,\n",
    "        samples=np.delete(samples_index, i),\n",
    "        sites_index=sites_index\n",
    "    )\n",
    "    jk_sample_res.append(n_samples * obs_ts_diversity - (n_samples - 1) * leave_one_out)"
   ]
  },
  {
   "cell_type": "code",
   "execution_count": 35,
   "metadata": {},
   "outputs": [],
   "source": [
    "jk_block_sample_res = []\n",
    "n_fold = 20\n",
    "kf = KFold(n_splits=n_fold) # 10 sites in each block, total 200 samples\n",
    "\n",
    "for index,_ in kf.split(samples_index):\n",
    "    leave_one_out = get_diversity_general(\n",
    "        ts=obs_ts,\n",
    "        samples=samples_index[index],\n",
    "        sites_index=sites_index\n",
    "    )\n",
    "    \n",
    "    jk_block_sample_res.append(n_fold * obs_ts_diversity - (n_fold - 1) * leave_one_out)"
   ]
  },
  {
   "cell_type": "code",
   "execution_count": 36,
   "metadata": {},
   "outputs": [
    {
     "name": "stdout",
     "output_type": "stream",
     "text": [
      "Jackknife CI (0.15479720942487962, 0.15671616431249713) \n",
      "\n",
      "Block Jackknife CI (0.1547334541537527, 0.15669265889159414) \n",
      "\n"
     ]
    }
   ],
   "source": [
    "jk_sample_CI = jk_get_CI(data=jk_sample_res, confidence=0.95)\n",
    "jk_block_sample_CI = jk_get_CI(data=jk_block_sample_res, confidence=0.95)\n",
    "print('Jackknife CI', jk_sample_CI, '\\n')\n",
    "print('Block Jackknife CI', jk_block_sample_CI, '\\n')"
   ]
  },
  {
   "cell_type": "code",
   "execution_count": 37,
   "metadata": {},
   "outputs": [
    {
     "data": {
      "image/png": "[encoded data removed]",
      "text/plain": [
       "<Figure size 900x600 with 1 Axes>"
      ]
     },
     "metadata": {
      "needs_background": "light"
     },
     "output_type": "display_data"
    }
   ],
   "source": [
    "jk_histplot(data=jk_sample_res, pop_value=pop_ts_diversity, obs_value=obs_ts_diversity, \n",
    "         jk_CI=jk_sample_CI, jk_block_CI=jk_block_sample_CI)"
   ]
  },
  {
   "cell_type": "markdown",
   "metadata": {},
   "source": [
    "## Now, with the much fast bootstrapping methods, we will try to find the coverage rate for the current observed population. A.K.A: how likely will the confidence interval include the population site diversity?"
   ]
  },
  {
   "cell_type": "code",
   "execution_count": 75,
   "metadata": {},
   "outputs": [
    {
     "data": {
      "text/plain": [
       "0.14900405826281182"
      ]
     },
     "execution_count": 75,
     "metadata": {},
     "output_type": "execute_result"
    }
   ],
   "source": [
    "pop_ts_diversity"
   ]
  },
  {
   "cell_type": "code",
   "execution_count": 170,
   "metadata": {},
   "outputs": [
    {
     "name": "stdout",
     "output_type": "stream",
     "text": [
      "Process begins\n",
      "Process ends\n",
      "CPU times: user 1.31 s, sys: 74.9 ms, total: 1.38 s\n",
      "Wall time: 1min 2s\n"
     ]
    }
   ],
   "source": [
    "%%time\n",
    "if __name__ ==  '__main__': \n",
    "    res = []\n",
    "    n_boot = 1000\n",
    "    \n",
    "    coverage_rate = {'normal': np.zeros((500, ), dtype=int), 'quantile': np.zeros((500, ), dtype=int)\n",
    "                , 'bias': np.zeros((500, ), dtype=int)}\n",
    "    lower = {'normal': [], 'quantile': [], 'bias': []}\n",
    "    upper = {'normal': [], 'quantile': [], 'bias': []}\n",
    "\n",
    "    diveristy = site_diversity(obs_ts)\n",
    "    inputs = [(diveristy, n_boot) for _ in range(500)]\n",
    "    pool = Pool(4)\n",
    "    \n",
    "    print('Process begins')\n",
    "    \n",
    "    for i, bt_vals in enumerate(pool.map(bt_resample_sites, inputs)):\n",
    "        res.append(bt_vals)\n",
    "        normal_lower, normal_upper = \\\n",
    "                get_CI_normal(data=bt_vals, confidence=0.95, obs_value=obs_ts_diversity)\n",
    "    \n",
    "        quantile_lower, quantile_upper = get_CI_quantile(data=bt_vals, confidence=0.95)\n",
    "    \n",
    "        bias_lower, bias_upper = \\\n",
    "                get_CI_biased_corrected_norm(data=bt_vals, confidence=0.95, obs_value=obs_ts_diversity)\n",
    "        \n",
    "        lower['normal'].append(normal_lower)\n",
    "        upper['normal'].append(normal_upper)\n",
    "\n",
    "        lower['quantile'].append(quantile_lower)\n",
    "        upper['quantile'].append(quantile_upper)\n",
    "\n",
    "        lower['bias'].append(bias_lower)\n",
    "        upper['bias'].append(bias_upper)\n",
    "\n",
    "    \n",
    "        if normal_lower < pop_ts_diversity < normal_upper:\n",
    "            coverage_rate['normal'][i] = 1\n",
    "\n",
    "        if quantile_lower < pop_ts_diversity < quantile_upper:\n",
    "            coverage_rate['quantile'][i] = 1\n",
    "\n",
    "        if bias_lower < pop_ts_diversity < bias_upper:\n",
    "            coverage_rate['bias'][i] = 1\n",
    "        \n",
    "    print('Process ends')\n"
   ]
  },
  {
   "cell_type": "code",
   "execution_count": 171,
   "metadata": {},
   "outputs": [
    {
     "name": "stdout",
     "output_type": "stream",
     "text": [
      "1000\n"
     ]
    },
    {
     "data": {
      "text/plain": [
       "<AxesSubplot:ylabel='Count'>"
      ]
     },
     "execution_count": 171,
     "metadata": {},
     "output_type": "execute_result"
    },
    {
     "data": {
      "image/png": "[encoded data removed]",
      "text/plain": [
       "<Figure size 432x288 with 1 Axes>"
      ]
     },
     "metadata": {
      "needs_background": "light"
     },
     "output_type": "display_data"
    }
   ],
   "source": [
    "print(len(res[0]))\n",
    "sns.histplot(res[0])"
   ]
  },
  {
   "cell_type": "code",
   "execution_count": 172,
   "metadata": {},
   "outputs": [
    {
     "data": {
      "text/html": [
       "<div>\n",
       "<style scoped>\n",
       "    .dataframe tbody tr th:only-of-type {\n",
       "        vertical-align: middle;\n",
       "    }\n",
       "\n",
       "    .dataframe tbody tr th {\n",
       "        vertical-align: top;\n",
       "    }\n",
       "\n",
       "    .dataframe thead th {\n",
       "        text-align: right;\n",
       "    }\n",
       "</style>\n",
       "<table border=\"1\" class=\"dataframe\">\n",
       "  <thead>\n",
       "    <tr style=\"text-align: right;\">\n",
       "      <th></th>\n",
       "      <th>normal</th>\n",
       "      <th>quantile</th>\n",
       "      <th>bias</th>\n",
       "    </tr>\n",
       "  </thead>\n",
       "  <tbody>\n",
       "    <tr>\n",
       "      <th>0</th>\n",
       "      <td>1</td>\n",
       "      <td>1</td>\n",
       "      <td>1</td>\n",
       "    </tr>\n",
       "    <tr>\n",
       "      <th>1</th>\n",
       "      <td>1</td>\n",
       "      <td>1</td>\n",
       "      <td>1</td>\n",
       "    </tr>\n",
       "    <tr>\n",
       "      <th>2</th>\n",
       "      <td>1</td>\n",
       "      <td>1</td>\n",
       "      <td>1</td>\n",
       "    </tr>\n",
       "    <tr>\n",
       "      <th>3</th>\n",
       "      <td>1</td>\n",
       "      <td>1</td>\n",
       "      <td>1</td>\n",
       "    </tr>\n",
       "    <tr>\n",
       "      <th>4</th>\n",
       "      <td>1</td>\n",
       "      <td>1</td>\n",
       "      <td>1</td>\n",
       "    </tr>\n",
       "    <tr>\n",
       "      <th>...</th>\n",
       "      <td>...</td>\n",
       "      <td>...</td>\n",
       "      <td>...</td>\n",
       "    </tr>\n",
       "    <tr>\n",
       "      <th>495</th>\n",
       "      <td>1</td>\n",
       "      <td>1</td>\n",
       "      <td>1</td>\n",
       "    </tr>\n",
       "    <tr>\n",
       "      <th>496</th>\n",
       "      <td>1</td>\n",
       "      <td>1</td>\n",
       "      <td>1</td>\n",
       "    </tr>\n",
       "    <tr>\n",
       "      <th>497</th>\n",
       "      <td>1</td>\n",
       "      <td>1</td>\n",
       "      <td>1</td>\n",
       "    </tr>\n",
       "    <tr>\n",
       "      <th>498</th>\n",
       "      <td>1</td>\n",
       "      <td>1</td>\n",
       "      <td>1</td>\n",
       "    </tr>\n",
       "    <tr>\n",
       "      <th>499</th>\n",
       "      <td>1</td>\n",
       "      <td>1</td>\n",
       "      <td>1</td>\n",
       "    </tr>\n",
       "  </tbody>\n",
       "</table>\n",
       "<p>500 rows × 3 columns</p>\n",
       "</div>"
      ],
      "text/plain": [
       "     normal  quantile  bias\n",
       "0         1         1     1\n",
       "1         1         1     1\n",
       "2         1         1     1\n",
       "3         1         1     1\n",
       "4         1         1     1\n",
       "..      ...       ...   ...\n",
       "495       1         1     1\n",
       "496       1         1     1\n",
       "497       1         1     1\n",
       "498       1         1     1\n",
       "499       1         1     1\n",
       "\n",
       "[500 rows x 3 columns]"
      ]
     },
     "execution_count": 172,
     "metadata": {},
     "output_type": "execute_result"
    }
   ],
   "source": [
    "df = pd.DataFrame.from_dict(coverage_rate)\n",
    "df"
   ]
  },
  {
   "cell_type": "code",
   "execution_count": 173,
   "metadata": {},
   "outputs": [
    {
     "data": {
      "text/plain": [
       "normal      1.0\n",
       "quantile    1.0\n",
       "bias        1.0\n",
       "Name: mean, dtype: float64"
      ]
     },
     "execution_count": 173,
     "metadata": {},
     "output_type": "execute_result"
    }
   ],
   "source": [
    "df.describe().iloc[1]"
   ]
  },
  {
   "cell_type": "code",
   "execution_count": 174,
   "metadata": {},
   "outputs": [
    {
     "data": {
      "text/plain": [
       "<matplotlib.legend.Legend at 0x7fc911c17be0>"
      ]
     },
     "execution_count": 174,
     "metadata": {},
     "output_type": "execute_result"
    },
    {
     "data": {
      "image/png": "[encoded data removed]",
      "text/plain": [
       "<Figure size 1440x720 with 1 Axes>"
      ]
     },
     "metadata": {
      "needs_background": "light"
     },
     "output_type": "display_data"
    }
   ],
   "source": [
    "fig, ax = plt.subplots(figsize=(20, 10))\n",
    "ax.hist(df, histtype='bar')\n",
    "ax.set_title('different CI methods')\n",
    "ax.legend(list(df.columns))"
   ]
  },
  {
   "cell_type": "code",
   "execution_count": 175,
   "metadata": {},
   "outputs": [
    {
     "data": {
      "text/plain": [
       "<matplotlib.lines.Line2D at 0x7fc91199a520>"
      ]
     },
     "execution_count": 175,
     "metadata": {},
     "output_type": "execute_result"
    },
    {
     "data": {
      "image/png": "[encoded data removed]",
      "text/plain": [
       "<Figure size 1440x720 with 1 Axes>"
      ]
     },
     "metadata": {
      "needs_background": "light"
     },
     "output_type": "display_data"
    }
   ],
   "source": [
    "fig, ax = plt.subplots(figsize=(20, 10))\n",
    "for i, (y1, y2) in enumerate(zip(lower['normal'], upper['normal'])):\n",
    "    if i % 10 == 0:\n",
    "        ax.plot((i, i), (y1, y2), 'o-', color='b')\n",
    "\n",
    "ax.axhline(pop_ts_diversity, xmin = 0, xmax = 500, color = 'r')"
   ]
  },
  {
   "cell_type": "markdown",
   "metadata": {},
   "source": [
    "# Next Step (Aug. 15): Try to increase the sample size and the sites size of the observed population."
   ]
  },
  {
   "cell_type": "code",
   "execution_count": 176,
   "metadata": {},
   "outputs": [],
   "source": [
    "samples_size = np.linspace(10, 50, 11, dtype=int)\n",
    "sites_size = np.linspace(1000, 5000, 11, dtype=int)"
   ]
  },
  {
   "cell_type": "code",
   "execution_count": 177,
   "metadata": {},
   "outputs": [
    {
     "data": {
      "text/plain": [
       "array([10, 14, 18, 22, 26, 30, 34, 38, 42, 46, 50])"
      ]
     },
     "execution_count": 177,
     "metadata": {},
     "output_type": "execute_result"
    }
   ],
   "source": [
    "samples_size "
   ]
  },
  {
   "cell_type": "code",
   "execution_count": 178,
   "metadata": {},
   "outputs": [
    {
     "data": {
      "text/plain": [
       "array([1000, 1400, 1800, 2200, 2600, 3000, 3400, 3800, 4200, 4600, 5000])"
      ]
     },
     "execution_count": 178,
     "metadata": {},
     "output_type": "execute_result"
    }
   ],
   "source": [
    "sites_size"
   ]
  },
  {
   "cell_type": "code",
   "execution_count": 187,
   "metadata": {
    "scrolled": true
   },
   "outputs": [
    {
     "name": "stdout",
     "output_type": "stream",
     "text": [
      "The shape of observed population (inds, sites) is: (10, 1000) \n",
      "\n",
      "The population site diveristy is: 0.14983892226715867\n",
      "The observed site diveristy is: 0.1585 \n",
      "\n",
      "Coverage Rate\n",
      "    Normal: 0.998\n",
      "    Quantile: 0.926\n",
      "    Biased_corrected_normal: 0.99 \n",
      "\n",
      "The shape of observed population (inds, sites) is: (10, 1400) \n",
      "\n",
      "The population site diveristy is: 0.14983892226715867\n",
      "The observed site diveristy is: 0.15612781954887217 \n",
      "\n",
      "Coverage Rate\n",
      "    Normal: 1.0\n",
      "    Quantile: 1.0\n",
      "    Biased_corrected_normal: 1.0 \n",
      "\n",
      "The shape of observed population (inds, sites) is: (10, 1800) \n",
      "\n",
      "The population site diveristy is: 0.14983892226715867\n",
      "The observed site diveristy is: 0.14884795321637428 \n",
      "\n",
      "Coverage Rate\n",
      "    Normal: 1.0\n",
      "    Quantile: 1.0\n",
      "    Biased_corrected_normal: 1.0 \n",
      "\n",
      "The shape of observed population (inds, sites) is: (10, 2200) \n",
      "\n",
      "The population site diveristy is: 0.14983892226715867\n",
      "The observed site diveristy is: 0.1571626794258373 \n",
      "\n",
      "Coverage Rate\n",
      "    Normal: 0.772\n",
      "    Quantile: 0.54\n",
      "    Biased_corrected_normal: 0.706 \n",
      "\n",
      "The shape of observed population (inds, sites) is: (10, 2600) \n",
      "\n",
      "The population site diveristy is: 0.14983892226715867\n",
      "The observed site diveristy is: 0.15301619433198382 \n",
      "\n",
      "Coverage Rate\n",
      "    Normal: 1.0\n",
      "    Quantile: 1.0\n",
      "    Biased_corrected_normal: 1.0 \n",
      "\n",
      "The shape of observed population (inds, sites) is: (10, 3000) \n",
      "\n",
      "The population site diveristy is: 0.14983892226715867\n",
      "The observed site diveristy is: 0.15624035087719298 \n",
      "\n",
      "Coverage Rate\n",
      "    Normal: 0.578\n",
      "    Quantile: 0.392\n",
      "    Biased_corrected_normal: 0.578 \n",
      "\n",
      "The shape of observed population (inds, sites) is: (10, 3400) \n",
      "\n",
      "The population site diveristy is: 0.14983892226715867\n",
      "The observed site diveristy is: 0.15059597523219814 \n",
      "\n",
      "Coverage Rate\n",
      "    Normal: 1.0\n",
      "    Quantile: 1.0\n",
      "    Biased_corrected_normal: 1.0 \n",
      "\n",
      "The shape of observed population (inds, sites) is: (10, 3800) \n",
      "\n",
      "The population site diveristy is: 0.14983892226715867\n",
      "The observed site diveristy is: 0.15100692520775624 \n",
      "\n",
      "Coverage Rate\n",
      "    Normal: 1.0\n",
      "    Quantile: 1.0\n",
      "    Biased_corrected_normal: 1.0 \n",
      "\n",
      "The shape of observed population (inds, sites) is: (10, 4200) \n",
      "\n",
      "The population site diveristy is: 0.14983892226715867\n",
      "The observed site diveristy is: 0.15133082706766918 \n",
      "\n",
      "Coverage Rate\n",
      "    Normal: 1.0\n",
      "    Quantile: 1.0\n",
      "    Biased_corrected_normal: 1.0 \n",
      "\n",
      "The shape of observed population (inds, sites) is: (10, 4600) \n",
      "\n",
      "The population site diveristy is: 0.14983892226715867\n",
      "The observed site diveristy is: 0.15487299771167048 \n",
      "\n",
      "Coverage Rate\n",
      "    Normal: 0.766\n",
      "    Quantile: 0.54\n",
      "    Biased_corrected_normal: 0.698 \n",
      "\n",
      "The shape of observed population (inds, sites) is: (10, 5000) \n",
      "\n",
      "The population site diveristy is: 0.14983892226715867\n",
      "The observed site diveristy is: 0.14761894736842104 \n",
      "\n",
      "Coverage Rate\n",
      "    Normal: 1.0\n",
      "    Quantile: 1.0\n",
      "    Biased_corrected_normal: 1.0 \n",
      "\n",
      "The shape of observed population (inds, sites) is: (14, 1000) \n",
      "\n",
      "The population site diveristy is: 0.14983892226715867\n",
      "The observed site diveristy is: 0.14981481481481485 \n",
      "\n",
      "Coverage Rate\n",
      "    Normal: 1.0\n",
      "    Quantile: 1.0\n",
      "    Biased_corrected_normal: 1.0 \n",
      "\n",
      "The shape of observed population (inds, sites) is: (14, 1400) \n",
      "\n",
      "The population site diveristy is: 0.14983892226715867\n",
      "The observed site diveristy is: 0.15605820105820103 \n",
      "\n",
      "Coverage Rate\n",
      "    Normal: 1.0\n",
      "    Quantile: 0.996\n",
      "    Biased_corrected_normal: 1.0 \n",
      "\n",
      "The shape of observed population (inds, sites) is: (14, 1800) \n",
      "\n",
      "The population site diveristy is: 0.14983892226715867\n",
      "The observed site diveristy is: 0.1479453262786596 \n",
      "\n",
      "Coverage Rate\n",
      "    Normal: 1.0\n",
      "    Quantile: 1.0\n",
      "    Biased_corrected_normal: 1.0 \n",
      "\n",
      "The shape of observed population (inds, sites) is: (14, 2200) \n",
      "\n",
      "The population site diveristy is: 0.14983892226715867\n",
      "The observed site diveristy is: 0.15399350649350646 \n",
      "\n",
      "Coverage Rate\n",
      "    Normal: 1.0\n",
      "    Quantile: 1.0\n",
      "    Biased_corrected_normal: 1.0 \n",
      "\n",
      "The shape of observed population (inds, sites) is: (14, 2600) \n",
      "\n",
      "The population site diveristy is: 0.14983892226715867\n",
      "The observed site diveristy is: 0.14490231990231991 \n",
      "\n",
      "Coverage Rate\n",
      "    Normal: 1.0\n",
      "    Quantile: 0.968\n",
      "    Biased_corrected_normal: 1.0 \n",
      "\n",
      "The shape of observed population (inds, sites) is: (14, 3000) \n",
      "\n",
      "The population site diveristy is: 0.14983892226715867\n",
      "The observed site diveristy is: 0.154331569664903 \n",
      "\n",
      "Coverage Rate\n",
      "    Normal: 1.0\n",
      "    Quantile: 0.998\n",
      "    Biased_corrected_normal: 1.0 \n",
      "\n",
      "The shape of observed population (inds, sites) is: (14, 3400) \n",
      "\n",
      "The population site diveristy is: 0.14983892226715867\n",
      "The observed site diveristy is: 0.15158418923124808 \n",
      "\n",
      "Coverage Rate\n",
      "    Normal: 1.0\n",
      "    Quantile: 1.0\n",
      "    Biased_corrected_normal: 1.0 \n",
      "\n",
      "The shape of observed population (inds, sites) is: (14, 3800) \n",
      "\n",
      "The population site diveristy is: 0.14983892226715867\n",
      "The observed site diveristy is: 0.1484851016429964 \n",
      "\n",
      "Coverage Rate\n",
      "    Normal: 1.0\n",
      "    Quantile: 1.0\n",
      "    Biased_corrected_normal: 1.0 \n",
      "\n",
      "The shape of observed population (inds, sites) is: (14, 4200) \n",
      "\n",
      "The population site diveristy is: 0.14983892226715867\n",
      "The observed site diveristy is: 0.1513718820861678 \n",
      "\n",
      "Coverage Rate\n",
      "    Normal: 1.0\n",
      "    Quantile: 1.0\n",
      "    Biased_corrected_normal: 1.0 \n",
      "\n",
      "The shape of observed population (inds, sites) is: (14, 4600) \n",
      "\n",
      "The population site diveristy is: 0.14983892226715867\n",
      "The observed site diveristy is: 0.15211812744421438 \n",
      "\n",
      "Coverage Rate\n",
      "    Normal: 1.0\n",
      "    Quantile: 1.0\n",
      "    Biased_corrected_normal: 1.0 \n",
      "\n",
      "The shape of observed population (inds, sites) is: (14, 5000) \n",
      "\n",
      "The population site diveristy is: 0.14983892226715867\n",
      "The observed site diveristy is: 0.14882222222222222 \n",
      "\n",
      "Coverage Rate\n",
      "    Normal: 1.0\n",
      "    Quantile: 1.0\n",
      "    Biased_corrected_normal: 1.0 \n",
      "\n",
      "The shape of observed population (inds, sites) is: (18, 1000) \n",
      "\n",
      "The population site diveristy is: 0.14983892226715867\n",
      "The observed site diveristy is: 0.13463968253968256 \n",
      "\n",
      "Coverage Rate\n",
      "    Normal: 0.0\n",
      "    Quantile: 0.0\n",
      "    Biased_corrected_normal: 0.0 \n",
      "\n",
      "The shape of observed population (inds, sites) is: (18, 1400) \n",
      "\n",
      "The population site diveristy is: 0.14983892226715867\n",
      "The observed site diveristy is: 0.1500532879818594 \n",
      "\n",
      "Coverage Rate\n",
      "    Normal: 1.0\n",
      "    Quantile: 1.0\n",
      "    Biased_corrected_normal: 1.0 \n",
      "\n",
      "The shape of observed population (inds, sites) is: (18, 1800) \n",
      "\n",
      "The population site diveristy is: 0.14983892226715867\n",
      "The observed site diveristy is: 0.15374779541446204 \n",
      "\n",
      "Coverage Rate\n",
      "    Normal: 1.0\n",
      "    Quantile: 1.0\n",
      "    Biased_corrected_normal: 1.0 \n",
      "\n",
      "The shape of observed population (inds, sites) is: (18, 2200) \n",
      "\n",
      "The population site diveristy is: 0.14983892226715867\n",
      "The observed site diveristy is: 0.1483831168831169 \n",
      "\n",
      "Coverage Rate\n",
      "    Normal: 1.0\n",
      "    Quantile: 1.0\n",
      "    Biased_corrected_normal: 1.0 \n",
      "\n",
      "The shape of observed population (inds, sites) is: (18, 2600) \n",
      "\n",
      "The population site diveristy is: 0.14983892226715867\n",
      "The observed site diveristy is: 0.1482979242979243 \n",
      "\n",
      "Coverage Rate\n",
      "    Normal: 1.0\n",
      "    Quantile: 1.0\n",
      "    Biased_corrected_normal: 1.0 \n",
      "\n",
      "The shape of observed population (inds, sites) is: (18, 3000) \n",
      "\n",
      "The population site diveristy is: 0.14983892226715867\n",
      "The observed site diveristy is: 0.15202328042328042 \n",
      "\n",
      "Coverage Rate\n",
      "    Normal: 1.0\n",
      "    Quantile: 1.0\n",
      "    Biased_corrected_normal: 1.0 \n",
      "\n",
      "The shape of observed population (inds, sites) is: (18, 3400) \n",
      "\n",
      "The population site diveristy is: 0.14983892226715867\n",
      "The observed site diveristy is: 0.14764145658263303 \n",
      "\n",
      "Coverage Rate\n",
      "    Normal: 1.0\n",
      "    Quantile: 1.0\n",
      "    Biased_corrected_normal: 1.0 \n",
      "\n",
      "The shape of observed population (inds, sites) is: (18, 3800) \n",
      "\n",
      "The population site diveristy is: 0.14983892226715867\n",
      "The observed site diveristy is: 0.1526487050960735 \n",
      "\n",
      "Coverage Rate\n",
      "    Normal: 1.0\n",
      "    Quantile: 1.0\n",
      "    Biased_corrected_normal: 1.0 \n",
      "\n",
      "The shape of observed population (inds, sites) is: (18, 4200) \n",
      "\n",
      "The population site diveristy is: 0.14983892226715867\n",
      "The observed site diveristy is: 0.14780347694633408 \n",
      "\n",
      "Coverage Rate\n",
      "    Normal: 1.0\n",
      "    Quantile: 1.0\n",
      "    Biased_corrected_normal: 1.0 \n",
      "\n",
      "The shape of observed population (inds, sites) is: (18, 4600) \n",
      "\n",
      "The population site diveristy is: 0.14983892226715867\n",
      "The observed site diveristy is: 0.14815976535541753 \n",
      "\n",
      "Coverage Rate\n",
      "    Normal: 1.0\n",
      "    Quantile: 1.0\n",
      "    Biased_corrected_normal: 1.0 \n",
      "\n",
      "The shape of observed population (inds, sites) is: (18, 5000) \n",
      "\n",
      "The population site diveristy is: 0.14983892226715867\n",
      "The observed site diveristy is: 0.14904349206349207 \n",
      "\n",
      "Coverage Rate\n",
      "    Normal: 1.0\n",
      "    Quantile: 1.0\n",
      "    Biased_corrected_normal: 1.0 \n",
      "\n",
      "The shape of observed population (inds, sites) is: (22, 1000) \n",
      "\n",
      "The population site diveristy is: 0.14983892226715867\n",
      "The observed site diveristy is: 0.1526860465116279 \n",
      "\n",
      "Coverage Rate\n",
      "    Normal: 1.0\n",
      "    Quantile: 1.0\n",
      "    Biased_corrected_normal: 1.0 \n",
      "\n",
      "The shape of observed population (inds, sites) is: (22, 1400) \n",
      "\n",
      "The population site diveristy is: 0.14983892226715867\n",
      "The observed site diveristy is: 0.14482558139534885 \n",
      "\n",
      "Coverage Rate\n",
      "    Normal: 1.0\n",
      "    Quantile: 1.0\n",
      "    Biased_corrected_normal: 1.0 \n",
      "\n",
      "The shape of observed population (inds, sites) is: (22, 1800) \n",
      "\n",
      "The population site diveristy is: 0.14983892226715867\n",
      "The observed site diveristy is: 0.14664435048155977 \n",
      "\n",
      "Coverage Rate\n",
      "    Normal: 1.0\n",
      "    Quantile: 1.0\n",
      "    Biased_corrected_normal: 1.0 \n",
      "\n",
      "The shape of observed population (inds, sites) is: (22, 2200) \n",
      "\n",
      "The population site diveristy is: 0.14983892226715867\n",
      "The observed site diveristy is: 0.14979963482606187 \n",
      "\n",
      "Coverage Rate\n",
      "    Normal: 1.0\n",
      "    Quantile: 1.0\n",
      "    Biased_corrected_normal: 1.0 \n",
      "\n",
      "The shape of observed population (inds, sites) is: (22, 2600) \n",
      "\n",
      "The population site diveristy is: 0.14983892226715867\n",
      "The observed site diveristy is: 0.1430911530330135 \n",
      "\n",
      "Coverage Rate\n",
      "    Normal: 0.4\n",
      "    Quantile: 0.336\n",
      "    Biased_corrected_normal: 0.42 \n",
      "\n",
      "The shape of observed population (inds, sites) is: (22, 3000) \n",
      "\n",
      "The population site diveristy is: 0.14983892226715867\n",
      "The observed site diveristy is: 0.14811980267794222 \n",
      "\n",
      "Coverage Rate\n",
      "    Normal: 1.0\n",
      "    Quantile: 1.0\n",
      "    Biased_corrected_normal: 1.0 \n",
      "\n",
      "The shape of observed population (inds, sites) is: (22, 3400) \n",
      "\n",
      "The population site diveristy is: 0.14983892226715867\n",
      "The observed site diveristy is: 0.15388384529287405 \n",
      "\n",
      "Coverage Rate\n",
      "    Normal: 1.0\n",
      "    Quantile: 0.998\n",
      "    Biased_corrected_normal: 1.0 \n",
      "\n",
      "The shape of observed population (inds, sites) is: (22, 3800) \n",
      "\n",
      "The population site diveristy is: 0.14983892226715867\n",
      "The observed site diveristy is: 0.15303410481807053 \n",
      "\n",
      "Coverage Rate\n",
      "    Normal: 1.0\n",
      "    Quantile: 1.0\n",
      "    Biased_corrected_normal: 1.0 \n",
      "\n",
      "The shape of observed population (inds, sites) is: (22, 4200) \n",
      "\n",
      "The population site diveristy is: 0.14983892226715867\n",
      "The observed site diveristy is: 0.1516482935668982 \n",
      "\n",
      "Coverage Rate\n",
      "    Normal: 1.0\n",
      "    Quantile: 1.0\n",
      "    Biased_corrected_normal: 1.0 \n",
      "\n",
      "The shape of observed population (inds, sites) is: (22, 4600) \n",
      "\n",
      "The population site diveristy is: 0.14983892226715867\n",
      "The observed site diveristy is: 0.1518928669914514 \n",
      "\n",
      "Coverage Rate\n",
      "    Normal: 1.0\n",
      "    Quantile: 1.0\n",
      "    Biased_corrected_normal: 1.0 \n",
      "\n",
      "The shape of observed population (inds, sites) is: (22, 5000) \n",
      "\n",
      "The population site diveristy is: 0.14983892226715867\n",
      "The observed site diveristy is: 0.1513365750528541 \n",
      "\n",
      "Coverage Rate\n",
      "    Normal: 1.0\n",
      "    Quantile: 1.0\n",
      "    Biased_corrected_normal: 1.0 \n",
      "\n",
      "The shape of observed population (inds, sites) is: (26, 1000) \n",
      "\n",
      "The population site diveristy is: 0.14983892226715867\n",
      "The observed site diveristy is: 0.1503974358974359 \n",
      "\n",
      "Coverage Rate\n",
      "    Normal: 1.0\n",
      "    Quantile: 1.0\n",
      "    Biased_corrected_normal: 1.0 \n",
      "\n",
      "The shape of observed population (inds, sites) is: (26, 1400) \n",
      "\n",
      "The population site diveristy is: 0.14983892226715867\n",
      "The observed site diveristy is: 0.1550043094160741 \n",
      "\n",
      "Coverage Rate\n",
      "    Normal: 1.0\n",
      "    Quantile: 1.0\n",
      "    Biased_corrected_normal: 1.0 \n",
      "\n",
      "The shape of observed population (inds, sites) is: (26, 1800) \n",
      "\n",
      "The population site diveristy is: 0.14983892226715867\n",
      "The observed site diveristy is: 0.14249329646388473 \n",
      "\n",
      "Coverage Rate\n",
      "    Normal: 0.7\n",
      "    Quantile: 0.468\n",
      "    Biased_corrected_normal: 0.636 \n",
      "\n",
      "The shape of observed population (inds, sites) is: (26, 2200) \n",
      "\n",
      "The population site diveristy is: 0.14983892226715867\n",
      "The observed site diveristy is: 0.1503979843685726 \n",
      "\n",
      "Coverage Rate\n",
      "    Normal: 1.0\n",
      "    Quantile: 1.0\n",
      "    Biased_corrected_normal: 1.0 \n",
      "\n",
      "The shape of observed population (inds, sites) is: (26, 2600) \n",
      "\n",
      "The population site diveristy is: 0.14983892226715867\n",
      "The observed site diveristy is: 0.14648045016823297 \n",
      "\n",
      "Coverage Rate\n",
      "    Normal: 1.0\n",
      "    Quantile: 1.0\n",
      "    Biased_corrected_normal: 1.0 \n",
      "\n",
      "The shape of observed population (inds, sites) is: (26, 3000) \n",
      "\n",
      "The population site diveristy is: 0.14983892226715867\n",
      "The observed site diveristy is: 0.1493267973856209 \n",
      "\n",
      "Coverage Rate\n",
      "    Normal: 1.0\n",
      "    Quantile: 1.0\n",
      "    Biased_corrected_normal: 1.0 \n",
      "\n",
      "The shape of observed population (inds, sites) is: (26, 3400) \n",
      "\n",
      "The population site diveristy is: 0.14983892226715867\n",
      "The observed site diveristy is: 0.1466801969656641 \n",
      "\n",
      "Coverage Rate\n",
      "    Normal: 1.0\n",
      "    Quantile: 1.0\n",
      "    Biased_corrected_normal: 1.0 \n",
      "\n",
      "The shape of observed population (inds, sites) is: (26, 3800) \n",
      "\n",
      "The population site diveristy is: 0.14983892226715867\n",
      "The observed site diveristy is: 0.14831884575692625 \n",
      "\n",
      "Coverage Rate\n",
      "    Normal: 1.0\n",
      "    Quantile: 1.0\n",
      "    Biased_corrected_normal: 1.0 \n",
      "\n",
      "The shape of observed population (inds, sites) is: (26, 4200) \n",
      "\n",
      "The population site diveristy is: 0.14983892226715867\n",
      "The observed site diveristy is: 0.15298893916540973 \n",
      "\n",
      "Coverage Rate\n",
      "    Normal: 1.0\n",
      "    Quantile: 1.0\n",
      "    Biased_corrected_normal: 1.0 \n",
      "\n",
      "The shape of observed population (inds, sites) is: (26, 4600) \n",
      "\n",
      "The population site diveristy is: 0.14983892226715867\n",
      "The observed site diveristy is: 0.15127385402321464 \n",
      "\n",
      "Coverage Rate\n",
      "    Normal: 1.0\n",
      "    Quantile: 1.0\n",
      "    Biased_corrected_normal: 1.0 \n",
      "\n",
      "The shape of observed population (inds, sites) is: (26, 5000) \n",
      "\n",
      "The population site diveristy is: 0.14983892226715867\n",
      "The observed site diveristy is: 0.14992971342383107 \n",
      "\n",
      "Coverage Rate\n",
      "    Normal: 1.0\n",
      "    Quantile: 1.0\n",
      "    Biased_corrected_normal: 1.0 \n",
      "\n",
      "The shape of observed population (inds, sites) is: (30, 1000) \n",
      "\n",
      "The population site diveristy is: 0.14983892226715867\n",
      "The observed site diveristy is: 0.14512542372881357 \n",
      "\n",
      "Coverage Rate\n",
      "    Normal: 1.0\n",
      "    Quantile: 1.0\n",
      "    Biased_corrected_normal: 1.0 \n",
      "\n",
      "The shape of observed population (inds, sites) is: (30, 1400) \n",
      "\n",
      "The population site diveristy is: 0.14983892226715867\n",
      "The observed site diveristy is: 0.15229176755447943 \n",
      "\n",
      "Coverage Rate\n",
      "    Normal: 1.0\n",
      "    Quantile: 1.0\n",
      "    Biased_corrected_normal: 1.0 \n",
      "\n",
      "The shape of observed population (inds, sites) is: (30, 1800) \n",
      "\n",
      "The population site diveristy is: 0.14983892226715867\n",
      "The observed site diveristy is: 0.1489365976145637 \n",
      "\n",
      "Coverage Rate\n",
      "    Normal: 1.0\n",
      "    Quantile: 1.0\n",
      "    Biased_corrected_normal: 1.0 \n",
      "\n",
      "The shape of observed population (inds, sites) is: (30, 2200) \n",
      "\n",
      "The population site diveristy is: 0.14983892226715867\n",
      "The observed site diveristy is: 0.15703004622496147 \n",
      "\n",
      "Coverage Rate\n",
      "    Normal: 0.486\n",
      "    Quantile: 0.36\n",
      "    Biased_corrected_normal: 0.498 \n",
      "\n",
      "The shape of observed population (inds, sites) is: (30, 2600) \n",
      "\n",
      "The population site diveristy is: 0.14983892226715867\n",
      "The observed site diveristy is: 0.15026727509778354 \n",
      "\n",
      "Coverage Rate\n",
      "    Normal: 1.0\n",
      "    Quantile: 1.0\n",
      "    Biased_corrected_normal: 1.0 \n",
      "\n",
      "The shape of observed population (inds, sites) is: (30, 3000) \n",
      "\n",
      "The population site diveristy is: 0.14983892226715867\n",
      "The observed site diveristy is: 0.15363145009416196 \n",
      "\n",
      "Coverage Rate\n",
      "    Normal: 1.0\n",
      "    Quantile: 1.0\n",
      "    Biased_corrected_normal: 1.0 \n",
      "\n",
      "The shape of observed population (inds, sites) is: (30, 3400) \n",
      "\n",
      "The population site diveristy is: 0.14983892226715867\n",
      "The observed site diveristy is: 0.1494807244931871 \n",
      "\n",
      "Coverage Rate\n",
      "    Normal: 1.0\n",
      "    Quantile: 1.0\n",
      "    Biased_corrected_normal: 1.0 \n",
      "\n",
      "The shape of observed population (inds, sites) is: (30, 3800) \n",
      "\n",
      "The population site diveristy is: 0.14983892226715867\n",
      "The observed site diveristy is: 0.14845703241153732 \n",
      "\n",
      "Coverage Rate\n",
      "    Normal: 1.0\n",
      "    Quantile: 1.0\n",
      "    Biased_corrected_normal: 1.0 \n",
      "\n",
      "The shape of observed population (inds, sites) is: (30, 4200) \n",
      "\n",
      "The population site diveristy is: 0.14983892226715867\n",
      "The observed site diveristy is: 0.1512111918213613 \n",
      "\n",
      "Coverage Rate\n",
      "    Normal: 1.0\n",
      "    Quantile: 1.0\n",
      "    Biased_corrected_normal: 1.0 \n",
      "\n",
      "The shape of observed population (inds, sites) is: (30, 4600) \n",
      "\n",
      "The population site diveristy is: 0.14983892226715867\n",
      "The observed site diveristy is: 0.1441075902726603 \n",
      "\n",
      "Coverage Rate\n",
      "    Normal: 0.004\n",
      "    Quantile: 0.038\n",
      "    Biased_corrected_normal: 0.01 \n",
      "\n",
      "The shape of observed population (inds, sites) is: (30, 5000) \n",
      "\n",
      "The population site diveristy is: 0.14983892226715867\n",
      "The observed site diveristy is: 0.1501479096045198 \n",
      "\n",
      "Coverage Rate\n",
      "    Normal: 1.0\n",
      "    Quantile: 1.0\n",
      "    Biased_corrected_normal: 1.0 \n",
      "\n",
      "The shape of observed population (inds, sites) is: (34, 1000) \n",
      "\n",
      "The population site diveristy is: 0.14983892226715867\n",
      "The observed site diveristy is: 0.1563647936786655 \n",
      "\n",
      "Coverage Rate\n",
      "    Normal: 1.0\n",
      "    Quantile: 1.0\n",
      "    Biased_corrected_normal: 1.0 \n",
      "\n",
      "The shape of observed population (inds, sites) is: (34, 1400) \n",
      "\n",
      "The population site diveristy is: 0.14983892226715867\n",
      "The observed site diveristy is: 0.15335225134830052 \n",
      "\n",
      "Coverage Rate\n",
      "    Normal: 1.0\n",
      "    Quantile: 1.0\n",
      "    Biased_corrected_normal: 1.0 \n",
      "\n",
      "The shape of observed population (inds, sites) is: (34, 1800) \n",
      "\n",
      "The population site diveristy is: 0.14983892226715867\n",
      "The observed site diveristy is: 0.15687859721002828 \n",
      "\n",
      "Coverage Rate\n",
      "    Normal: 0.98\n",
      "    Quantile: 0.74\n",
      "    Biased_corrected_normal: 0.924 \n",
      "\n",
      "The shape of observed population (inds, sites) is: (34, 2200) \n",
      "\n",
      "The population site diveristy is: 0.14983892226715867\n",
      "The observed site diveristy is: 0.14740162822252376 \n",
      "\n",
      "Coverage Rate\n",
      "    Normal: 1.0\n",
      "    Quantile: 1.0\n",
      "    Biased_corrected_normal: 1.0 \n",
      "\n",
      "The shape of observed population (inds, sites) is: (34, 2600) \n",
      "\n",
      "The population site diveristy is: 0.14983892226715867\n",
      "The observed site diveristy is: 0.1532731140676707 \n",
      "\n",
      "Coverage Rate\n",
      "    Normal: 1.0\n",
      "    Quantile: 1.0\n",
      "    Biased_corrected_normal: 1.0 \n",
      "\n",
      "The shape of observed population (inds, sites) is: (34, 3000) \n",
      "\n",
      "The population site diveristy is: 0.14983892226715867\n",
      "The observed site diveristy is: 0.15343781094527362 \n",
      "\n",
      "Coverage Rate\n",
      "    Normal: 1.0\n",
      "    Quantile: 0.998\n",
      "    Biased_corrected_normal: 1.0 \n",
      "\n",
      "The shape of observed population (inds, sites) is: (34, 3400) \n",
      "\n",
      "The population site diveristy is: 0.14983892226715867\n",
      "The observed site diveristy is: 0.15310230852657128 \n",
      "\n",
      "Coverage Rate\n",
      "    Normal: 1.0\n",
      "    Quantile: 1.0\n",
      "    Biased_corrected_normal: 1.0 \n",
      "\n",
      "The shape of observed population (inds, sites) is: (34, 3800) \n",
      "\n",
      "The population site diveristy is: 0.14983892226715867\n",
      "The observed site diveristy is: 0.1475593780324384 \n",
      "\n",
      "Coverage Rate\n",
      "    Normal: 1.0\n",
      "    Quantile: 1.0\n",
      "    Biased_corrected_normal: 1.0 \n",
      "\n",
      "The shape of observed population (inds, sites) is: (34, 4200) \n",
      "\n",
      "The population site diveristy is: 0.14983892226715867\n",
      "The observed site diveristy is: 0.15209760023412353 \n",
      "\n",
      "Coverage Rate\n",
      "    Normal: 1.0\n",
      "    Quantile: 1.0\n",
      "    Biased_corrected_normal: 1.0 \n",
      "\n",
      "The shape of observed population (inds, sites) is: (34, 4600) \n",
      "\n",
      "The population site diveristy is: 0.14983892226715867\n",
      "The observed site diveristy is: 0.149772779325877 \n",
      "\n",
      "Coverage Rate\n",
      "    Normal: 1.0\n",
      "    Quantile: 1.0\n",
      "    Biased_corrected_normal: 1.0 \n",
      "\n",
      "The shape of observed population (inds, sites) is: (34, 5000) \n",
      "\n",
      "The population site diveristy is: 0.14983892226715867\n",
      "The observed site diveristy is: 0.1466492537313433 \n",
      "\n",
      "Coverage Rate\n",
      "    Normal: 1.0\n",
      "    Quantile: 0.998\n",
      "    Biased_corrected_normal: 1.0 \n",
      "\n",
      "The shape of observed population (inds, sites) is: (38, 1000) \n",
      "\n",
      "The population site diveristy is: 0.14983892226715867\n",
      "The observed site diveristy is: 0.15131684210526317 \n",
      "\n",
      "Coverage Rate\n",
      "    Normal: 1.0\n",
      "    Quantile: 1.0\n",
      "    Biased_corrected_normal: 1.0 \n",
      "\n",
      "The shape of observed population (inds, sites) is: (38, 1400) \n",
      "\n",
      "The population site diveristy is: 0.14983892226715867\n",
      "The observed site diveristy is: 0.14597493734335837 \n",
      "\n",
      "Coverage Rate\n",
      "    Normal: 1.0\n",
      "    Quantile: 1.0\n",
      "    Biased_corrected_normal: 1.0 \n",
      "\n",
      "The shape of observed population (inds, sites) is: (38, 1800) \n",
      "\n",
      "The population site diveristy is: 0.14983892226715867\n",
      "The observed site diveristy is: 0.14286842105263156 \n",
      "\n",
      "Coverage Rate\n",
      "    Normal: 0.894\n",
      "    Quantile: 0.648\n",
      "    Biased_corrected_normal: 0.826 \n",
      "\n",
      "The shape of observed population (inds, sites) is: (38, 2200) \n",
      "\n",
      "The population site diveristy is: 0.14983892226715867\n",
      "The observed site diveristy is: 0.1529615629984051 \n",
      "\n",
      "Coverage Rate\n",
      "    Normal: 1.0\n",
      "    Quantile: 1.0\n",
      "    Biased_corrected_normal: 1.0 \n",
      "\n",
      "The shape of observed population (inds, sites) is: (38, 2600) \n",
      "\n",
      "The population site diveristy is: 0.14983892226715867\n",
      "The observed site diveristy is: 0.14327881241565454 \n",
      "\n",
      "Coverage Rate\n",
      "    Normal: 0.348\n",
      "    Quantile: 0.266\n",
      "    Biased_corrected_normal: 0.386 \n",
      "\n",
      "The shape of observed population (inds, sites) is: (38, 3000) \n",
      "\n",
      "The population site diveristy is: 0.14983892226715867\n",
      "The observed site diveristy is: 0.15267906432748535 \n",
      "\n",
      "Coverage Rate\n",
      "    Normal: 1.0\n",
      "    Quantile: 1.0\n",
      "    Biased_corrected_normal: 1.0 \n",
      "\n",
      "The shape of observed population (inds, sites) is: (38, 3400) \n",
      "\n",
      "The population site diveristy is: 0.14983892226715867\n",
      "The observed site diveristy is: 0.14952765737874096 \n",
      "\n",
      "Coverage Rate\n",
      "    Normal: 1.0\n",
      "    Quantile: 1.0\n",
      "    Biased_corrected_normal: 1.0 \n",
      "\n",
      "The shape of observed population (inds, sites) is: (38, 3800) \n",
      "\n",
      "The population site diveristy is: 0.14983892226715867\n",
      "The observed site diveristy is: 0.15637340720221607 \n",
      "\n",
      "Coverage Rate\n",
      "    Normal: 0.008\n",
      "    Quantile: 0.042\n",
      "    Biased_corrected_normal: 0.014 \n",
      "\n",
      "The shape of observed population (inds, sites) is: (38, 4200) \n",
      "\n",
      "The population site diveristy is: 0.14983892226715867\n",
      "The observed site diveristy is: 0.1492190476190476 \n",
      "\n",
      "Coverage Rate\n",
      "    Normal: 1.0\n",
      "    Quantile: 1.0\n",
      "    Biased_corrected_normal: 1.0 \n",
      "\n",
      "The shape of observed population (inds, sites) is: (38, 4600) \n",
      "\n",
      "The population site diveristy is: 0.14983892226715867\n",
      "The observed site diveristy is: 0.14957345537757438 \n",
      "\n",
      "Coverage Rate\n",
      "    Normal: 1.0\n",
      "    Quantile: 1.0\n",
      "    Biased_corrected_normal: 1.0 \n",
      "\n",
      "The shape of observed population (inds, sites) is: (38, 5000) \n",
      "\n",
      "The population site diveristy is: 0.14983892226715867\n",
      "The observed site diveristy is: 0.1493101754385965 \n",
      "\n",
      "Coverage Rate\n",
      "    Normal: 1.0\n",
      "    Quantile: 1.0\n",
      "    Biased_corrected_normal: 1.0 \n",
      "\n",
      "The shape of observed population (inds, sites) is: (42, 1000) \n",
      "\n",
      "The population site diveristy is: 0.14983892226715867\n",
      "The observed site diveristy is: 0.14094979919678713 \n",
      "\n",
      "Coverage Rate\n",
      "    Normal: 0.966\n",
      "    Quantile: 0.73\n",
      "    Biased_corrected_normal: 0.922 \n",
      "\n",
      "The shape of observed population (inds, sites) is: (42, 1400) \n",
      "\n",
      "The population site diveristy is: 0.14983892226715867\n",
      "The observed site diveristy is: 0.14991435128268174 \n",
      "\n",
      "Coverage Rate\n",
      "    Normal: 1.0\n",
      "    Quantile: 1.0\n",
      "    Biased_corrected_normal: 1.0 \n",
      "\n",
      "The shape of observed population (inds, sites) is: (42, 1800) \n",
      "\n",
      "The population site diveristy is: 0.14983892226715867\n",
      "The observed site diveristy is: 0.14389478549117102 \n",
      "\n",
      "Coverage Rate\n",
      "    Normal: 0.998\n",
      "    Quantile: 0.938\n",
      "    Biased_corrected_normal: 0.994 \n",
      "\n",
      "The shape of observed population (inds, sites) is: (42, 2200) \n",
      "\n",
      "The population site diveristy is: 0.14983892226715867\n",
      "The observed site diveristy is: 0.1503542742398164 \n",
      "\n",
      "Coverage Rate\n",
      "    Normal: 1.0\n",
      "    Quantile: 1.0\n",
      "    Biased_corrected_normal: 1.0 \n",
      "\n",
      "The shape of observed population (inds, sites) is: (42, 2600) \n",
      "\n",
      "The population site diveristy is: 0.14983892226715867\n",
      "The observed site diveristy is: 0.14818526854671432 \n",
      "\n",
      "Coverage Rate\n",
      "    Normal: 1.0\n",
      "    Quantile: 1.0\n",
      "    Biased_corrected_normal: 1.0 \n",
      "\n",
      "The shape of observed population (inds, sites) is: (42, 3000) \n",
      "\n",
      "The population site diveristy is: 0.14983892226715867\n",
      "The observed site diveristy is: 0.1483649837445018 \n",
      "\n",
      "Coverage Rate\n",
      "    Normal: 1.0\n",
      "    Quantile: 1.0\n",
      "    Biased_corrected_normal: 1.0 \n",
      "\n",
      "The shape of observed population (inds, sites) is: (42, 3400) \n",
      "\n",
      "The population site diveristy is: 0.14983892226715867\n",
      "The observed site diveristy is: 0.15095727447605548 \n",
      "\n",
      "Coverage Rate\n",
      "    Normal: 1.0\n",
      "    Quantile: 1.0\n",
      "    Biased_corrected_normal: 1.0 \n",
      "\n",
      "The shape of observed population (inds, sites) is: (42, 3800) \n",
      "\n",
      "The population site diveristy is: 0.14983892226715867\n",
      "The observed site diveristy is: 0.1527691970891083 \n",
      "\n",
      "Coverage Rate\n",
      "    Normal: 1.0\n",
      "    Quantile: 1.0\n",
      "    Biased_corrected_normal: 1.0 \n",
      "\n",
      "The shape of observed population (inds, sites) is: (42, 4200) \n",
      "\n",
      "The population site diveristy is: 0.14983892226715867\n",
      "The observed site diveristy is: 0.15038118460235497 \n",
      "\n",
      "Coverage Rate\n",
      "    Normal: 1.0\n",
      "    Quantile: 1.0\n",
      "    Biased_corrected_normal: 1.0 \n",
      "\n",
      "The shape of observed population (inds, sites) is: (42, 4600) \n",
      "\n",
      "The population site diveristy is: 0.14983892226715867\n",
      "The observed site diveristy is: 0.15021327546209684 \n",
      "\n",
      "Coverage Rate\n",
      "    Normal: 1.0\n",
      "    Quantile: 1.0\n",
      "    Biased_corrected_normal: 1.0 \n",
      "\n",
      "The shape of observed population (inds, sites) is: (42, 5000) \n",
      "\n",
      "The population site diveristy is: 0.14983892226715867\n",
      "The observed site diveristy is: 0.1519439472174412 \n",
      "\n",
      "Coverage Rate\n",
      "    Normal: 1.0\n",
      "    Quantile: 1.0\n",
      "    Biased_corrected_normal: 1.0 \n",
      "\n",
      "The shape of observed population (inds, sites) is: (46, 1000) \n",
      "\n",
      "The population site diveristy is: 0.14983892226715867\n",
      "The observed site diveristy is: 0.143140707118968 \n",
      "\n",
      "Coverage Rate\n",
      "    Normal: 1.0\n",
      "    Quantile: 0.996\n",
      "    Biased_corrected_normal: 1.0 \n",
      "\n",
      "The shape of observed population (inds, sites) is: (46, 1400) \n",
      "\n",
      "The population site diveristy is: 0.14983892226715867\n",
      "The observed site diveristy is: 0.14641952767729166 \n",
      "\n",
      "Coverage Rate\n",
      "    Normal: 1.0\n",
      "    Quantile: 1.0\n",
      "    Biased_corrected_normal: 1.0 \n",
      "\n",
      "The shape of observed population (inds, sites) is: (46, 1800) \n",
      "\n",
      "The population site diveristy is: 0.14983892226715867\n",
      "The observed site diveristy is: 0.15169440462918724 \n",
      "\n",
      "Coverage Rate\n",
      "    Normal: 1.0\n",
      "    Quantile: 1.0\n",
      "    Biased_corrected_normal: 1.0 \n",
      "\n",
      "The shape of observed population (inds, sites) is: (46, 2200) \n",
      "\n",
      "The population site diveristy is: 0.14983892226715867\n",
      "The observed site diveristy is: 0.15117447769621684 \n",
      "\n",
      "Coverage Rate\n",
      "    Normal: 1.0\n",
      "    Quantile: 1.0\n",
      "    Biased_corrected_normal: 1.0 \n",
      "\n",
      "The shape of observed population (inds, sites) is: (46, 2600) \n",
      "\n",
      "The population site diveristy is: 0.14983892226715867\n",
      "The observed site diveristy is: 0.15062938733507297 \n",
      "\n",
      "Coverage Rate\n",
      "    Normal: 1.0\n",
      "    Quantile: 1.0\n",
      "    Biased_corrected_normal: 1.0 \n",
      "\n",
      "The shape of observed population (inds, sites) is: (46, 3000) \n",
      "\n",
      "The population site diveristy is: 0.14983892226715867\n",
      "The observed site diveristy is: 0.14516180920528748 \n",
      "\n",
      "Coverage Rate\n",
      "    Normal: 1.0\n",
      "    Quantile: 0.95\n",
      "    Biased_corrected_normal: 0.998 \n",
      "\n",
      "The shape of observed population (inds, sites) is: (46, 3400) \n",
      "\n",
      "The population site diveristy is: 0.14983892226715867\n",
      "The observed site diveristy is: 0.1501539445209522 \n",
      "\n",
      "Coverage Rate\n",
      "    Normal: 1.0\n",
      "    Quantile: 1.0\n",
      "    Biased_corrected_normal: 1.0 \n",
      "\n",
      "The shape of observed population (inds, sites) is: (46, 3800) \n",
      "\n",
      "The population site diveristy is: 0.14983892226715867\n",
      "The observed site diveristy is: 0.14394516810420702 \n",
      "\n",
      "Coverage Rate\n",
      "    Normal: 0.062\n",
      "    Quantile: 0.086\n",
      "    Biased_corrected_normal: 0.09 \n",
      "\n",
      "The shape of observed population (inds, sites) is: (46, 4200) \n",
      "\n",
      "The population site diveristy is: 0.14983892226715867\n",
      "The observed site diveristy is: 0.14591722976816146 \n",
      "\n",
      "Coverage Rate\n",
      "    Normal: 0.998\n",
      "    Quantile: 0.936\n",
      "    Biased_corrected_normal: 0.996 \n",
      "\n",
      "The shape of observed population (inds, sites) is: (46, 4600) \n",
      "\n",
      "The population site diveristy is: 0.14983892226715867\n",
      "The observed site diveristy is: 0.14970128170506244 \n",
      "\n",
      "Coverage Rate\n",
      "    Normal: 1.0\n",
      "    Quantile: 1.0\n",
      "    Biased_corrected_normal: 1.0 \n",
      "\n",
      "The shape of observed population (inds, sites) is: (46, 5000) \n",
      "\n",
      "The population site diveristy is: 0.14983892226715867\n",
      "The observed site diveristy is: 0.150250071667463 \n",
      "\n",
      "Coverage Rate\n",
      "    Normal: 1.0\n",
      "    Quantile: 1.0\n",
      "    Biased_corrected_normal: 1.0 \n",
      "\n",
      "The shape of observed population (inds, sites) is: (50, 1000) \n",
      "\n",
      "The population site diveristy is: 0.14983892226715867\n",
      "The observed site diveristy is: 0.15183353535353536 \n",
      "\n",
      "Coverage Rate\n",
      "    Normal: 1.0\n",
      "    Quantile: 1.0\n",
      "    Biased_corrected_normal: 1.0 \n",
      "\n",
      "The shape of observed population (inds, sites) is: (50, 1400) \n",
      "\n",
      "The population site diveristy is: 0.14983892226715867\n",
      "The observed site diveristy is: 0.1429981240981241 \n",
      "\n",
      "Coverage Rate\n",
      "    Normal: 1.0\n",
      "    Quantile: 0.918\n",
      "    Biased_corrected_normal: 0.988 \n",
      "\n",
      "The shape of observed population (inds, sites) is: (50, 1800) \n",
      "\n",
      "The population site diveristy is: 0.14983892226715867\n",
      "The observed site diveristy is: 0.14471661054994386 \n",
      "\n",
      "Coverage Rate\n",
      "    Normal: 1.0\n",
      "    Quantile: 0.996\n",
      "    Biased_corrected_normal: 1.0 \n",
      "\n",
      "The shape of observed population (inds, sites) is: (50, 2200) \n",
      "\n",
      "The population site diveristy is: 0.14983892226715867\n",
      "The observed site diveristy is: 0.14472966023875114 \n",
      "\n",
      "Coverage Rate\n",
      "    Normal: 1.0\n",
      "    Quantile: 0.982\n",
      "    Biased_corrected_normal: 0.998 \n",
      "\n",
      "The shape of observed population (inds, sites) is: (50, 2600) \n",
      "\n",
      "The population site diveristy is: 0.14983892226715867\n",
      "The observed site diveristy is: 0.1478120435120435 \n",
      "\n",
      "Coverage Rate\n",
      "    Normal: 1.0\n",
      "    Quantile: 1.0\n",
      "    Biased_corrected_normal: 1.0 \n",
      "\n",
      "The shape of observed population (inds, sites) is: (50, 3000) \n",
      "\n",
      "The population site diveristy is: 0.14983892226715867\n",
      "The observed site diveristy is: 0.14575030303030304 \n",
      "\n",
      "Coverage Rate\n",
      "    Normal: 1.0\n",
      "    Quantile: 0.99\n",
      "    Biased_corrected_normal: 1.0 \n",
      "\n",
      "The shape of observed population (inds, sites) is: (50, 3400) \n",
      "\n",
      "The population site diveristy is: 0.14983892226715867\n",
      "The observed site diveristy is: 0.14982144979203804 \n",
      "\n",
      "Coverage Rate\n",
      "    Normal: 1.0\n",
      "    Quantile: 1.0\n",
      "    Biased_corrected_normal: 1.0 \n",
      "\n",
      "The shape of observed population (inds, sites) is: (50, 3800) \n",
      "\n",
      "The population site diveristy is: 0.14983892226715867\n",
      "The observed site diveristy is: 0.14934657097288676 \n",
      "\n",
      "Coverage Rate\n",
      "    Normal: 1.0\n",
      "    Quantile: 1.0\n",
      "    Biased_corrected_normal: 1.0 \n",
      "\n",
      "The shape of observed population (inds, sites) is: (50, 4200) \n",
      "\n",
      "The population site diveristy is: 0.14983892226715867\n",
      "The observed site diveristy is: 0.14706820586820588 \n",
      "\n",
      "Coverage Rate\n",
      "    Normal: 1.0\n",
      "    Quantile: 1.0\n",
      "    Biased_corrected_normal: 1.0 \n",
      "\n",
      "The shape of observed population (inds, sites) is: (50, 4600) \n",
      "\n",
      "The population site diveristy is: 0.14983892226715867\n",
      "The observed site diveristy is: 0.150980193236715 \n",
      "\n",
      "Coverage Rate\n",
      "    Normal: 1.0\n",
      "    Quantile: 1.0\n",
      "    Biased_corrected_normal: 1.0 \n",
      "\n",
      "The shape of observed population (inds, sites) is: (50, 5000) \n",
      "\n",
      "The population site diveristy is: 0.14983892226715867\n",
      "The observed site diveristy is: 0.1545066262626263 \n",
      "\n",
      "Coverage Rate\n",
      "    Normal: 0.59\n",
      "    Quantile: 0.414\n",
      "    Biased_corrected_normal: 0.564 \n",
      "\n",
      "CPU times: user 1min 32s, sys: 9.98 s, total: 1min 42s\n",
      "Wall time: 13min 17s\n"
     ]
    }
   ],
   "source": [
    "%%time\n",
    "if __name__ ==  '__main__': \n",
    "    pop_ts = sim_one_population(\n",
    "        diploid_size=200,\n",
    "        seq_len=1e9,\n",
    "        rec_rate=1e-8,\n",
    "        mut_rate=1e-8\n",
    "    )\n",
    "    \n",
    "    pop_ts_diversity = pop_ts.diversity(span_normalise = False, windows = 'sites').mean()\n",
    "    n_boot = 100\n",
    "    \n",
    "    sim = []\n",
    "    \n",
    "    for num_inds in samples_size:\n",
    "        for num_sites in sites_size:\n",
    "            obs_ts = observe(ts=pop_ts, num_inds=num_inds, max_sites=num_sites)\n",
    "            obs_ts_diversity = obs_ts.diversity(span_normalise = False, windows = 'sites').mean()\n",
    "\n",
    "            print(f'The shape of observed population (inds, sites) is: {(num_inds, num_sites)} \\n')\n",
    "            print(f'The population site diveristy is: {pop_ts_diversity}')\n",
    "            print(f'The observed site diveristy is: {obs_ts_diversity} \\n')\n",
    "            \n",
    "            diveristy = site_diversity(obs_ts)\n",
    "            # repeat bootstrap resampling 500 times\n",
    "            inputs = [(diveristy, n_boot) for _ in range(500)]\n",
    "            pool = Pool(cpu_count())\n",
    "\n",
    "            coverage_rate = {'normal': np.zeros((500, ), dtype=int), 'quantile': np.zeros((500, ), dtype=int)\n",
    "                            , 'bias': np.zeros((500, ), dtype=int)}\n",
    "\n",
    "            for i, bt_vals in enumerate(pool.map(bt_resample_sites, inputs)):\n",
    "                normal_lower, normal_upper = \\\n",
    "                        get_CI_normal(data=bt_vals, confidence=0.95, obs_value=obs_ts_diversity)\n",
    "\n",
    "                quantile_lower, quantile_upper = get_CI_quantile(data=bt_vals, confidence=0.95)\n",
    "\n",
    "                bias_lower, bias_upper = \\\n",
    "                        get_CI_biased_corrected_norm(data=bt_vals, confidence=0.95, obs_value=obs_ts_diversity)\n",
    "                \n",
    "                if normal_lower < pop_ts_diversity < normal_upper:\n",
    "                    coverage_rate['normal'][i] = 1\n",
    "\n",
    "                if quantile_lower < pop_ts_diversity < quantile_upper:\n",
    "                    coverage_rate['quantile'][i] = 1\n",
    "\n",
    "                if bias_lower < pop_ts_diversity < bias_upper:\n",
    "                    coverage_rate['bias'][i] = 1\n",
    "                \n",
    "\n",
    "            print('Coverage Rate')\n",
    "            print('    Normal:', coverage_rate['normal'].mean())\n",
    "            print('    Quantile:', coverage_rate['quantile'].mean())\n",
    "            print('    Biased_corrected_normal:', coverage_rate['bias'].mean(), '\\n')\n",
    "\n",
    "            sim.append([num_inds, num_sites, pop_ts_diversity, obs_ts_diversity, \n",
    "                        coverage_rate['normal'].mean(), coverage_rate['quantile'].mean(),\n",
    "                        coverage_rate['bias'].mean()])\n",
    "            #break\n",
    "        #break"
   ]
  },
  {
   "cell_type": "code",
   "execution_count": 192,
   "metadata": {},
   "outputs": [
    {
     "data": {
      "text/html": [
       "<div>\n",
       "<style scoped>\n",
       "    .dataframe tbody tr th:only-of-type {\n",
       "        vertical-align: middle;\n",
       "    }\n",
       "\n",
       "    .dataframe tbody tr th {\n",
       "        vertical-align: top;\n",
       "    }\n",
       "\n",
       "    .dataframe thead th {\n",
       "        text-align: right;\n",
       "    }\n",
       "</style>\n",
       "<table border=\"1\" class=\"dataframe\">\n",
       "  <thead>\n",
       "    <tr style=\"text-align: right;\">\n",
       "      <th></th>\n",
       "      <th>n_inds</th>\n",
       "      <th>n_sites</th>\n",
       "      <th>pop_ts_diversity</th>\n",
       "      <th>obs_ts_diversity</th>\n",
       "      <th>normal</th>\n",
       "      <th>quantile</th>\n",
       "      <th>bias</th>\n",
       "    </tr>\n",
       "  </thead>\n",
       "  <tbody>\n",
       "    <tr>\n",
       "      <th>0</th>\n",
       "      <td>10</td>\n",
       "      <td>1000</td>\n",
       "      <td>0.149839</td>\n",
       "      <td>0.158500</td>\n",
       "      <td>0.998</td>\n",
       "      <td>0.926</td>\n",
       "      <td>0.990</td>\n",
       "    </tr>\n",
       "    <tr>\n",
       "      <th>1</th>\n",
       "      <td>10</td>\n",
       "      <td>1400</td>\n",
       "      <td>0.149839</td>\n",
       "      <td>0.156128</td>\n",
       "      <td>1.000</td>\n",
       "      <td>1.000</td>\n",
       "      <td>1.000</td>\n",
       "    </tr>\n",
       "    <tr>\n",
       "      <th>2</th>\n",
       "      <td>10</td>\n",
       "      <td>1800</td>\n",
       "      <td>0.149839</td>\n",
       "      <td>0.148848</td>\n",
       "      <td>1.000</td>\n",
       "      <td>1.000</td>\n",
       "      <td>1.000</td>\n",
       "    </tr>\n",
       "    <tr>\n",
       "      <th>3</th>\n",
       "      <td>10</td>\n",
       "      <td>2200</td>\n",
       "      <td>0.149839</td>\n",
       "      <td>0.157163</td>\n",
       "      <td>0.772</td>\n",
       "      <td>0.540</td>\n",
       "      <td>0.706</td>\n",
       "    </tr>\n",
       "    <tr>\n",
       "      <th>4</th>\n",
       "      <td>10</td>\n",
       "      <td>2600</td>\n",
       "      <td>0.149839</td>\n",
       "      <td>0.153016</td>\n",
       "      <td>1.000</td>\n",
       "      <td>1.000</td>\n",
       "      <td>1.000</td>\n",
       "    </tr>\n",
       "    <tr>\n",
       "      <th>...</th>\n",
       "      <td>...</td>\n",
       "      <td>...</td>\n",
       "      <td>...</td>\n",
       "      <td>...</td>\n",
       "      <td>...</td>\n",
       "      <td>...</td>\n",
       "      <td>...</td>\n",
       "    </tr>\n",
       "    <tr>\n",
       "      <th>116</th>\n",
       "      <td>50</td>\n",
       "      <td>3400</td>\n",
       "      <td>0.149839</td>\n",
       "      <td>0.149821</td>\n",
       "      <td>1.000</td>\n",
       "      <td>1.000</td>\n",
       "      <td>1.000</td>\n",
       "    </tr>\n",
       "    <tr>\n",
       "      <th>117</th>\n",
       "      <td>50</td>\n",
       "      <td>3800</td>\n",
       "      <td>0.149839</td>\n",
       "      <td>0.149347</td>\n",
       "      <td>1.000</td>\n",
       "      <td>1.000</td>\n",
       "      <td>1.000</td>\n",
       "    </tr>\n",
       "    <tr>\n",
       "      <th>118</th>\n",
       "      <td>50</td>\n",
       "      <td>4200</td>\n",
       "      <td>0.149839</td>\n",
       "      <td>0.147068</td>\n",
       "      <td>1.000</td>\n",
       "      <td>1.000</td>\n",
       "      <td>1.000</td>\n",
       "    </tr>\n",
       "    <tr>\n",
       "      <th>119</th>\n",
       "      <td>50</td>\n",
       "      <td>4600</td>\n",
       "      <td>0.149839</td>\n",
       "      <td>0.150980</td>\n",
       "      <td>1.000</td>\n",
       "      <td>1.000</td>\n",
       "      <td>1.000</td>\n",
       "    </tr>\n",
       "    <tr>\n",
       "      <th>120</th>\n",
       "      <td>50</td>\n",
       "      <td>5000</td>\n",
       "      <td>0.149839</td>\n",
       "      <td>0.154507</td>\n",
       "      <td>0.590</td>\n",
       "      <td>0.414</td>\n",
       "      <td>0.564</td>\n",
       "    </tr>\n",
       "  </tbody>\n",
       "</table>\n",
       "<p>121 rows × 7 columns</p>\n",
       "</div>"
      ],
      "text/plain": [
       "     n_inds  n_sites  pop_ts_diversity  obs_ts_diversity  normal  quantile  \\\n",
       "0        10     1000          0.149839          0.158500   0.998     0.926   \n",
       "1        10     1400          0.149839          0.156128   1.000     1.000   \n",
       "2        10     1800          0.149839          0.148848   1.000     1.000   \n",
       "3        10     2200          0.149839          0.157163   0.772     0.540   \n",
       "4        10     2600          0.149839          0.153016   1.000     1.000   \n",
       "..      ...      ...               ...               ...     ...       ...   \n",
       "116      50     3400          0.149839          0.149821   1.000     1.000   \n",
       "117      50     3800          0.149839          0.149347   1.000     1.000   \n",
       "118      50     4200          0.149839          0.147068   1.000     1.000   \n",
       "119      50     4600          0.149839          0.150980   1.000     1.000   \n",
       "120      50     5000          0.149839          0.154507   0.590     0.414   \n",
       "\n",
       "      bias  \n",
       "0    0.990  \n",
       "1    1.000  \n",
       "2    1.000  \n",
       "3    0.706  \n",
       "4    1.000  \n",
       "..     ...  \n",
       "116  1.000  \n",
       "117  1.000  \n",
       "118  1.000  \n",
       "119  1.000  \n",
       "120  0.564  \n",
       "\n",
       "[121 rows x 7 columns]"
      ]
     },
     "execution_count": 192,
     "metadata": {},
     "output_type": "execute_result"
    }
   ],
   "source": [
    "sim_df = pd.DataFrame(sim)\n",
    "sim_df.columns = ['n_inds', 'n_sites', 'pop_ts_diversity', 'obs_ts_diversity', 'normal', 'quantile', 'bias']\n",
    "sim_df"
   ]
  },
  {
   "cell_type": "code",
   "execution_count": 198,
   "metadata": {},
   "outputs": [
    {
     "data": {
      "text/plain": [
       "(11, 11)"
      ]
     },
     "execution_count": 198,
     "metadata": {},
     "output_type": "execute_result"
    }
   ],
   "source": [
    "(len(samples_size), len(sites_size))"
   ]
  },
  {
   "cell_type": "code",
   "execution_count": 203,
   "metadata": {},
   "outputs": [
    {
     "data": {
      "text/plain": [
       "array([[0.998, 1.   , 1.   , 0.772, 1.   , 0.578, 1.   , 1.   , 1.   ,\n",
       "        0.766, 1.   ],\n",
       "       [1.   , 1.   , 1.   , 1.   , 1.   , 1.   , 1.   , 1.   , 1.   ,\n",
       "        1.   , 1.   ],\n",
       "       [0.   , 1.   , 1.   , 1.   , 1.   , 1.   , 1.   , 1.   , 1.   ,\n",
       "        1.   , 1.   ],\n",
       "       [1.   , 1.   , 1.   , 1.   , 0.4  , 1.   , 1.   , 1.   , 1.   ,\n",
       "        1.   , 1.   ],\n",
       "       [1.   , 1.   , 0.7  , 1.   , 1.   , 1.   , 1.   , 1.   , 1.   ,\n",
       "        1.   , 1.   ],\n",
       "       [1.   , 1.   , 1.   , 0.486, 1.   , 1.   , 1.   , 1.   , 1.   ,\n",
       "        0.004, 1.   ],\n",
       "       [1.   , 1.   , 0.98 , 1.   , 1.   , 1.   , 1.   , 1.   , 1.   ,\n",
       "        1.   , 1.   ],\n",
       "       [1.   , 1.   , 0.894, 1.   , 0.348, 1.   , 1.   , 0.008, 1.   ,\n",
       "        1.   , 1.   ],\n",
       "       [0.966, 1.   , 0.998, 1.   , 1.   , 1.   , 1.   , 1.   , 1.   ,\n",
       "        1.   , 1.   ],\n",
       "       [1.   , 1.   , 1.   , 1.   , 1.   , 1.   , 1.   , 0.062, 0.998,\n",
       "        1.   , 1.   ],\n",
       "       [1.   , 1.   , 1.   , 1.   , 1.   , 1.   , 1.   , 1.   , 1.   ,\n",
       "        1.   , 0.59 ]])"
      ]
     },
     "execution_count": 203,
     "metadata": {},
     "output_type": "execute_result"
    }
   ],
   "source": [
    "rate = np.reshape(np.array(sim_df['normal']), (len(samples_size), len(sites_size)))\n",
    "rate"
   ]
  },
  {
   "cell_type": "code",
   "execution_count": 212,
   "metadata": {},
   "outputs": [
    {
     "data": {
      "image/png": "[encoded data removed]",
      "text/plain": [
       "<Figure size 720x720 with 1 Axes>"
      ]
     },
     "metadata": {
      "needs_background": "light"
     },
     "output_type": "display_data"
    }
   ],
   "source": [
    "fig, ax = plt.subplots(figsize=(10, 10))\n",
    "im = ax.imshow(rate)\n",
    "\n",
    "# We want to show all ticks...\n",
    "ax.set_xticks(np.arange(len(sites_size)))\n",
    "ax.set_yticks(np.arange(len(samples_size)))\n",
    "# ... and label them with the respective list entries\n",
    "ax.set_xticklabels(sites_size)\n",
    "ax.set_yticklabels(samples_size)\n",
    "\n",
    "# Rotate the tick labels and set their alignment.\n",
    "# plt.setp(ax.get_xticklabels(), ha=\"right\")\n",
    "\n",
    "# Loop over data dimensions and create text annotations.\n",
    "for i in range(len(sites_size)):\n",
    "    for j in range(len(samples_size)):\n",
    "        text = ax.text(j, i, rate[i, j],\n",
    "                       ha=\"center\", va=\"center\", color=\"black\")\n",
    "\n",
    "ax.set_title(\"Coverage Rate of different observed inds and sites\")\n",
    "ax.set_ylabel('Number of Individuals')\n",
    "ax.set_xlabel('Number of Sites')\n",
    "fig.tight_layout()\n",
    "plt.show()"
   ]
  },
  {
   "cell_type": "markdown",
   "metadata": {},
   "source": [
    " ## Problems\n",
    " ### 1. The slow way of doing jackknife resampling gives too much 0 psedovalues.\n",
    " ### 2. The faster way of doing jackknife resampling gives the values that are larger than 0.5.\n",
    " ### 3. Jackknife gives values that are much greater than the population value.\n",
    " ### 4. Results are too random."
   ]
  },
  {
   "cell_type": "code",
   "execution_count": 137,
   "metadata": {},
   "outputs": [],
   "source": [
    "diversity = get_site_diversity(obs_ts)"
   ]
  },
  {
   "cell_type": "code",
   "execution_count": 177,
   "metadata": {},
   "outputs": [],
   "source": [
    "jk_sites = jk_resample_sites(diversity, obs_ts.num_sites, obs_ts_diversity)"
   ]
  },
  {
   "cell_type": "code",
   "execution_count": 178,
   "metadata": {},
   "outputs": [
    {
     "data": {
      "text/plain": [
       "array([0.30441382, 0.15575669, 0.32117814, ..., 0.38419584, 0.38419584,\n",
       "       0.17575269])"
      ]
     },
     "execution_count": 178,
     "metadata": {},
     "output_type": "execute_result"
    }
   ],
   "source": [
    "jk_sites"
   ]
  },
  {
   "cell_type": "code",
   "execution_count": 179,
   "metadata": {},
   "outputs": [
    {
     "data": {
      "text/plain": [
       "<AxesSubplot:ylabel='Count'>"
      ]
     },
     "execution_count": 179,
     "metadata": {},
     "output_type": "execute_result"
    },
    {
     "data": {
      "image/png": "[encoded data removed]",
      "text/plain": [
       "<Figure size 432x288 with 1 Axes>"
      ]
     },
     "metadata": {
      "needs_background": "light"
     },
     "output_type": "display_data"
    }
   ],
   "source": [
    "sns.histplot(jk_sites)"
   ]
  },
  {
   "cell_type": "code",
   "execution_count": 180,
   "metadata": {},
   "outputs": [],
   "source": [
    "jk_block_sits = jk_block_resample_sites(diversity, obs_ts_diversity, obs_ts.num_sites, 50)"
   ]
  },
  {
   "cell_type": "code",
   "execution_count": 181,
   "metadata": {},
   "outputs": [
    {
     "data": {
      "text/plain": [
       "array([0.30299822, 0.31211321, 0.31931572, 0.31933354, 0.32417612,\n",
       "       0.30726865, 0.3012857 , 0.30235875, 0.32219236, 0.32595398,\n",
       "       0.31865051, 0.28959499, 0.27670848, 0.27467127, 0.29313289,\n",
       "       0.34050352, 0.28310521, 0.31538582, 0.3108204 , 0.283616  ,\n",
       "       0.29243798, 0.30804275, 0.31710032, 0.31156085, 0.31779523,\n",
       "       0.29186582, 0.29471079, 0.27960889, 0.27464158, 0.31073923,\n",
       "       0.29308537, 0.29925046, 0.33423547, 0.32522739, 0.33855539,\n",
       "       0.28628081, 0.27822501, 0.32051745, 0.30450089, 0.33800105,\n",
       "       0.3457678 , 0.30852186, 0.28281814, 0.32298428, 0.29422178,\n",
       "       0.32742497, 0.33122816, 0.30691228, 0.30803285, 0.3524318 ])"
      ]
     },
     "execution_count": 181,
     "metadata": {},
     "output_type": "execute_result"
    }
   ],
   "source": [
    "jk_block_sits"
   ]
  },
  {
   "cell_type": "code",
   "execution_count": 182,
   "metadata": {},
   "outputs": [
    {
     "data": {
      "text/plain": [
       "<AxesSubplot:ylabel='Count'>"
      ]
     },
     "execution_count": 182,
     "metadata": {},
     "output_type": "execute_result"
    },
    {
     "data": {
      "image/png": "[encoded data removed]",
      "text/plain": [
       "<Figure size 432x288 with 1 Axes>"
      ]
     },
     "metadata": {
      "needs_background": "light"
     },
     "output_type": "display_data"
    }
   ],
   "source": [
    "sns.histplot(jk_block_sits)"
   ]
  },
  {
   "cell_type": "code",
   "execution_count": null,
   "metadata": {},
   "outputs": [],
   "source": []
  },
  {
   "cell_type": "code",
   "execution_count": null,
   "metadata": {},
   "outputs": [],
   "source": []
  }
 ],
 "metadata": {
  "kernelspec": {
   "display_name": "Python 3",
   "language": "python",
   "name": "python3"
  },
  "language_info": {
   "codemirror_mode": {
    "name": "ipython",
    "version": 3
   },
   "file_extension": ".py",
   "mimetype": "text/x-python",
   "name": "python",
   "nbconvert_exporter": "python",
   "pygments_lexer": "ipython3",
   "version": "3.8.3"
  }
 },
 "nbformat": 4,
 "nbformat_minor": 4
}

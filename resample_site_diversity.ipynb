{
 "cells": [
  {
   "cell_type": "code",
   "execution_count": 1,
   "metadata": {},
   "outputs": [],
   "source": [
    "import numpy as np\n",
    "import scipy.stats\n",
    "import msprime\n",
    "import pandas as pd\n",
    "import allel\n",
    "import multiprocessing as mp\n",
    "\n",
    "from sklearn.datasets import load_iris\n",
    "from sklearn.model_selection import KFold\n",
    "import seaborn as sns\n",
    "import matplotlib.pyplot as plt\n",
    "from math import sqrt\n",
    "from statistics import mean, stdev\n",
    "from scipy.stats import norm"
   ]
  },
  {
   "cell_type": "markdown",
   "metadata": {},
   "source": [
    "## Functions to generate simulation and observation"
   ]
  },
  {
   "cell_type": "code",
   "execution_count": 2,
   "metadata": {},
   "outputs": [],
   "source": [
    "def sim_one_population(diploid_size, seq_len, rec_rate, mut_rate):\n",
    "    '''simulate two populations that have diverged\n",
    "        from a common ancestral population.\n",
    "    Returns a tree sequence.\n",
    "\n",
    "    @diploid_size = the population size of each population,\n",
    "        also the size of the ancestral population\n",
    "    @seq_len = length of the genome, units ~ base-pairs\n",
    "    @rec_rate = recombination rate, units = rate per bp, per generation\n",
    "    @mut_rate = mutation rate, units = rate per bp, per generation\n",
    "    '''\n",
    "\n",
    "    demography = msprime.Demography()\n",
    "    demography.add_population(name=\"A\", initial_size=diploid_size)\n",
    "\n",
    "    ts = msprime.sim_ancestry(\n",
    "        samples={'A': diploid_size},  # diploid samples\n",
    "        demography=demography,\n",
    "        ploidy=2,\n",
    "        sequence_length=seq_len,\n",
    "        discrete_genome=False,\n",
    "        recombination_rate=rec_rate,\n",
    "        model='dtwf',\n",
    "    )\n",
    "\n",
    "    ts = msprime.sim_mutations(\n",
    "        ts,\n",
    "        rate=mut_rate,\n",
    "        discrete_genome=False,\n",
    "        )\n",
    "\n",
    "    return ts"
   ]
  },
  {
   "cell_type": "code",
   "execution_count": 3,
   "metadata": {},
   "outputs": [],
   "source": [
    "def sample_individuals(haploid_indexes, n, replace):\n",
    "    \"\"\"\n",
    "    return the (haploid) indexes that correspond to\n",
    "    taking n diploid samples from the supplied haploid indexes\n",
    "\n",
    "    @haploid_indexes = contiguous indexes for haploids\n",
    "        should be from a single population.\n",
    "    @n = the number of diploid indiviudals to take.\n",
    "    \"\"\"\n",
    "\n",
    "    # ensure the haploid indexes are consecutive\n",
    "    diff = np.diff(haploid_indexes)\n",
    "    assert np.sum(diff == 1) == (len(haploid_indexes)-1)\n",
    "\n",
    "    ind_indexes = haploid_indexes[::2]\n",
    "    ind_samples = np.sort(np.random.choice(ind_indexes, n, replace=replace))\n",
    "    haploid_samples = np.zeros(len(ind_samples)*2, dtype='int')\n",
    "    haploid_samples[0::2] = ind_samples\n",
    "    haploid_samples[1::2] = ind_samples+1\n",
    "    return(haploid_samples)"
   ]
  },
  {
   "cell_type": "code",
   "execution_count": 4,
   "metadata": {},
   "outputs": [],
   "source": [
    "def observe(ts, num_inds, max_sites):\n",
    "    '''\n",
    "    oberserve num_inds diploids from each population\n",
    "    simplify the ts, removing non-variable sites across those individuals\n",
    "\n",
    "    @ts = tree-sequence\n",
    "    @num_inds = number of diploids to sample from each population\n",
    "    @max_sites = retain at most max_sites, from among variable sites\n",
    "    '''\n",
    "\n",
    "    popA = ts.samples(population=0)\n",
    "    popA_inds = sample_individuals(popA, num_inds, replace=False)\n",
    "    all_inds = popA_inds\n",
    "    obs_ts = ts.simplify(samples=all_inds, filter_sites=False)\n",
    "\n",
    "    if obs_ts.num_sites > max_sites:\n",
    "        all_sites = np.arange(len(obs_ts.sites()))\n",
    "        sites_keep = np.random.choice(all_sites, max_sites, replace=False)\n",
    "        sites_remove = np.setdiff1d(all_sites, sites_keep)\n",
    "        obs_ts = obs_ts.delete_sites(sites_remove)\n",
    "    return(obs_ts)"
   ]
  },
  {
   "cell_type": "markdown",
   "metadata": {},
   "source": [
    "## Functions to caculate the site diversity of samples"
   ]
  },
  {
   "cell_type": "code",
   "execution_count": 5,
   "metadata": {},
   "outputs": [],
   "source": [
    "def site_diversity(ac, n):\n",
    "    \"\"\"\n",
    "    returns the diversity at one or more sites\n",
    "    \n",
    "    @ac = count of one of the alleles \n",
    "    @n = numer of samples\n",
    "    \"\"\"\n",
    "       \n",
    "    npairs = int(n*(n-1)/2)  # total numbers of pairs of samples\n",
    "    n_different_pairs = ac * (n-ac) # number of those pairs that have different alleles\n",
    "    return (n_different_pairs/npairs)"
   ]
  },
  {
   "cell_type": "code",
   "execution_count": 6,
   "metadata": {},
   "outputs": [],
   "source": [
    "def get_diversity_general(ts, samples, sites_index):\n",
    "    \"\"\"returns average pairwise diversity of a set of samples across a set of sites. \n",
    "\n",
    "    This function is general in the sense that (samples) and (sites_index)may have duplicates.\n",
    "\n",
    "    @ts = tree sequence\n",
    "    @samples = the samples from the first population to be used\n",
    "    @sites_index = the indexes of the sites to be used.\n",
    "    \"\"\"\n",
    "    \n",
    "    nsamples = len(samples)\n",
    "    genos = obs_ts.genotype_matrix()\n",
    "    diver = site_diversity(genos[sites_index, :][:,samples].sum(1), nsamples).mean()\n",
    "    return diver"
   ]
  },
  {
   "cell_type": "markdown",
   "metadata": {},
   "source": [
    "## Functions to obtain the confidence interval from bootstrap resample"
   ]
  },
  {
   "cell_type": "code",
   "execution_count": 7,
   "metadata": {},
   "outputs": [],
   "source": [
    "def get_CI_normal(data, confidence, est_param):\n",
    "    '''\n",
    "    @data: estimated parameters (e.g. means of 1000 resample data)\n",
    "    @confidence: width of the interval\n",
    "    @est_param: value of the estimated parameter of the data that is resampled\n",
    "    '''\n",
    "    qnorm = abs(norm.ppf((1 - confidence) / 2))\n",
    "\n",
    "    upper = est_param + qnorm * np.std(data, ddof=1) # change degree of freedom\n",
    "    lower = est_param - qnorm * np.std(data, ddof=1)\n",
    "\n",
    "    return lower, upper\n",
    "\n",
    "\n",
    "def get_CI_quantile(data, confidence, est_param=None):\n",
    "    \n",
    "    cutoff = (1 - confidence) / 2\n",
    "    lower = np.quantile(data, cutoff)\n",
    "    upper = np.quantile(data, 1 - cutoff)\n",
    "\n",
    "    return lower, upper\n",
    "\n",
    "\n",
    "def get_CI_biased_corrected_norm(data, confidence, est_param=None):\n",
    "    param_bar = mean(data)\n",
    "    est_bias = param_bar - est_param\n",
    "    est_param -= est_bias\n",
    "    \n",
    "    qnorm = abs(norm.ppf((1 - confidence) / 2))\n",
    "\n",
    "    upper = est_param + qnorm * np.std(data, ddof=1)\n",
    "    lower = est_param - qnorm * np.std(data, ddof=1)\n",
    "    \n",
    "    return lower, upper"
   ]
  },
  {
   "cell_type": "markdown",
   "metadata": {},
   "source": [
    "## Functions to obtain the confidence interval from jackknife resample"
   ]
  },
  {
   "cell_type": "code",
   "execution_count": 8,
   "metadata": {},
   "outputs": [],
   "source": [
    "def jk_get_CI(data, confidence):\n",
    "    \n",
    "    qnorm = abs(norm.ppf((1 - confidence) / 2))\n",
    "\n",
    "    upper = mean(data) + qnorm * np.std(data, ddof=1) / sqrt(len(data)) # change degree of freedom\n",
    "    lower = mean(data) - qnorm * np.std(data, ddof=1) / sqrt(len(data))\n",
    "\n",
    "    return lower, upper"
   ]
  },
  {
   "cell_type": "markdown",
   "metadata": {},
   "source": [
    "## Functions to draw plots"
   ]
  },
  {
   "cell_type": "code",
   "execution_count": 9,
   "metadata": {},
   "outputs": [],
   "source": [
    "def histplot(data, pop_value, obs_value, normal, quantile, biased):\n",
    "    '''\n",
    "    Display the histogram of the site diversity of the resampled data and draw lines of \n",
    "    population site diversity, observed population site diversity, and three different CI.\n",
    "    '''\n",
    "    fig = plt.figure(dpi=180)\n",
    "    sns.histplot(data)\n",
    "    plt.axvline(x=obs_value, color = 'r', label = 'observe')\n",
    "    #plt.axvline(x=pop_value, color = 'g', label = 'pop')\n",
    "    plt.axvline(x=normal[0], color = 'b', label = 'normal')\n",
    "    plt.axvline(x=normal[1], color = 'b')\n",
    "    plt.axvline(x=quantile[0], color = 'm', label = 'quantile')\n",
    "    plt.axvline(x=quantile[1], color = 'm')\n",
    "    plt.axvline(x=biased[0], color = 'y', label = 'biased corrected')\n",
    "    plt.axvline(x=biased[1], color = 'y')\n",
    "    plt.legend(loc='best', fontsize = 'xx-small')\n",
    "    plt.xlabel('Estimate site diversity of the resampled observed population')\n",
    "    plt.show()\n",
    "    \n",
    "\n",
    "def jk_histplot(data, pop_value, obs_value, jk_CI, jk_block_CI):\n",
    "    fig2 = plt.figure(dpi=150)\n",
    "    sns.histplot(data)\n",
    "    plt.axvline(x=obs_value, color = 'r', label = 'observe')\n",
    "    #plt.axvline(x=pop_value, color = 'g', label = 'pop')\n",
    "    plt.axvline(x=jk_CI[0], color = 'y', label = 'jackknife CI')\n",
    "    plt.axvline(x=jk_CI[1], color = 'y')\n",
    "    plt.axvline(x=jk_block_CI[0], color = 'm', label = 'jackknife block CI')\n",
    "    plt.axvline(x=jk_block_CI[1], color = 'm')\n",
    "    plt.legend(loc=0)\n",
    "    plt.title('Histogram of site diversity from Jackknife Resample')\n",
    "    plt.show()"
   ]
  },
  {
   "cell_type": "markdown",
   "metadata": {},
   "source": [
    "# We observe 50 individuals and at most 5000 sites from the population and we want to use different resample methods and the observed population to estimate the site diversity of the whole population."
   ]
  },
  {
   "cell_type": "code",
   "execution_count": 10,
   "metadata": {},
   "outputs": [],
   "source": [
    "# simulation of the entire demographic history\n",
    "pop_ts = sim_one_population(\n",
    "    diploid_size=200,\n",
    "    seq_len=1e9,\n",
    "    rec_rate=1e-8,\n",
    "    mut_rate=1e-8\n",
    ")\n",
    "\n",
    "obs_ts = observe(ts=pop_ts, num_inds=50, max_sites=5000)"
   ]
  },
  {
   "cell_type": "code",
   "execution_count": 11,
   "metadata": {},
   "outputs": [
    {
     "data": {
      "text/plain": [
       "(400, 53281)"
      ]
     },
     "execution_count": 11,
     "metadata": {},
     "output_type": "execute_result"
    }
   ],
   "source": [
    "pop_ts.num_samples, pop_ts.num_sites"
   ]
  },
  {
   "cell_type": "code",
   "execution_count": 12,
   "metadata": {},
   "outputs": [
    {
     "data": {
      "text/plain": [
       "(100, 5000)"
      ]
     },
     "execution_count": 12,
     "metadata": {},
     "output_type": "execute_result"
    }
   ],
   "source": [
    "obs_ts.num_samples, obs_ts.num_sites"
   ]
  },
  {
   "cell_type": "code",
   "execution_count": 13,
   "metadata": {},
   "outputs": [
    {
     "name": "stdout",
     "output_type": "stream",
     "text": [
      "Site diversity for the simulated population is:  0.15130898627548958\n",
      "Site diversity for the observed population is:  0.15007123232323233\n"
     ]
    }
   ],
   "source": [
    "pop_ts_diversity = pop_ts.diversity(span_normalise = False, windows = 'sites').mean()\n",
    "\n",
    "obs_ts_diversity = get_diversity_general(\n",
    "    ts=obs_ts,\n",
    "    samples=np.arange(obs_ts.num_samples),\n",
    "    sites_index=np.arange(obs_ts.num_sites),\n",
    "    )\n",
    "\n",
    "print('Site diversity for the simulated population is: ', pop_ts_diversity)\n",
    "print('Site diversity for the observed population is: ', obs_ts_diversity)"
   ]
  },
  {
   "cell_type": "markdown",
   "metadata": {},
   "source": [
    "## 1. Bootstrap over sites"
   ]
  },
  {
   "cell_type": "code",
   "execution_count": 14,
   "metadata": {},
   "outputs": [],
   "source": [
    "sites_res = []\n",
    "for _ in range(5000):\n",
    "    sites_res.append(get_diversity_general(\n",
    "        ts=obs_ts,\n",
    "        samples=np.arange(obs_ts.num_samples),\n",
    "        sites_index=np.random.choice(obs_ts.num_sites, obs_ts.num_sites, replace = True),\n",
    "    ))"
   ]
  },
  {
   "cell_type": "code",
   "execution_count": 15,
   "metadata": {},
   "outputs": [],
   "source": [
    "sites_normal = get_CI_normal(data=sites_res, confidence=0.95, est_param=obs_ts_diversity)\n",
    "sites_quantile = get_CI_quantile(data=sites_res, confidence=0.95)\n",
    "sites_biased = get_CI_biased_corrected_norm(data=sites_res, confidence=0.95, est_param=obs_ts_diversity)"
   ]
  },
  {
   "cell_type": "code",
   "execution_count": 16,
   "metadata": {},
   "outputs": [
    {
     "name": "stdout",
     "output_type": "stream",
     "text": [
      "Normal CI (0.14538257124783857, 0.15475989339862609) \n",
      "\n",
      "Quantile CI (0.14550761010101013, 0.15488793939393938) \n",
      "\n",
      "Biased Corrected Normal CI (0.14539633662965676, 0.15477365878044427) \n",
      "\n"
     ]
    }
   ],
   "source": [
    "print('Normal CI', sites_normal, '\\n')\n",
    "print('Quantile CI', sites_quantile, '\\n')\n",
    "print('Biased Corrected Normal CI', sites_biased, '\\n')"
   ]
  },
  {
   "cell_type": "code",
   "execution_count": 17,
   "metadata": {},
   "outputs": [
    {
     "data": {
      "image/png": "[encoded data removed]",
      "text/plain": [
       "<Figure size 1080x720 with 1 Axes>"
      ]
     },
     "metadata": {
      "needs_background": "light"
     },
     "output_type": "display_data"
    }
   ],
   "source": [
    "histplot(data=sites_res, pop_value=pop_ts_diversity, obs_value=obs_ts_diversity, \n",
    "         normal=sites_normal, quantile=sites_quantile, biased=sites_biased)"
   ]
  },
  {
   "cell_type": "markdown",
   "metadata": {},
   "source": [
    "## 2. Bootstrap over samples "
   ]
  },
  {
   "cell_type": "code",
   "execution_count": 18,
   "metadata": {},
   "outputs": [],
   "source": [
    "sample_res = [\n",
    "    get_diversity_general(\n",
    "        ts=obs_ts,\n",
    "        samples=np.random.choice(obs_ts.num_samples, obs_ts.num_samples, replace = True),\n",
    "        sites_index=np.arange(obs_ts.num_sites)) for _ in range(5000)]"
   ]
  },
  {
   "cell_type": "code",
   "execution_count": 19,
   "metadata": {},
   "outputs": [],
   "source": [
    "sample_normal = get_CI_normal(data=sample_res, confidence=0.95, est_param=obs_ts_diversity)\n",
    "sample_quantile = get_CI_quantile(data=sample_res, confidence=0.95)\n",
    "sample_biased = get_CI_biased_corrected_norm(data=sample_res, confidence=0.95, est_param=obs_ts_diversity)"
   ]
  },
  {
   "cell_type": "code",
   "execution_count": 20,
   "metadata": {},
   "outputs": [
    {
     "name": "stdout",
     "output_type": "stream",
     "text": [
      "Normal CI (0.14898298440324265, 0.151159480243222) \n",
      "\n",
      "Quantile CI (0.1474140777777778, 0.14957118787878784) \n",
      "\n",
      "Biased Corrected Normal CI (0.1505083442577881, 0.15268484009776748) \n",
      "\n"
     ]
    }
   ],
   "source": [
    "print('Normal CI', sample_normal, '\\n')\n",
    "print('Quantile CI', sample_quantile, '\\n')\n",
    "print('Biased Corrected Normal CI', sample_biased, '\\n')"
   ]
  },
  {
   "cell_type": "code",
   "execution_count": 21,
   "metadata": {},
   "outputs": [
    {
     "data": {
      "image/png": "[encoded data removed]",
      "text/plain": [
       "<Figure size 1080x720 with 1 Axes>"
      ]
     },
     "metadata": {
      "needs_background": "light"
     },
     "output_type": "display_data"
    }
   ],
   "source": [
    "histplot(data=sample_res, pop_value=pop_ts_diversity, obs_value=obs_ts_diversity, \n",
    "         normal=sample_normal, quantile=sample_quantile, biased=sample_biased)"
   ]
  },
  {
   "cell_type": "markdown",
   "metadata": {},
   "source": [
    "## 3. Jackknife over sites"
   ]
  },
  {
   "cell_type": "code",
   "execution_count": 22,
   "metadata": {},
   "outputs": [],
   "source": [
    "jk_sites_res = []\n",
    "sites_index = np.arange(obs_ts.num_sites)\n",
    "samples_index = np.arange(obs_ts.num_samples)\n",
    "\n",
    "for i in range(obs_ts.num_sites):\n",
    "    jk_sites_res.append(get_diversity_general(\n",
    "        ts=obs_ts,\n",
    "        samples=samples_index,\n",
    "        sites_index=np.delete(sites_index, i)\n",
    "    ))"
   ]
  },
  {
   "cell_type": "code",
   "execution_count": 23,
   "metadata": {},
   "outputs": [],
   "source": [
    "kf = KFold(n_splits=50) # 100 sites in each block, total 5000 sites\n",
    "jk_block_sites_res = []\n",
    "\n",
    "for index,_ in kf.split(sites_index):\n",
    "    jk_block_sites_res.append(get_diversity_general(\n",
    "        ts=obs_ts,\n",
    "        samples=samples_index,\n",
    "        sites_index=sites_index[index]\n",
    "    ))    "
   ]
  },
  {
   "cell_type": "code",
   "execution_count": 24,
   "metadata": {},
   "outputs": [
    {
     "name": "stdout",
     "output_type": "stream",
     "text": [
      "Jackknife CI (0.15007029147346665, 0.150072173172998) \n",
      "\n",
      "Block Jackknife CI (0.14996844784954136, 0.1501740167969233) \n",
      "\n"
     ]
    }
   ],
   "source": [
    "jk_sites_CI = jk_get_CI(data=jk_sites_res, confidence=0.95)\n",
    "jk_block_sites_CI = jk_get_CI(data=jk_block_sites_res, confidence=0.95)\n",
    "print('Jackknife CI', jk_sites_CI, '\\n')\n",
    "print('Block Jackknife CI', jk_block_sites_CI, '\\n')"
   ]
  },
  {
   "cell_type": "code",
   "execution_count": 25,
   "metadata": {},
   "outputs": [
    {
     "data": {
      "image/png": "[encoded data removed]",
      "text/plain": [
       "<Figure size 900x600 with 1 Axes>"
      ]
     },
     "metadata": {
      "needs_background": "light"
     },
     "output_type": "display_data"
    }
   ],
   "source": [
    "jk_histplot(data=jk_sites_res, pop_value=pop_ts_diversity, obs_value=obs_ts_diversity, \n",
    "         jk_CI=jk_sites_CI, jk_block_CI=jk_block_sites_CI)"
   ]
  },
  {
   "cell_type": "markdown",
   "metadata": {},
   "source": [
    "## 4. Jackknife over samples"
   ]
  },
  {
   "cell_type": "code",
   "execution_count": 26,
   "metadata": {},
   "outputs": [],
   "source": [
    "jk_sample_res = []\n",
    "samples_index = np.arange(obs_ts.num_samples)\n",
    "\n",
    "for i in range(obs_ts.num_samples):\n",
    "    jk_sample_res.append(get_diversity_general(\n",
    "        ts=obs_ts,\n",
    "        samples=np.delete(samples_index, i),\n",
    "        sites_index=sites_index\n",
    "    ))"
   ]
  },
  {
   "cell_type": "code",
   "execution_count": 27,
   "metadata": {},
   "outputs": [],
   "source": [
    "jk_block_sample_res = []\n",
    "kf = KFold(n_splits=20) # 10 sites in each block, total 200 samples\n",
    "\n",
    "for index,_ in kf.split(samples_index):\n",
    "    jk_block_sample_res.append(get_diversity_general(\n",
    "        ts=obs_ts,\n",
    "        samples=samples_index[index],\n",
    "        sites_index=sites_index\n",
    "    ))    "
   ]
  },
  {
   "cell_type": "code",
   "execution_count": 28,
   "metadata": {},
   "outputs": [
    {
     "name": "stdout",
     "output_type": "stream",
     "text": [
      "Jackknife CI (0.15006113818092148, 0.15008132646554317) \n",
      "\n",
      "Block Jackknife CI (0.1500342949698315, 0.15010825374237452) \n",
      "\n"
     ]
    }
   ],
   "source": [
    "jk_sample_CI = jk_get_CI(data=jk_sample_res, confidence=0.95)\n",
    "jk_block_sample_CI = jk_get_CI(data=jk_block_sample_res, confidence=0.95)\n",
    "print('Jackknife CI', jk_sample_CI, '\\n')\n",
    "print('Block Jackknife CI', jk_block_sample_CI, '\\n')"
   ]
  },
  {
   "cell_type": "code",
   "execution_count": 29,
   "metadata": {},
   "outputs": [
    {
     "data": {
      "image/png": "[encoded data removed]",
      "text/plain": [
       "<Figure size 900x600 with 1 Axes>"
      ]
     },
     "metadata": {
      "needs_background": "light"
     },
     "output_type": "display_data"
    }
   ],
   "source": [
    "jk_histplot(data=jk_sample_res, pop_value=pop_ts_diversity, obs_value=obs_ts_diversity, \n",
    "         jk_CI=jk_sample_CI, jk_block_CI=jk_block_sample_CI)"
   ]
  },
  {
   "cell_type": "markdown",
   "metadata": {},
   "source": [
    "# Now, we try to increase the sample size and the sites size of the observed population. "
   ]
  },
  {
   "cell_type": "code",
   "execution_count": 30,
   "metadata": {},
   "outputs": [],
   "source": [
    "samples_size = [100, 200, 300, 400]\n",
    "sites_size = [5000 * i for i in range(11)]"
   ]
  },
  {
   "cell_type": "code",
   "execution_count": 31,
   "metadata": {},
   "outputs": [
    {
     "data": {
      "text/plain": [
       "[100, 200, 300, 400]"
      ]
     },
     "execution_count": 31,
     "metadata": {},
     "output_type": "execute_result"
    }
   ],
   "source": [
    "samples_size"
   ]
  },
  {
   "cell_type": "code",
   "execution_count": 32,
   "metadata": {},
   "outputs": [
    {
     "data": {
      "text/plain": [
       "[0, 5000, 10000, 15000, 20000, 25000, 30000, 35000, 40000, 45000, 50000]"
      ]
     },
     "execution_count": 32,
     "metadata": {},
     "output_type": "execute_result"
    }
   ],
   "source": [
    "sites_size"
   ]
  },
  {
   "cell_type": "code",
   "execution_count": 33,
   "metadata": {},
   "outputs": [
    {
     "name": "stderr",
     "output_type": "stream",
     "text": [
      "/tmp/ipykernel_17109/3270208136.py:2: DeprecationWarning: `np.float` is a deprecated alias for the builtin `float`. To silence this warning, use `float` by itself. Doing this will not modify any behavior and is safe. If you specifically wanted the numpy scalar type, use `np.float64` here.\n",
      "Deprecated in NumPy 1.20; for more details and guidance: https://numpy.org/devdocs/release/1.20.0-notes.html#deprecations\n",
      "  test = np.arange(5000, dtype=np.float)\n"
     ]
    },
    {
     "name": "stdout",
     "output_type": "stream",
     "text": [
      "Run time = 55.92264437675476\n"
     ]
    }
   ],
   "source": [
    "import time \n",
    "test = np.arange(5000, dtype=np.float)\n",
    "\n",
    "start_time = time.time()\n",
    "\n",
    "\n",
    "for i in range(5000):\n",
    "    test[i] = get_diversity_general(\n",
    "        ts=obs_ts,\n",
    "        samples=np.random.choice(obs_ts.num_samples, obs_ts.num_samples, replace = True),\n",
    "        sites_index=np.arange(obs_ts.num_sites))\n",
    "    \n",
    "end_time = time.time()\n",
    "\n",
    "print(\"Run time = {}\".format(end_time - start_time))"
   ]
  },
  {
   "cell_type": "code",
   "execution_count": 34,
   "metadata": {},
   "outputs": [
    {
     "data": {
      "text/plain": [
       "5000"
      ]
     },
     "execution_count": 34,
     "metadata": {},
     "output_type": "execute_result"
    }
   ],
   "source": [
    "len(test)"
   ]
  },
  {
   "cell_type": "code",
   "execution_count": 35,
   "metadata": {},
   "outputs": [],
   "source": [
    "import numba"
   ]
  },
  {
   "cell_type": "code",
   "execution_count": 36,
   "metadata": {},
   "outputs": [
    {
     "name": "stderr",
     "output_type": "stream",
     "text": [
      "/tmp/ipykernel_17109/3094375427.py:1: DeprecationWarning: `np.float` is a deprecated alias for the builtin `float`. To silence this warning, use `float` by itself. Doing this will not modify any behavior and is safe. If you specifically wanted the numpy scalar type, use `np.float64` here.\n",
      "Deprecated in NumPy 1.20; for more details and guidance: https://numpy.org/devdocs/release/1.20.0-notes.html#deprecations\n",
      "  test = np.arange(5000, dtype=np.float)\n"
     ]
    },
    {
     "name": "stdout",
     "output_type": "stream",
     "text": [
      "Run time = 57.5003387928009\n"
     ]
    }
   ],
   "source": [
    "test = np.arange(5000, dtype=np.float)\n",
    "start_time = time.time()\n",
    "\n",
    "@numba.jit(parallel=True)\n",
    "\n",
    "\n",
    "def site_diversity(ac, n):\n",
    "    \"\"\"\n",
    "    returns the diversity at one or more sites\n",
    "    \n",
    "    @ac = count of one of the alleles \n",
    "    @n = numer of samples\n",
    "    \"\"\"\n",
    "       \n",
    "    npairs = int(n*(n-1)/2)  # total numbers of pairs of samples\n",
    "    n_different_pairs = ac * (n-ac) # number of those pairs that have different alleles\n",
    "    return (n_different_pairs/npairs)\n",
    "\n",
    "\n",
    "def get_diversity_general(ts, samples, sites_index):\n",
    "    \"\"\"returns average pairwise diversity of a set of samples across a set of sites. \n",
    "\n",
    "    This function is general in the sense that (samples) and (sites_index)may have duplicates.\n",
    "\n",
    "    @ts = tree sequence\n",
    "    @samples = the samples from the first population to be used\n",
    "    @sites_index = the indexes of the sites to be used.\n",
    "    \"\"\"\n",
    "    \n",
    "    nsamples = len(samples)\n",
    "    genos = obs_ts.genotype_matrix()\n",
    "    diver = site_diversity(genos[sites_index, :][:,samples].sum(1), nsamples).mean()\n",
    "    return diver\n",
    "\n",
    "\n",
    "def resample(test):\n",
    "    for i in numba.prange(5000):\n",
    "        test[i] = get_diversity_general(\n",
    "            ts=obs_ts,\n",
    "            samples=np.random.choice(obs_ts.num_samples, obs_ts.num_samples, replace = True),\n",
    "            sites_index=np.arange(obs_ts.num_sites))\n",
    "\n",
    "resample(test)\n",
    "end_time = time.time()\n",
    "print(\"Run time = {}\".format(end_time - start_time)) "
   ]
  },
  {
   "cell_type": "code",
   "execution_count": null,
   "metadata": {},
   "outputs": [],
   "source": []
  }
 ],
 "metadata": {
  "kernelspec": {
   "display_name": "Python 3 (ipykernel)",
   "language": "python",
   "name": "python3"
  },
  "language_info": {
   "codemirror_mode": {
    "name": "ipython",
    "version": 3
   },
   "file_extension": ".py",
   "mimetype": "text/x-python",
   "name": "python",
   "nbconvert_exporter": "python",
   "pygments_lexer": "ipython3",
   "version": "3.9.5"
  }
 },
 "nbformat": 4,
 "nbformat_minor": 4
}

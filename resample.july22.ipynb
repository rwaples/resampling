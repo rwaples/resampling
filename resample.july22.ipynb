{
 "cells": [
  {
   "cell_type": "code",
   "execution_count": 1,
   "metadata": {},
   "outputs": [],
   "source": [
    "import numpy as np\n",
    "import scipy.stats\n",
    "import msprime\n",
    "import pandas as pd\n",
    "import allel\n",
    "import multiprocessing\n",
    "import pyarrow # required for pandas Data.Frame.to_arrow()"
   ]
  },
  {
   "cell_type": "markdown",
   "metadata": {},
   "source": [
    "# Functions"
   ]
  },
  {
   "cell_type": "markdown",
   "metadata": {},
   "source": [
    "### Demographic simulations"
   ]
  },
  {
   "cell_type": "code",
   "execution_count": 2,
   "metadata": {},
   "outputs": [],
   "source": [
    "def sim_population(diploid_size, split_time, seq_len, rec_rate, mut_rate):\n",
    "    '''simulate two populations that have diverged\n",
    "        from a common ancestral population.\n",
    "    Returns a tree sequence.\n",
    "\n",
    "    @diploid_size = the population size of each population,\n",
    "        also the size of the ancestral population\n",
    "    @split_time = current populations split from the\n",
    "        ancestral population this many generations ago\n",
    "    @seq_len = length of the genome, units ~ base-pairs\n",
    "    @rec_rate = recombination rate, units = rate per bp, per generation\n",
    "    @mut_rate = mutation rate, units = rate per bp, per generation\n",
    "    '''\n",
    "\n",
    "    demography = msprime.Demography()\n",
    "    demography.add_population(name=\"A\", initial_size=diploid_size)\n",
    "    demography.add_population(name=\"B\", initial_size=diploid_size)\n",
    "    demography.add_population(name=\"C\", initial_size=diploid_size)\n",
    "    demography.add_population_split(time=split_time,\n",
    "                                    derived=[\"A\", \"B\"], ancestral=\"C\")\n",
    "\n",
    "    ts = msprime.sim_ancestry(\n",
    "        samples={'A': diploid_size, 'B': diploid_size},  # diploid samples\n",
    "        demography=demography,\n",
    "        ploidy=2,\n",
    "        sequence_length=seq_len,\n",
    "        discrete_genome=False,\n",
    "        recombination_rate=rec_rate,\n",
    "        model='dtwf',\n",
    "    )\n",
    "\n",
    "    ts = msprime.sim_mutations(\n",
    "        ts,\n",
    "        rate=mut_rate,\n",
    "        discrete_genome=False,\n",
    "        start_time=split_time,\n",
    "        )\n",
    "\n",
    "    return ts"
   ]
  },
  {
   "cell_type": "code",
   "execution_count": 3,
   "metadata": {},
   "outputs": [],
   "source": [
    "def observe(ts, num_inds, max_sites):\n",
    "    '''\n",
    "    oberserve num_inds diploids from each population\n",
    "    simplify the ts, removing non-variable sites across those individuals\n",
    "\n",
    "    @ts = tree-sequence\n",
    "    @num_inds = number of diploids to sample from each population\n",
    "    @max_sites = retain at most max_sites, from among variable sites\n",
    "    '''\n",
    "\n",
    "    popA = ts.samples(population=0)\n",
    "    popB = ts.samples(population=1)\n",
    "    popA_inds = sample_individuals(popA, num_inds, replace=False)\n",
    "    popB_inds = sample_individuals(popB, num_inds, replace=False)\n",
    "    all_inds = np.concatenate([popA_inds, popB_inds])\n",
    "    obs_ts = ts.simplify(samples=all_inds)\n",
    "\n",
    "    if obs_ts.num_sites > max_sites:\n",
    "        all_sites = np.arange(len(obs_ts.sites()))\n",
    "        sites_keep = np.random.choice(all_sites, max_sites, replace=False)\n",
    "        sites_remove = np.setdiff1d(all_sites, sites_keep)\n",
    "        obs_ts = obs_ts.delete_sites(sites_remove)\n",
    "    return(obs_ts)"
   ]
  },
  {
   "cell_type": "code",
   "execution_count": 4,
   "metadata": {},
   "outputs": [],
   "source": [
    "def sample_individuals(haploid_indexes, n, replace):\n",
    "    \"\"\"\n",
    "    return the (haploid) indexes that correspond to\n",
    "    taking n diploid samples from the supplied haploid indexes\n",
    "\n",
    "    @haploid_indexes = contiguous indexes for haploids\n",
    "        should be from a single population.\n",
    "    @n = the number of diploid indiviudals to take.\n",
    "    \"\"\"\n",
    "\n",
    "    # ensure the haploid indexes are consecutive\n",
    "    diff = np.diff(haploid_indexes)\n",
    "    assert np.sum(diff == 1) == (len(haploid_indexes)-1)\n",
    "\n",
    "    ind_indexes = haploid_indexes[::2]\n",
    "    ind_samples = np.sort(np.random.choice(ind_indexes, n, replace=replace))\n",
    "    haploid_samples = np.zeros(len(ind_samples)*2, dtype='int')\n",
    "    haploid_samples[0::2] = ind_samples\n",
    "    haploid_samples[1::2] = ind_samples+1\n",
    "    return(haploid_samples)"
   ]
  },
  {
   "cell_type": "markdown",
   "metadata": {},
   "source": [
    "# Example simulation and observation"
   ]
  },
  {
   "cell_type": "code",
   "execution_count": 5,
   "metadata": {},
   "outputs": [],
   "source": [
    "# simulation of the entire demographic history\n",
    "pop_ts = sim_population(\n",
    "    diploid_size=200,\n",
    "    split_time=50,\n",
    "    seq_len=1e9,\n",
    "    rec_rate=1e-8,\n",
    "    mut_rate=1e-8\n",
    ")"
   ]
  },
  {
   "cell_type": "markdown",
   "metadata": {},
   "source": [
    " sim_population() generates two populations that have diverged from a common ancestral population. \n",
    " \n",
    " Here we have specified:\n",
    " \n",
    " `diploid_size = 200` so each population is composed of 200 diploid individuals.\n",
    " \n",
    " `split_time = 50` so the two populations split from each other 50 generations ago.\n",
    " \n",
    " `seq_len = 1e9` so the genome is ~ a billion basepairs (bp) long.\n",
    " \n",
    " `rec_rate = 1e-8` so the recombination rate is .00000001 per bp per generation.\n",
    " \n",
    " `mut_rate = 1e-8` so the mutation rate is .00000001 per bp per generation (same as the mut_rate)."
   ]
  },
  {
   "cell_type": "markdown",
   "metadata": {},
   "source": [
    "## Data structure\n",
    "The genetic data is store as a tree sequence [link to documentation](https://tskit.dev/tskit/docs/stable/data-model.html)"
   ]
  },
  {
   "cell_type": "code",
   "execution_count": 6,
   "metadata": {},
   "outputs": [
    {
     "data": {
      "text/plain": [
       "800"
      ]
     },
     "execution_count": 6,
     "metadata": {},
     "output_type": "execute_result"
    }
   ],
   "source": [
    "# for a tree-sequence, \"samples\" are always haploid,\n",
    "# while we will generally be addressing diploid individuals\n",
    "pop_ts.num_samples"
   ]
  },
  {
   "cell_type": "markdown",
   "metadata": {},
   "source": [
    "This ts has 800 \"samples\". This is due to having two populations, of 200 diploids each. \n",
    "\n",
    "`200 (diploids)* 2 (pops) * 2 (samples per diploid)`"
   ]
  },
  {
   "cell_type": "markdown",
   "metadata": {},
   "source": [
    "### The `ts` above contains the full history of all indiviudals in both populations. \n",
    "\n",
    "In practice, researchers rarely get to observe all individuals or variable sites.  \n",
    "\n",
    "#### We can also simulate a situation where we only get to observe a subset of the individuals/sites."
   ]
  },
  {
   "cell_type": "code",
   "execution_count": 7,
   "metadata": {},
   "outputs": [],
   "source": [
    "# The observe() function returns another ts that contains\n",
    "#     a subset of the individuals and/or sites.\n",
    "obs_ts = observe(ts=pop_ts, num_inds=50, max_sites=5000)"
   ]
  },
  {
   "cell_type": "markdown",
   "metadata": {},
   "source": [
    " Here we have specified:\n",
    " \n",
    " `ts = pop_ts` so the pop_ts is the initial 2-population ts, with 200 individuals per pop.\n",
    " \n",
    " `num_inds = 50` so there will be 50 inds individuals per pop in the returned ts.\n",
    " \n",
    " `max_sites = 5000` so their will be at most 5000 variable sites in the returned ts."
   ]
  },
  {
   "cell_type": "code",
   "execution_count": 8,
   "metadata": {},
   "outputs": [
    {
     "data": {
      "text/plain": [
       "200"
      ]
     },
     "execution_count": 8,
     "metadata": {},
     "output_type": "execute_result"
    }
   ],
   "source": [
    "# 50 individuals * 2 (pops) * 2 (samples per diploid)\n",
    "obs_ts.num_samples"
   ]
  },
  {
   "cell_type": "code",
   "execution_count": 9,
   "metadata": {},
   "outputs": [
    {
     "data": {
      "text/plain": [
       "(5000, 31508)"
      ]
     },
     "execution_count": 9,
     "metadata": {},
     "output_type": "execute_result"
    }
   ],
   "source": [
    "# the number of sites has also be reduced\n",
    "obs_ts.num_sites, pop_ts.num_sites"
   ]
  },
  {
   "cell_type": "markdown",
   "metadata": {},
   "source": [
    "# Summary statistics"
   ]
  },
  {
   "cell_type": "code",
   "execution_count": 10,
   "metadata": {},
   "outputs": [],
   "source": [
    "def get_fst_general(ts, popA_samples, popB_samples, sites_index):\n",
    "    \"\"\"returns Hudson's Fst\n",
    "\n",
    "    This function is general in the sense that all of:\n",
    "      (popA_samples, popB_samples, and sites_index) may have duplicates.\n",
    "\n",
    "    @ts = tree sequence\n",
    "    @popA_samples = the samples from the first population to be used\n",
    "    @popB_samples = the samples from the second population to be used\n",
    "    @sites_index = the indexes of the sites to be used.\n",
    "    \"\"\"\n",
    "\n",
    "    ga = allel.GenotypeArray(\n",
    "        ts.genotype_matrix().reshape(\n",
    "            ts.num_sites, ts.num_samples, 1),\n",
    "        dtype='i1')\n",
    "    # count alleles within each population at the selected sites and inds\n",
    "    ac1 = ga[sites_index][:, popA_samples, :].count_alleles()\n",
    "    ac2 = ga[sites_index][:, popB_samples, :].count_alleles()\n",
    "    # calculate Hudson's Fst (weighted)\n",
    "    num, denom = allel.hudson_fst(ac1, ac2)\n",
    "    fst = np.sum(num) / np.sum(denom)\n",
    "    return fst"
   ]
  },
  {
   "cell_type": "code",
   "execution_count": 11,
   "metadata": {},
   "outputs": [],
   "source": [
    "def get_fst_mult(params):\n",
    "    '''\n",
    "    wrapper around get_fst_general() that takes the params as a single tuple.\n",
    "    For use with multiprocessing pool.imap()\n",
    "    '''\n",
    "    ts, popA_samples, popB_samples, sites_resample = params\n",
    "    return get_fst_general(ts, popA_samples, popB_samples, sites_resample)"
   ]
  },
  {
   "cell_type": "code",
   "execution_count": 12,
   "metadata": {},
   "outputs": [],
   "source": [
    "def get_target(summary_func, ts):\n",
    "    '''\n",
    "    apply summary_func to all sites and samples in a tree-sequence\n",
    "\n",
    "    @summary_func = the function to be applied\n",
    "    @ts = tree-sequence\n",
    "    '''\n",
    "\n",
    "    target = summary_func(\n",
    "        ts=ts,\n",
    "        popA_samples=ts.samples(population=0),\n",
    "        popB_samples=ts.samples(population=1),\n",
    "        sites_index=np.arange(len(ts.sites()))\n",
    "    )\n",
    "    return target"
   ]
  },
  {
   "cell_type": "markdown",
   "metadata": {},
   "source": [
    "### We use summary statistics to summarize the  complex demographic history in a simple way"
   ]
  },
  {
   "cell_type": "markdown",
   "metadata": {},
   "source": [
    "Fst is summary statistic that is a measure of population differentiation due to genetic structure. \n",
    "\n",
    "Put one way, how similar are a pair of indiviudals from the same population, relative to a pair of indiviudals from different populations?\n",
    "\n",
    "\\begin{equation}\n",
    "F_{ST}   = \\frac{\\pi_{between} - \\pi_{within}}{\\pi_{between}}\n",
    "\\end{equation} \n",
    "\n",
    "$ \\pi_{between} $ = the average number of pairwise differences between two samples from different populations.\n",
    "\n",
    "$ \\pi_{within} $  = the average number of pairwise differences between two samples from the same population.\n",
    "\n",
    "\n",
    "Here we use Hudson's Fst estimator (https://doi.org/10.1101/gr.154831.113).\n",
    "\n",
    "Fst is calculated by the function `get_fst_general()`.\n",
    "The function `get_target()` applies this function using all the individuals and variable sites in a specified ts. "
   ]
  },
  {
   "cell_type": "code",
   "execution_count": 13,
   "metadata": {},
   "outputs": [
    {
     "data": {
      "text/plain": [
       "0.11282235492034863"
      ]
     },
     "execution_count": 13,
     "metadata": {},
     "output_type": "execute_result"
    }
   ],
   "source": [
    "# Fst across all individuals and sites\n",
    "get_target(summary_func=get_fst_general, ts=pop_ts)"
   ]
  },
  {
   "cell_type": "code",
   "execution_count": 14,
   "metadata": {},
   "outputs": [
    {
     "data": {
      "text/plain": [
       "0.10897508807239904"
      ]
     },
     "execution_count": 14,
     "metadata": {},
     "output_type": "execute_result"
    }
   ],
   "source": [
    "# across the *observed* individuals and sites\n",
    "get_target(summary_func=get_fst_general, ts=obs_ts)"
   ]
  },
  {
   "cell_type": "code",
   "execution_count": 15,
   "metadata": {},
   "outputs": [
    {
     "data": {
      "text/plain": [
       "0.1155999260579587"
      ]
     },
     "execution_count": 15,
     "metadata": {},
     "output_type": "execute_result"
    }
   ],
   "source": [
    "# if we observe a different set of individuals and sites,\n",
    "# there is a different Fst\n",
    "obs2_ts = observe(ts=pop_ts, num_inds=50, max_sites=5000)\n",
    "get_target(summary_func=get_fst_general, ts=obs2_ts)"
   ]
  },
  {
   "cell_type": "code",
   "execution_count": 16,
   "metadata": {},
   "outputs": [
    {
     "data": {
      "text/plain": [
       "0.11022474466868462"
      ]
     },
     "execution_count": 16,
     "metadata": {},
     "output_type": "execute_result"
    }
   ],
   "source": [
    "# Similarly, if we simulate a new pair of populations,\n",
    "# they will have a different Fst\n",
    "pop2_ts = sim_population(\n",
    "    diploid_size=200,\n",
    "    split_time=50,\n",
    "    seq_len=1e9,\n",
    "    rec_rate=1e-8,\n",
    "    mut_rate=1e-8\n",
    ")\n",
    "get_target(summary_func=get_fst_general, ts=pop2_ts)"
   ]
  },
  {
   "cell_type": "markdown",
   "metadata": {},
   "source": [
    "###  We can also consider the expected value of Fst, based on how we have set up the simulation. \n",
    "Briefly, the `diploid_size` and `split_time` parameters determine the expected value of Fst (and most other summary stats we may consider).\n",
    "\n",
    "While the `seq_len`, `rec_rate`, and `mut_rate` parameters affect how much variance there is *between* simulation runs.  Higher values of these three parameters will tend to reduce the variance across runs.\n",
    "\n",
    "For a citation see equation s5 in (https://doi.org/10.1101/gr.154831.113)."
   ]
  },
  {
   "cell_type": "code",
   "execution_count": 17,
   "metadata": {},
   "outputs": [],
   "source": [
    "def get_expected_Fst(N, T):\n",
    "    '''\n",
    "    Expected Fst between populations that have split T generations ago,\n",
    "        without ongoing migration.\n",
    "    Assumes the population size of each population is the same.\n",
    "\n",
    "    citation: eq s5 from Bhatia et al. (https://doi.org/10.1101/gr.154831.113)\n",
    "\n",
    "    @N = diploid population size of each population\n",
    "    @T = split time, in generations\n",
    "    '''\n",
    "    return 1 - (1-(1/(2*N)))**T"
   ]
  },
  {
   "cell_type": "code",
   "execution_count": 18,
   "metadata": {},
   "outputs": [
    {
     "data": {
      "text/plain": [
       "0.11764120699699332"
      ]
     },
     "execution_count": 18,
     "metadata": {},
     "output_type": "execute_result"
    }
   ],
   "source": [
    "# for our current case with N = 200 and T = 50\n",
    "get_expected_Fst(N=200, T=50)"
   ]
  },
  {
   "cell_type": "markdown",
   "metadata": {},
   "source": [
    "Notice for an `observed` subset, the expected Fst does not change, as the relevant N is the size of the population."
   ]
  },
  {
   "cell_type": "markdown",
   "metadata": {},
   "source": [
    "# Experimental design"
   ]
  },
  {
   "cell_type": "markdown",
   "metadata": {},
   "source": [
    "Often, researchers have data for a subset of individuals / sites from a study system of one or more populations.\n",
    "\n",
    "Usually, researchers are interested in learning about **populations**, rather than just the subset of indiviudals they observe.\n",
    "\n",
    "One question of interest is how closely summary stats based on the observed subset match summary stats from the entire population. This will depend on the demographic history of the system (e.g. population size), aspects of study design (e.g. number of observed individuals and sites), as well as statistical aspects of the particular summary stat (e.g. what aspects of the data the summary stat is sensitive to). \n",
    "\n",
    "Another, related question is if resampling methods applied to observed subsets can be used to accurately quantify the uncertainty in population-level summary statistics. Wow well do jackknife/bootstrap-based confidence intervals (CIs) perform? For example, does a 95% CI contain the population-level values 95% of the time?\n",
    "\n",
    "In this project our focus on this last issue."
   ]
  },
  {
   "cell_type": "markdown",
   "metadata": {},
   "source": [
    "# Resampling methods\n",
    "The functions below calculate Fst across resampled sets of individuals and sites. "
   ]
  },
  {
   "cell_type": "code",
   "execution_count": 19,
   "metadata": {},
   "outputs": [],
   "source": [
    "def bootstrap_ind_fst(ts, n_boot, n_cores):\n",
    "    '''\n",
    "    Calculate Fst while bootstrap resampling over individuals.\n",
    "    uses multiprocessing.Pool to run across multiple cores.\n",
    "\n",
    "    @ts = tree-sequence\n",
    "    @n_boot = number of times to resample with replacement\n",
    "    @n_cores = number of multiprocessing cores to use\n",
    "    '''\n",
    "\n",
    "    popA = ts.samples(population=0)\n",
    "    popB = ts.samples(population=1)\n",
    "    sites_index = np.arange(len(ts.sites()))\n",
    "\n",
    "    bt_vals = []\n",
    "    pool = multiprocessing.Pool(n_cores)\n",
    "    popA_nind = int(len(popA)/2)\n",
    "    popB_nind = int(len(popB)/2)\n",
    "\n",
    "    inputs = [(ts,\n",
    "               sample_individuals(popA, popA_nind, replace=True),\n",
    "               sample_individuals(popB, popB_nind, replace=True),\n",
    "               sites_index\n",
    "               ) for _ in range(n_boot)]\n",
    "    for res in pool.imap(get_fst_mult, inputs):\n",
    "        bt_vals.append(res)\n",
    "\n",
    "    return bt_vals"
   ]
  },
  {
   "cell_type": "code",
   "execution_count": 20,
   "metadata": {},
   "outputs": [],
   "source": [
    "def jackknife_ind_fst(ts, n_cores):\n",
    "    '''\n",
    "    Calculate Fst while jackknife resampling over individuals.\n",
    "    uses multiprocessing.Pool to run across multiple cores\n",
    "\n",
    "    @ts = tree-sequence\n",
    "    @n_cores = number of multiprocessing cores to use\n",
    "    '''\n",
    "\n",
    "    popA = ts.samples(population=0)\n",
    "    popB = ts.samples(population=1)\n",
    "    sites_index = np.arange(ts.num_sites)\n",
    "\n",
    "    jk_vals = []  # Fst while leaving each individual out\n",
    "    pool = multiprocessing.Pool(n_cores)\n",
    "\n",
    "    popA_nind = int(len(popA)/2)\n",
    "    popB_nind = int(len(popB)/2)\n",
    "\n",
    "    inputs = [(ts,\n",
    "               sample_individuals(popA, popA_nind, replace=True),\n",
    "               popB,\n",
    "               sites_index\n",
    "               ) for _ in range(popA_nind)]\n",
    "    inputs += [(ts,\n",
    "               popA,\n",
    "               sample_individuals(popB, popB_nind, replace=True),\n",
    "               sites_index\n",
    "                ) for _ in range(popB_nind)]\n",
    "\n",
    "    for res in pool.imap(get_fst_mult, inputs):\n",
    "        jk_vals.append(res)\n",
    "\n",
    "    return jk_vals"
   ]
  },
  {
   "cell_type": "code",
   "execution_count": 21,
   "metadata": {},
   "outputs": [],
   "source": [
    "def resample_inds_fst(ts, n_boot, n_cores):\n",
    "    '''\n",
    "    Calculates Fst for bootstrap and jackknife resampling of individuals.\n",
    "\n",
    "    @ts = tree-sequence\n",
    "    @n_boot = number of bootstrap re-samplings\n",
    "    @n_cores = number of multiprocessing cores for individual-based bootstrap\n",
    "    '''\n",
    "\n",
    "    res = {}\n",
    "\n",
    "    # Fst bootstrap\n",
    "    bt_vals = bootstrap_ind_fst(\n",
    "        ts=ts,\n",
    "        n_boot=n_boot,\n",
    "        n_cores=n_cores\n",
    "    )\n",
    "\n",
    "    # Fst jackknife\n",
    "    jk_vals = jackknife_ind_fst(\n",
    "        ts=ts,\n",
    "        n_cores=n_cores\n",
    "    )\n",
    "\n",
    "    res['bt_inds'] = bt_vals\n",
    "    res['jk_inds'] = jk_vals\n",
    "    # additional resampling methods could be used,\n",
    "    # just add them here and include a new name in the res dictionary\n",
    "    # with the value set to the Fst across the resampled data sets.\n",
    "\n",
    "    return res"
   ]
  },
  {
   "cell_type": "code",
   "execution_count": 22,
   "metadata": {},
   "outputs": [],
   "source": [
    "def resample_sites_fst(ts, n_boot):\n",
    "    '''\n",
    "    Calculate Fst for bootstrap and jackknife resampling of sites.\n",
    "\n",
    "    @ts = tree-sequence\n",
    "    @n_boot = number of bootstrap re-samplings\n",
    "    '''\n",
    "\n",
    "    # ts saves populations with indexes starting at 0\n",
    "    popA = ts.samples(population=0)\n",
    "    popB = ts.samples(population=1)\n",
    "    res = {}\n",
    "\n",
    "    # get Fst num and denom at each site\n",
    "    ga = allel.GenotypeArray(\n",
    "        ts.genotype_matrix().reshape(\n",
    "            ts.num_sites, ts.num_samples, 1),\n",
    "        dtype='i1')\n",
    "    # count alleles within each population at the selected sites and inds\n",
    "    ac1 = ga[:, popA, :].count_alleles()\n",
    "    ac2 = ga[:, popB, :].count_alleles()\n",
    "    # calculate Hudson's Fst (weighted)\n",
    "    # num, denome are the per-site of the numerator and denominator\n",
    "    num, denom = allel.hudson_fst(ac1, ac2)\n",
    "\n",
    "    # do bootstrap, sample sites with replacement, n_boot times\n",
    "    # bt_weights is a 2D-array giving the number of times\n",
    "    # each site is sampled for each of the n_boot replicates\n",
    "    bt_weights = np.random.multinomial(\n",
    "        n=ts.num_sites,\n",
    "        pvals=np.ones(ts.num_sites)/ts.num_sites,\n",
    "        size=n_boot\n",
    "    )\n",
    "    # weight the per-site values of (num, denom) by bt_weights, sum over reps\n",
    "    bt_vals = (num*bt_weights).sum(1) / (denom*bt_weights).sum(1)\n",
    "\n",
    "    # jackknife - rather than generating the weighting via random sampling,\n",
    "    # we exclude each site in turn\n",
    "    numsum = num.sum()\n",
    "    denomsum = denom.sum()\n",
    "    jk_vals = (numsum - num) / (denomsum - denom)\n",
    "\n",
    "    res['bt_sites'] = bt_vals\n",
    "    res['jk_sites'] = jk_vals\n",
    "    # additional resampling methods could be used, (e.g. block jacknife)\n",
    "    # just add them here and include a new name in the res dictionary\n",
    "    # with the value set to the Fst across the resampled data sets.\n",
    "\n",
    "    return res"
   ]
  },
  {
   "cell_type": "markdown",
   "metadata": {},
   "source": [
    "## Here we investigate how the number of individuals and sites observed affects the coverage of CIs generated via resampling.\n",
    "\n",
    "In each case, we observe [ninds = 25 or 50] diploid individuals and [nsites = 1000, or 100000] sites. \n",
    "\n",
    "We conduct 5 base simulations, and for each combination of **ninds** and **nsites** we conduct jackknife and bootstrap resampling 20 times [nrep] over both sites and individuals. Each simulation has population with size 200 and a split time of 50 generations. \n",
    "\n",
    "For each bootstrap replicate, we conduct 100 [n_boot] samplings with replacement. For each jackknife replicate, we leave each item out once.\n",
    "\n",
    "We return the results in a [pandas.DataFrame](https://pandas.pydata.org/docs/reference/api/pandas.DataFrame.html), with some metadata about each analysis, as well as the Fst calculated on each resampling iteration. "
   ]
  },
  {
   "cell_type": "code",
   "execution_count": 23,
   "metadata": {},
   "outputs": [
    {
     "name": "stdout",
     "output_type": "stream",
     "text": [
      "finished: 0, 25, 1000\n",
      "finished: 0, 25, 100000\n",
      "finished: 0, 50, 1000\n",
      "finished: 0, 50, 100000\n",
      "finished: 1, 25, 1000\n",
      "finished: 1, 25, 100000\n",
      "finished: 1, 50, 1000\n",
      "finished: 1, 50, 100000\n",
      "finished: 2, 25, 1000\n",
      "finished: 2, 25, 100000\n",
      "finished: 2, 50, 1000\n",
      "finished: 2, 50, 100000\n",
      "finished: 3, 25, 1000\n",
      "finished: 3, 25, 100000\n",
      "finished: 3, 50, 1000\n",
      "finished: 3, 50, 100000\n",
      "finished: 4, 25, 1000\n",
      "finished: 4, 25, 100000\n",
      "finished: 4, 50, 1000\n",
      "finished: 4, 50, 100000\n"
     ]
    }
   ],
   "source": [
    "n_cores = 10\n",
    "n_boot = 100\n",
    "res = [] # list to hold results\n",
    "\n",
    "nsim = 5\n",
    "ninds = [25, 50]\n",
    "nsites = [1000, 100000]\n",
    "nrep = 20\n",
    "for S in range(nsim):\n",
    "    pop_ts = sim_population(\n",
    "        diploid_size=200, \n",
    "        split_time=50,\n",
    "        seq_len=1e9,\n",
    "        rec_rate=1e-8,\n",
    "        mut_rate=1e-8\n",
    "    )\n",
    "    sim_fst = get_expected_Fst(N=200, T=50) # N, T should match values passed to sim_population()\n",
    "    pop_fst = get_target(summary_func=get_fst_general, ts=pop_ts)\n",
    "    for N in ninds:\n",
    "        for L in nsites:\n",
    "            for rep in range(nrep): \n",
    "                obs_ts = observe(pop_ts, num_inds=N, max_sites=L)\n",
    "                obs_fst = get_target(summary_func=get_fst_general, ts=obs_ts)\n",
    "                # resample over inds\n",
    "                res_ind = resample_inds_fst(ts=obs_ts, n_boot=n_boot, n_cores=n_cores)\n",
    "                for (method, vals) in res_ind.items():\n",
    "                    res.append([S, N, L, rep, obs_ts.num_sites, sim_fst, pop_fst, obs_fst, method, vals])\n",
    "                \n",
    "                # resample over sites\n",
    "                res_site = resample_sites_fst(ts=obs_ts, n_boot=n_boot)\n",
    "                # calculate confidence intervals here\n",
    "                for (method, vals) in res_site.items():\n",
    "                    res.append([S, N, L, rep, obs_ts.num_sites, sim_fst, pop_fst, obs_fst, method, vals])\n",
    "            print(f'finished: {S}, {N}, {L}')"
   ]
  },
  {
   "cell_type": "code",
   "execution_count": 24,
   "metadata": {},
   "outputs": [
    {
     "data": {
      "text/html": [
       "<div>\n",
       "<style scoped>\n",
       "    .dataframe tbody tr th:only-of-type {\n",
       "        vertical-align: middle;\n",
       "    }\n",
       "\n",
       "    .dataframe tbody tr th {\n",
       "        vertical-align: top;\n",
       "    }\n",
       "\n",
       "    .dataframe thead th {\n",
       "        text-align: right;\n",
       "    }\n",
       "</style>\n",
       "<table border=\"1\" class=\"dataframe\">\n",
       "  <thead>\n",
       "    <tr style=\"text-align: right;\">\n",
       "      <th></th>\n",
       "      <th>simID</th>\n",
       "      <th>N_obs</th>\n",
       "      <th>L_obs</th>\n",
       "      <th>rep_obs</th>\n",
       "      <th>nsites</th>\n",
       "      <th>sim_fst</th>\n",
       "      <th>pop_fst</th>\n",
       "      <th>obs_fst</th>\n",
       "      <th>method</th>\n",
       "      <th>vals</th>\n",
       "    </tr>\n",
       "  </thead>\n",
       "  <tbody>\n",
       "    <tr>\n",
       "      <th>0</th>\n",
       "      <td>0</td>\n",
       "      <td>25</td>\n",
       "      <td>1000</td>\n",
       "      <td>0</td>\n",
       "      <td>1000</td>\n",
       "      <td>0.117641</td>\n",
       "      <td>0.110806</td>\n",
       "      <td>0.105560</td>\n",
       "      <td>bt_inds</td>\n",
       "      <td>[0.12775023751921952, 0.11950721922013961, 0.1...</td>\n",
       "    </tr>\n",
       "    <tr>\n",
       "      <th>1</th>\n",
       "      <td>0</td>\n",
       "      <td>25</td>\n",
       "      <td>1000</td>\n",
       "      <td>0</td>\n",
       "      <td>1000</td>\n",
       "      <td>0.117641</td>\n",
       "      <td>0.110806</td>\n",
       "      <td>0.105560</td>\n",
       "      <td>jk_inds</td>\n",
       "      <td>[0.12007719735488832, 0.11109491650488501, 0.1...</td>\n",
       "    </tr>\n",
       "    <tr>\n",
       "      <th>2</th>\n",
       "      <td>0</td>\n",
       "      <td>25</td>\n",
       "      <td>1000</td>\n",
       "      <td>0</td>\n",
       "      <td>1000</td>\n",
       "      <td>0.117641</td>\n",
       "      <td>0.110806</td>\n",
       "      <td>0.105560</td>\n",
       "      <td>bt_sites</td>\n",
       "      <td>[0.11222246565315662, 0.10589863191019262, 0.1...</td>\n",
       "    </tr>\n",
       "    <tr>\n",
       "      <th>3</th>\n",
       "      <td>0</td>\n",
       "      <td>25</td>\n",
       "      <td>1000</td>\n",
       "      <td>0</td>\n",
       "      <td>1000</td>\n",
       "      <td>0.117641</td>\n",
       "      <td>0.110806</td>\n",
       "      <td>0.105560</td>\n",
       "      <td>jk_sites</td>\n",
       "      <td>[0.10557292821519125, 0.10575149851493383, 0.1...</td>\n",
       "    </tr>\n",
       "    <tr>\n",
       "      <th>4</th>\n",
       "      <td>0</td>\n",
       "      <td>25</td>\n",
       "      <td>1000</td>\n",
       "      <td>1</td>\n",
       "      <td>1000</td>\n",
       "      <td>0.117641</td>\n",
       "      <td>0.110806</td>\n",
       "      <td>0.103995</td>\n",
       "      <td>bt_inds</td>\n",
       "      <td>[0.12137080991078142, 0.13247973713263858, 0.1...</td>\n",
       "    </tr>\n",
       "    <tr>\n",
       "      <th>...</th>\n",
       "      <td>...</td>\n",
       "      <td>...</td>\n",
       "      <td>...</td>\n",
       "      <td>...</td>\n",
       "      <td>...</td>\n",
       "      <td>...</td>\n",
       "      <td>...</td>\n",
       "      <td>...</td>\n",
       "      <td>...</td>\n",
       "      <td>...</td>\n",
       "    </tr>\n",
       "    <tr>\n",
       "      <th>1595</th>\n",
       "      <td>4</td>\n",
       "      <td>50</td>\n",
       "      <td>100000</td>\n",
       "      <td>18</td>\n",
       "      <td>31060</td>\n",
       "      <td>0.117641</td>\n",
       "      <td>0.111999</td>\n",
       "      <td>0.110391</td>\n",
       "      <td>jk_sites</td>\n",
       "      <td>[0.11039113767279728, 0.11039140373084193, 0.1...</td>\n",
       "    </tr>\n",
       "    <tr>\n",
       "      <th>1596</th>\n",
       "      <td>4</td>\n",
       "      <td>50</td>\n",
       "      <td>100000</td>\n",
       "      <td>19</td>\n",
       "      <td>31034</td>\n",
       "      <td>0.117641</td>\n",
       "      <td>0.111999</td>\n",
       "      <td>0.111737</td>\n",
       "      <td>bt_inds</td>\n",
       "      <td>[0.11700800746740846, 0.12160664457678791, 0.1...</td>\n",
       "    </tr>\n",
       "    <tr>\n",
       "      <th>1597</th>\n",
       "      <td>4</td>\n",
       "      <td>50</td>\n",
       "      <td>100000</td>\n",
       "      <td>19</td>\n",
       "      <td>31034</td>\n",
       "      <td>0.117641</td>\n",
       "      <td>0.111999</td>\n",
       "      <td>0.111737</td>\n",
       "      <td>jk_inds</td>\n",
       "      <td>[0.11554338161517841, 0.11433622913291283, 0.1...</td>\n",
       "    </tr>\n",
       "    <tr>\n",
       "      <th>1598</th>\n",
       "      <td>4</td>\n",
       "      <td>50</td>\n",
       "      <td>100000</td>\n",
       "      <td>19</td>\n",
       "      <td>31034</td>\n",
       "      <td>0.117641</td>\n",
       "      <td>0.111999</td>\n",
       "      <td>0.111737</td>\n",
       "      <td>bt_sites</td>\n",
       "      <td>[0.11162668688485056, 0.11133754655552033, 0.1...</td>\n",
       "    </tr>\n",
       "    <tr>\n",
       "      <th>1599</th>\n",
       "      <td>4</td>\n",
       "      <td>50</td>\n",
       "      <td>100000</td>\n",
       "      <td>19</td>\n",
       "      <td>31034</td>\n",
       "      <td>0.117641</td>\n",
       "      <td>0.111999</td>\n",
       "      <td>0.111737</td>\n",
       "      <td>jk_sites</td>\n",
       "      <td>[0.11173678630059485, 0.11173678630059485, 0.1...</td>\n",
       "    </tr>\n",
       "  </tbody>\n",
       "</table>\n",
       "<p>1600 rows × 10 columns</p>\n",
       "</div>"
      ],
      "text/plain": [
       "      simID  N_obs   L_obs  rep_obs  nsites   sim_fst   pop_fst   obs_fst  \\\n",
       "0         0     25    1000        0    1000  0.117641  0.110806  0.105560   \n",
       "1         0     25    1000        0    1000  0.117641  0.110806  0.105560   \n",
       "2         0     25    1000        0    1000  0.117641  0.110806  0.105560   \n",
       "3         0     25    1000        0    1000  0.117641  0.110806  0.105560   \n",
       "4         0     25    1000        1    1000  0.117641  0.110806  0.103995   \n",
       "...     ...    ...     ...      ...     ...       ...       ...       ...   \n",
       "1595      4     50  100000       18   31060  0.117641  0.111999  0.110391   \n",
       "1596      4     50  100000       19   31034  0.117641  0.111999  0.111737   \n",
       "1597      4     50  100000       19   31034  0.117641  0.111999  0.111737   \n",
       "1598      4     50  100000       19   31034  0.117641  0.111999  0.111737   \n",
       "1599      4     50  100000       19   31034  0.117641  0.111999  0.111737   \n",
       "\n",
       "        method                                               vals  \n",
       "0      bt_inds  [0.12775023751921952, 0.11950721922013961, 0.1...  \n",
       "1      jk_inds  [0.12007719735488832, 0.11109491650488501, 0.1...  \n",
       "2     bt_sites  [0.11222246565315662, 0.10589863191019262, 0.1...  \n",
       "3     jk_sites  [0.10557292821519125, 0.10575149851493383, 0.1...  \n",
       "4      bt_inds  [0.12137080991078142, 0.13247973713263858, 0.1...  \n",
       "...        ...                                                ...  \n",
       "1595  jk_sites  [0.11039113767279728, 0.11039140373084193, 0.1...  \n",
       "1596   bt_inds  [0.11700800746740846, 0.12160664457678791, 0.1...  \n",
       "1597   jk_inds  [0.11554338161517841, 0.11433622913291283, 0.1...  \n",
       "1598  bt_sites  [0.11162668688485056, 0.11133754655552033, 0.1...  \n",
       "1599  jk_sites  [0.11173678630059485, 0.11173678630059485, 0.1...  \n",
       "\n",
       "[1600 rows x 10 columns]"
      ]
     },
     "execution_count": 24,
     "metadata": {},
     "output_type": "execute_result"
    }
   ],
   "source": [
    "res_df = pd.DataFrame(res)\n",
    "res_df.columns = ['simID', 'N_obs', 'L_obs', 'rep_obs', 'nsites', 'sim_fst', 'pop_fst', 'obs_fst', 'method', 'vals']\n",
    "res_df"
   ]
  },
  {
   "cell_type": "markdown",
   "metadata": {},
   "source": [
    "### Writing the results to disk and loading again\n",
    "Notice saving in text (csv) format converts the arrays within the vals column into strings.\n",
    "\n",
    "\n",
    "So here we use the feather format [link](https://pandas.pydata.org/docs/reference/api/pandas.DataFrame.to_feather.html)"
   ]
  },
  {
   "cell_type": "code",
   "execution_count": 37,
   "metadata": {},
   "outputs": [],
   "source": [
    "# requires \n",
    "res_df.to_feather(path='trial_data.july22.feather')"
   ]
  },
  {
   "cell_type": "code",
   "execution_count": 40,
   "metadata": {},
   "outputs": [
    {
     "data": {
      "text/html": [
       "<div>\n",
       "<style scoped>\n",
       "    .dataframe tbody tr th:only-of-type {\n",
       "        vertical-align: middle;\n",
       "    }\n",
       "\n",
       "    .dataframe tbody tr th {\n",
       "        vertical-align: top;\n",
       "    }\n",
       "\n",
       "    .dataframe thead th {\n",
       "        text-align: right;\n",
       "    }\n",
       "</style>\n",
       "<table border=\"1\" class=\"dataframe\">\n",
       "  <thead>\n",
       "    <tr style=\"text-align: right;\">\n",
       "      <th></th>\n",
       "      <th>simID</th>\n",
       "      <th>N_obs</th>\n",
       "      <th>L_obs</th>\n",
       "      <th>rep_obs</th>\n",
       "      <th>nsites</th>\n",
       "      <th>sim_fst</th>\n",
       "      <th>pop_fst</th>\n",
       "      <th>obs_fst</th>\n",
       "      <th>method</th>\n",
       "      <th>vals</th>\n",
       "    </tr>\n",
       "  </thead>\n",
       "  <tbody>\n",
       "    <tr>\n",
       "      <th>0</th>\n",
       "      <td>0</td>\n",
       "      <td>25</td>\n",
       "      <td>1000</td>\n",
       "      <td>0</td>\n",
       "      <td>1000</td>\n",
       "      <td>0.117641</td>\n",
       "      <td>0.110806</td>\n",
       "      <td>0.105560</td>\n",
       "      <td>bt_inds</td>\n",
       "      <td>[0.12775023751921952, 0.11950721922013961, 0.1...</td>\n",
       "    </tr>\n",
       "    <tr>\n",
       "      <th>1</th>\n",
       "      <td>0</td>\n",
       "      <td>25</td>\n",
       "      <td>1000</td>\n",
       "      <td>0</td>\n",
       "      <td>1000</td>\n",
       "      <td>0.117641</td>\n",
       "      <td>0.110806</td>\n",
       "      <td>0.105560</td>\n",
       "      <td>jk_inds</td>\n",
       "      <td>[0.12007719735488832, 0.11109491650488501, 0.1...</td>\n",
       "    </tr>\n",
       "    <tr>\n",
       "      <th>2</th>\n",
       "      <td>0</td>\n",
       "      <td>25</td>\n",
       "      <td>1000</td>\n",
       "      <td>0</td>\n",
       "      <td>1000</td>\n",
       "      <td>0.117641</td>\n",
       "      <td>0.110806</td>\n",
       "      <td>0.105560</td>\n",
       "      <td>bt_sites</td>\n",
       "      <td>[0.11222246565315662, 0.10589863191019262, 0.1...</td>\n",
       "    </tr>\n",
       "    <tr>\n",
       "      <th>3</th>\n",
       "      <td>0</td>\n",
       "      <td>25</td>\n",
       "      <td>1000</td>\n",
       "      <td>0</td>\n",
       "      <td>1000</td>\n",
       "      <td>0.117641</td>\n",
       "      <td>0.110806</td>\n",
       "      <td>0.105560</td>\n",
       "      <td>jk_sites</td>\n",
       "      <td>[0.10557292821519125, 0.10575149851493383, 0.1...</td>\n",
       "    </tr>\n",
       "    <tr>\n",
       "      <th>4</th>\n",
       "      <td>0</td>\n",
       "      <td>25</td>\n",
       "      <td>1000</td>\n",
       "      <td>1</td>\n",
       "      <td>1000</td>\n",
       "      <td>0.117641</td>\n",
       "      <td>0.110806</td>\n",
       "      <td>0.103995</td>\n",
       "      <td>bt_inds</td>\n",
       "      <td>[0.12137080991078142, 0.13247973713263858, 0.1...</td>\n",
       "    </tr>\n",
       "    <tr>\n",
       "      <th>...</th>\n",
       "      <td>...</td>\n",
       "      <td>...</td>\n",
       "      <td>...</td>\n",
       "      <td>...</td>\n",
       "      <td>...</td>\n",
       "      <td>...</td>\n",
       "      <td>...</td>\n",
       "      <td>...</td>\n",
       "      <td>...</td>\n",
       "      <td>...</td>\n",
       "    </tr>\n",
       "    <tr>\n",
       "      <th>1595</th>\n",
       "      <td>4</td>\n",
       "      <td>50</td>\n",
       "      <td>100000</td>\n",
       "      <td>18</td>\n",
       "      <td>31060</td>\n",
       "      <td>0.117641</td>\n",
       "      <td>0.111999</td>\n",
       "      <td>0.110391</td>\n",
       "      <td>jk_sites</td>\n",
       "      <td>[0.11039113767279728, 0.11039140373084193, 0.1...</td>\n",
       "    </tr>\n",
       "    <tr>\n",
       "      <th>1596</th>\n",
       "      <td>4</td>\n",
       "      <td>50</td>\n",
       "      <td>100000</td>\n",
       "      <td>19</td>\n",
       "      <td>31034</td>\n",
       "      <td>0.117641</td>\n",
       "      <td>0.111999</td>\n",
       "      <td>0.111737</td>\n",
       "      <td>bt_inds</td>\n",
       "      <td>[0.11700800746740846, 0.12160664457678791, 0.1...</td>\n",
       "    </tr>\n",
       "    <tr>\n",
       "      <th>1597</th>\n",
       "      <td>4</td>\n",
       "      <td>50</td>\n",
       "      <td>100000</td>\n",
       "      <td>19</td>\n",
       "      <td>31034</td>\n",
       "      <td>0.117641</td>\n",
       "      <td>0.111999</td>\n",
       "      <td>0.111737</td>\n",
       "      <td>jk_inds</td>\n",
       "      <td>[0.11554338161517841, 0.11433622913291283, 0.1...</td>\n",
       "    </tr>\n",
       "    <tr>\n",
       "      <th>1598</th>\n",
       "      <td>4</td>\n",
       "      <td>50</td>\n",
       "      <td>100000</td>\n",
       "      <td>19</td>\n",
       "      <td>31034</td>\n",
       "      <td>0.117641</td>\n",
       "      <td>0.111999</td>\n",
       "      <td>0.111737</td>\n",
       "      <td>bt_sites</td>\n",
       "      <td>[0.11162668688485056, 0.11133754655552033, 0.1...</td>\n",
       "    </tr>\n",
       "    <tr>\n",
       "      <th>1599</th>\n",
       "      <td>4</td>\n",
       "      <td>50</td>\n",
       "      <td>100000</td>\n",
       "      <td>19</td>\n",
       "      <td>31034</td>\n",
       "      <td>0.117641</td>\n",
       "      <td>0.111999</td>\n",
       "      <td>0.111737</td>\n",
       "      <td>jk_sites</td>\n",
       "      <td>[0.11173678630059485, 0.11173678630059485, 0.1...</td>\n",
       "    </tr>\n",
       "  </tbody>\n",
       "</table>\n",
       "<p>1600 rows × 10 columns</p>\n",
       "</div>"
      ],
      "text/plain": [
       "      simID  N_obs   L_obs  rep_obs  nsites   sim_fst   pop_fst   obs_fst  \\\n",
       "0         0     25    1000        0    1000  0.117641  0.110806  0.105560   \n",
       "1         0     25    1000        0    1000  0.117641  0.110806  0.105560   \n",
       "2         0     25    1000        0    1000  0.117641  0.110806  0.105560   \n",
       "3         0     25    1000        0    1000  0.117641  0.110806  0.105560   \n",
       "4         0     25    1000        1    1000  0.117641  0.110806  0.103995   \n",
       "...     ...    ...     ...      ...     ...       ...       ...       ...   \n",
       "1595      4     50  100000       18   31060  0.117641  0.111999  0.110391   \n",
       "1596      4     50  100000       19   31034  0.117641  0.111999  0.111737   \n",
       "1597      4     50  100000       19   31034  0.117641  0.111999  0.111737   \n",
       "1598      4     50  100000       19   31034  0.117641  0.111999  0.111737   \n",
       "1599      4     50  100000       19   31034  0.117641  0.111999  0.111737   \n",
       "\n",
       "        method                                               vals  \n",
       "0      bt_inds  [0.12775023751921952, 0.11950721922013961, 0.1...  \n",
       "1      jk_inds  [0.12007719735488832, 0.11109491650488501, 0.1...  \n",
       "2     bt_sites  [0.11222246565315662, 0.10589863191019262, 0.1...  \n",
       "3     jk_sites  [0.10557292821519125, 0.10575149851493383, 0.1...  \n",
       "4      bt_inds  [0.12137080991078142, 0.13247973713263858, 0.1...  \n",
       "...        ...                                                ...  \n",
       "1595  jk_sites  [0.11039113767279728, 0.11039140373084193, 0.1...  \n",
       "1596   bt_inds  [0.11700800746740846, 0.12160664457678791, 0.1...  \n",
       "1597   jk_inds  [0.11554338161517841, 0.11433622913291283, 0.1...  \n",
       "1598  bt_sites  [0.11162668688485056, 0.11133754655552033, 0.1...  \n",
       "1599  jk_sites  [0.11173678630059485, 0.11173678630059485, 0.1...  \n",
       "\n",
       "[1600 rows x 10 columns]"
      ]
     },
     "execution_count": 40,
     "metadata": {},
     "output_type": "execute_result"
    }
   ],
   "source": [
    "res_df2 = pd.read_feather(path='trial_data.july22.feather')\n",
    "res_df2"
   ]
  }
 ],
 "metadata": {
  "kernelspec": {
   "display_name": "Python 3",
   "language": "python",
   "name": "python3"
  },
  "language_info": {
   "codemirror_mode": {
    "name": "ipython",
    "version": 3
   },
   "file_extension": ".py",
   "mimetype": "text/x-python",
   "name": "python",
   "nbconvert_exporter": "python",
   "pygments_lexer": "ipython3",
   "version": "3.8.3"
  }
 },
 "nbformat": 4,
 "nbformat_minor": 4
}

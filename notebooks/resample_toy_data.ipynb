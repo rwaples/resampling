{
 "cells": [
  {
   "cell_type": "markdown",
   "metadata": {},
   "source": [
    "# Resampling over sample data to verify the functions"
   ]
  },
  {
   "cell_type": "code",
   "execution_count": 1,
   "metadata": {},
   "outputs": [],
   "source": [
    "from sklearn.datasets import load_iris\n",
    "from sklearn.model_selection import KFold\n",
    "import numpy as np\n",
    "import pandas as pd\n",
    "import seaborn as sns\n",
    "import matplotlib.pyplot as plt\n",
    "from math import sqrt\n",
    "from statistics import mean, stdev\n",
    "from scipy.stats import norm"
   ]
  },
  {
   "cell_type": "code",
   "execution_count": 2,
   "metadata": {},
   "outputs": [
    {
     "name": "stdout",
     "output_type": "stream",
     "text": [
      "matplotlib: 3.4.2\n"
     ]
    }
   ],
   "source": [
    "import matplotlib\n",
    "print('matplotlib: {}'.format(matplotlib.__version__))"
   ]
  },
  {
   "cell_type": "code",
   "execution_count": 3,
   "metadata": {},
   "outputs": [
    {
     "data": {
      "text/html": [
       "<div>\n",
       "<style scoped>\n",
       "    .dataframe tbody tr th:only-of-type {\n",
       "        vertical-align: middle;\n",
       "    }\n",
       "\n",
       "    .dataframe tbody tr th {\n",
       "        vertical-align: top;\n",
       "    }\n",
       "\n",
       "    .dataframe thead th {\n",
       "        text-align: right;\n",
       "    }\n",
       "</style>\n",
       "<table border=\"1\" class=\"dataframe\">\n",
       "  <thead>\n",
       "    <tr style=\"text-align: right;\">\n",
       "      <th></th>\n",
       "      <th>sepal length (cm)</th>\n",
       "      <th>sepal width (cm)</th>\n",
       "      <th>petal length (cm)</th>\n",
       "      <th>petal width (cm)</th>\n",
       "    </tr>\n",
       "  </thead>\n",
       "  <tbody>\n",
       "    <tr>\n",
       "      <th>0</th>\n",
       "      <td>5.1</td>\n",
       "      <td>3.5</td>\n",
       "      <td>1.4</td>\n",
       "      <td>0.2</td>\n",
       "    </tr>\n",
       "    <tr>\n",
       "      <th>1</th>\n",
       "      <td>4.9</td>\n",
       "      <td>3.0</td>\n",
       "      <td>1.4</td>\n",
       "      <td>0.2</td>\n",
       "    </tr>\n",
       "    <tr>\n",
       "      <th>2</th>\n",
       "      <td>4.7</td>\n",
       "      <td>3.2</td>\n",
       "      <td>1.3</td>\n",
       "      <td>0.2</td>\n",
       "    </tr>\n",
       "    <tr>\n",
       "      <th>3</th>\n",
       "      <td>4.6</td>\n",
       "      <td>3.1</td>\n",
       "      <td>1.5</td>\n",
       "      <td>0.2</td>\n",
       "    </tr>\n",
       "    <tr>\n",
       "      <th>4</th>\n",
       "      <td>5.0</td>\n",
       "      <td>3.6</td>\n",
       "      <td>1.4</td>\n",
       "      <td>0.2</td>\n",
       "    </tr>\n",
       "  </tbody>\n",
       "</table>\n",
       "</div>"
      ],
      "text/plain": [
       "   sepal length (cm)  sepal width (cm)  petal length (cm)  petal width (cm)\n",
       "0                5.1               3.5                1.4               0.2\n",
       "1                4.9               3.0                1.4               0.2\n",
       "2                4.7               3.2                1.3               0.2\n",
       "3                4.6               3.1                1.5               0.2\n",
       "4                5.0               3.6                1.4               0.2"
      ]
     },
     "execution_count": 3,
     "metadata": {},
     "output_type": "execute_result"
    }
   ],
   "source": [
    "# load iris data \n",
    "iris = load_iris()\n",
    "df = pd.DataFrame(iris['data'], columns=iris['feature_names'])\n",
    "df.head()"
   ]
  },
  {
   "cell_type": "code",
   "execution_count": 4,
   "metadata": {},
   "outputs": [
    {
     "data": {
      "text/plain": [
       "Text(0.5, 0, 'Sepal Width')"
      ]
     },
     "execution_count": 4,
     "metadata": {},
     "output_type": "execute_result"
    },
    {
     "data": {
      "image/png": "[encoded data removed]",
      "text/plain": [
       "<Figure size 900x600 with 1 Axes>"
      ]
     },
     "metadata": {
      "needs_background": "light"
     },
     "output_type": "display_data"
    }
   ],
   "source": [
    "plt.figure(dpi=150)\n",
    "sns.histplot(df['sepal width (cm)'])\n",
    "plt.title('Histogram of Sepal Width')\n",
    "plt.xlabel('Sepal Width')"
   ]
  },
  {
   "cell_type": "code",
   "execution_count": 5,
   "metadata": {},
   "outputs": [
    {
     "name": "stdout",
     "output_type": "stream",
     "text": [
      "The mean for sepal width is 3.0573333333333332\n"
     ]
    }
   ],
   "source": [
    "sepal_width = df['sepal width (cm)']\n",
    "pop_mean = mean(sepal_width)\n",
    "print('The mean for sepal width is', pop_mean)"
   ]
  },
  {
   "cell_type": "markdown",
   "metadata": {},
   "source": [
    "## From the whole population, we only observe 50 data and we would like to estimate the mean for the whole population from the observed data."
   ]
  },
  {
   "cell_type": "code",
   "execution_count": 6,
   "metadata": {},
   "outputs": [
    {
     "data": {
      "text/plain": [
       "array([3.2, 3.4, 3.2, 3. , 3.5, 3. , 2.8, 3.8, 3. , 2.9, 3. , 3.4, 2.8,\n",
       "       2.6, 3. , 2.5, 3.8, 3.1, 3.2, 2.8, 3.2, 3.6, 2.8, 3. , 3.2, 3.9,\n",
       "       4.4, 3. , 2.9, 2.9, 3.5, 3.2, 2.5, 3. , 3.8, 3.4, 2.4, 2.6, 2.8,\n",
       "       4.2, 2.9, 3.2, 3.4, 2.8, 3. , 3. , 2.6, 2.8, 2.7, 3.4])"
      ]
     },
     "execution_count": 6,
     "metadata": {},
     "output_type": "execute_result"
    }
   ],
   "source": [
    "obs_width = np.random.choice(sepal_width, size=50, replace=False)\n",
    "obs_width"
   ]
  },
  {
   "cell_type": "code",
   "execution_count": 7,
   "metadata": {},
   "outputs": [],
   "source": [
    "def bootstrap(data, bootstrap_size, func):\n",
    "    '''\n",
    "    data: data to bootstrap\n",
    "    bootstrap_size: bootstrap size\n",
    "    func: parameter to estimate\n",
    "    '''\n",
    "    n = len(data)\n",
    "    param_bt = [0] * bootstrap_size\n",
    "    \n",
    "    for i in range(bootstrap_size):\n",
    "        sample_bt = np.random.choice(data, n, replace=True)\n",
    "        param_bt[i] = func(sample_bt)\n",
    "        \n",
    "    return param_bt"
   ]
  },
  {
   "cell_type": "code",
   "execution_count": 8,
   "metadata": {},
   "outputs": [],
   "source": [
    "width_mean_bt = bootstrap(obs_width, 10000, mean)"
   ]
  },
  {
   "cell_type": "code",
   "execution_count": 20,
   "metadata": {},
   "outputs": [],
   "source": [
    "def get_CI_normal(data, confidence, est_param):\n",
    "    '''\n",
    "    @data: estimated parameters (e.g. means of 1000 resample data)\n",
    "    @confidence: width of the interval\n",
    "    @est_param: value of the estimated parameter of the data that is resampled\n",
    "    '''\n",
    "    qnorm = abs(norm.ppf((1 - confidence) / 2))\n",
    "\n",
    "    upper = est_param + qnorm * np.std(data, ddof=1) # change degree of freedom\n",
    "    lower = est_param - qnorm * np.std(data, ddof=1)\n",
    "\n",
    "    return lower, upper\n",
    "\n",
    "\n",
    "def get_CI_quantile(data, confidence, est_param=None):\n",
    "    \n",
    "    cutoff = (1 - confidence) / 2\n",
    "    lower = np.quantile(data, cutoff)\n",
    "    upper = np.quantile(data, 1 - cutoff)\n",
    "\n",
    "    return lower, upper\n",
    "\n",
    "\n",
    "def get_CI_biased_corrected_norm(data, confidence, est_param=None):\n",
    "    param_bar = mean(data)\n",
    "    est_bias = param_bar - est_param\n",
    "    est_param -= est_bias\n",
    "    \n",
    "    qnorm = abs(norm.ppf((1 - confidence) / 2))\n",
    "\n",
    "    upper = est_param + qnorm * np.std(data, ddof=1)\n",
    "    lower = est_param - qnorm * np.std(data, ddof=1)\n",
    "    \n",
    "    return lower, upper"
   ]
  },
  {
   "cell_type": "code",
   "execution_count": 10,
   "metadata": {},
   "outputs": [],
   "source": [
    "normal = get_CI_normal(width_mean_bt, 0.95, mean(obs_width))"
   ]
  },
  {
   "cell_type": "code",
   "execution_count": 11,
   "metadata": {},
   "outputs": [],
   "source": [
    "quantile = get_CI_quantile(width_mean_bt, 0.95, mean(obs_width))"
   ]
  },
  {
   "cell_type": "code",
   "execution_count": 12,
   "metadata": {},
   "outputs": [],
   "source": [
    "biased = get_CI_biased_corrected_norm(width_mean_bt, 0.95, mean(obs_width))"
   ]
  },
  {
   "cell_type": "code",
   "execution_count": 13,
   "metadata": {},
   "outputs": [
    {
     "name": "stdout",
     "output_type": "stream",
     "text": [
      "The population mean is 3.0573333333333332 \n",
      "\n",
      "The observed mean is 3.122 \n",
      "\n",
      "Normal CI (3.0048529555409913, 3.2391470444590085) \n",
      "\n",
      "Normal CI (3.008, 3.2439999999999998) \n",
      "\n",
      "Normal CI (3.004951555540991, 3.2392456444590083) \n",
      "\n"
     ]
    }
   ],
   "source": [
    "print('The population mean is', pop_mean, '\\n')\n",
    "print('The observed mean is', mean(obs_width), '\\n')\n",
    "print('Normal CI', normal, '\\n')\n",
    "print('Normal CI', quantile, '\\n')\n",
    "print('Normal CI', biased, '\\n')"
   ]
  },
  {
   "cell_type": "code",
   "execution_count": 14,
   "metadata": {},
   "outputs": [
    {
     "data": {
      "image/png": "[encoded data removed]",
      "text/plain": [
       "<Figure size 1080x720 with 1 Axes>"
      ]
     },
     "metadata": {
      "needs_background": "light"
     },
     "output_type": "display_data"
    }
   ],
   "source": [
    "fig = plt.figure(dpi=180)\n",
    "sns.histplot(width_mean_bt)\n",
    "plt.axvline(x=mean(obs_width), color = 'r', label = 'observe')\n",
    "plt.axvline(x=pop_mean, color = 'g', label = 'pop')\n",
    "plt.axvline(x=normal[0], color = 'b', label = 'normal')\n",
    "plt.axvline(x=normal[1], color = 'b')\n",
    "plt.axvline(x=quantile[0], color = 'm', label = 'quantile')\n",
    "plt.axvline(x=quantile[1], color = 'm')\n",
    "plt.axvline(x=biased[0], color = 'y', label = 'biased corrected')\n",
    "plt.axvline(x=biased[1], color = 'y')\n",
    "plt.legend(loc='best', fontsize = 'xx-small')\n",
    "plt.xlabel('Estimate parameters of the resample data')\n",
    "plt.show()"
   ]
  },
  {
   "cell_type": "code",
   "execution_count": 14,
   "metadata": {},
   "outputs": [],
   "source": [
    "# pseudo values method \n",
    "def jackknife(x, func):\n",
    "    n = len(x)\n",
    "    pse = []\n",
    "    idx = np.arange(n)\n",
    "    \n",
    "    for i in range(n):\n",
    "        one_out = x[idx != i]\n",
    "        pse.append(n * func(x) - (n - 1) * func(one_out))\n",
    "        \n",
    "    return pse\n",
    "        \n",
    "\n",
    "def jackknife_block(x, func, nfold):\n",
    "    kf = KFold(n_splits=nfold)\n",
    "    pse = []\n",
    "    \n",
    "    for index,_ in kf.split(x):\n",
    "        block = x[index]\n",
    "        pse.append(nfold * func(x) - (nfold - 1) * func(block))\n",
    "        \n",
    "    return np.array(pse)\n",
    "\n",
    "\n",
    "def jk_get_CI(x, confidence):\n",
    "    \n",
    "    qnorm = abs(norm.ppf((1 - confidence) / 2))\n",
    "\n",
    "    upper = mean(x) + qnorm * np.std(x, ddof=1) / sqrt(len(x)) # change degree of freedom\n",
    "    lower = mean(x) - qnorm * np.std(x, ddof=1) / sqrt(len(x))\n",
    "\n",
    "    return lower, upper"
   ]
  },
  {
   "cell_type": "code",
   "execution_count": 16,
   "metadata": {},
   "outputs": [],
   "source": [
    "jk = jackknife(obs_width, mean)\n",
    "jk_CI = jk_get_CI(jk, 0.95)"
   ]
  },
  {
   "cell_type": "code",
   "execution_count": 17,
   "metadata": {},
   "outputs": [],
   "source": [
    "jk_block = jackknife_block(obs_width, mean, nfold=5)\n",
    "jk_block_CI = jk_get_CI(jk_block, 0.95)"
   ]
  },
  {
   "cell_type": "code",
   "execution_count": 18,
   "metadata": {},
   "outputs": [
    {
     "name": "stdout",
     "output_type": "stream",
     "text": [
      "The population mean is 3.0573333333333332 \n",
      "\n",
      "The observed mean is 3.06 \n",
      "\n",
      "Normal CI by Jackknife is (2.9226026703150536, 3.1973973296849474) \n",
      "\n",
      "Normal CI by Jackknife Block is (2.8310111074692172, 3.2889888925307846) \n",
      "\n"
     ]
    }
   ],
   "source": [
    "print('The population mean is', pop_mean, '\\n')\n",
    "print('The observed mean is', mean(obs_width), '\\n')\n",
    "print('Normal CI by Jackknife is', jk_CI, '\\n')\n",
    "print('Normal CI by Jackknife Block is', jk_block_CI, '\\n')"
   ]
  },
  {
   "cell_type": "code",
   "execution_count": 19,
   "metadata": {},
   "outputs": [
    {
     "data": {
      "image/png": "[encoded data removed]",
      "text/plain": [
       "<Figure size 900x600 with 1 Axes>"
      ]
     },
     "metadata": {
      "needs_background": "light"
     },
     "output_type": "display_data"
    }
   ],
   "source": [
    "fig2 = plt.figure(dpi=150)\n",
    "sns.histplot(jk)\n",
    "plt.axvline(x=mean(obs_width), color = 'r', label = 'observe')\n",
    "plt.axvline(x=pop_mean, color = 'g', label = 'pop')\n",
    "plt.axvline(x=jk_CI[0], color = 'y', label = 'jackknife CI')\n",
    "plt.axvline(x=jk_CI[1], color = 'y')\n",
    "plt.axvline(x=jk_block_CI[0], color = 'm', label = 'jackknife block CI')\n",
    "plt.axvline(x=jk_block_CI[1], color = 'm')\n",
    "plt.legend(loc=0)\n",
    "plt.title('Histogram of Pseudo Values from Jackknife Resample')\n",
    "plt.show()"
   ]
  },
  {
   "cell_type": "markdown",
   "metadata": {},
   "source": [
    "### Now we try to replicate the resampling many times to obtain the coverage rate value to observe whether it is close to the confidence. We will randomly 'observe' different sample sizes (1/10, 1/5, 1/3, etc.) of data from the population data and then apply resampling methods over the observed data. We also try to vary the sample sizes because we want to see how sample sizes will affect the confidence interval and the coverage rate. "
   ]
  },
  {
   "cell_type": "code",
   "execution_count": 43,
   "metadata": {},
   "outputs": [],
   "source": [
    "def bt_replicate(data, sample_size, replicate_size, est_function, CI_function, confidence, \n",
    "                 bootstrap_size, plot=False):\n",
    "    '''\n",
    "    @data: interested to resample \n",
    "    @sample_size: a list of sample size \n",
    "    @replicate_size: times we want to do the experiment\n",
    "    @est_function: function to use to estimate the interested parameter (mean, median, variance, etc.)\n",
    "    @CI_function: methods of getting the confidence interval\n",
    "    @confidence: confidence rate (90%, 95%, ...)\n",
    "    @bootstrap_size: number of times we want to do the bootstrap\n",
    "    \n",
    "    Return the coverage rate of each replication\n",
    "    '''\n",
    "    coverage = []\n",
    "    \n",
    "    if plot:\n",
    "        fig, ax = plt.subplots(figsize=(20, 8))\n",
    "        \n",
    "    color = ['r', 'g', 'b']\n",
    "    pop_value = est_function(data)\n",
    "    \n",
    "    for i in range(len(sample_size)):\n",
    "        \n",
    "        # randomly select 10 observed data of size[i]\n",
    "        rd_data = [np.random.choice(data, sample_size[i], replace=False) for _ in range(replicate_size)]\n",
    "        \n",
    "        within = []\n",
    "    \n",
    "        for j in range(len(rd_data)):\n",
    "            observe = rd_data[j]\n",
    "            \n",
    "            resample_data = bootstrap(observe, bootstrap_size, est_function)\n",
    "            lower, upper = CI_function(resample_data, confidence, est_function(observe))\n",
    "            \n",
    "            if plot:\n",
    "                ax.plot((j + 0.1 * i, j + 0.1 * i), (lower, upper), 'o-', color = color[i])\n",
    "            \n",
    "            if lower < pop_value < upper:\n",
    "                within.append(1)\n",
    "            else:\n",
    "                within.append(0)\n",
    "        \n",
    "        coverage.append(within)\n",
    "        \n",
    "    if plot:\n",
    "        ax.axhline(pop_value, xmin = 0, xmax = 10, color = 'y')\n",
    "        ax.set(ylabel = 'Estimated parameter')\n",
    "        ax.legend(labels = ['20', '40', '60'], labelcolor = color)\n",
    "        ax.set_title('Confidence Intervals')\n",
    "\n",
    "        plt.show()\n",
    "    \n",
    "    return coverage"
   ]
  },
  {
   "cell_type": "markdown",
   "metadata": {},
   "source": [
    "## Now, we will randonly select 10 different observed data of size 20, 40, 60 to evaluate the coverage rate. "
   ]
  },
  {
   "cell_type": "code",
   "execution_count": 34,
   "metadata": {},
   "outputs": [
    {
     "data": {
      "image/png": "[encoded data removed]",
      "text/plain": [
       "<Figure size 1440x576 with 1 Axes>"
      ]
     },
     "metadata": {
      "needs_background": "light"
     },
     "output_type": "display_data"
    }
   ],
   "source": [
    "obs_size = [20, 40, 60]\n",
    "bt_coverage = bt_replicate(sepal_width, obs_size, 10, mean, get_CI_normal, 0.95, 1000, plot=True)"
   ]
  },
  {
   "cell_type": "code",
   "execution_count": 44,
   "metadata": {},
   "outputs": [],
   "source": [
    "def jk_replicate(data, sample_size, replicate_size, est_function, confidence, nfold=None, plot=False):\n",
    "    '''\n",
    "    @data: interested to resample \n",
    "    @sample_size: a list of sample size \n",
    "    @replicate_size: times we want to do the experiment\n",
    "    @est_function: function to use to estimate the interested parameter (mean, median, variance, etc.)\n",
    "    @confidence: confidence rate (90%, 95%, ...)\n",
    "    @nfold: number of block if we try to use jackknife block methods\n",
    "    @plot: whether or not plot the confidence interval\n",
    "    '''\n",
    "    \n",
    "    coverage = []\n",
    "    \n",
    "    if plot: \n",
    "        fig, ax = plt.subplots(figsize=(20, 8))\n",
    "        \n",
    "    color = ['r', 'g', 'b']\n",
    "    pop_value = est_function(data)\n",
    "    \n",
    "    for i in range(len(sample_size)):\n",
    "        \n",
    "        rd_data = [np.random.choice(data, sample_size[i], replace=False) for _ in range(replicate_size)]\n",
    "        \n",
    "        within = []\n",
    "    \n",
    "        for j in range(len(rd_data)):\n",
    "            observe = rd_data[j]\n",
    "            \n",
    "            if nfold:\n",
    "                pseudo_values = jackknife_block(observe, est_function, nfold)\n",
    "            else:\n",
    "                pseudo_values = jackknife(observe, est_function)\n",
    "\n",
    "            lower, upper = jk_get_CI(pseudo_values, confidence)\n",
    "\n",
    "            if plot: \n",
    "                ax.plot((j + 0.1 * i, j + 0.1 * i), (lower, upper), 'o-', color = color[i])\n",
    "            \n",
    "            if lower < pop_value < upper:\n",
    "                within.append(1)\n",
    "            else:\n",
    "                within.append(0)\n",
    "        \n",
    "        coverage.append(within)\n",
    "        \n",
    "    if plot:\n",
    "        ax.axhline(pop_value, xmin = 0, xmax = 10, color = 'y')\n",
    "        ax.set(ylabel = 'Estimated parameter')\n",
    "        ax.legend(labels = ['20', '40', '60'], labelcolor = color)\n",
    "        ax.set_title('Confidence Intervals')\n",
    "        plt.show()\n",
    "    \n",
    "    return coverage"
   ]
  },
  {
   "cell_type": "code",
   "execution_count": 32,
   "metadata": {},
   "outputs": [],
   "source": [
    "jk_coverage = jk_replicate(sepal_width, obs_size, 10, mean, 0.95)"
   ]
  },
  {
   "cell_type": "code",
   "execution_count": 36,
   "metadata": {},
   "outputs": [
    {
     "data": {
      "text/plain": [
       "[[1, 0, 1, 1, 1, 1, 1, 1, 1, 1],\n",
       " [1, 1, 1, 1, 1, 1, 1, 1, 1, 1],\n",
       " [1, 1, 0, 1, 1, 1, 1, 1, 1, 1]]"
      ]
     },
     "execution_count": 36,
     "metadata": {},
     "output_type": "execute_result"
    }
   ],
   "source": [
    "jk_coverage"
   ]
  },
  {
   "cell_type": "code",
   "execution_count": 37,
   "metadata": {},
   "outputs": [
    {
     "data": {
      "image/png": "[encoded data removed]",
      "text/plain": [
       "<Figure size 1440x576 with 1 Axes>"
      ]
     },
     "metadata": {
      "needs_background": "light"
     },
     "output_type": "display_data"
    }
   ],
   "source": [
    "jk_block_coverage = jk_replicate(sepal_width, obs_size, pop_mean, mean, 0.95, 5)"
   ]
  },
  {
   "cell_type": "code",
   "execution_count": 38,
   "metadata": {},
   "outputs": [
    {
     "data": {
      "text/plain": [
       "[[1, 1, 1, 1, 1, 1, 1, 1, 1, 1],\n",
       " [1, 1, 1, 1, 1, 1, 1, 1, 1, 1],\n",
       " [1, 1, 1, 1, 1, 1, 1, 1, 0, 1]]"
      ]
     },
     "execution_count": 38,
     "metadata": {},
     "output_type": "execute_result"
    }
   ],
   "source": [
    "jk_block_coverage"
   ]
  },
  {
   "cell_type": "markdown",
   "metadata": {},
   "source": [
    "## Now, we try to run more Replicates of Resampling."
   ]
  },
  {
   "cell_type": "code",
   "execution_count": 55,
   "metadata": {},
   "outputs": [],
   "source": [
    "obs_size = [20, 40, 60]\n",
    "bt_coverage_large = bt_replicate(sepal_width, obs_size, 100, mean, get_CI_normal, 0.95, 1000)\n",
    "jk_coverage_large = jk_replicate(sepal_width, obs_size, 100, mean, 0.95)\n",
    "jk_block_coverage_large = jk_replicate(sepal_width, obs_size, 100, mean, 0.95, 5)"
   ]
  },
  {
   "cell_type": "code",
   "execution_count": 58,
   "metadata": {},
   "outputs": [
    {
     "data": {
      "image/png": "[encoded data removed]",
      "text/plain": [
       "<Figure size 1080x576 with 1 Axes>"
      ]
     },
     "metadata": {
      "needs_background": "light"
     },
     "output_type": "display_data"
    }
   ],
   "source": [
    "labels = obs_size\n",
    "bt_rate = [mean(coverage) for coverage in bt_coverage_large]\n",
    "jk_rate = [mean(coverage) for coverage in jk_coverage_large]\n",
    "jk_block_rate = [mean(coverage) for coverage in jk_block_coverage_large]\n",
    "\n",
    "x = np.arange(len(labels))  # the label locations\n",
    "width = 0.2  # the width of the bars\n",
    "\n",
    "fig, ax = plt.subplots(figsize=(15, 8))\n",
    "bt_rect = ax.bar(x, bt_rate, width, label = 'Bootstrap')\n",
    "jk_rect = ax.bar(x - width, jk_rate, width, label='Jackknife')\n",
    "jk_block_rect = ax.bar(x + width, jk_block_rate, width, label='Jaccknife Block')\n",
    "\n",
    "# Add some text for labels, title and custom x-axis tick labels, etc.\n",
    "ax.set_ylabel('Coverage rate')\n",
    "ax.set_title('Coverage rate by sample size (100 replications)')\n",
    "ax.set_xticks(x)\n",
    "ax.set_xticklabels(labels)\n",
    "ax.legend()\n",
    "\n",
    "ax.bar_label(bt_rect, padding=3)\n",
    "ax.bar_label(jk_rect, padding=3)\n",
    "ax.bar_label(jk_block_rect, padding=3)\n",
    "\n",
    "fig.tight_layout()\n",
    "\n",
    "plt.show()"
   ]
  },
  {
   "cell_type": "markdown",
   "metadata": {},
   "source": [
    "### Try the same methods on a larger dataset"
   ]
  },
  {
   "cell_type": "code",
   "execution_count": 68,
   "metadata": {},
   "outputs": [],
   "source": [
    "from sklearn.datasets import load_breast_cancer"
   ]
  },
  {
   "cell_type": "code",
   "execution_count": 62,
   "metadata": {},
   "outputs": [
    {
     "data": {
      "text/html": [
       "<div>\n",
       "<style scoped>\n",
       "    .dataframe tbody tr th:only-of-type {\n",
       "        vertical-align: middle;\n",
       "    }\n",
       "\n",
       "    .dataframe tbody tr th {\n",
       "        vertical-align: top;\n",
       "    }\n",
       "\n",
       "    .dataframe thead th {\n",
       "        text-align: right;\n",
       "    }\n",
       "</style>\n",
       "<table border=\"1\" class=\"dataframe\">\n",
       "  <thead>\n",
       "    <tr style=\"text-align: right;\">\n",
       "      <th></th>\n",
       "      <th>mean radius</th>\n",
       "      <th>mean texture</th>\n",
       "      <th>mean perimeter</th>\n",
       "      <th>mean area</th>\n",
       "      <th>mean smoothness</th>\n",
       "      <th>mean compactness</th>\n",
       "      <th>mean concavity</th>\n",
       "      <th>mean concave points</th>\n",
       "      <th>mean symmetry</th>\n",
       "      <th>mean fractal dimension</th>\n",
       "      <th>...</th>\n",
       "      <th>worst radius</th>\n",
       "      <th>worst texture</th>\n",
       "      <th>worst perimeter</th>\n",
       "      <th>worst area</th>\n",
       "      <th>worst smoothness</th>\n",
       "      <th>worst compactness</th>\n",
       "      <th>worst concavity</th>\n",
       "      <th>worst concave points</th>\n",
       "      <th>worst symmetry</th>\n",
       "      <th>worst fractal dimension</th>\n",
       "    </tr>\n",
       "  </thead>\n",
       "  <tbody>\n",
       "    <tr>\n",
       "      <th>0</th>\n",
       "      <td>17.99</td>\n",
       "      <td>10.38</td>\n",
       "      <td>122.80</td>\n",
       "      <td>1001.0</td>\n",
       "      <td>0.11840</td>\n",
       "      <td>0.27760</td>\n",
       "      <td>0.3001</td>\n",
       "      <td>0.14710</td>\n",
       "      <td>0.2419</td>\n",
       "      <td>0.07871</td>\n",
       "      <td>...</td>\n",
       "      <td>25.38</td>\n",
       "      <td>17.33</td>\n",
       "      <td>184.60</td>\n",
       "      <td>2019.0</td>\n",
       "      <td>0.1622</td>\n",
       "      <td>0.6656</td>\n",
       "      <td>0.7119</td>\n",
       "      <td>0.2654</td>\n",
       "      <td>0.4601</td>\n",
       "      <td>0.11890</td>\n",
       "    </tr>\n",
       "    <tr>\n",
       "      <th>1</th>\n",
       "      <td>20.57</td>\n",
       "      <td>17.77</td>\n",
       "      <td>132.90</td>\n",
       "      <td>1326.0</td>\n",
       "      <td>0.08474</td>\n",
       "      <td>0.07864</td>\n",
       "      <td>0.0869</td>\n",
       "      <td>0.07017</td>\n",
       "      <td>0.1812</td>\n",
       "      <td>0.05667</td>\n",
       "      <td>...</td>\n",
       "      <td>24.99</td>\n",
       "      <td>23.41</td>\n",
       "      <td>158.80</td>\n",
       "      <td>1956.0</td>\n",
       "      <td>0.1238</td>\n",
       "      <td>0.1866</td>\n",
       "      <td>0.2416</td>\n",
       "      <td>0.1860</td>\n",
       "      <td>0.2750</td>\n",
       "      <td>0.08902</td>\n",
       "    </tr>\n",
       "    <tr>\n",
       "      <th>2</th>\n",
       "      <td>19.69</td>\n",
       "      <td>21.25</td>\n",
       "      <td>130.00</td>\n",
       "      <td>1203.0</td>\n",
       "      <td>0.10960</td>\n",
       "      <td>0.15990</td>\n",
       "      <td>0.1974</td>\n",
       "      <td>0.12790</td>\n",
       "      <td>0.2069</td>\n",
       "      <td>0.05999</td>\n",
       "      <td>...</td>\n",
       "      <td>23.57</td>\n",
       "      <td>25.53</td>\n",
       "      <td>152.50</td>\n",
       "      <td>1709.0</td>\n",
       "      <td>0.1444</td>\n",
       "      <td>0.4245</td>\n",
       "      <td>0.4504</td>\n",
       "      <td>0.2430</td>\n",
       "      <td>0.3613</td>\n",
       "      <td>0.08758</td>\n",
       "    </tr>\n",
       "    <tr>\n",
       "      <th>3</th>\n",
       "      <td>11.42</td>\n",
       "      <td>20.38</td>\n",
       "      <td>77.58</td>\n",
       "      <td>386.1</td>\n",
       "      <td>0.14250</td>\n",
       "      <td>0.28390</td>\n",
       "      <td>0.2414</td>\n",
       "      <td>0.10520</td>\n",
       "      <td>0.2597</td>\n",
       "      <td>0.09744</td>\n",
       "      <td>...</td>\n",
       "      <td>14.91</td>\n",
       "      <td>26.50</td>\n",
       "      <td>98.87</td>\n",
       "      <td>567.7</td>\n",
       "      <td>0.2098</td>\n",
       "      <td>0.8663</td>\n",
       "      <td>0.6869</td>\n",
       "      <td>0.2575</td>\n",
       "      <td>0.6638</td>\n",
       "      <td>0.17300</td>\n",
       "    </tr>\n",
       "    <tr>\n",
       "      <th>4</th>\n",
       "      <td>20.29</td>\n",
       "      <td>14.34</td>\n",
       "      <td>135.10</td>\n",
       "      <td>1297.0</td>\n",
       "      <td>0.10030</td>\n",
       "      <td>0.13280</td>\n",
       "      <td>0.1980</td>\n",
       "      <td>0.10430</td>\n",
       "      <td>0.1809</td>\n",
       "      <td>0.05883</td>\n",
       "      <td>...</td>\n",
       "      <td>22.54</td>\n",
       "      <td>16.67</td>\n",
       "      <td>152.20</td>\n",
       "      <td>1575.0</td>\n",
       "      <td>0.1374</td>\n",
       "      <td>0.2050</td>\n",
       "      <td>0.4000</td>\n",
       "      <td>0.1625</td>\n",
       "      <td>0.2364</td>\n",
       "      <td>0.07678</td>\n",
       "    </tr>\n",
       "  </tbody>\n",
       "</table>\n",
       "<p>5 rows × 30 columns</p>\n",
       "</div>"
      ],
      "text/plain": [
       "   mean radius  mean texture  mean perimeter  mean area  mean smoothness  \\\n",
       "0        17.99         10.38          122.80     1001.0          0.11840   \n",
       "1        20.57         17.77          132.90     1326.0          0.08474   \n",
       "2        19.69         21.25          130.00     1203.0          0.10960   \n",
       "3        11.42         20.38           77.58      386.1          0.14250   \n",
       "4        20.29         14.34          135.10     1297.0          0.10030   \n",
       "\n",
       "   mean compactness  mean concavity  mean concave points  mean symmetry  \\\n",
       "0           0.27760          0.3001              0.14710         0.2419   \n",
       "1           0.07864          0.0869              0.07017         0.1812   \n",
       "2           0.15990          0.1974              0.12790         0.2069   \n",
       "3           0.28390          0.2414              0.10520         0.2597   \n",
       "4           0.13280          0.1980              0.10430         0.1809   \n",
       "\n",
       "   mean fractal dimension  ...  worst radius  worst texture  worst perimeter  \\\n",
       "0                 0.07871  ...         25.38          17.33           184.60   \n",
       "1                 0.05667  ...         24.99          23.41           158.80   \n",
       "2                 0.05999  ...         23.57          25.53           152.50   \n",
       "3                 0.09744  ...         14.91          26.50            98.87   \n",
       "4                 0.05883  ...         22.54          16.67           152.20   \n",
       "\n",
       "   worst area  worst smoothness  worst compactness  worst concavity  \\\n",
       "0      2019.0            0.1622             0.6656           0.7119   \n",
       "1      1956.0            0.1238             0.1866           0.2416   \n",
       "2      1709.0            0.1444             0.4245           0.4504   \n",
       "3       567.7            0.2098             0.8663           0.6869   \n",
       "4      1575.0            0.1374             0.2050           0.4000   \n",
       "\n",
       "   worst concave points  worst symmetry  worst fractal dimension  \n",
       "0                0.2654          0.4601                  0.11890  \n",
       "1                0.1860          0.2750                  0.08902  \n",
       "2                0.2430          0.3613                  0.08758  \n",
       "3                0.2575          0.6638                  0.17300  \n",
       "4                0.1625          0.2364                  0.07678  \n",
       "\n",
       "[5 rows x 30 columns]"
      ]
     },
     "execution_count": 62,
     "metadata": {},
     "output_type": "execute_result"
    }
   ],
   "source": [
    "bc_data = load_breast_cancer()\n",
    "bc_df = pd.DataFrame(bc_data['data'], columns=bc_data['feature_names'])\n",
    "bc_df.head()"
   ]
  },
  {
   "cell_type": "markdown",
   "metadata": {},
   "source": [
    "#### We are interested in the mean radius of the cancer."
   ]
  },
  {
   "cell_type": "code",
   "execution_count": 65,
   "metadata": {},
   "outputs": [
    {
     "data": {
      "text/plain": [
       "Text(0.5, 0, 'radius')"
      ]
     },
     "execution_count": 65,
     "metadata": {},
     "output_type": "execute_result"
    },
    {
     "data": {
      "image/png": "[encoded data removed]",
      "text/plain": [
       "<Figure size 720x480 with 1 Axes>"
      ]
     },
     "metadata": {
      "needs_background": "light"
     },
     "output_type": "display_data"
    }
   ],
   "source": [
    "plt.figure(dpi=120)\n",
    "sns.histplot(bc_df['mean radius'])\n",
    "plt.title('Histogram of Radius')\n",
    "plt.xlabel('radius')"
   ]
  },
  {
   "cell_type": "code",
   "execution_count": 66,
   "metadata": {},
   "outputs": [
    {
     "name": "stdout",
     "output_type": "stream",
     "text": [
      "The mean for radius is 14.127291739894552\n"
     ]
    }
   ],
   "source": [
    "radius = bc_df['mean radius']\n",
    "print('The mean for radius is', mean(radius))"
   ]
  },
  {
   "cell_type": "code",
   "execution_count": 69,
   "metadata": {},
   "outputs": [],
   "source": [
    "n = len(radius)\n",
    "obs_size = [50, 150, 250, 350, 450]\n",
    "bt_coverage_large = bt_replicate(radius, obs_size, 100, mean, get_CI_normal, 0.95, 1000)\n",
    "jk_coverage_large = jk_replicate(radius, obs_size, 100, mean, 0.95)\n",
    "jk_block_coverage_large = jk_replicate(radius, obs_size, 100, mean, 0.95, 5)"
   ]
  },
  {
   "cell_type": "code",
   "execution_count": 72,
   "metadata": {},
   "outputs": [
    {
     "data": {
      "image/png": "[encoded data removed]",
      "text/plain": [
       "<Figure size 1080x576 with 1 Axes>"
      ]
     },
     "metadata": {
      "needs_background": "light"
     },
     "output_type": "display_data"
    }
   ],
   "source": [
    "labels = obs_size\n",
    "bt_rate = [mean(coverage) for coverage in bt_coverage_large]\n",
    "jk_rate = [mean(coverage) for coverage in jk_coverage_large]\n",
    "jk_block_rate = [mean(coverage) for coverage in jk_block_coverage_large]\n",
    "\n",
    "x = np.arange(len(labels))  # the label locations\n",
    "width = 0.2  # the width of the bars\n",
    "\n",
    "fig, ax = plt.subplots(figsize=(15, 8))\n",
    "bt_rect = ax.bar(x, bt_rate, width, label = 'Bootstrap')\n",
    "jk_rect = ax.bar(x - width, jk_rate, width, label='Jackknife')\n",
    "jk_block_rect = ax.bar(x + width, jk_block_rate, width, label='Jaccknife Block')\n",
    "\n",
    "# Add some text for labels, title and custom x-axis tick labels, etc.\n",
    "ax.set_ylabel('Coverage rate')\n",
    "ax.set_title('Coverage rate by sample size (100 replications)')\n",
    "ax.set_xticks(x)\n",
    "ax.set_xticklabels(labels)\n",
    "ax.legend(loc='lower left')\n",
    "\n",
    "ax.bar_label(bt_rect, padding=3)\n",
    "ax.bar_label(jk_rect, padding=3)\n",
    "ax.bar_label(jk_block_rect, padding=3)\n",
    "\n",
    "fig.tight_layout()\n",
    "\n",
    "plt.show()"
   ]
  },
  {
   "cell_type": "markdown",
   "metadata": {},
   "source": [
    "#### To Be Continued"
   ]
  },
  {
   "cell_type": "code",
   "execution_count": 130,
   "metadata": {},
   "outputs": [],
   "source": [
    "bt_coverage_normal = bt_coverage(obs_width, mean, get_CI_normal, 0.95, pop_mean, 20, 1000)\n",
    "bt_coverage_quantile = bt_coverage(obs_width, mean, get_CI_quantile, 0.95, pop_mean, 20, 1000)\n",
    "bt_coverage_biased = bt_coverage(obs_width, mean, get_CI_biased_corrected_norm, 0.95, pop_mean, 20, 1000)\n",
    "jk_coverage_rate = jk_coverage(obs_width, mean, 0.95, pop_mean, 20)\n",
    "jk_block_coverage = jk_coverage(obs_width, mean, 0.95, pop_mean, 20, nfold=5)"
   ]
  },
  {
   "cell_type": "code",
   "execution_count": 131,
   "metadata": {},
   "outputs": [],
   "source": [
    "coverage_df = {'pop_width': [pop_mean] * 5,\n",
    "               'obs_width': [mean(obs_width)] * 5,\n",
    "               'resample method': ['bootstrap', 'bootstrap', 'bootstrap', 'jackknife', 'jackknife block'],\n",
    "               'CI method': ['noraml', 'quantile', 'biased corrected', 'pseudo normal', 'pseudo normal'],\n",
    "               'confidence': ['95%'] * 5, \n",
    "               'resample means': [bt_coverage_normal, bt_coverage_quantile, bt_coverage_biased, jk_coverage_rate, jk_block_coverage],\n",
    "               'rate': [mean(bt_coverage_normal), mean(bt_coverage_quantile), \n",
    "                        mean(bt_coverage_biased), mean(jk_coverage_rate), mean(jk_block_coverage)]}\n",
    "\n",
    "coverage_df = pd.DataFrame(coverage_df)"
   ]
  },
  {
   "cell_type": "code",
   "execution_count": 132,
   "metadata": {},
   "outputs": [
    {
     "data": {
      "text/html": [
       "<style  type=\"text/css\" >\n",
       "</style><table id=\"T_3d89eba4_eb3e_11eb_824a_9801a798329d\" ><thead>    <tr>        <th class=\"blank level0\" ></th>        <th class=\"col_heading level0 col0\" >pop_width</th>        <th class=\"col_heading level0 col1\" >obs_width</th>        <th class=\"col_heading level0 col2\" >resample method</th>        <th class=\"col_heading level0 col3\" >CI method</th>        <th class=\"col_heading level0 col4\" >confidence</th>        <th class=\"col_heading level0 col5\" >resample means</th>        <th class=\"col_heading level0 col6\" >rate</th>    </tr></thead><tbody>\n",
       "                <tr>\n",
       "                        <th id=\"T_3d89eba4_eb3e_11eb_824a_9801a798329dlevel0_row0\" class=\"row_heading level0 row0\" >0</th>\n",
       "                        <td id=\"T_3d89eba4_eb3e_11eb_824a_9801a798329drow0_col0\" class=\"data row0 col0\" >3.057333</td>\n",
       "                        <td id=\"T_3d89eba4_eb3e_11eb_824a_9801a798329drow0_col1\" class=\"data row0 col1\" >3.110000</td>\n",
       "                        <td id=\"T_3d89eba4_eb3e_11eb_824a_9801a798329drow0_col2\" class=\"data row0 col2\" >bootstrap</td>\n",
       "                        <td id=\"T_3d89eba4_eb3e_11eb_824a_9801a798329drow0_col3\" class=\"data row0 col3\" >noraml</td>\n",
       "                        <td id=\"T_3d89eba4_eb3e_11eb_824a_9801a798329drow0_col4\" class=\"data row0 col4\" >95%</td>\n",
       "                        <td id=\"T_3d89eba4_eb3e_11eb_824a_9801a798329drow0_col5\" class=\"data row0 col5\" >[1, 1, 1, 1, 1, 1, 1, 1, 1, 1, 1, 1, 1, 1, 1, 1, 1, 1, 1, 1]</td>\n",
       "                        <td id=\"T_3d89eba4_eb3e_11eb_824a_9801a798329drow0_col6\" class=\"data row0 col6\" >1</td>\n",
       "            </tr>\n",
       "            <tr>\n",
       "                        <th id=\"T_3d89eba4_eb3e_11eb_824a_9801a798329dlevel0_row1\" class=\"row_heading level0 row1\" >1</th>\n",
       "                        <td id=\"T_3d89eba4_eb3e_11eb_824a_9801a798329drow1_col0\" class=\"data row1 col0\" >3.057333</td>\n",
       "                        <td id=\"T_3d89eba4_eb3e_11eb_824a_9801a798329drow1_col1\" class=\"data row1 col1\" >3.110000</td>\n",
       "                        <td id=\"T_3d89eba4_eb3e_11eb_824a_9801a798329drow1_col2\" class=\"data row1 col2\" >bootstrap</td>\n",
       "                        <td id=\"T_3d89eba4_eb3e_11eb_824a_9801a798329drow1_col3\" class=\"data row1 col3\" >quantile</td>\n",
       "                        <td id=\"T_3d89eba4_eb3e_11eb_824a_9801a798329drow1_col4\" class=\"data row1 col4\" >95%</td>\n",
       "                        <td id=\"T_3d89eba4_eb3e_11eb_824a_9801a798329drow1_col5\" class=\"data row1 col5\" >[1, 1, 1, 1, 1, 1, 1, 1, 1, 1, 1, 1, 1, 1, 1, 1, 1, 1, 1, 1]</td>\n",
       "                        <td id=\"T_3d89eba4_eb3e_11eb_824a_9801a798329drow1_col6\" class=\"data row1 col6\" >1</td>\n",
       "            </tr>\n",
       "            <tr>\n",
       "                        <th id=\"T_3d89eba4_eb3e_11eb_824a_9801a798329dlevel0_row2\" class=\"row_heading level0 row2\" >2</th>\n",
       "                        <td id=\"T_3d89eba4_eb3e_11eb_824a_9801a798329drow2_col0\" class=\"data row2 col0\" >3.057333</td>\n",
       "                        <td id=\"T_3d89eba4_eb3e_11eb_824a_9801a798329drow2_col1\" class=\"data row2 col1\" >3.110000</td>\n",
       "                        <td id=\"T_3d89eba4_eb3e_11eb_824a_9801a798329drow2_col2\" class=\"data row2 col2\" >bootstrap</td>\n",
       "                        <td id=\"T_3d89eba4_eb3e_11eb_824a_9801a798329drow2_col3\" class=\"data row2 col3\" >biased corrected</td>\n",
       "                        <td id=\"T_3d89eba4_eb3e_11eb_824a_9801a798329drow2_col4\" class=\"data row2 col4\" >95%</td>\n",
       "                        <td id=\"T_3d89eba4_eb3e_11eb_824a_9801a798329drow2_col5\" class=\"data row2 col5\" >[1, 1, 1, 1, 1, 1, 1, 1, 1, 1, 1, 1, 1, 1, 1, 1, 1, 1, 1, 1]</td>\n",
       "                        <td id=\"T_3d89eba4_eb3e_11eb_824a_9801a798329drow2_col6\" class=\"data row2 col6\" >1</td>\n",
       "            </tr>\n",
       "            <tr>\n",
       "                        <th id=\"T_3d89eba4_eb3e_11eb_824a_9801a798329dlevel0_row3\" class=\"row_heading level0 row3\" >3</th>\n",
       "                        <td id=\"T_3d89eba4_eb3e_11eb_824a_9801a798329drow3_col0\" class=\"data row3 col0\" >3.057333</td>\n",
       "                        <td id=\"T_3d89eba4_eb3e_11eb_824a_9801a798329drow3_col1\" class=\"data row3 col1\" >3.110000</td>\n",
       "                        <td id=\"T_3d89eba4_eb3e_11eb_824a_9801a798329drow3_col2\" class=\"data row3 col2\" >jackknife</td>\n",
       "                        <td id=\"T_3d89eba4_eb3e_11eb_824a_9801a798329drow3_col3\" class=\"data row3 col3\" >pseudo normal</td>\n",
       "                        <td id=\"T_3d89eba4_eb3e_11eb_824a_9801a798329drow3_col4\" class=\"data row3 col4\" >95%</td>\n",
       "                        <td id=\"T_3d89eba4_eb3e_11eb_824a_9801a798329drow3_col5\" class=\"data row3 col5\" >[1, 1, 1, 1, 1, 1, 1, 1, 1, 1, 1, 1, 1, 1, 1, 1, 1, 1, 1, 1]</td>\n",
       "                        <td id=\"T_3d89eba4_eb3e_11eb_824a_9801a798329drow3_col6\" class=\"data row3 col6\" >1</td>\n",
       "            </tr>\n",
       "            <tr>\n",
       "                        <th id=\"T_3d89eba4_eb3e_11eb_824a_9801a798329dlevel0_row4\" class=\"row_heading level0 row4\" >4</th>\n",
       "                        <td id=\"T_3d89eba4_eb3e_11eb_824a_9801a798329drow4_col0\" class=\"data row4 col0\" >3.057333</td>\n",
       "                        <td id=\"T_3d89eba4_eb3e_11eb_824a_9801a798329drow4_col1\" class=\"data row4 col1\" >3.110000</td>\n",
       "                        <td id=\"T_3d89eba4_eb3e_11eb_824a_9801a798329drow4_col2\" class=\"data row4 col2\" >jackknife block</td>\n",
       "                        <td id=\"T_3d89eba4_eb3e_11eb_824a_9801a798329drow4_col3\" class=\"data row4 col3\" >pseudo normal</td>\n",
       "                        <td id=\"T_3d89eba4_eb3e_11eb_824a_9801a798329drow4_col4\" class=\"data row4 col4\" >95%</td>\n",
       "                        <td id=\"T_3d89eba4_eb3e_11eb_824a_9801a798329drow4_col5\" class=\"data row4 col5\" >[1, 1, 1, 1, 1, 1, 1, 1, 1, 1, 1, 1, 1, 1, 1, 1, 1, 1, 1, 1]</td>\n",
       "                        <td id=\"T_3d89eba4_eb3e_11eb_824a_9801a798329drow4_col6\" class=\"data row4 col6\" >1</td>\n",
       "            </tr>\n",
       "    </tbody></table>"
      ],
      "text/plain": [
       "<pandas.io.formats.style.Styler at 0x7fd81a642430>"
      ]
     },
     "execution_count": 132,
     "metadata": {},
     "output_type": "execute_result"
    }
   ],
   "source": [
    "coverage_df.style"
   ]
  },
  {
   "cell_type": "code",
   "execution_count": null,
   "metadata": {},
   "outputs": [],
   "source": []
  }
 ],
 "metadata": {
  "kernelspec": {
   "display_name": "Python 3",
   "language": "python",
   "name": "python3"
  },
  "language_info": {
   "codemirror_mode": {
    "name": "ipython",
    "version": 3
   },
   "file_extension": ".py",
   "mimetype": "text/x-python",
   "name": "python",
   "nbconvert_exporter": "python",
   "pygments_lexer": "ipython3",
   "version": "3.8.3"
  }
 },
 "nbformat": 4,
 "nbformat_minor": 4
}

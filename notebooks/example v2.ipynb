{
 "cells": [
  {
   "cell_type": "code",
   "execution_count": 1,
   "id": "1aa2cba7",
   "metadata": {},
   "outputs": [
    {
     "data": {
      "text/plain": [
       "'1.0.1'"
      ]
     },
     "execution_count": 1,
     "metadata": {},
     "output_type": "execute_result"
    }
   ],
   "source": [
    "import numpy as np\n",
    "import msprime\n",
    "import matplotlib.pyplot as plt\n",
    "import seaborn as sns\n",
    "msprime.__version__"
   ]
  },
  {
   "cell_type": "code",
   "execution_count": 2,
   "id": "2b259f6b",
   "metadata": {},
   "outputs": [],
   "source": [
    "seq_len = 1e8\n",
    "rec_rate = 1e-8\n",
    "mut_rate = 1e-8\n",
    "split_time = 50 # in generations"
   ]
  },
  {
   "cell_type": "code",
   "execution_count": 3,
   "id": "2e121a1d",
   "metadata": {},
   "outputs": [
    {
     "data": {
      "text/plain": [
       "PopulationSplit(time=50, derived=['A', 'B'], ancestral='C')"
      ]
     },
     "execution_count": 3,
     "metadata": {},
     "output_type": "execute_result"
    }
   ],
   "source": [
    "demography = msprime.Demography()\n",
    "demography.add_population(name=\"A\", initial_size=1000) \n",
    "demography.add_population(name=\"B\", initial_size=1000)\n",
    "demography.add_population(name=\"C\", initial_size=1000)\n",
    "demography.add_population_split(time=split_time, derived=[\"A\", \"B\"], ancestral=\"C\")"
   ]
  },
  {
   "cell_type": "code",
   "execution_count": 4,
   "id": "09b13888",
   "metadata": {},
   "outputs": [],
   "source": [
    "# debugging the demographic history\n",
    "# (not needed for now)\n",
    "#print(demography)\n",
    "#print(demography.debug())"
   ]
  },
  {
   "cell_type": "code",
   "execution_count": 5,
   "id": "c87a2b84",
   "metadata": {},
   "outputs": [],
   "source": [
    "ts = msprime.sim_ancestry(\n",
    "    samples={'A':1000, 'B':1000}, # diploid samples\n",
    "    demography=demography,\n",
    "    ploidy=2,\n",
    "    sequence_length=seq_len,\n",
    "    discrete_genome=False,\n",
    "    recombination_rate=rec_rate, \n",
    "    model='dtwf',\n",
    "    random_seed=42\n",
    "    )"
   ]
  },
  {
   "cell_type": "code",
   "execution_count": 6,
   "id": "3b182a43",
   "metadata": {},
   "outputs": [],
   "source": [
    "ts = msprime.sim_mutations(\n",
    "    ts, \n",
    "    rate=mut_rate, \n",
    "    discrete_genome=False,\n",
    "    start_time=split_time,\n",
    "    random_seed=42\n",
    "    )"
   ]
  },
  {
   "cell_type": "markdown",
   "id": "2f7be4ae",
   "metadata": {},
   "source": [
    "### The results are stored in a tree-sequence object\n",
    "\n",
    "you can read more about the data model here:\n",
    "https://tskit.dev/tskit/docs/stable/data-model.html#sec-data-model"
   ]
  },
  {
   "cell_type": "code",
   "execution_count": 7,
   "id": "48e0d9f5",
   "metadata": {
    "scrolled": true
   },
   "outputs": [
    {
     "data": {
      "text/html": [
       "\n",
       "            <div>\n",
       "              <style>\n",
       "                .tskit-table thead tr th {text-align: left;padding: 0.5em 0.5em;}\n",
       "                .tskit-table tbody tr td {padding: 0.5em 0.5em;}\n",
       "                .tskit-table tbody tr td:first-of-type {text-align: left;}\n",
       "                .tskit-details-label {vertical-align: top; padding-right:5px;}\n",
       "                .tskit-table-set {display: inline-flex;flex-wrap: wrap;margin: -12px 0 0 -12px;width: calc(100% + 12px);}\n",
       "                .tskit-table-set-table {margin: 12px 0 0 12px;}\n",
       "                details {display: inline-block;}\n",
       "                summary {cursor: pointer; outline: 0; display: list-item;}\n",
       "              </style>\n",
       "              <div class=\"tskit-table-set\">\n",
       "                <div class=\"tskit-table-set-table\">\n",
       "                  <table class=\"tskit-table\">\n",
       "                    <thead>\n",
       "                      <tr>\n",
       "                        <th style=\"padding:0;line-height:21px;\">\n",
       "                          <img style=\"height: 32px;display: inline-block;padding: 3px 5px 3px 0;\" src=\"https://raw.githubusercontent.com/tskit-dev/administrative/main/tskit_logo.svg\"/>\n",
       "                          <a target=\"_blank\" href=\"https://tskit.readthedocs.io/en/latest/python-api.html#the-treesequence-class\"> Tree Sequence </a>\n",
       "                        </th>\n",
       "                      </tr>\n",
       "                    </thead>\n",
       "                    <tbody>\n",
       "                      <tr><td>Trees</td><td>46065</td></tr>\n",
       "                      <tr><td>Sequence Length</td><td>100000000.0</td></tr>\n",
       "                      <tr><td>Sample Nodes</td><td>4000</td></tr>\n",
       "                      <tr><td>Total Size</td><td>7.7 MiB</td></tr>\n",
       "                      <tr>\n",
       "                        <td>Metadata</td><td style=\"text-align: left;\">No Metadata</td></tr>\n",
       "                    </tbody>\n",
       "                  </table>\n",
       "                </div>\n",
       "                <div class=\"tskit-table-set-table\">\n",
       "                  <table class=\"tskit-table\">\n",
       "                    <thead>\n",
       "                      <tr>\n",
       "                        <th style=\"line-height:21px;\">Table</th>\n",
       "                        <th>Rows</th>\n",
       "                        <th>Size</th>\n",
       "                        <th>Has Metadata</th>\n",
       "                      </tr>\n",
       "                    </thead>\n",
       "                    <tbody>\n",
       "                    \n",
       "                  <tr>\n",
       "                    <td>Edges</td>\n",
       "                      <td>173380</td>\n",
       "                      <td>4.6 MiB</td>\n",
       "                      <td style=\"text-align: center;\">\n",
       "                        \n",
       "                      </td>\n",
       "                    </tr>\n",
       "                \n",
       "                  <tr>\n",
       "                    <td>Individuals</td>\n",
       "                      <td>2000</td>\n",
       "                      <td>31.3 KiB</td>\n",
       "                      <td style=\"text-align: center;\">\n",
       "                        \n",
       "                      </td>\n",
       "                    </tr>\n",
       "                \n",
       "                  <tr>\n",
       "                    <td>Migrations</td>\n",
       "                      <td>0</td>\n",
       "                      <td>4 Bytes</td>\n",
       "                      <td style=\"text-align: center;\">\n",
       "                        \n",
       "                      </td>\n",
       "                    </tr>\n",
       "                \n",
       "                  <tr>\n",
       "                    <td>Mutations</td>\n",
       "                      <td>21942</td>\n",
       "                      <td>621.4 KiB</td>\n",
       "                      <td style=\"text-align: center;\">\n",
       "                        \n",
       "                      </td>\n",
       "                    </tr>\n",
       "                \n",
       "                  <tr>\n",
       "                    <td>Nodes</td>\n",
       "                      <td>30867</td>\n",
       "                      <td>723.4 KiB</td>\n",
       "                      <td style=\"text-align: center;\">\n",
       "                        \n",
       "                      </td>\n",
       "                    </tr>\n",
       "                \n",
       "                  <tr>\n",
       "                    <td>Populations</td>\n",
       "                      <td>3</td>\n",
       "                      <td>278 Bytes</td>\n",
       "                      <td style=\"text-align: center;\">\n",
       "                        ✅\n",
       "                      </td>\n",
       "                    </tr>\n",
       "                \n",
       "                  <tr>\n",
       "                    <td>Provenances</td>\n",
       "                      <td>2</td>\n",
       "                      <td>2.4 KiB</td>\n",
       "                      <td style=\"text-align: center;\">\n",
       "                        \n",
       "                      </td>\n",
       "                    </tr>\n",
       "                \n",
       "                  <tr>\n",
       "                    <td>Sites</td>\n",
       "                      <td>21942</td>\n",
       "                      <td>364.3 KiB</td>\n",
       "                      <td style=\"text-align: center;\">\n",
       "                        \n",
       "                      </td>\n",
       "                    </tr>\n",
       "                \n",
       "                    </tbody>\n",
       "                  </table>\n",
       "                </div>\n",
       "              </div>\n",
       "            </div>\n",
       "            "
      ],
      "text/plain": [
       "<tskit.trees.TreeSequence at 0x7fcb6e8a4dc0>"
      ]
     },
     "execution_count": 7,
     "metadata": {},
     "output_type": "execute_result"
    }
   ],
   "source": [
    "ts"
   ]
  },
  {
   "cell_type": "markdown",
   "id": "4e096214",
   "metadata": {},
   "source": [
    "## the genotype matrix represents the genotype of each (haploid) sample at each of the variable sites"
   ]
  },
  {
   "cell_type": "code",
   "execution_count": 8,
   "id": "6cfb47e6",
   "metadata": {},
   "outputs": [
    {
     "data": {
      "text/plain": [
       "array([[0, 0, 0, ..., 0, 0, 1],\n",
       "       [0, 0, 0, ..., 0, 0, 0],\n",
       "       [0, 0, 0, ..., 0, 1, 0],\n",
       "       ...,\n",
       "       [0, 0, 0, ..., 1, 0, 0],\n",
       "       [0, 0, 0, ..., 0, 0, 0],\n",
       "       [0, 0, 0, ..., 0, 0, 0]], dtype=int8)"
      ]
     },
     "execution_count": 8,
     "metadata": {},
     "output_type": "execute_result"
    }
   ],
   "source": [
    "gt = ts.genotype_matrix()\n",
    "gt "
   ]
  },
  {
   "cell_type": "code",
   "execution_count": 9,
   "id": "fffd2bfc",
   "metadata": {},
   "outputs": [
    {
     "data": {
      "text/plain": [
       "(21942, 4000)"
      ]
     },
     "execution_count": 9,
     "metadata": {},
     "output_type": "execute_result"
    }
   ],
   "source": [
    "gt.shape"
   ]
  },
  {
   "cell_type": "markdown",
   "id": "ec3eddde",
   "metadata": {},
   "source": [
    "### representing the same data as a genotype matrix is *much* larger in memory"
   ]
  },
  {
   "cell_type": "code",
   "execution_count": 10,
   "id": "94814cc9",
   "metadata": {},
   "outputs": [
    {
     "data": {
      "text/plain": [
       "87.768"
      ]
     },
     "execution_count": 10,
     "metadata": {},
     "output_type": "execute_result"
    }
   ],
   "source": [
    "# approx size in Megabytes\n",
    "# compare to the size of the ts \n",
    "# careful this doesn't get too big\n",
    "gt.nbytes/1e6"
   ]
  },
  {
   "cell_type": "markdown",
   "id": "c8d57f9b",
   "metadata": {},
   "source": [
    "## # nearby sites are correlated, and so not independent"
   ]
  },
  {
   "cell_type": "code",
   "execution_count": 11,
   "id": "7fd30c4a",
   "metadata": {},
   "outputs": [
    {
     "data": {
      "text/plain": [
       "array([[ 1.       , -0.1021119],\n",
       "       [-0.1021119,  1.       ]])"
      ]
     },
     "execution_count": 11,
     "metadata": {},
     "output_type": "execute_result"
    }
   ],
   "source": [
    "np.corrcoef(gt[0,:], gt[1,:])"
   ]
  },
  {
   "cell_type": "code",
   "execution_count": 12,
   "id": "0da64ac3",
   "metadata": {},
   "outputs": [
    {
     "data": {
      "text/plain": [
       "array([[1.        , 0.00511539],\n",
       "       [0.00511539, 1.        ]])"
      ]
     },
     "execution_count": 12,
     "metadata": {},
     "output_type": "execute_result"
    }
   ],
   "source": [
    "# sites that are farther apart are less correlated\n",
    "np.corrcoef(gt[0,:], gt[10000,:])"
   ]
  },
  {
   "cell_type": "code",
   "execution_count": 13,
   "id": "1981639e",
   "metadata": {},
   "outputs": [],
   "source": [
    "# We will use Fst as a measure of how "
   ]
  },
  {
   "cell_type": "markdown",
   "id": "117dcea1",
   "metadata": {},
   "source": [
    "# calculate "
   ]
  },
  {
   "cell_type": "code",
   "execution_count": 14,
   "id": "d3529dc8",
   "metadata": {},
   "outputs": [],
   "source": [
    "# get a list of haploid samples from populations A and B\n",
    "popA_samples = ts.samples(population = 0)\n",
    "popB_samples = ts.samples(population = 1)"
   ]
  },
  {
   "cell_type": "markdown",
   "id": "99cf7cdd",
   "metadata": {},
   "source": [
    "## count the fraction of pairwise differences at each variable site\n",
    "#### this uses functions from tskit\n"
   ]
  },
  {
   "cell_type": "markdown",
   "id": "36075f5c",
   "metadata": {},
   "source": [
    "within each population"
   ]
  },
  {
   "cell_type": "code",
   "execution_count": 15,
   "id": "29ed67ef",
   "metadata": {},
   "outputs": [
    {
     "name": "stdout",
     "output_type": "stream",
     "text": [
      "21942\n"
     ]
    }
   ],
   "source": [
    "dA = ts.diversity(popA_samples, windows = 'sites', span_normalise=False)\n",
    "print(len(dA)) # number of sites"
   ]
  },
  {
   "cell_type": "code",
   "execution_count": 16,
   "id": "4208a013",
   "metadata": {},
   "outputs": [
    {
     "name": "stdout",
     "output_type": "stream",
     "text": [
      "21942\n"
     ]
    }
   ],
   "source": [
    "dB = ts.diversity(popB_samples, windows = 'sites', span_normalise=False)\n",
    "print(len(dB)) # number of sites"
   ]
  },
  {
   "cell_type": "markdown",
   "id": "dd0dec79",
   "metadata": {},
   "source": [
    "between populations"
   ]
  },
  {
   "cell_type": "code",
   "execution_count": 17,
   "id": "d9c55458",
   "metadata": {},
   "outputs": [
    {
     "name": "stdout",
     "output_type": "stream",
     "text": [
      "21942\n"
     ]
    }
   ],
   "source": [
    "dAB = ts.divergence([popA_samples, popB_samples], windows = 'sites', span_normalise=False)\n",
    "print(len(dAB)) # number of sites"
   ]
  },
  {
   "cell_type": "code",
   "execution_count": 18,
   "id": "b910067f",
   "metadata": {},
   "outputs": [
    {
     "data": {
      "text/plain": [
       "0.023818257651805785"
      ]
     },
     "execution_count": 18,
     "metadata": {},
     "output_type": "execute_result"
    }
   ],
   "source": [
    "mean_within = (dA + dB)/2\n",
    "between = dAB \n",
    "Fst = 1 - mean_within.sum()/between.sum()\n",
    "Fst"
   ]
  },
  {
   "cell_type": "markdown",
   "id": "dbf0e82c",
   "metadata": {},
   "source": [
    "# Fst with just a subset of individuals\n",
    "remember each 'indiviudal' is made up of two haploid 'samples'"
   ]
  },
  {
   "cell_type": "code",
   "execution_count": 19,
   "id": "ef92162f",
   "metadata": {},
   "outputs": [
    {
     "data": {
      "text/plain": [
       "0.020776558273834178"
      ]
     },
     "execution_count": 19,
     "metadata": {},
     "output_type": "execute_result"
    }
   ],
   "source": [
    "# here just take the first 50 haploids from each population\n",
    "# this could be made random with np.random.choice\n",
    "popA_first50 = ts.samples(population = 0)[:50]\n",
    "popB_first50 = ts.samples(population = 1)[:50]\n",
    "# once the two new sets of samples are specified, proceed as above\n",
    "dA_first50 = ts.diversity(popA_first50, windows = 'sites', span_normalise=False)\n",
    "dB_first50 = ts.diversity(popB_first50, windows = 'sites', span_normalise=False)\n",
    "dAB_first50 = ts.divergence([popA_first50, popB_first50], windows = 'sites', span_normalise=False)\n",
    "\n",
    "mean_within_first50 = (dA_first50 + dB_first50)/2\n",
    "between_first50 = dAB_first50\n",
    "Fst_first50 = 1 - mean_within_first50.sum()/between_first50.sum()\n",
    "Fst_first50"
   ]
  },
  {
   "cell_type": "markdown",
   "id": "90a42ee5",
   "metadata": {},
   "source": [
    "# Fst across a subset of sites\n",
    "one or more sites can be excluded from the Fst calcualtion by simply not including their diversity in the sums above."
   ]
  },
  {
   "cell_type": "code",
   "execution_count": 34,
   "id": "d1134a32",
   "metadata": {},
   "outputs": [],
   "source": [
    "# exclude the first site\n",
    "dA_drop1site = dA_first50[1:]\n",
    "dB_drop1site = dB_first50[1:]\n",
    "dAB_drop1site = dAB_first50[1:]"
   ]
  },
  {
   "cell_type": "code",
   "execution_count": 36,
   "id": "373e5706",
   "metadata": {},
   "outputs": [
    {
     "data": {
      "text/plain": [
       "0.020777382462107696"
      ]
     },
     "execution_count": 36,
     "metadata": {},
     "output_type": "execute_result"
    }
   ],
   "source": [
    "# excluding a single site has a small effect on Fst\n",
    "mean_within_drop1site = (dA_drop1site + dB_drop1site)/2\n",
    "between_drop1site = dAB_drop1site\n",
    "Fst_drop1site = 1 - mean_within_drop1site.sum()/between_drop1site.sum()\n",
    "Fst_drop1site"
   ]
  },
  {
   "cell_type": "markdown",
   "id": "f2898b79",
   "metadata": {},
   "source": [
    "# exclude genomic regions\n",
    "this is a new way for me to do this, but I expect it to work well.\n",
    "\n",
    "I can see how this could be useful for the jackknife, but would take further work to get this to apply to the bootstrap"
   ]
  },
  {
   "cell_type": "code",
   "execution_count": 42,
   "id": "e7f9fcca",
   "metadata": {},
   "outputs": [
    {
     "data": {
      "text/html": [
       "\n",
       "            <div>\n",
       "              <style>\n",
       "                .tskit-table thead tr th {text-align: left;padding: 0.5em 0.5em;}\n",
       "                .tskit-table tbody tr td {padding: 0.5em 0.5em;}\n",
       "                .tskit-table tbody tr td:first-of-type {text-align: left;}\n",
       "                .tskit-details-label {vertical-align: top; padding-right:5px;}\n",
       "                .tskit-table-set {display: inline-flex;flex-wrap: wrap;margin: -12px 0 0 -12px;width: calc(100% + 12px);}\n",
       "                .tskit-table-set-table {margin: 12px 0 0 12px;}\n",
       "                details {display: inline-block;}\n",
       "                summary {cursor: pointer; outline: 0; display: list-item;}\n",
       "              </style>\n",
       "              <div class=\"tskit-table-set\">\n",
       "                <div class=\"tskit-table-set-table\">\n",
       "                  <table class=\"tskit-table\">\n",
       "                    <thead>\n",
       "                      <tr>\n",
       "                        <th style=\"padding:0;line-height:21px;\">\n",
       "                          <img style=\"height: 32px;display: inline-block;padding: 3px 5px 3px 0;\" src=\"https://raw.githubusercontent.com/tskit-dev/administrative/main/tskit_logo.svg\"/>\n",
       "                          <a target=\"_blank\" href=\"https://tskit.readthedocs.io/en/latest/python-api.html#the-treesequence-class\"> Tree Sequence </a>\n",
       "                        </th>\n",
       "                      </tr>\n",
       "                    </thead>\n",
       "                    <tbody>\n",
       "                      <tr><td>Trees</td><td>43842</td></tr>\n",
       "                      <tr><td>Sequence Length</td><td>100000000.0</td></tr>\n",
       "                      <tr><td>Sample Nodes</td><td>4000</td></tr>\n",
       "                      <tr><td>Total Size</td><td>7.3 MiB</td></tr>\n",
       "                      <tr>\n",
       "                        <td>Metadata</td><td style=\"text-align: left;\">No Metadata</td></tr>\n",
       "                    </tbody>\n",
       "                  </table>\n",
       "                </div>\n",
       "                <div class=\"tskit-table-set-table\">\n",
       "                  <table class=\"tskit-table\">\n",
       "                    <thead>\n",
       "                      <tr>\n",
       "                        <th style=\"line-height:21px;\">Table</th>\n",
       "                        <th>Rows</th>\n",
       "                        <th>Size</th>\n",
       "                        <th>Has Metadata</th>\n",
       "                      </tr>\n",
       "                    </thead>\n",
       "                    <tbody>\n",
       "                    \n",
       "                  <tr>\n",
       "                    <td>Edges</td>\n",
       "                      <td>165289</td>\n",
       "                      <td>4.4 MiB</td>\n",
       "                      <td style=\"text-align: center;\">\n",
       "                        \n",
       "                      </td>\n",
       "                    </tr>\n",
       "                \n",
       "                  <tr>\n",
       "                    <td>Individuals</td>\n",
       "                      <td>2000</td>\n",
       "                      <td>31.3 KiB</td>\n",
       "                      <td style=\"text-align: center;\">\n",
       "                        \n",
       "                      </td>\n",
       "                    </tr>\n",
       "                \n",
       "                  <tr>\n",
       "                    <td>Migrations</td>\n",
       "                      <td>0</td>\n",
       "                      <td>4 Bytes</td>\n",
       "                      <td style=\"text-align: center;\">\n",
       "                        \n",
       "                      </td>\n",
       "                    </tr>\n",
       "                \n",
       "                  <tr>\n",
       "                    <td>Mutations</td>\n",
       "                      <td>20979</td>\n",
       "                      <td>594.1 KiB</td>\n",
       "                      <td style=\"text-align: center;\">\n",
       "                        \n",
       "                      </td>\n",
       "                    </tr>\n",
       "                \n",
       "                  <tr>\n",
       "                    <td>Nodes</td>\n",
       "                      <td>29893</td>\n",
       "                      <td>700.6 KiB</td>\n",
       "                      <td style=\"text-align: center;\">\n",
       "                        \n",
       "                      </td>\n",
       "                    </tr>\n",
       "                \n",
       "                  <tr>\n",
       "                    <td>Populations</td>\n",
       "                      <td>3</td>\n",
       "                      <td>278 Bytes</td>\n",
       "                      <td style=\"text-align: center;\">\n",
       "                        ✅\n",
       "                      </td>\n",
       "                    </tr>\n",
       "                \n",
       "                  <tr>\n",
       "                    <td>Provenances</td>\n",
       "                      <td>3</td>\n",
       "                      <td>2.9 KiB</td>\n",
       "                      <td style=\"text-align: center;\">\n",
       "                        \n",
       "                      </td>\n",
       "                    </tr>\n",
       "                \n",
       "                  <tr>\n",
       "                    <td>Sites</td>\n",
       "                      <td>20979</td>\n",
       "                      <td>348.3 KiB</td>\n",
       "                      <td style=\"text-align: center;\">\n",
       "                        \n",
       "                      </td>\n",
       "                    </tr>\n",
       "                \n",
       "                    </tbody>\n",
       "                  </table>\n",
       "                </div>\n",
       "              </div>\n",
       "            </div>\n",
       "            "
      ],
      "text/plain": [
       "<tskit.trees.TreeSequence at 0x7fcb59fa5580>"
      ]
     },
     "execution_count": 42,
     "metadata": {},
     "output_type": "execute_result"
    }
   ],
   "source": [
    "# remove information (and all sites) within the the interval [0 <-> 5e6]\n",
    "interval_to_remove = np.array([[0, 5e6]])\n",
    "ts_interval1_dropped = ts.delete_intervals(interval_to_remove)\n",
    "ts_interval1_dropped"
   ]
  },
  {
   "cell_type": "markdown",
   "id": "4c8df88b",
   "metadata": {},
   "source": [
    "Then proceed as above"
   ]
  },
  {
   "cell_type": "code",
   "execution_count": 43,
   "id": "a81e082d",
   "metadata": {},
   "outputs": [
    {
     "data": {
      "text/plain": [
       "0.02399311094553991"
      ]
     },
     "execution_count": 43,
     "metadata": {},
     "output_type": "execute_result"
    }
   ],
   "source": [
    "# replace ts with ts_interval1_dropped\n",
    "dA_interval1_dropped = ts_interval1_dropped.diversity(popA_samples, windows = 'sites', span_normalise=False)\n",
    "dB_interval1_dropped = ts_interval1_dropped.diversity(popB_samples, windows = 'sites', span_normalise=False)\n",
    "dAB_interval1_dropped = ts_interval1_dropped.divergence([popA_samples, popB_samples], windows = 'sites', span_normalise=False)\n",
    "\n",
    "mean_within_interval1_dropped = (dA_interval1_dropped + dB_interval1_dropped)/2\n",
    "between_interval1_dropped = dAB_interval1_dropped\n",
    "Fst_interval1_dropped = 1 - mean_within_interval1_dropped.sum()/between_interval1_dropped.sum()\n",
    "Fst_interval1_dropped"
   ]
  },
  {
   "cell_type": "markdown",
   "id": "71c8eff0",
   "metadata": {},
   "source": [
    "## starter project outline\n",
    "    - run the base simulation above, \n",
    "        - use all individuals and all loci - take this as the 'true' Fst.\n",
    "    - replicate taking observations of 50 individuals from each population and 5000 sites.\n",
    "        - use resampling methods to put 95% confidence intervals on Fst based on these 50 inds and 5000 sites.\n",
    "        - resampling over sites:\n",
    "            - single-site jackknife / bootstrap\n",
    "            - block jackknife / bootstrap | using blocks of adjacent loci, maybe try 100 loci or a genomic region of length 5e6. \n",
    "        - resampling over individuals:\n",
    "            - single-individual jackknife / bootstrap. \n",
    "        - repeat ~500 times and record how many times the 'True' value is within the confidence interval. \n"
   ]
  },
  {
   "cell_type": "code",
   "execution_count": null,
   "id": "73d75d3f",
   "metadata": {},
   "outputs": [],
   "source": []
  },
  {
   "cell_type": "markdown",
   "id": "abbda11f",
   "metadata": {},
   "source": [
    "# most diversity is within populations"
   ]
  },
  {
   "cell_type": "code",
   "execution_count": 22,
   "id": "cc52c4c9",
   "metadata": {},
   "outputs": [
    {
     "data": {
      "text/plain": [
       "0.9761817423481942"
      ]
     },
     "execution_count": 22,
     "metadata": {},
     "output_type": "execute_result"
    }
   ],
   "source": [
    "mean_within.sum()/between.sum()"
   ]
  },
  {
   "cell_type": "markdown",
   "id": "e338198b",
   "metadata": {},
   "source": [
    "# there are different interpretations of Fst"
   ]
  },
  {
   "cell_type": "code",
   "execution_count": 23,
   "id": "98862cdc",
   "metadata": {},
   "outputs": [
    {
     "data": {
      "text/plain": [
       "array(0.01205267)"
      ]
     },
     "execution_count": 23,
     "metadata": {},
     "output_type": "execute_result"
    }
   ],
   "source": [
    "# tskit has a built-in Fst function, but (confusingly) it calculates a different quantity\n",
    "ts.Fst([popA_samples, popB_samples], mode='site')"
   ]
  },
  {
   "cell_type": "markdown",
   "id": "a471556c",
   "metadata": {},
   "source": [
    "# We can use population genetics theory generate the expected value of Fst "
   ]
  },
  {
   "cell_type": "markdown",
   "id": "74c96d96",
   "metadata": {},
   "source": [
    "Here we are using the Hudson Fst from Bhatia et al 2013\n",
    "https://genome.cshlp.org/content/23/9/1514.long\n"
   ]
  },
  {
   "cell_type": "code",
   "execution_count": 26,
   "id": "6d5f9bc0",
   "metadata": {},
   "outputs": [],
   "source": [
    "# from Supplemental Info of Bhatia et al 2013\n",
    "# in msprime the N is given in diploid size (with ploidy=2), \n",
    "# in the eq below N is also diploid  \n",
    "\n",
    "def E_Fst(N, t):\n",
    "    return 1 - (1 - 1/(2*N))**t\n",
    "\n",
    "def Xi(N):\n",
    "    return 1-1/(2*N)\n",
    "\n",
    "def E_hudson(N1, N2, t):\n",
    "    return 1-(Xi(N1)**t + Xi(N2)**t)/2"
   ]
  },
  {
   "cell_type": "code",
   "execution_count": 27,
   "id": "672e2e42",
   "metadata": {},
   "outputs": [
    {
     "data": {
      "text/plain": [
       "0.0246961856722111"
      ]
     },
     "execution_count": 27,
     "metadata": {},
     "output_type": "execute_result"
    }
   ],
   "source": [
    "# diploid size \n",
    "E_hudson(1000, 1000, 50)"
   ]
  },
  {
   "cell_type": "code",
   "execution_count": 28,
   "id": "aa518012",
   "metadata": {},
   "outputs": [],
   "source": [
    "# Compare to the realized value of Fst from above"
   ]
  },
  {
   "cell_type": "code",
   "execution_count": 29,
   "id": "d0eaa8c0",
   "metadata": {},
   "outputs": [
    {
     "data": {
      "text/plain": [
       "(0.023818257651805685, 0.0246961856722111)"
      ]
     },
     "execution_count": 29,
     "metadata": {},
     "output_type": "execute_result"
    }
   ],
   "source": [
    "Fst, E_hudson(1000, 1000, 50)"
   ]
  },
  {
   "cell_type": "markdown",
   "id": "0bae7c9f",
   "metadata": {},
   "source": [
    "# can also get Fst from the allele frequency spectrum"
   ]
  },
  {
   "cell_type": "code",
   "execution_count": 46,
   "id": "390878c4",
   "metadata": {},
   "outputs": [
    {
     "data": {
      "text/plain": [
       "0.023818257651805685"
      ]
     },
     "execution_count": 46,
     "metadata": {},
     "output_type": "execute_result"
    }
   ],
   "source": [
    "afs = ts.allele_frequency_spectrum(\n",
    "    sample_sets = [popA_samples, popB_samples],\n",
    "    mode = 'site',\n",
    "    span_normalise=False, polarised=True)\n",
    "# Hudson's Fst\n",
    "n0 = afs.shape[0]-1 \n",
    "n1 = afs.shape[1]-1\n",
    "N = np.zeros_like(afs)\n",
    "D = np.zeros_like(afs)\n",
    "for i in np.arange(n0+1):\n",
    "    for j in np.arange(n1+1):\n",
    "        p0 = i/n0\n",
    "        p1 = j/n1\n",
    "        N[i,j] = (p0-p1)**2 - (p0*(1-p0))/(n0-1) - (p1*(1-p1))/(n1-1) \n",
    "        D[i,j] = p0*(1-p1)+p1*(1-p0)\n",
    "Fst = (N*afs).sum()/(D*afs).sum()\n",
    "\n",
    "Fst"
   ]
  },
  {
   "cell_type": "code",
   "execution_count": null,
   "id": "ac253038",
   "metadata": {},
   "outputs": [],
   "source": []
  }
 ],
 "metadata": {
  "kernelspec": {
   "display_name": "Python 3",
   "language": "python",
   "name": "python3"
  },
  "language_info": {
   "codemirror_mode": {
    "name": "ipython",
    "version": 3
   },
   "file_extension": ".py",
   "mimetype": "text/x-python",
   "name": "python",
   "nbconvert_exporter": "python",
   "pygments_lexer": "ipython3",
   "version": "3.9.5"
  }
 },
 "nbformat": 4,
 "nbformat_minor": 5
}

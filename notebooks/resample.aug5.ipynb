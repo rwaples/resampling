{
 "cells": [
  {
   "cell_type": "code",
   "execution_count": 3,
   "metadata": {},
   "outputs": [],
   "source": [
    "import numpy as np\n",
    "import scipy.stats\n",
    "import msprime\n",
    "import pandas as pd\n",
    "import allel\n",
    "import multiprocessing\n",
    "#import pyarrow # required for pandas Data.Frame.to_arrow()"
   ]
  },
  {
   "cell_type": "markdown",
   "metadata": {},
   "source": [
    "# Functions"
   ]
  },
  {
   "cell_type": "markdown",
   "metadata": {},
   "source": [
    "### Demographic simulations"
   ]
  },
  {
   "cell_type": "code",
   "execution_count": 4,
   "metadata": {},
   "outputs": [],
   "source": [
    "def sim_one_population(diploid_size, seq_len, rec_rate, mut_rate):\n",
    "    '''simulate two populations that have diverged\n",
    "        from a common ancestral population.\n",
    "    Returns a tree sequence.\n",
    "\n",
    "    @diploid_size = the population size of each population,\n",
    "        also the size of the ancestral population\n",
    "    @seq_len = length of the genome, units ~ base-pairs\n",
    "    @rec_rate = recombination rate, units = rate per bp, per generation\n",
    "    @mut_rate = mutation rate, units = rate per bp, per generation\n",
    "    '''\n",
    "\n",
    "    demography = msprime.Demography()\n",
    "    demography.add_population(name=\"A\", initial_size=diploid_size)\n",
    "\n",
    "    ts = msprime.sim_ancestry(\n",
    "        samples={'A': diploid_size},  # diploid samples\n",
    "        demography=demography,\n",
    "        ploidy=2,\n",
    "        sequence_length=seq_len,\n",
    "        discrete_genome=False,\n",
    "        recombination_rate=rec_rate,\n",
    "        model='dtwf',\n",
    "    )\n",
    "\n",
    "    ts = msprime.sim_mutations(\n",
    "        ts,\n",
    "        rate=mut_rate,\n",
    "        discrete_genome=False,\n",
    "        )\n",
    "\n",
    "    return ts"
   ]
  },
  {
   "cell_type": "code",
   "execution_count": null,
   "metadata": {},
   "outputs": [],
   "source": [
    "def sample_individuals(haploid_indexes, n, replace):\n",
    "    \"\"\"\n",
    "    return the (haploid) indexes that correspond to\n",
    "    taking n diploid samples from the supplied haploid indexes\n",
    "\n",
    "    @haploid_indexes = contiguous indexes for haploids\n",
    "        should be from a single population.\n",
    "    @n = the number of diploid indiviudals to take.\n",
    "    \"\"\"\n",
    "\n",
    "    # ensure the haploid indexes are consecutive\n",
    "    diff = np.diff(haploid_indexes)\n",
    "    assert np.sum(diff == 1) == (len(haploid_indexes)-1)\n",
    "\n",
    "    ind_indexes = haploid_indexes[::2]\n",
    "    ind_samples = np.sort(np.random.choice(ind_indexes, n, replace=replace))\n",
    "    haploid_samples = np.zeros(len(ind_samples)*2, dtype='int')\n",
    "    haploid_samples[0::2] = ind_samples\n",
    "    haploid_samples[1::2] = ind_samples+1\n",
    "    return(haploid_samples)"
   ]
  },
  {
   "cell_type": "code",
   "execution_count": null,
   "metadata": {},
   "outputs": [],
   "source": [
    "def observe(ts, num_inds, max_sites):\n",
    "    '''\n",
    "    oberserve num_inds diploids from each population\n",
    "    simplify the ts, removing non-variable sites across those individuals\n",
    "\n",
    "    @ts = tree-sequence\n",
    "    @num_inds = number of diploids to sample from each population\n",
    "    @max_sites = retain at most max_sites, from among variable sites\n",
    "    '''\n",
    "\n",
    "    popA = ts.samples(population=0)\n",
    "    popA_inds = sample_individuals(popA, num_inds, replace=False)\n",
    "    all_inds = popA_inds\n",
    "    obs_ts = ts.simplify(samples=all_inds)\n",
    "\n",
    "    if obs_ts.num_sites > max_sites:\n",
    "        all_sites = np.arange(len(obs_ts.sites()))\n",
    "        sites_keep = np.random.choice(all_sites, max_sites, replace=False)\n",
    "        sites_remove = np.setdiff1d(all_sites, sites_keep)\n",
    "        obs_ts = obs_ts.delete_sites(sites_remove)\n",
    "    return(obs_ts)"
   ]
  },
  {
   "cell_type": "markdown",
   "metadata": {},
   "source": [
    "# Example simulation and observation"
   ]
  },
  {
   "cell_type": "code",
   "execution_count": null,
   "metadata": {},
   "outputs": [],
   "source": [
    "# simulation of the entire demographic history\n",
    "pop_ts = sim_one_population(\n",
    "    diploid_size=200,\n",
    "    seq_len=1e9,\n",
    "    rec_rate=1e-8,\n",
    "    mut_rate=1e-8\n",
    ")"
   ]
  },
  {
   "cell_type": "code",
   "execution_count": null,
   "metadata": {},
   "outputs": [],
   "source": [
    "pop_ts"
   ]
  },
  {
   "cell_type": "markdown",
   "metadata": {},
   "source": [
    " sim_population() generates one population with a constant population size.  \n",
    " \n",
    " Here we have specified:\n",
    " \n",
    " `diploid_size = 200` so each population is composed of 200 diploid individuals.\n",
    " \n",
    " `seq_len = 1e9` so the genome is ~ a billion basepairs (bp) long.\n",
    " \n",
    " `rec_rate = 1e-8` so the recombination rate is .00000001 per bp per generation.\n",
    " \n",
    " `mut_rate = 1e-8` so the mutation rate is .00000001 per bp per generation (same as the mut_rate)."
   ]
  },
  {
   "cell_type": "markdown",
   "metadata": {},
   "source": [
    "## Data structure\n",
    "The genetic data is store as a tree sequence [link to documentation](https://tskit.dev/tskit/docs/stable/data-model.html)"
   ]
  },
  {
   "cell_type": "code",
   "execution_count": null,
   "metadata": {},
   "outputs": [],
   "source": [
    "# for a tree-sequence, \"samples\" are always haploid,\n",
    "# while we will generally be addressing diploid individuals\n",
    "pop_ts.num_samples"
   ]
  },
  {
   "cell_type": "markdown",
   "metadata": {},
   "source": [
    "This ts has 400 \"samples\". This is due to having one population with 200 diploids. \n",
    "\n",
    "`200 (diploids) * 2 (samples per diploid)`"
   ]
  },
  {
   "cell_type": "markdown",
   "metadata": {},
   "source": [
    "### The `ts` above contains the full history of all indiviudals. \n",
    "\n",
    "In practice, researchers rarely get to observe all individuals or variable sites.  \n",
    "\n",
    "#### We can also simulate a situation where we only get to observe a subset of the individuals/sites."
   ]
  },
  {
   "cell_type": "code",
   "execution_count": 167,
   "metadata": {},
   "outputs": [],
   "source": [
    "# The observe() function returns another ts that contains\n",
    "#     a subset of the individuals and/or sites.\n",
    "obs_ts = observe(ts=pop_ts, num_inds=50, max_sites=5000)"
   ]
  },
  {
   "cell_type": "markdown",
   "metadata": {},
   "source": [
    " Here we have specified:\n",
    " \n",
    " `ts = pop_ts` so the pop_ts is the initial 2-population ts, with 200 individuals per pop.\n",
    " \n",
    " `num_inds = 50` so there will be 50 inds individuals per pop in the returned ts.\n",
    " \n",
    " `max_sites = 5000` so their will be at most 5000 variable sites in the returned ts."
   ]
  },
  {
   "cell_type": "code",
   "execution_count": 168,
   "metadata": {},
   "outputs": [
    {
     "data": {
      "text/plain": [
       "(100, 400)"
      ]
     },
     "execution_count": 168,
     "metadata": {},
     "output_type": "execute_result"
    }
   ],
   "source": [
    "# 50 individuals * 2 (pops) * 2 (samples per diploid)\n",
    "obs_ts.num_samples, pop_ts.num_samples"
   ]
  },
  {
   "cell_type": "code",
   "execution_count": 170,
   "metadata": {},
   "outputs": [
    {
     "data": {
      "text/plain": [
       "(5000, 52903)"
      ]
     },
     "execution_count": 170,
     "metadata": {},
     "output_type": "execute_result"
    }
   ],
   "source": [
    "# the number of sites has also be reduced\n",
    "obs_ts.num_sites,  pop_ts.num_sites"
   ]
  },
  {
   "cell_type": "markdown",
   "metadata": {},
   "source": [
    "# Summary statistics"
   ]
  },
  {
   "cell_type": "markdown",
   "metadata": {},
   "source": [
    "Diversity, also often called pi, is a measure the average number of nucleotide differences between genotypes drawn from the same population. \n",
    "\n",
    "$ \\pi_{within} $  = the average number of pairwise differences between two samples from the same population.\n",
    "\n",
    "Often, this definition also includes non-variable sites, but we will ignore this and focus just on the variable sites. In this context this is also called the expected heterozygosity."
   ]
  },
  {
   "cell_type": "code",
   "execution_count": 190,
   "metadata": {},
   "outputs": [],
   "source": [
    "def site_diversity(ac, n):\n",
    "    \"\"\"\n",
    "    returns the diversity at one or more sites\n",
    "    \n",
    "    @ac = count of one of the alleles \n",
    "    @n = numer of samples\n",
    "    \"\"\"\n",
    "       \n",
    "    npairs = int(n*(n-1)/2)  # total numbers of pairs of samples\n",
    "    n_different_pairs = ac * (n-ac) # number of those pairs that have different alleles\n",
    "    return (n_different_pairs/npairs)"
   ]
  },
  {
   "cell_type": "code",
   "execution_count": 180,
   "metadata": {},
   "outputs": [
    {
     "data": {
      "text/plain": [
       "4950.0"
      ]
     },
     "execution_count": 180,
     "metadata": {},
     "output_type": "execute_result"
    }
   ],
   "source": [
    "100*(100-1)/2"
   ]
  },
  {
   "cell_type": "code",
   "execution_count": 181,
   "metadata": {},
   "outputs": [
    {
     "data": {
      "text/plain": [
       "100"
      ]
     },
     "execution_count": 181,
     "metadata": {},
     "output_type": "execute_result"
    }
   ],
   "source": [
    "obs_ts.num_samples"
   ]
  },
  {
   "cell_type": "code",
   "execution_count": 220,
   "metadata": {},
   "outputs": [
    {
     "data": {
      "text/plain": [
       "[<matplotlib.lines.Line2D at 0x7f881d1bcc70>]"
      ]
     },
     "execution_count": 220,
     "metadata": {},
     "output_type": "execute_result"
    },
    {
     "data": {
      "image/png": "[encoded data removed]",
      "text/plain": [
       "<Figure size 432x288 with 1 Axes>"
      ]
     },
     "metadata": {
      "needs_background": "light"
     },
     "output_type": "display_data"
    }
   ],
   "source": [
    "# diversity vs allele count out of 100\n",
    "r = []\n",
    "for x in np.arange(100):\n",
    "    r.append(site_diversity(x, 100))\n",
    "plt.plot(r)"
   ]
  },
  {
   "cell_type": "code",
   "execution_count": 191,
   "metadata": {},
   "outputs": [
    {
     "data": {
      "text/plain": [
       "array([0.25757576, 0.13151515, 0.22848485, ..., 0.07757576, 0.18181818,\n",
       "       0.02      ])"
      ]
     },
     "execution_count": 191,
     "metadata": {},
     "output_type": "execute_result"
    }
   ],
   "source": [
    "# diversity at each site\n",
    "site_diversity(obs_ts.genotype_matrix().sum(1), obs_ts.num_samples)"
   ]
  },
  {
   "cell_type": "code",
   "execution_count": 192,
   "metadata": {},
   "outputs": [
    {
     "data": {
      "text/plain": [
       "<AxesSubplot:ylabel='Count'>"
      ]
     },
     "execution_count": 192,
     "metadata": {},
     "output_type": "execute_result"
    },
    {
     "data": {
      "image/png": "[encoded data removed]",
      "text/plain": [
       "<Figure size 432x288 with 1 Axes>"
      ]
     },
     "metadata": {
      "needs_background": "light"
     },
     "output_type": "display_data"
    }
   ],
   "source": [
    "sns.histplot(site_diversity(obs_ts.genotype_matrix().sum(1), obs_ts.num_samples))"
   ]
  },
  {
   "cell_type": "code",
   "execution_count": 195,
   "metadata": {},
   "outputs": [
    {
     "data": {
      "text/plain": [
       "array([0.25757576, 0.13151515, 0.22848485, ..., 0.07757576, 0.18181818,\n",
       "       0.02      ])"
      ]
     },
     "execution_count": 195,
     "metadata": {},
     "output_type": "execute_result"
    }
   ],
   "source": [
    "# you can also get this with the tskit API, but this wont allow repeated sites or samples\n",
    "obs_ts.diversity(span_normalise = False, windows = 'sites')"
   ]
  },
  {
   "cell_type": "code",
   "execution_count": 197,
   "metadata": {},
   "outputs": [],
   "source": [
    "def get_diversity_general(ts, samples, sites_index):\n",
    "    \"\"\"returns average pairwise diversity of a set of samples across a set of sites. \n",
    "\n",
    "    This function is general in the sense that (samples) and (sites_index)may have duplicates.\n",
    "\n",
    "    @ts = tree sequence\n",
    "    @samples = the samples from the first population to be used\n",
    "    @sites_index = the indexes of the sites to be used.\n",
    "    \"\"\"\n",
    "    nsamples = len(samples)\n",
    "    genos = obs_ts.genotype_matrix()\n",
    "    diver = site_diversity(genos[sites_index, :][:,samples].sum(1), nsamples).mean()\n",
    "    return diver"
   ]
  },
  {
   "cell_type": "code",
   "execution_count": 218,
   "metadata": {},
   "outputs": [
    {
     "data": {
      "text/plain": [
       "0.1897050909090909"
      ]
     },
     "execution_count": 218,
     "metadata": {},
     "output_type": "execute_result"
    }
   ],
   "source": [
    "# applied to the entire observed set\n",
    "get_diversity_general(\n",
    "    ts=obs_ts,\n",
    "    samples=np.arange(obs_ts.num_samples),\n",
    "    sites_index=np.arange(obs_ts.num_sites),\n",
    "    )"
   ]
  },
  {
   "cell_type": "code",
   "execution_count": 200,
   "metadata": {},
   "outputs": [
    {
     "data": {
      "text/plain": [
       "0.1897050909090909"
      ]
     },
     "execution_count": 200,
     "metadata": {},
     "output_type": "execute_result"
    }
   ],
   "source": [
    "# mean diversity across sites\n",
    "site_diversity(obs_ts.genotype_matrix().sum(1), obs_ts.num_samples).mean()"
   ]
  },
  {
   "cell_type": "code",
   "execution_count": 204,
   "metadata": {},
   "outputs": [
    {
     "data": {
      "text/plain": [
       "0.19133620202020202"
      ]
     },
     "execution_count": 204,
     "metadata": {},
     "output_type": "execute_result"
    }
   ],
   "source": [
    "# bootstrap over sites \n",
    "get_diversity_general(\n",
    "    ts=obs_ts,\n",
    "    samples=np.arange(obs_ts.num_samples),\n",
    "    sites_index=np.random.choice(obs_ts.num_sites, obs_ts.num_sites, replace = True),\n",
    "    )"
   ]
  },
  {
   "cell_type": "code",
   "execution_count": 207,
   "metadata": {},
   "outputs": [
    {
     "data": {
      "text/plain": [
       "0.18838840404040405"
      ]
     },
     "execution_count": 207,
     "metadata": {},
     "output_type": "execute_result"
    }
   ],
   "source": [
    "# bootstrap over samples \n",
    "get_diversity_general(\n",
    "    ts=obs_ts,\n",
    "    samples=np.random.choice(obs_ts.num_samples, obs_ts.num_samples, replace = True),\n",
    "    sites_index=np.arange(obs_ts.num_sites),\n",
    "    )"
   ]
  },
  {
   "cell_type": "code",
   "execution_count": 206,
   "metadata": {},
   "outputs": [
    {
     "data": {
      "text/plain": [
       "Text(0.5, 1.0, '5000 bootstraps over sites')"
      ]
     },
     "execution_count": 206,
     "metadata": {},
     "output_type": "execute_result"
    },
    {
     "data": {
      "image/png": "[encoded data removed]",
      "text/plain": [
       "<Figure size 432x288 with 1 Axes>"
      ]
     },
     "metadata": {
      "needs_background": "light"
     },
     "output_type": "display_data"
    }
   ],
   "source": [
    "res = []\n",
    "for i in range(5000):\n",
    "    res.append(get_diversity_general(\n",
    "        ts=obs_ts,\n",
    "        samples=np.arange(obs_ts.num_samples),\n",
    "        sites_index=np.random.choice(obs_ts.num_sites, obs_ts.num_sites, replace = True),\n",
    "        )\n",
    "    )\n",
    "\n",
    "sns.histplot(res)\n",
    "plt.axvline(site_diversity(obs_ts.genotype_matrix().sum(1), obs_ts.num_samples).mean(), color = 'red')\n",
    "plt.title('5000 bootstraps over sites')"
   ]
  },
  {
   "cell_type": "code",
   "execution_count": 210,
   "metadata": {},
   "outputs": [
    {
     "data": {
      "text/plain": [
       "Text(0.5, 1.0, '5000 bootstraps over samples')"
      ]
     },
     "execution_count": 210,
     "metadata": {},
     "output_type": "execute_result"
    },
    {
     "data": {
      "image/png": "[encoded data removed]",
      "text/plain": [
       "<Figure size 432x288 with 1 Axes>"
      ]
     },
     "metadata": {
      "needs_background": "light"
     },
     "output_type": "display_data"
    }
   ],
   "source": [
    "res = []\n",
    "for i in range(5000):\n",
    "    res.append(get_diversity_general(\n",
    "        ts=obs_ts,\n",
    "    samples=np.random.choice(obs_ts.num_samples, obs_ts.num_samples, replace = True),\n",
    "    sites_index=np.arange(obs_ts.num_sites),\n",
    "        )\n",
    "    )\n",
    "\n",
    "sns.histplot(res)\n",
    "plt.axvline(site_diversity(obs_ts.genotype_matrix().sum(1), obs_ts.num_samples).mean(), color = 'red')\n",
    "plt.title('5000 bootstraps over samples')"
   ]
  },
  {
   "cell_type": "code",
   "execution_count": null,
   "metadata": {},
   "outputs": [],
   "source": [
    "for sim in nsims: # 10\n",
    "    true_val = diversity(sim) \n",
    "    for obs in observations: # numbers of sites and inds\n",
    "        obs_vals = diversity(obs) \n",
    "        bt_ci = do_bootstrap() \n",
    "        jk_ci = do_jackknife()\n",
    "        coverage = get_coverage(bt_ci, jk_ci)"
   ]
  },
  {
   "cell_type": "markdown",
   "metadata": {},
   "source": [
    "# jackknife can be doen with np.delete"
   ]
  },
  {
   "cell_type": "code",
   "execution_count": 211,
   "metadata": {},
   "outputs": [],
   "source": [
    "np.delete"
   ]
  },
  {
   "cell_type": "code",
   "execution_count": 213,
   "metadata": {},
   "outputs": [
    {
     "data": {
      "text/plain": [
       "array([ 4,  5,  6,  7,  8,  9, 10, 11, 12, 13, 14])"
      ]
     },
     "execution_count": 213,
     "metadata": {},
     "output_type": "execute_result"
    }
   ],
   "source": [
    "ar = np.arange(4, 15)\n",
    "ar"
   ]
  },
  {
   "cell_type": "code",
   "execution_count": 217,
   "metadata": {},
   "outputs": [
    {
     "data": {
      "text/plain": [
       "array([ 4,  5,  6,  7,  8,  9, 11, 12, 13, 14])"
      ]
     },
     "execution_count": 217,
     "metadata": {},
     "output_type": "execute_result"
    }
   ],
   "source": [
    "# removes the value at index 6\n",
    "np.delete(ar, 6)"
   ]
  },
  {
   "cell_type": "code",
   "execution_count": 215,
   "metadata": {},
   "outputs": [
    {
     "data": {
      "text/plain": [
       "array([ 5,  6,  7,  8,  9, 10, 11, 12, 13, 14])"
      ]
     },
     "execution_count": 215,
     "metadata": {},
     "output_type": "execute_result"
    }
   ],
   "source": [
    "np.delete(ar, 0)"
   ]
  },
  {
   "cell_type": "code",
   "execution_count": null,
   "metadata": {},
   "outputs": [],
   "source": []
  }
 ],
 "metadata": {
  "kernelspec": {
   "display_name": "Python 3",
   "language": "python",
   "name": "python3"
  },
  "language_info": {
   "codemirror_mode": {
    "name": "ipython",
    "version": 3
   },
   "file_extension": ".py",
   "mimetype": "text/x-python",
   "name": "python",
   "nbconvert_exporter": "python",
   "pygments_lexer": "ipython3",
   "version": "3.8.3"
  }
 },
 "nbformat": 4,
 "nbformat_minor": 4
}

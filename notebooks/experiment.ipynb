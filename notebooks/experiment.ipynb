{
 "cells": [
  {
   "cell_type": "code",
   "execution_count": 1,
   "metadata": {},
   "outputs": [],
   "source": [
    "import pandas as pd\n",
    "import numpy as np\n",
    "import seaborn as sns\n",
    "import matplotlib.pyplot as plt\n",
    "import resample as rp\n",
    "import intervals as ci\n",
    "import simulation as sim\n",
    "import summary as sm\n",
    "\n",
    "from time import time\n",
    "from datetime import datetime\n",
    "from multiprocessing import Pool, cpu_count"
   ]
  },
  {
   "cell_type": "markdown",
   "metadata": {},
   "source": [
    "## Site Diversity"
   ]
  },
  {
   "cell_type": "markdown",
   "metadata": {},
   "source": [
    "### Resample over sites (change the number of observed sites)\n",
    "#### 1. Bootstrap \n",
    "#### 2. Delete-one Jackknife \n",
    "#### 3. Delete-mj Jackknife (random split)"
   ]
  },
  {
   "cell_type": "code",
   "execution_count": 29,
   "metadata": {
    "scrolled": true
   },
   "outputs": [
    {
     "name": "stdout",
     "output_type": "stream",
     "text": [
      "Population site diveristy: 0.1458479941890861\n",
      "Experiment: 0\n",
      "The shape of observed population (inds, sites) is: 1000 \n",
      "\n",
      "start_time: 2021-09-04 15:48:46.354337\n",
      "Run time: 0:00:03.415927\n",
      "The shape of observed population (inds, sites) is: 2000 \n",
      "\n",
      "start_time: 2021-09-04 15:48:49.770536\n",
      "Run time: 0:00:01.171352\n",
      "The shape of observed population (inds, sites) is: 3000 \n",
      "\n",
      "start_time: 2021-09-04 15:48:50.942205\n",
      "Run time: 0:00:01.279362\n",
      "The shape of observed population (inds, sites) is: 4000 \n",
      "\n",
      "start_time: 2021-09-04 15:48:52.221889\n",
      "Run time: 0:00:01.533724\n",
      "The shape of observed population (inds, sites) is: 5000 \n",
      "\n",
      "start_time: 2021-09-04 15:48:53.755851\n",
      "Run time: 0:00:01.709504\n",
      "Population site diveristy: 0.14973514115842126\n",
      "Experiment: 1\n",
      "The shape of observed population (inds, sites) is: 1000 \n",
      "\n",
      "start_time: 2021-09-04 15:48:56.992651\n",
      "Run time: 0:00:00.886473\n",
      "The shape of observed population (inds, sites) is: 2000 \n",
      "\n",
      "start_time: 2021-09-04 15:48:57.879428\n",
      "Run time: 0:00:00.993621\n",
      "The shape of observed population (inds, sites) is: 3000 \n",
      "\n",
      "start_time: 2021-09-04 15:48:58.873355\n",
      "Run time: 0:00:01.198282\n",
      "The shape of observed population (inds, sites) is: 4000 \n",
      "\n",
      "start_time: 2021-09-04 15:49:00.071869\n",
      "Run time: 0:00:01.327338\n",
      "The shape of observed population (inds, sites) is: 5000 \n",
      "\n",
      "start_time: 2021-09-04 15:49:01.399421\n",
      "Run time: 0:00:01.979953\n",
      "Population site diveristy: 0.1470234591333148\n",
      "Experiment: 2\n",
      "The shape of observed population (inds, sites) is: 1000 \n",
      "\n",
      "start_time: 2021-09-04 15:49:04.867968\n",
      "Run time: 0:00:01.023702\n",
      "The shape of observed population (inds, sites) is: 2000 \n",
      "\n",
      "start_time: 2021-09-04 15:49:05.892190\n",
      "Run time: 0:00:01.002870\n",
      "The shape of observed population (inds, sites) is: 3000 \n",
      "\n",
      "start_time: 2021-09-04 15:49:06.895325\n",
      "Run time: 0:00:01.166820\n",
      "The shape of observed population (inds, sites) is: 4000 \n",
      "\n",
      "start_time: 2021-09-04 15:49:08.062441\n",
      "Run time: 0:00:01.376260\n",
      "The shape of observed population (inds, sites) is: 5000 \n",
      "\n",
      "start_time: 2021-09-04 15:49:09.439545\n",
      "Run time: 0:00:01.787532\n",
      "CPU times: user 20.3 s, sys: 4.65 s, total: 25 s\n",
      "Wall time: 26.5 s\n"
     ]
    }
   ],
   "source": [
    "%%time\n",
    "max_sites = np.linspace(1000, 5000, 5, dtype=int)\n",
    "result = []\n",
    "n_experiment = 3\n",
    "n_replicate = 2\n",
    "\n",
    "for exp in range(n_experiment):\n",
    "    pop_ts = sim.sim_one_population(\n",
    "        diploid_size=200,\n",
    "        seq_len=1e9,\n",
    "        rec_rate=1e-8,\n",
    "        mut_rate=1e-8\n",
    "    )\n",
    "\n",
    "    pop_ts_diversity = pop_ts.diversity(span_normalise = False, windows = 'sites').mean()\n",
    "    \n",
    "    print('Population site diveristy:', pop_ts_diversity)\n",
    "    print('Experiment:', exp)\n",
    "    \n",
    "    for num_sites in max_sites:\n",
    "        print(f'The shape of observed population (inds, sites) is: {(num_sites)} \\n')\n",
    "        start = datetime.now()\n",
    "        print('start_time:', start)\n",
    "\n",
    "        inputs = [(sim.observe(ts=pop_ts, num_inds=200, max_sites=num_sites)) for _ in range(n_replicate)]\n",
    "\n",
    "        pool = Pool(cpu_count())\n",
    "\n",
    "        bt_vals = pool.map(rp.bt_resample_sites, inputs)\n",
    "        jk_delete_one_vals = pool.map(rp.jk_delete_one_sites, inputs)\n",
    "        jk_delete_mj_vals = pool.map(rp.jk_delete_mj_sites, inputs)\n",
    "\n",
    "        coverage_rate = {'bt_standard': np.zeros((n_replicate, ), dtype=int), \n",
    "                         'jk_delete_one': np.zeros((n_replicate, ), dtype=int),\n",
    "                         'jk_delete_mj': np.zeros((n_replicate, ), dtype=int)}\n",
    "\n",
    "        for i, (bt, jk_one, (jk_mj, sizes)) in enumerate(zip(bt_vals, jk_delete_one_vals, jk_delete_mj_vals)):\n",
    "            obs_ts = inputs[i]\n",
    "            obs_ts_diversity = obs_ts.diversity(span_normalise = False, windows = 'sites').mean()\n",
    "\n",
    "            bt_CI = ci.bt_standard(bt, 0.95, obs_ts_diversity)\n",
    "            jk_one_CI = ci.jk_delete_one(jk_one, 0.95, obs_ts_diversity)\n",
    "            jk_mj_CI = ci.jk_delete_mj(jk_mj, 0.95, obs_ts_diversity, sizes)\n",
    "\n",
    "            if bt_CI[0] < pop_ts_diversity < bt_CI[1]:\n",
    "                coverage_rate['bt_standard'][i] = 1\n",
    "\n",
    "            if jk_one_CI[0] < pop_ts_diversity < jk_one_CI[1]:\n",
    "                coverage_rate['jk_delete_one'][i] = 1\n",
    "\n",
    "            if jk_mj_CI[0] < pop_ts_diversity < jk_mj_CI[1]:\n",
    "                coverage_rate['jk_delete_mj'][i] = 1\n",
    "\n",
    "        print('Run time:', datetime.now() - start)\n",
    "        result.append([exp, num_sites, pop_ts_diversity, coverage_rate['bt_standard'].mean(),\n",
    "                    coverage_rate['jk_delete_one'].mean(), coverage_rate['jk_delete_mj'].mean()])\n",
    "\n",
    "# save the results to csv file\n",
    "result_df = pd.DataFrame(result)\n",
    "result_df.columns = ['experiment', 'num_sites', 'pop_ts_diversity', \n",
    "                     'bt_standard_normal', 'jk_delete_one', 'jk_delete_mj']\n",
    "\n",
    "#filename = datetime.now().strftime(\"%m%d\") + 'over_sites_site_diversity.csv'\n",
    "#result_df.to_csv(f'../data/{filename}', index=False)"
   ]
  },
  {
   "cell_type": "markdown",
   "metadata": {},
   "source": [
    "### Resample over inds (change the number of observed sites)\n",
    "#### 1. Bootstrap \n",
    "#### 2. Delete-one Jackknife \n",
    "#### 3. Delete-mj Jackknife (random split)"
   ]
  },
  {
   "cell_type": "code",
   "execution_count": 2,
   "metadata": {},
   "outputs": [
    {
     "data": {
      "text/plain": [
       "0.15096368856612855"
      ]
     },
     "execution_count": 2,
     "metadata": {},
     "output_type": "execute_result"
    }
   ],
   "source": [
    "pop_ts = sim.sim_one_population(\n",
    "        diploid_size=200,\n",
    "        seq_len=1e9,\n",
    "        rec_rate=1e-8,\n",
    "        mut_rate=1e-8\n",
    "    )\n",
    "\n",
    "pop_ts_diversity = pop_ts.diversity(span_normalise = False, windows = 'sites').mean()\n",
    "pop_ts_diversity\n"
   ]
  },
  {
   "cell_type": "code",
   "execution_count": 4,
   "metadata": {},
   "outputs": [],
   "source": [
    "inputs = [sim.observe(ts=pop_ts, num_inds=200, max_sites=1000) for i in range(10)]"
   ]
  },
  {
   "cell_type": "code",
   "execution_count": 5,
   "metadata": {},
   "outputs": [
    {
     "name": "stdout",
     "output_type": "stream",
     "text": [
      "CPU times: user 2.79 s, sys: 3.24 s, total: 6.03 s\n",
      "Wall time: 3min 1s\n"
     ]
    }
   ],
   "source": [
    "%%time\n",
    "bt_inds_vals = list(map(rp.bt_resample_inds, inputs))"
   ]
  },
  {
   "cell_type": "code",
   "execution_count": 8,
   "metadata": {},
   "outputs": [
    {
     "name": "stdout",
     "output_type": "stream",
     "text": [
      "CPU times: user 2.53 s, sys: 3.25 s, total: 5.78 s\n",
      "Wall time: 2min 13s\n"
     ]
    }
   ],
   "source": [
    "%%time\n",
    "def jk_delete_one_inds(ts):\n",
    "    '''delete one jackknife resample over inds\n",
    "    '''\n",
    "    samples_index = np.arange(ts.num_samples)\n",
    "    sites_index = np.arange(ts.num_sites)\n",
    "    inputs = [(ts, np.delete(samples_index, i), sites_index) for i in samples_index]\n",
    "    \n",
    "    pool = Pool(cpu_count())\n",
    "    jk_vals = np.array(pool.map(sm.get_diversity_general, inputs))\n",
    "    \n",
    "    return jk_vals\n",
    "\n",
    "jk_delete_on_inds_vals = list(map(jk_delete_one_inds, inputs))"
   ]
  },
  {
   "cell_type": "code",
   "execution_count": 12,
   "metadata": {},
   "outputs": [
    {
     "name": "stdout",
     "output_type": "stream",
     "text": [
      "CPU times: user 1.64 s, sys: 2.04 s, total: 3.69 s\n",
      "Wall time: 34.9 s\n"
     ]
    }
   ],
   "source": [
    "%%time\n",
    "\n",
    "def jk_delete_mj_inds(ts):\n",
    "    '''delete_mj jackknife resampling methods over inds with unequal sizes\n",
    "    '''\n",
    "    samples_index = np.arange(ts.num_samples)\n",
    "    sites_index = np.arange(ts.num_sites)\n",
    "    \n",
    "    n_samples = ts.num_samples\n",
    "    n_fold = int(np.sqrt(n_samples))\n",
    "\n",
    "    # where to cut off the array\n",
    "    random = np.random.multinomial(\n",
    "        n=n_samples - n_fold,\n",
    "        pvals=np.ones(n_fold) / (n_fold),\n",
    "    )\n",
    "    random += 1\n",
    "    cutoff = np.cumsum(random)\n",
    "\n",
    "    # index of sites \n",
    "    index = np.arange(n_samples)\n",
    "    index = np.split(index, cutoff)[0:n_fold]\n",
    "    \n",
    "    inputs = [(ts, np.delete(samples_index, i), sites_index) for i in index]\n",
    "    \n",
    "    pool = Pool(cpu_count())\n",
    "    jk_vals = np.array(pool.map(sm.get_diversity_general, inputs))\n",
    "    \n",
    "    return jk_vals\n",
    "\n",
    "\n",
    "jk_delete_mj_inds_vals = list(map(jk_delete_mj_inds, inputs))"
   ]
  },
  {
   "cell_type": "code",
   "execution_count": 10,
   "metadata": {},
   "outputs": [
    {
     "data": {
      "text/plain": [
       "10"
      ]
     },
     "execution_count": 10,
     "metadata": {},
     "output_type": "execute_result"
    }
   ],
   "source": [
    "len(jk_delete_on_inds_vals)"
   ]
  },
  {
   "cell_type": "code",
   "execution_count": null,
   "metadata": {},
   "outputs": [],
   "source": []
  }
 ],
 "metadata": {
  "kernelspec": {
   "display_name": "Python 3",
   "language": "python",
   "name": "python3"
  },
  "language_info": {
   "codemirror_mode": {
    "name": "ipython",
    "version": 3
   },
   "file_extension": ".py",
   "mimetype": "text/x-python",
   "name": "python",
   "nbconvert_exporter": "python",
   "pygments_lexer": "ipython3",
   "version": "3.8.3"
  }
 },
 "nbformat": 4,
 "nbformat_minor": 4
}

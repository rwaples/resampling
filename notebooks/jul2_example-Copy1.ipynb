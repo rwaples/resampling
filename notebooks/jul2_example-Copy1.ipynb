{
 "cells": [
  {
   "cell_type": "code",
   "execution_count": 2,
   "metadata": {},
   "outputs": [],
   "source": [
    "import numpy as np\n",
    "import msprime\n",
    "import matplotlib.pyplot as plt\n",
    "import pandas as pd\n",
    "from sklearn.utils import resample\n",
    "from statistics import mean, stdev\n",
    "from math import sqrt\n",
    "import seaborn as sns"
   ]
  },
  {
   "cell_type": "code",
   "execution_count": 23,
   "metadata": {},
   "outputs": [],
   "source": [
    "import allel"
   ]
  },
  {
   "cell_type": "code",
   "execution_count": 24,
   "metadata": {},
   "outputs": [],
   "source": [
    "def sim():\n",
    "    demography = msprime.Demography()\n",
    "    demography.add_population(name=\"A\", initial_size=1000) \n",
    "    demography.add_population(name=\"B\", initial_size=1000)\n",
    "    demography.add_population(name=\"C\", initial_size=1000)\n",
    "    demography.add_population_split(time=50, derived=[\"A\", \"B\"], ancestral=\"C\")\n",
    "    \n",
    "    ts = msprime.sim_ancestry(\n",
    "            samples={'A':1000, 'B':1000}, # diploid samples\n",
    "            demography=demography,\n",
    "            ploidy=2,\n",
    "            sequence_length=1e8,\n",
    "            discrete_genome=False,\n",
    "            recombination_rate=1e-8, \n",
    "            model='dtwf',\n",
    "        )\n",
    "\n",
    "    ts = msprime.sim_mutations(\n",
    "            ts, \n",
    "            rate=1e-8, \n",
    "            discrete_genome=False,\n",
    "            start_time=50,\n",
    "        )\n",
    "    return ts"
   ]
  },
  {
   "cell_type": "code",
   "execution_count": 48,
   "metadata": {},
   "outputs": [],
   "source": [
    "def get_fst_with_duplicate_samples(ts, pop1_samples, pop2_samples):\n",
    "    \"\"\"return fst \n",
    "    ts = tree seqeunce\n",
    "    pop1_samples - the samples from the first popualtion to be used\n",
    "    pop2_samples - the samples from the second popualtion to be used\n",
    "    \n",
    "    both (pop1_samples and pop2_samples) may have duplicates.\n",
    "    uses all available sites from the ts.    \n",
    "    \"\"\"    \n",
    "    \n",
    "    ga = allel.GenotypeArray(\n",
    "        ts.genotype_matrix().reshape(\n",
    "            ts.num_sites, ts.num_samples, 1), \n",
    "        dtype='i1')\n",
    "    ac1 = ga[:, pop1_samples].count_alleles()\n",
    "    ac2 = ga[:, pop2_samples].count_alleles()\n",
    "    num, denom = allel.hudson_fst(ac1, ac2)\n",
    "    fst = np.sum(num)/np.sum(denom)\n",
    "    return(fst)"
   ]
  },
  {
   "cell_type": "code",
   "execution_count": 73,
   "metadata": {},
   "outputs": [],
   "source": [
    "# requires scikit-allele\n",
    "# install with conda install -c conda-forge scikit-allel\n",
    "\n",
    "def get_fst_general(ts, pop1_samples, pop2_samples, sites_index):\n",
    "    \"\"\"return fst \n",
    "    ts = tree seqeunce\n",
    "    pop1_samples = the samples from the first popualtion to be used\n",
    "    pop2_samples = the samples from the second population to be used\n",
    "    sites_index = the indexs of the sites to be used. \n",
    "    \n",
    "    all of  (pop1_samples, pop2_samples, and sites_index) may have duplicates.\n",
    "    \"\"\"\n",
    "    \n",
    "    ga = allel.GenotypeArray(\n",
    "        ts.genotype_matrix().reshape(\n",
    "            ts.num_sites, ts.num_samples, 1), \n",
    "        dtype='i1')\n",
    "    ac1 = ga[sites_index][:, pop1_samples, :].count_alleles()\n",
    "    ac2 = ga[sites_index][:, pop2_samples].count_alleles()\n",
    "    num, denom = allel.hudson_fst(ac1, ac2)\n",
    "    fst = np.sum(num)/np.sum(denom)\n",
    "    return(fst)\n"
   ]
  },
  {
   "cell_type": "code",
   "execution_count": 74,
   "metadata": {},
   "outputs": [
    {
     "data": {
      "text/plain": [
       "0.025465254515040107"
      ]
     },
     "execution_count": 74,
     "metadata": {},
     "output_type": "execute_result"
    }
   ],
   "source": [
    "get_fst_general(ts, pop1_indices, pop2_indices, sites_index=np.arange(ts.num_sites))"
   ]
  },
  {
   "cell_type": "code",
   "execution_count": 78,
   "metadata": {},
   "outputs": [
    {
     "data": {
      "text/plain": [
       "0.017624196713741484"
      ]
     },
     "execution_count": 78,
     "metadata": {},
     "output_type": "execute_result"
    }
   ],
   "source": [
    "get_fst_general(ts, [0,0,2,3,4,2], pop2_indices, sites_index=[0,2,2,2])"
   ]
  },
  {
   "cell_type": "code",
   "execution_count": null,
   "metadata": {},
   "outputs": [],
   "source": []
  },
  {
   "cell_type": "code",
   "execution_count": null,
   "metadata": {},
   "outputs": [],
   "source": [
    "def get_hudson_fst(ac1, ac2):\n",
    "    num, denom = allel.hudson_fst(ac1, ac2)\n",
    "    return(np.sum(num)/np.sum(denom))\n",
    "\n",
    "def get_fst2(ts):\n",
    "    popA = ts.samples(population = 0)\n",
    "    popB = ts.samples(population = 1)\n",
    "    \n",
    "    ga = allel.GenotypeArray(ts.genotype_matrix(), dtype='i1')\n",
    "\n",
    "    pop1_indices = ts.samples(population=1)\n",
    "    pop2_indices = ts.samples(population=2)\n",
    "    subpops = [pop1_indices, pop2_indices]\n",
    "    ac1 = ga[:, pop1_indices].count_alleles()\n",
    "    ac2 = ga[:, pop2_indices].count_alleles()\n",
    "    \n",
    "   \n",
    "    # Hudson Fst\n",
    "    a, b = get_hudson_fst(ac1, ac2)\n",
    "    hudson_fst_weighted = np.sum(a)/np.sum(b)\n",
    "    hudson_fst_unweighted = np.nanmean(a/b)"
   ]
  },
  {
   "cell_type": "code",
   "execution_count": 3,
   "metadata": {},
   "outputs": [],
   "source": [
    "def get_fst(ts, samples1, samples_2):\n",
    "    dA = ts.diversity(samples1, windows='sites', span_normalise=False)\n",
    "    dB = ts.diversity(samples_2, windows='sites', span_normalise=False)\n",
    "    dAB = ts.divergence([samples1, samples_2], windows='sites', span_normalise=False)\n",
    "    mean_within = (dA + dB) / 2\n",
    "    between = dAB \n",
    "    Fst = 1 - mean_within.sum() / between.sum()\n",
    "    return Fst"
   ]
  },
  {
   "cell_type": "code",
   "execution_count": null,
   "metadata": {},
   "outputs": [],
   "source": []
  },
  {
   "cell_type": "code",
   "execution_count": 4,
   "metadata": {},
   "outputs": [],
   "source": [
    "def get_fst_sites(dA, dB, dAB):\n",
    "    mean_within = (dA + dB) / 2\n",
    "    between = dAB \n",
    "    Fst = 1 - mean_within.sum() / between.sum()\n",
    "    return Fst"
   ]
  },
  {
   "cell_type": "code",
   "execution_count": null,
   "metadata": {},
   "outputs": [],
   "source": [
    "def bootstrap_fst_inds(ts, nsamples, ntimes):\n",
    "    popA = ts.samples(population = 0)\n",
    "    popB = ts.samples(population = 1)\n",
    "    for i in range(ntimes):"
   ]
  },
  {
   "cell_type": "code",
   "execution_count": 17,
   "metadata": {},
   "outputs": [
    {
     "ename": "LibraryError",
     "evalue": "Duplicate sample value",
     "output_type": "error",
     "traceback": [
      "\u001b[0;31m---------------------------------------------------------------------------\u001b[0m",
      "\u001b[0;31mLibraryError\u001b[0m                              Traceback (most recent call last)",
      "\u001b[0;32m/tmp/ipykernel_41836/1623840867.py\u001b[0m in \u001b[0;36m<module>\u001b[0;34m\u001b[0m\n\u001b[1;32m      1\u001b[0m \u001b[0mts\u001b[0m \u001b[0;34m=\u001b[0m \u001b[0msim\u001b[0m\u001b[0;34m(\u001b[0m\u001b[0;34m)\u001b[0m\u001b[0;34m\u001b[0m\u001b[0;34m\u001b[0m\u001b[0m\n\u001b[0;32m----> 2\u001b[0;31m ts.allele_frequency_spectrum(\n\u001b[0m\u001b[1;32m      3\u001b[0m     \u001b[0msample_sets\u001b[0m \u001b[0;34m=\u001b[0m \u001b[0;34m[\u001b[0m\u001b[0;34m[\u001b[0m\u001b[0;36m0\u001b[0m\u001b[0;34m,\u001b[0m\u001b[0;36m1\u001b[0m\u001b[0;34m,\u001b[0m\u001b[0;36m1\u001b[0m\u001b[0;34m,\u001b[0m\u001b[0;36m2\u001b[0m\u001b[0;34m,\u001b[0m\u001b[0;36m4\u001b[0m\u001b[0;34m,\u001b[0m\u001b[0;36m5\u001b[0m\u001b[0;34m]\u001b[0m\u001b[0;34m,\u001b[0m \u001b[0;34m[\u001b[0m\u001b[0;36m18\u001b[0m\u001b[0;34m,\u001b[0m\u001b[0;36m19\u001b[0m\u001b[0;34m,\u001b[0m\u001b[0;36m21\u001b[0m\u001b[0;34m,\u001b[0m\u001b[0;36m40\u001b[0m\u001b[0;34m]\u001b[0m\u001b[0;34m]\u001b[0m\u001b[0;34m,\u001b[0m\u001b[0;34m\u001b[0m\u001b[0;34m\u001b[0m\u001b[0m\n\u001b[1;32m      4\u001b[0m     \u001b[0mmode\u001b[0m \u001b[0;34m=\u001b[0m \u001b[0;34m'site'\u001b[0m\u001b[0;34m,\u001b[0m\u001b[0;34m\u001b[0m\u001b[0;34m\u001b[0m\u001b[0m\n\u001b[1;32m      5\u001b[0m     span_normalise=False, polarised=True)\n",
      "\u001b[0;32m~/anaconda3/envs/resampling/lib/python3.9/site-packages/tskit/trees.py\u001b[0m in \u001b[0;36mallele_frequency_spectrum\u001b[0;34m(self, sample_sets, windows, mode, span_normalise, polarised)\u001b[0m\n\u001b[1;32m   6587\u001b[0m         \u001b[0;32mif\u001b[0m \u001b[0msample_sets\u001b[0m \u001b[0;32mis\u001b[0m \u001b[0;32mNone\u001b[0m\u001b[0;34m:\u001b[0m\u001b[0;34m\u001b[0m\u001b[0;34m\u001b[0m\u001b[0m\n\u001b[1;32m   6588\u001b[0m             \u001b[0msample_sets\u001b[0m \u001b[0;34m=\u001b[0m \u001b[0;34m[\u001b[0m\u001b[0mself\u001b[0m\u001b[0;34m.\u001b[0m\u001b[0msamples\u001b[0m\u001b[0;34m(\u001b[0m\u001b[0;34m)\u001b[0m\u001b[0;34m]\u001b[0m\u001b[0;34m\u001b[0m\u001b[0;34m\u001b[0m\u001b[0m\n\u001b[0;32m-> 6589\u001b[0;31m         return self.__one_way_sample_set_stat(\n\u001b[0m\u001b[1;32m   6590\u001b[0m             \u001b[0mself\u001b[0m\u001b[0;34m.\u001b[0m\u001b[0m_ll_tree_sequence\u001b[0m\u001b[0;34m.\u001b[0m\u001b[0mallele_frequency_spectrum\u001b[0m\u001b[0;34m,\u001b[0m\u001b[0;34m\u001b[0m\u001b[0;34m\u001b[0m\u001b[0m\n\u001b[1;32m   6591\u001b[0m             \u001b[0msample_sets\u001b[0m\u001b[0;34m,\u001b[0m\u001b[0;34m\u001b[0m\u001b[0;34m\u001b[0m\u001b[0m\n",
      "\u001b[0;32m~/anaconda3/envs/resampling/lib/python3.9/site-packages/tskit/trees.py\u001b[0m in \u001b[0;36m__one_way_sample_set_stat\u001b[0;34m(self, ll_method, sample_sets, windows, mode, span_normalise, polarised)\u001b[0m\n\u001b[1;32m   5890\u001b[0m \u001b[0;34m\u001b[0m\u001b[0m\n\u001b[1;32m   5891\u001b[0m         \u001b[0mflattened\u001b[0m \u001b[0;34m=\u001b[0m \u001b[0mutil\u001b[0m\u001b[0;34m.\u001b[0m\u001b[0msafe_np_int_cast\u001b[0m\u001b[0;34m(\u001b[0m\u001b[0mnp\u001b[0m\u001b[0;34m.\u001b[0m\u001b[0mhstack\u001b[0m\u001b[0;34m(\u001b[0m\u001b[0msample_sets\u001b[0m\u001b[0;34m)\u001b[0m\u001b[0;34m,\u001b[0m \u001b[0mnp\u001b[0m\u001b[0;34m.\u001b[0m\u001b[0mint32\u001b[0m\u001b[0;34m)\u001b[0m\u001b[0;34m\u001b[0m\u001b[0;34m\u001b[0m\u001b[0m\n\u001b[0;32m-> 5892\u001b[0;31m         stat = self.__run_windowed_stat(\n\u001b[0m\u001b[1;32m   5893\u001b[0m             \u001b[0mwindows\u001b[0m\u001b[0;34m,\u001b[0m\u001b[0;34m\u001b[0m\u001b[0;34m\u001b[0m\u001b[0m\n\u001b[1;32m   5894\u001b[0m             \u001b[0mll_method\u001b[0m\u001b[0;34m,\u001b[0m\u001b[0;34m\u001b[0m\u001b[0;34m\u001b[0m\u001b[0m\n",
      "\u001b[0;32m~/anaconda3/envs/resampling/lib/python3.9/site-packages/tskit/trees.py\u001b[0m in \u001b[0;36m__run_windowed_stat\u001b[0;34m(self, windows, method, *args, **kwargs)\u001b[0m\n\u001b[1;32m   5852\u001b[0m         \u001b[0mstrip_dim\u001b[0m \u001b[0;34m=\u001b[0m \u001b[0mwindows\u001b[0m \u001b[0;32mis\u001b[0m \u001b[0;32mNone\u001b[0m\u001b[0;34m\u001b[0m\u001b[0;34m\u001b[0m\u001b[0m\n\u001b[1;32m   5853\u001b[0m         \u001b[0mwindows\u001b[0m \u001b[0;34m=\u001b[0m \u001b[0mself\u001b[0m\u001b[0;34m.\u001b[0m\u001b[0mparse_windows\u001b[0m\u001b[0;34m(\u001b[0m\u001b[0mwindows\u001b[0m\u001b[0;34m)\u001b[0m\u001b[0;34m\u001b[0m\u001b[0;34m\u001b[0m\u001b[0m\n\u001b[0;32m-> 5854\u001b[0;31m         \u001b[0mstat\u001b[0m \u001b[0;34m=\u001b[0m \u001b[0mmethod\u001b[0m\u001b[0;34m(\u001b[0m\u001b[0;34m*\u001b[0m\u001b[0margs\u001b[0m\u001b[0;34m,\u001b[0m \u001b[0;34m**\u001b[0m\u001b[0mkwargs\u001b[0m\u001b[0;34m,\u001b[0m \u001b[0mwindows\u001b[0m\u001b[0;34m=\u001b[0m\u001b[0mwindows\u001b[0m\u001b[0;34m)\u001b[0m\u001b[0;34m\u001b[0m\u001b[0;34m\u001b[0m\u001b[0m\n\u001b[0m\u001b[1;32m   5855\u001b[0m         \u001b[0;32mif\u001b[0m \u001b[0mstrip_dim\u001b[0m\u001b[0;34m:\u001b[0m\u001b[0;34m\u001b[0m\u001b[0;34m\u001b[0m\u001b[0m\n\u001b[1;32m   5856\u001b[0m             \u001b[0mstat\u001b[0m \u001b[0;34m=\u001b[0m \u001b[0mstat\u001b[0m\u001b[0;34m[\u001b[0m\u001b[0;36m0\u001b[0m\u001b[0;34m]\u001b[0m\u001b[0;34m\u001b[0m\u001b[0;34m\u001b[0m\u001b[0m\n",
      "\u001b[0;31mLibraryError\u001b[0m: Duplicate sample value"
     ]
    }
   ],
   "source": [
    "ts = sim()\n",
    "ts.allele_frequency_spectrum(\n",
    "    sample_sets = [[0,1,1,2,4,5], [18,19,21,40]],\n",
    "    mode = 'site',\n",
    "    span_normalise=False, polarised=True)"
   ]
  },
  {
   "cell_type": "code",
   "execution_count": 18,
   "metadata": {},
   "outputs": [],
   "source": [
    "gt = ts.genotype_matrix()"
   ]
  },
  {
   "cell_type": "code",
   "execution_count": 21,
   "metadata": {},
   "outputs": [
    {
     "ename": "ModuleNotFoundError",
     "evalue": "No module named 'allel'",
     "output_type": "error",
     "traceback": [
      "\u001b[0;31m---------------------------------------------------------------------------\u001b[0m",
      "\u001b[0;31mModuleNotFoundError\u001b[0m                       Traceback (most recent call last)",
      "\u001b[0;32m/tmp/ipykernel_41836/4230575174.py\u001b[0m in \u001b[0;36m<module>\u001b[0;34m\u001b[0m\n\u001b[0;32m----> 1\u001b[0;31m \u001b[0;32mimport\u001b[0m \u001b[0mallel\u001b[0m\u001b[0;34m\u001b[0m\u001b[0;34m\u001b[0m\u001b[0m\n\u001b[0m",
      "\u001b[0;31mModuleNotFoundError\u001b[0m: No module named 'allel'"
     ]
    }
   ],
   "source": [
    "import allel"
   ]
  },
  {
   "cell_type": "code",
   "execution_count": 20,
   "metadata": {},
   "outputs": [
    {
     "data": {
      "text/plain": [
       "(22420, 4000)"
      ]
     },
     "execution_count": 20,
     "metadata": {},
     "output_type": "execute_result"
    }
   ],
   "source": [
    "gt.shape"
   ]
  },
  {
   "cell_type": "code",
   "execution_count": null,
   "metadata": {},
   "outputs": [],
   "source": []
  },
  {
   "cell_type": "code",
   "execution_count": null,
   "metadata": {},
   "outputs": [],
   "source": []
  },
  {
   "cell_type": "code",
   "execution_count": 12,
   "metadata": {},
   "outputs": [],
   "source": [
    "def simulation(sim_times, \n",
    "               resample_times, \n",
    "               resample_size, \n",
    "               sample_size, \n",
    "               method=0):\n",
    "    \n",
    "    '''\n",
    "    @replicate_times: times of replication of simulation\n",
    "    @resample_times: times of resampling over each simulation  \n",
    "    @resample_size: size of each resampling \n",
    "    @sample_size: a list of sample size\n",
    "    @method: 0: resample with individuals, 1: resample with sites\n",
    "    \n",
    "    Return a dictionary that records coverage of all sample_size for each simulation\n",
    "    and a list contains the fst value for each simulation.\n",
    "    For example, coverage_rate[0] contains coverage value of all input sample_size of the first simulation\n",
    "    '''\n",
    "\n",
    "    fst = [] # fst values for each simulation\n",
    "    coverage_rate = {}\n",
    "    \n",
    "    # we will find the coverage for each simulation\n",
    "    for i in range(sim_times):\n",
    "        ts = sim()\n",
    "        popA = ts.samples(population = 0)\n",
    "        popB = ts.samples(population = 1)\n",
    "        # fst values for the present realization\n",
    "        this_fst = get_fst(ts, popA, popB)\n",
    "        fst.append(this_fst)\n",
    "       \n",
    "        print(f'Simulation {i}: {this_fst}')\n",
    "        coverage_rate[i] = []\n",
    "        \n",
    "        for size in sample_size:\n",
    "            within = []\n",
    "            for j in range(resample_times):\n",
    "                # resample over individuals \n",
    "                if method == 0:\n",
    "                    sample_fst = resample_ind(ts, popA, popB, resample_size, n=size)\n",
    "                else: # over sites \n",
    "                    sample_fst = resample_sites(ts, popA, popB, resample_size, n=size)\n",
    "                \n",
    "                # find the 95% CI for the resample fst value \n",
    "                est_mean = mean(sample_fst)\n",
    "                upper = est_mean + 1.96 * (stdev(sample_fst) / sqrt(resample_size))\n",
    "                lower = est_mean - 1.96 * (stdev(sample_fst) / sqrt(resample_size))\n",
    "\n",
    "                if this_fst < upper and this_fst > lower:\n",
    "                    within.append(1)\n",
    "                else:\n",
    "                    within.append(0)\n",
    "                \n",
    "            coverage_rate[i].append(mean(within))\n",
    "            \n",
    "        print(coverage_rate[i])\n",
    "        \n",
    "        \n",
    "    return coverage_rate, fst\n",
    "\n",
    "def resample_ind(ts, popA, popB, resample_size, n):\n",
    "    '''\n",
    "    Resample individuals of the given size\n",
    "    ''' \n",
    "    \n",
    "    resample_fst = []\n",
    "    for i in range(resample_size):\n",
    "        popA_random = np.random.choice(popA, size=n, replace=True)\n",
    "        popB_random = np.random.choice(popB, size=n, replace=True)\n",
    "        resample_fst.append(get_fst(ts, popA_random, popB_random))\n",
    "    \n",
    "    return resample_fst\n",
    "\n",
    "\n",
    "def resample_sites(ts, popA, popB, resample_size, n):\n",
    "    '''\n",
    "    Resample sites of the given size\n",
    "    ''' \n",
    "    dA = ts.diversity(popA, windows='sites', span_normalise=False)\n",
    "    dB = ts.diversity(popB, windows='sites', span_normalise=False)\n",
    "    dAB = ts.divergence([popA, popB], windows='sites', span_normalise=False)\n",
    "    \n",
    "    resample_fst = []\n",
    "    \n",
    "    index = [i for i in range(len(dA))]\n",
    "    for i in range(resample_size):\n",
    "        random_index = np.random.choice(index, size=n, replace=True)\n",
    "        dA_sites = dA[random_index]\n",
    "        dB_sites = dB[random_index]\n",
    "        dAB_sites = dAB[random_index]\n",
    "        resample_fst.append(get_fst_sites(dA_sites, dB_sites, dAB_sites))\n",
    "    \n",
    "    return resample_fst"
   ]
  },
  {
   "cell_type": "code",
   "execution_count": null,
   "metadata": {},
   "outputs": [],
   "source": []
  },
  {
   "cell_type": "code",
   "execution_count": 13,
   "metadata": {},
   "outputs": [
    {
     "name": "stdout",
     "output_type": "stream",
     "text": [
      "Simulation 0: 0.02426645673750283\n"
     ]
    },
    {
     "ename": "LibraryError",
     "evalue": "Duplicate sample value",
     "output_type": "error",
     "traceback": [
      "\u001b[0;31m---------------------------------------------------------------------------\u001b[0m",
      "\u001b[0;31mLibraryError\u001b[0m                              Traceback (most recent call last)",
      "\u001b[0;32m/tmp/ipykernel_41836/1372439679.py\u001b[0m in \u001b[0;36m<module>\u001b[0;34m\u001b[0m\n\u001b[1;32m      3\u001b[0m \u001b[0mn_ind\u001b[0m \u001b[0;34m=\u001b[0m \u001b[0;34m[\u001b[0m\u001b[0;36m100\u001b[0m\u001b[0;34m,\u001b[0m \u001b[0;36m200\u001b[0m\u001b[0;34m]\u001b[0m\u001b[0;34m\u001b[0m\u001b[0;34m\u001b[0m\u001b[0m\n\u001b[1;32m      4\u001b[0m \u001b[0;34m\u001b[0m\u001b[0m\n\u001b[0;32m----> 5\u001b[0;31m coverage_ind, fst_ind = simulation(\n\u001b[0m\u001b[1;32m      6\u001b[0m     \u001b[0msim_times\u001b[0m\u001b[0;34m=\u001b[0m\u001b[0;36m10\u001b[0m\u001b[0;34m,\u001b[0m\u001b[0;34m\u001b[0m\u001b[0;34m\u001b[0m\u001b[0m\n\u001b[1;32m      7\u001b[0m     \u001b[0mresample_times\u001b[0m\u001b[0;34m=\u001b[0m\u001b[0;36m10\u001b[0m\u001b[0;34m,\u001b[0m\u001b[0;34m\u001b[0m\u001b[0;34m\u001b[0m\u001b[0m\n",
      "\u001b[0;32m/tmp/ipykernel_41836/2571595301.py\u001b[0m in \u001b[0;36msimulation\u001b[0;34m(sim_times, resample_times, resample_size, sample_size, method)\u001b[0m\n\u001b[1;32m     37\u001b[0m                 \u001b[0;31m# resample over individuals\u001b[0m\u001b[0;34m\u001b[0m\u001b[0;34m\u001b[0m\u001b[0;34m\u001b[0m\u001b[0m\n\u001b[1;32m     38\u001b[0m                 \u001b[0;32mif\u001b[0m \u001b[0mmethod\u001b[0m \u001b[0;34m==\u001b[0m \u001b[0;36m0\u001b[0m\u001b[0;34m:\u001b[0m\u001b[0;34m\u001b[0m\u001b[0;34m\u001b[0m\u001b[0m\n\u001b[0;32m---> 39\u001b[0;31m                     \u001b[0msample_fst\u001b[0m \u001b[0;34m=\u001b[0m \u001b[0mresample_ind\u001b[0m\u001b[0;34m(\u001b[0m\u001b[0mts\u001b[0m\u001b[0;34m,\u001b[0m \u001b[0mpopA\u001b[0m\u001b[0;34m,\u001b[0m \u001b[0mpopB\u001b[0m\u001b[0;34m,\u001b[0m \u001b[0mresample_size\u001b[0m\u001b[0;34m,\u001b[0m \u001b[0mn\u001b[0m\u001b[0;34m=\u001b[0m\u001b[0msize\u001b[0m\u001b[0;34m)\u001b[0m\u001b[0;34m\u001b[0m\u001b[0;34m\u001b[0m\u001b[0m\n\u001b[0m\u001b[1;32m     40\u001b[0m                 \u001b[0;32melse\u001b[0m\u001b[0;34m:\u001b[0m \u001b[0;31m# over sites\u001b[0m\u001b[0;34m\u001b[0m\u001b[0;34m\u001b[0m\u001b[0m\n\u001b[1;32m     41\u001b[0m                     \u001b[0msample_fst\u001b[0m \u001b[0;34m=\u001b[0m \u001b[0mresample_sites\u001b[0m\u001b[0;34m(\u001b[0m\u001b[0mts\u001b[0m\u001b[0;34m,\u001b[0m \u001b[0mpopA\u001b[0m\u001b[0;34m,\u001b[0m \u001b[0mpopB\u001b[0m\u001b[0;34m,\u001b[0m \u001b[0mresample_size\u001b[0m\u001b[0;34m,\u001b[0m \u001b[0mn\u001b[0m\u001b[0;34m=\u001b[0m\u001b[0msize\u001b[0m\u001b[0;34m)\u001b[0m\u001b[0;34m\u001b[0m\u001b[0;34m\u001b[0m\u001b[0m\n",
      "\u001b[0;32m/tmp/ipykernel_41836/2571595301.py\u001b[0m in \u001b[0;36mresample_ind\u001b[0;34m(ts, popA, popB, resample_size, n)\u001b[0m\n\u001b[1;32m     67\u001b[0m         \u001b[0mpopA_random\u001b[0m \u001b[0;34m=\u001b[0m \u001b[0mnp\u001b[0m\u001b[0;34m.\u001b[0m\u001b[0mrandom\u001b[0m\u001b[0;34m.\u001b[0m\u001b[0mchoice\u001b[0m\u001b[0;34m(\u001b[0m\u001b[0mpopA\u001b[0m\u001b[0;34m,\u001b[0m \u001b[0msize\u001b[0m\u001b[0;34m=\u001b[0m\u001b[0mn\u001b[0m\u001b[0;34m,\u001b[0m \u001b[0mreplace\u001b[0m\u001b[0;34m=\u001b[0m\u001b[0;32mTrue\u001b[0m\u001b[0;34m)\u001b[0m\u001b[0;34m\u001b[0m\u001b[0;34m\u001b[0m\u001b[0m\n\u001b[1;32m     68\u001b[0m         \u001b[0mpopB_random\u001b[0m \u001b[0;34m=\u001b[0m \u001b[0mnp\u001b[0m\u001b[0;34m.\u001b[0m\u001b[0mrandom\u001b[0m\u001b[0;34m.\u001b[0m\u001b[0mchoice\u001b[0m\u001b[0;34m(\u001b[0m\u001b[0mpopB\u001b[0m\u001b[0;34m,\u001b[0m \u001b[0msize\u001b[0m\u001b[0;34m=\u001b[0m\u001b[0mn\u001b[0m\u001b[0;34m,\u001b[0m \u001b[0mreplace\u001b[0m\u001b[0;34m=\u001b[0m\u001b[0;32mTrue\u001b[0m\u001b[0;34m)\u001b[0m\u001b[0;34m\u001b[0m\u001b[0;34m\u001b[0m\u001b[0m\n\u001b[0;32m---> 69\u001b[0;31m         \u001b[0mresample_fst\u001b[0m\u001b[0;34m.\u001b[0m\u001b[0mappend\u001b[0m\u001b[0;34m(\u001b[0m\u001b[0mget_fst\u001b[0m\u001b[0;34m(\u001b[0m\u001b[0mts\u001b[0m\u001b[0;34m,\u001b[0m \u001b[0mpopA_random\u001b[0m\u001b[0;34m,\u001b[0m \u001b[0mpopB_random\u001b[0m\u001b[0;34m)\u001b[0m\u001b[0;34m)\u001b[0m\u001b[0;34m\u001b[0m\u001b[0;34m\u001b[0m\u001b[0m\n\u001b[0m\u001b[1;32m     70\u001b[0m \u001b[0;34m\u001b[0m\u001b[0m\n\u001b[1;32m     71\u001b[0m     \u001b[0;32mreturn\u001b[0m \u001b[0mresample_fst\u001b[0m\u001b[0;34m\u001b[0m\u001b[0;34m\u001b[0m\u001b[0m\n",
      "\u001b[0;32m/tmp/ipykernel_41836/268311005.py\u001b[0m in \u001b[0;36mget_fst\u001b[0;34m(ts, samples1, samples_2)\u001b[0m\n\u001b[1;32m      1\u001b[0m \u001b[0;32mdef\u001b[0m \u001b[0mget_fst\u001b[0m\u001b[0;34m(\u001b[0m\u001b[0mts\u001b[0m\u001b[0;34m,\u001b[0m \u001b[0msamples1\u001b[0m\u001b[0;34m,\u001b[0m \u001b[0msamples_2\u001b[0m\u001b[0;34m)\u001b[0m\u001b[0;34m:\u001b[0m\u001b[0;34m\u001b[0m\u001b[0;34m\u001b[0m\u001b[0m\n\u001b[0;32m----> 2\u001b[0;31m     \u001b[0mdA\u001b[0m \u001b[0;34m=\u001b[0m \u001b[0mts\u001b[0m\u001b[0;34m.\u001b[0m\u001b[0mdiversity\u001b[0m\u001b[0;34m(\u001b[0m\u001b[0msamples1\u001b[0m\u001b[0;34m,\u001b[0m \u001b[0mwindows\u001b[0m\u001b[0;34m=\u001b[0m\u001b[0;34m'sites'\u001b[0m\u001b[0;34m,\u001b[0m \u001b[0mspan_normalise\u001b[0m\u001b[0;34m=\u001b[0m\u001b[0;32mFalse\u001b[0m\u001b[0;34m)\u001b[0m\u001b[0;34m\u001b[0m\u001b[0;34m\u001b[0m\u001b[0m\n\u001b[0m\u001b[1;32m      3\u001b[0m     \u001b[0mdB\u001b[0m \u001b[0;34m=\u001b[0m \u001b[0mts\u001b[0m\u001b[0;34m.\u001b[0m\u001b[0mdiversity\u001b[0m\u001b[0;34m(\u001b[0m\u001b[0msamples_2\u001b[0m\u001b[0;34m,\u001b[0m \u001b[0mwindows\u001b[0m\u001b[0;34m=\u001b[0m\u001b[0;34m'sites'\u001b[0m\u001b[0;34m,\u001b[0m \u001b[0mspan_normalise\u001b[0m\u001b[0;34m=\u001b[0m\u001b[0;32mFalse\u001b[0m\u001b[0;34m)\u001b[0m\u001b[0;34m\u001b[0m\u001b[0;34m\u001b[0m\u001b[0m\n\u001b[1;32m      4\u001b[0m     \u001b[0mdAB\u001b[0m \u001b[0;34m=\u001b[0m \u001b[0mts\u001b[0m\u001b[0;34m.\u001b[0m\u001b[0mdivergence\u001b[0m\u001b[0;34m(\u001b[0m\u001b[0;34m[\u001b[0m\u001b[0msamples1\u001b[0m\u001b[0;34m,\u001b[0m \u001b[0msamples_2\u001b[0m\u001b[0;34m]\u001b[0m\u001b[0;34m,\u001b[0m \u001b[0mwindows\u001b[0m\u001b[0;34m=\u001b[0m\u001b[0;34m'sites'\u001b[0m\u001b[0;34m,\u001b[0m \u001b[0mspan_normalise\u001b[0m\u001b[0;34m=\u001b[0m\u001b[0;32mFalse\u001b[0m\u001b[0;34m)\u001b[0m\u001b[0;34m\u001b[0m\u001b[0;34m\u001b[0m\u001b[0m\n\u001b[1;32m      5\u001b[0m     \u001b[0mmean_within\u001b[0m \u001b[0;34m=\u001b[0m \u001b[0;34m(\u001b[0m\u001b[0mdA\u001b[0m \u001b[0;34m+\u001b[0m \u001b[0mdB\u001b[0m\u001b[0;34m)\u001b[0m \u001b[0;34m/\u001b[0m \u001b[0;36m2\u001b[0m\u001b[0;34m\u001b[0m\u001b[0;34m\u001b[0m\u001b[0m\n",
      "\u001b[0;32m~/anaconda3/envs/resampling/lib/python3.9/site-packages/tskit/trees.py\u001b[0m in \u001b[0;36mdiversity\u001b[0;34m(self, sample_sets, windows, mode, span_normalise)\u001b[0m\n\u001b[1;32m   5999\u001b[0m         \u001b[0;34m:\u001b[0m\u001b[0;32mreturn\u001b[0m\u001b[0;34m:\u001b[0m \u001b[0mA\u001b[0m \u001b[0mnumpy\u001b[0m \u001b[0marray\u001b[0m\u001b[0;34m.\u001b[0m\u001b[0;34m\u001b[0m\u001b[0;34m\u001b[0m\u001b[0m\n\u001b[1;32m   6000\u001b[0m         \"\"\"\n\u001b[0;32m-> 6001\u001b[0;31m         return self.__one_way_sample_set_stat(\n\u001b[0m\u001b[1;32m   6002\u001b[0m             \u001b[0mself\u001b[0m\u001b[0;34m.\u001b[0m\u001b[0m_ll_tree_sequence\u001b[0m\u001b[0;34m.\u001b[0m\u001b[0mdiversity\u001b[0m\u001b[0;34m,\u001b[0m\u001b[0;34m\u001b[0m\u001b[0;34m\u001b[0m\u001b[0m\n\u001b[1;32m   6003\u001b[0m             \u001b[0msample_sets\u001b[0m\u001b[0;34m,\u001b[0m\u001b[0;34m\u001b[0m\u001b[0;34m\u001b[0m\u001b[0m\n",
      "\u001b[0;32m~/anaconda3/envs/resampling/lib/python3.9/site-packages/tskit/trees.py\u001b[0m in \u001b[0;36m__one_way_sample_set_stat\u001b[0;34m(self, ll_method, sample_sets, windows, mode, span_normalise, polarised)\u001b[0m\n\u001b[1;32m   5890\u001b[0m \u001b[0;34m\u001b[0m\u001b[0m\n\u001b[1;32m   5891\u001b[0m         \u001b[0mflattened\u001b[0m \u001b[0;34m=\u001b[0m \u001b[0mutil\u001b[0m\u001b[0;34m.\u001b[0m\u001b[0msafe_np_int_cast\u001b[0m\u001b[0;34m(\u001b[0m\u001b[0mnp\u001b[0m\u001b[0;34m.\u001b[0m\u001b[0mhstack\u001b[0m\u001b[0;34m(\u001b[0m\u001b[0msample_sets\u001b[0m\u001b[0;34m)\u001b[0m\u001b[0;34m,\u001b[0m \u001b[0mnp\u001b[0m\u001b[0;34m.\u001b[0m\u001b[0mint32\u001b[0m\u001b[0;34m)\u001b[0m\u001b[0;34m\u001b[0m\u001b[0;34m\u001b[0m\u001b[0m\n\u001b[0;32m-> 5892\u001b[0;31m         stat = self.__run_windowed_stat(\n\u001b[0m\u001b[1;32m   5893\u001b[0m             \u001b[0mwindows\u001b[0m\u001b[0;34m,\u001b[0m\u001b[0;34m\u001b[0m\u001b[0;34m\u001b[0m\u001b[0m\n\u001b[1;32m   5894\u001b[0m             \u001b[0mll_method\u001b[0m\u001b[0;34m,\u001b[0m\u001b[0;34m\u001b[0m\u001b[0;34m\u001b[0m\u001b[0m\n",
      "\u001b[0;32m~/anaconda3/envs/resampling/lib/python3.9/site-packages/tskit/trees.py\u001b[0m in \u001b[0;36m__run_windowed_stat\u001b[0;34m(self, windows, method, *args, **kwargs)\u001b[0m\n\u001b[1;32m   5852\u001b[0m         \u001b[0mstrip_dim\u001b[0m \u001b[0;34m=\u001b[0m \u001b[0mwindows\u001b[0m \u001b[0;32mis\u001b[0m \u001b[0;32mNone\u001b[0m\u001b[0;34m\u001b[0m\u001b[0;34m\u001b[0m\u001b[0m\n\u001b[1;32m   5853\u001b[0m         \u001b[0mwindows\u001b[0m \u001b[0;34m=\u001b[0m \u001b[0mself\u001b[0m\u001b[0;34m.\u001b[0m\u001b[0mparse_windows\u001b[0m\u001b[0;34m(\u001b[0m\u001b[0mwindows\u001b[0m\u001b[0;34m)\u001b[0m\u001b[0;34m\u001b[0m\u001b[0;34m\u001b[0m\u001b[0m\n\u001b[0;32m-> 5854\u001b[0;31m         \u001b[0mstat\u001b[0m \u001b[0;34m=\u001b[0m \u001b[0mmethod\u001b[0m\u001b[0;34m(\u001b[0m\u001b[0;34m*\u001b[0m\u001b[0margs\u001b[0m\u001b[0;34m,\u001b[0m \u001b[0;34m**\u001b[0m\u001b[0mkwargs\u001b[0m\u001b[0;34m,\u001b[0m \u001b[0mwindows\u001b[0m\u001b[0;34m=\u001b[0m\u001b[0mwindows\u001b[0m\u001b[0;34m)\u001b[0m\u001b[0;34m\u001b[0m\u001b[0;34m\u001b[0m\u001b[0m\n\u001b[0m\u001b[1;32m   5855\u001b[0m         \u001b[0;32mif\u001b[0m \u001b[0mstrip_dim\u001b[0m\u001b[0;34m:\u001b[0m\u001b[0;34m\u001b[0m\u001b[0;34m\u001b[0m\u001b[0m\n\u001b[1;32m   5856\u001b[0m             \u001b[0mstat\u001b[0m \u001b[0;34m=\u001b[0m \u001b[0mstat\u001b[0m\u001b[0;34m[\u001b[0m\u001b[0;36m0\u001b[0m\u001b[0;34m]\u001b[0m\u001b[0;34m\u001b[0m\u001b[0;34m\u001b[0m\u001b[0m\n",
      "\u001b[0;31mLibraryError\u001b[0m: Duplicate sample value"
     ]
    }
   ],
   "source": [
    "#n_ind = [100, 200, 300, 400, 500, 600, 700, 800, 900, 1000]\n",
    "#n_sites = [1000, 2000, 3000, 4000, 5000, 6000, 7000, 8000, 9000, 10000]\n",
    "n_ind = [100, 200]\n",
    "\n",
    "coverage_ind, fst_ind = simulation(\n",
    "    sim_times=10, \n",
    "    resample_times=10, \n",
    "    resample_size=20, sample_size=n_ind)\n"
   ]
  },
  {
   "cell_type": "code",
   "execution_count": 11,
   "metadata": {},
   "outputs": [
    {
     "data": {
      "text/plain": [
       "{0: [1, 1],\n",
       " 1: [1, 0.9],\n",
       " 2: [1, 1],\n",
       " 3: [1, 0.9],\n",
       " 4: [1, 1],\n",
       " 5: [0.9, 0.9],\n",
       " 6: [0.8, 1],\n",
       " 7: [0.9, 0.8],\n",
       " 8: [1, 0.9],\n",
       " 9: [0.8, 0.9]}"
      ]
     },
     "execution_count": 11,
     "metadata": {},
     "output_type": "execute_result"
    }
   ],
   "source": [
    "coverage_ind"
   ]
  },
  {
   "cell_type": "code",
   "execution_count": null,
   "metadata": {},
   "outputs": [],
   "source": []
  },
  {
   "cell_type": "code",
   "execution_count": null,
   "metadata": {},
   "outputs": [],
   "source": []
  },
  {
   "cell_type": "code",
   "execution_count": 18,
   "metadata": {},
   "outputs": [
    {
     "name": "stdout",
     "output_type": "stream",
     "text": [
      "Simulaiton 0: 0.023774599212821212\n",
      "[0.9, 0.9, 1, 0.9, 0.9, 1, 1, 0.8, 0.9, 1]\n",
      "Simulaiton 1: 0.024372596484649844\n",
      "[1, 1, 0.9, 1, 1, 0.8, 1, 0.9, 1, 0.9]\n",
      "Simulaiton 2: 0.02363257683131692\n",
      "[1, 1, 0.9, 0.9, 1, 1, 0.9, 1, 0.9, 0.7]\n",
      "Simulaiton 3: 0.024679965076707666\n",
      "[0.9, 0.9, 0.9, 0.9, 1, 0.9, 1, 1, 0.8, 1]\n",
      "Simulaiton 4: 0.02393117949089496\n",
      "[0.9, 1, 0.9, 1, 0.8, 0.8, 1, 1, 0.9, 1]\n",
      "Simulaiton 5: 0.022885717137219097\n",
      "[0.9, 1, 0.8, 0.8, 0.9, 1, 1, 0.9, 1, 0.9]\n",
      "Simulaiton 6: 0.021095052605427655\n",
      "[0.9, 1, 1, 0.9, 0.9, 1, 0.8, 1, 0.9, 0.9]\n",
      "Simulaiton 7: 0.023479512887795928\n",
      "[1, 1, 1, 1, 1, 0.9, 1, 0.9, 0.8, 1]\n",
      "Simulaiton 8: 0.021391165822375213\n",
      "[1, 0.9, 1, 1, 0.9, 0.8, 0.9, 1, 1, 0.9]\n",
      "Simulaiton 9: 0.02326111604684411\n",
      "[1, 0.8, 1, 1, 0.9, 0.9, 0.9, 1, 1, 1]\n"
     ]
    }
   ],
   "source": [
    "n_sites = [1000, 2000, 3000, 4000, 5000, 6000, 7000, 8000, 9000, 10000]\n",
    "\n",
    "coverage_sites, fst_sites = simulation(replicate_times=10, resample_times=10, resample_size=20, sample_size=n_sites, method=1)\n"
   ]
  },
  {
   "cell_type": "code",
   "execution_count": 16,
   "metadata": {},
   "outputs": [
    {
     "data": {
      "text/plain": [
       "{0: [1, 1, 0.9, 1, 1, 0.8, 1, 1, 0.9, 0.9],\n",
       " 1: [0.9, 1, 1, 1, 0.9, 1, 1, 0.9, 1, 1],\n",
       " 2: [0.9, 0.9, 0.9, 1, 0.9, 1, 1, 1, 1, 0.9],\n",
       " 3: [0.9, 0.8, 0.7, 0.9, 1, 1, 1, 1, 0.8, 0.8],\n",
       " 4: [1, 0.9, 1, 0.8, 0.9, 1, 1, 1, 1, 0.9],\n",
       " 5: [0.9, 0.8, 0.9, 0.9, 1, 0.9, 1, 0.9, 0.9, 0.9],\n",
       " 6: [1, 1, 1, 1, 0.8, 1, 0.8, 1, 0.9, 1],\n",
       " 7: [1, 0.8, 0.9, 1, 1, 0.8, 0.9, 1, 0.9, 1],\n",
       " 8: [1, 1, 0.9, 0.9, 1, 1, 1, 1, 0.9, 0.9],\n",
       " 9: [1, 1, 1, 0.9, 0.8, 1, 1, 0.8, 0.9, 1]}"
      ]
     },
     "execution_count": 16,
     "metadata": {},
     "output_type": "execute_result"
    }
   ],
   "source": [
    "coverage_sites"
   ]
  },
  {
   "cell_type": "markdown",
   "metadata": {},
   "source": [
    "## Each row is a simulation and column is the coverage rate for that sample size. There are in total 10 different simulations. "
   ]
  },
  {
   "cell_type": "code",
   "execution_count": 31,
   "metadata": {},
   "outputs": [
    {
     "data": {
      "text/html": [
       "<div>\n",
       "<style scoped>\n",
       "    .dataframe tbody tr th:only-of-type {\n",
       "        vertical-align: middle;\n",
       "    }\n",
       "\n",
       "    .dataframe tbody tr th {\n",
       "        vertical-align: top;\n",
       "    }\n",
       "\n",
       "    .dataframe thead th {\n",
       "        text-align: right;\n",
       "    }\n",
       "</style>\n",
       "<table border=\"1\" class=\"dataframe\">\n",
       "  <thead>\n",
       "    <tr style=\"text-align: right;\">\n",
       "      <th></th>\n",
       "      <th>100</th>\n",
       "      <th>200</th>\n",
       "      <th>300</th>\n",
       "      <th>400</th>\n",
       "      <th>500</th>\n",
       "      <th>600</th>\n",
       "      <th>700</th>\n",
       "      <th>800</th>\n",
       "      <th>900</th>\n",
       "      <th>1000</th>\n",
       "    </tr>\n",
       "  </thead>\n",
       "  <tbody>\n",
       "    <tr>\n",
       "      <th>0</th>\n",
       "      <td>1.0</td>\n",
       "      <td>0.8</td>\n",
       "      <td>1.0</td>\n",
       "      <td>1.0</td>\n",
       "      <td>1.0</td>\n",
       "      <td>1.0</td>\n",
       "      <td>0.9</td>\n",
       "      <td>1.0</td>\n",
       "      <td>1.0</td>\n",
       "      <td>1.0</td>\n",
       "    </tr>\n",
       "    <tr>\n",
       "      <th>1</th>\n",
       "      <td>1.0</td>\n",
       "      <td>0.9</td>\n",
       "      <td>1.0</td>\n",
       "      <td>0.8</td>\n",
       "      <td>0.9</td>\n",
       "      <td>0.9</td>\n",
       "      <td>1.0</td>\n",
       "      <td>0.9</td>\n",
       "      <td>1.0</td>\n",
       "      <td>1.0</td>\n",
       "    </tr>\n",
       "    <tr>\n",
       "      <th>2</th>\n",
       "      <td>0.8</td>\n",
       "      <td>1.0</td>\n",
       "      <td>0.8</td>\n",
       "      <td>0.9</td>\n",
       "      <td>0.8</td>\n",
       "      <td>1.0</td>\n",
       "      <td>0.7</td>\n",
       "      <td>0.8</td>\n",
       "      <td>1.0</td>\n",
       "      <td>0.9</td>\n",
       "    </tr>\n",
       "    <tr>\n",
       "      <th>3</th>\n",
       "      <td>0.9</td>\n",
       "      <td>1.0</td>\n",
       "      <td>1.0</td>\n",
       "      <td>0.9</td>\n",
       "      <td>1.0</td>\n",
       "      <td>0.9</td>\n",
       "      <td>0.9</td>\n",
       "      <td>1.0</td>\n",
       "      <td>1.0</td>\n",
       "      <td>0.9</td>\n",
       "    </tr>\n",
       "    <tr>\n",
       "      <th>4</th>\n",
       "      <td>0.9</td>\n",
       "      <td>1.0</td>\n",
       "      <td>0.9</td>\n",
       "      <td>1.0</td>\n",
       "      <td>1.0</td>\n",
       "      <td>1.0</td>\n",
       "      <td>0.9</td>\n",
       "      <td>0.9</td>\n",
       "      <td>0.9</td>\n",
       "      <td>1.0</td>\n",
       "    </tr>\n",
       "    <tr>\n",
       "      <th>5</th>\n",
       "      <td>1.0</td>\n",
       "      <td>0.8</td>\n",
       "      <td>1.0</td>\n",
       "      <td>1.0</td>\n",
       "      <td>1.0</td>\n",
       "      <td>0.9</td>\n",
       "      <td>0.8</td>\n",
       "      <td>1.0</td>\n",
       "      <td>0.9</td>\n",
       "      <td>1.0</td>\n",
       "    </tr>\n",
       "    <tr>\n",
       "      <th>6</th>\n",
       "      <td>1.0</td>\n",
       "      <td>1.0</td>\n",
       "      <td>0.9</td>\n",
       "      <td>0.9</td>\n",
       "      <td>1.0</td>\n",
       "      <td>0.9</td>\n",
       "      <td>0.8</td>\n",
       "      <td>1.0</td>\n",
       "      <td>1.0</td>\n",
       "      <td>0.8</td>\n",
       "    </tr>\n",
       "    <tr>\n",
       "      <th>7</th>\n",
       "      <td>1.0</td>\n",
       "      <td>0.8</td>\n",
       "      <td>1.0</td>\n",
       "      <td>0.8</td>\n",
       "      <td>1.0</td>\n",
       "      <td>1.0</td>\n",
       "      <td>1.0</td>\n",
       "      <td>1.0</td>\n",
       "      <td>1.0</td>\n",
       "      <td>1.0</td>\n",
       "    </tr>\n",
       "    <tr>\n",
       "      <th>8</th>\n",
       "      <td>0.7</td>\n",
       "      <td>1.0</td>\n",
       "      <td>0.9</td>\n",
       "      <td>0.8</td>\n",
       "      <td>1.0</td>\n",
       "      <td>0.9</td>\n",
       "      <td>1.0</td>\n",
       "      <td>0.8</td>\n",
       "      <td>0.8</td>\n",
       "      <td>1.0</td>\n",
       "    </tr>\n",
       "    <tr>\n",
       "      <th>9</th>\n",
       "      <td>1.0</td>\n",
       "      <td>1.0</td>\n",
       "      <td>1.0</td>\n",
       "      <td>0.9</td>\n",
       "      <td>1.0</td>\n",
       "      <td>0.9</td>\n",
       "      <td>1.0</td>\n",
       "      <td>0.9</td>\n",
       "      <td>0.9</td>\n",
       "      <td>0.8</td>\n",
       "    </tr>\n",
       "  </tbody>\n",
       "</table>\n",
       "</div>"
      ],
      "text/plain": [
       "   100   200   300   400   500   600   700   800   900   1000\n",
       "0   1.0   0.8   1.0   1.0   1.0   1.0   0.9   1.0   1.0   1.0\n",
       "1   1.0   0.9   1.0   0.8   0.9   0.9   1.0   0.9   1.0   1.0\n",
       "2   0.8   1.0   0.8   0.9   0.8   1.0   0.7   0.8   1.0   0.9\n",
       "3   0.9   1.0   1.0   0.9   1.0   0.9   0.9   1.0   1.0   0.9\n",
       "4   0.9   1.0   0.9   1.0   1.0   1.0   0.9   0.9   0.9   1.0\n",
       "5   1.0   0.8   1.0   1.0   1.0   0.9   0.8   1.0   0.9   1.0\n",
       "6   1.0   1.0   0.9   0.9   1.0   0.9   0.8   1.0   1.0   0.8\n",
       "7   1.0   0.8   1.0   0.8   1.0   1.0   1.0   1.0   1.0   1.0\n",
       "8   0.7   1.0   0.9   0.8   1.0   0.9   1.0   0.8   0.8   1.0\n",
       "9   1.0   1.0   1.0   0.9   1.0   0.9   1.0   0.9   0.9   0.8"
      ]
     },
     "execution_count": 31,
     "metadata": {},
     "output_type": "execute_result"
    }
   ],
   "source": [
    "df_ind = pd.DataFrame.from_dict(coverage_ind, orient='index', columns=n_ind)\n",
    "df_ind"
   ]
  },
  {
   "cell_type": "code",
   "execution_count": 29,
   "metadata": {},
   "outputs": [
    {
     "data": {
      "text/plain": [
       "1000     0.93\n",
       "2000     0.93\n",
       "3000     0.95\n",
       "4000     0.90\n",
       "5000     0.97\n",
       "6000     0.94\n",
       "7000     0.90\n",
       "8000     0.93\n",
       "9000     0.95\n",
       "10000    0.94\n",
       "dtype: float64"
      ]
     },
     "execution_count": 29,
     "metadata": {},
     "output_type": "execute_result"
    }
   ],
   "source": [
    "df_ind.mean()"
   ]
  },
  {
   "cell_type": "code",
   "execution_count": 32,
   "metadata": {},
   "outputs": [
    {
     "data": {
      "text/html": [
       "<div>\n",
       "<style scoped>\n",
       "    .dataframe tbody tr th:only-of-type {\n",
       "        vertical-align: middle;\n",
       "    }\n",
       "\n",
       "    .dataframe tbody tr th {\n",
       "        vertical-align: top;\n",
       "    }\n",
       "\n",
       "    .dataframe thead th {\n",
       "        text-align: right;\n",
       "    }\n",
       "</style>\n",
       "<table border=\"1\" class=\"dataframe\">\n",
       "  <thead>\n",
       "    <tr style=\"text-align: right;\">\n",
       "      <th></th>\n",
       "      <th>1000</th>\n",
       "      <th>2000</th>\n",
       "      <th>3000</th>\n",
       "      <th>4000</th>\n",
       "      <th>5000</th>\n",
       "      <th>6000</th>\n",
       "      <th>7000</th>\n",
       "      <th>8000</th>\n",
       "      <th>9000</th>\n",
       "      <th>10000</th>\n",
       "    </tr>\n",
       "  </thead>\n",
       "  <tbody>\n",
       "    <tr>\n",
       "      <th>0</th>\n",
       "      <td>1.0</td>\n",
       "      <td>0.8</td>\n",
       "      <td>1.0</td>\n",
       "      <td>1.0</td>\n",
       "      <td>1.0</td>\n",
       "      <td>1.0</td>\n",
       "      <td>0.9</td>\n",
       "      <td>1.0</td>\n",
       "      <td>1.0</td>\n",
       "      <td>1.0</td>\n",
       "    </tr>\n",
       "    <tr>\n",
       "      <th>1</th>\n",
       "      <td>1.0</td>\n",
       "      <td>0.9</td>\n",
       "      <td>1.0</td>\n",
       "      <td>0.8</td>\n",
       "      <td>0.9</td>\n",
       "      <td>0.9</td>\n",
       "      <td>1.0</td>\n",
       "      <td>0.9</td>\n",
       "      <td>1.0</td>\n",
       "      <td>1.0</td>\n",
       "    </tr>\n",
       "    <tr>\n",
       "      <th>2</th>\n",
       "      <td>0.8</td>\n",
       "      <td>1.0</td>\n",
       "      <td>0.8</td>\n",
       "      <td>0.9</td>\n",
       "      <td>0.8</td>\n",
       "      <td>1.0</td>\n",
       "      <td>0.7</td>\n",
       "      <td>0.8</td>\n",
       "      <td>1.0</td>\n",
       "      <td>0.9</td>\n",
       "    </tr>\n",
       "    <tr>\n",
       "      <th>3</th>\n",
       "      <td>0.9</td>\n",
       "      <td>1.0</td>\n",
       "      <td>1.0</td>\n",
       "      <td>0.9</td>\n",
       "      <td>1.0</td>\n",
       "      <td>0.9</td>\n",
       "      <td>0.9</td>\n",
       "      <td>1.0</td>\n",
       "      <td>1.0</td>\n",
       "      <td>0.9</td>\n",
       "    </tr>\n",
       "    <tr>\n",
       "      <th>4</th>\n",
       "      <td>0.9</td>\n",
       "      <td>1.0</td>\n",
       "      <td>0.9</td>\n",
       "      <td>1.0</td>\n",
       "      <td>1.0</td>\n",
       "      <td>1.0</td>\n",
       "      <td>0.9</td>\n",
       "      <td>0.9</td>\n",
       "      <td>0.9</td>\n",
       "      <td>1.0</td>\n",
       "    </tr>\n",
       "    <tr>\n",
       "      <th>5</th>\n",
       "      <td>1.0</td>\n",
       "      <td>0.8</td>\n",
       "      <td>1.0</td>\n",
       "      <td>1.0</td>\n",
       "      <td>1.0</td>\n",
       "      <td>0.9</td>\n",
       "      <td>0.8</td>\n",
       "      <td>1.0</td>\n",
       "      <td>0.9</td>\n",
       "      <td>1.0</td>\n",
       "    </tr>\n",
       "    <tr>\n",
       "      <th>6</th>\n",
       "      <td>1.0</td>\n",
       "      <td>1.0</td>\n",
       "      <td>0.9</td>\n",
       "      <td>0.9</td>\n",
       "      <td>1.0</td>\n",
       "      <td>0.9</td>\n",
       "      <td>0.8</td>\n",
       "      <td>1.0</td>\n",
       "      <td>1.0</td>\n",
       "      <td>0.8</td>\n",
       "    </tr>\n",
       "    <tr>\n",
       "      <th>7</th>\n",
       "      <td>1.0</td>\n",
       "      <td>0.8</td>\n",
       "      <td>1.0</td>\n",
       "      <td>0.8</td>\n",
       "      <td>1.0</td>\n",
       "      <td>1.0</td>\n",
       "      <td>1.0</td>\n",
       "      <td>1.0</td>\n",
       "      <td>1.0</td>\n",
       "      <td>1.0</td>\n",
       "    </tr>\n",
       "    <tr>\n",
       "      <th>8</th>\n",
       "      <td>0.7</td>\n",
       "      <td>1.0</td>\n",
       "      <td>0.9</td>\n",
       "      <td>0.8</td>\n",
       "      <td>1.0</td>\n",
       "      <td>0.9</td>\n",
       "      <td>1.0</td>\n",
       "      <td>0.8</td>\n",
       "      <td>0.8</td>\n",
       "      <td>1.0</td>\n",
       "    </tr>\n",
       "    <tr>\n",
       "      <th>9</th>\n",
       "      <td>1.0</td>\n",
       "      <td>1.0</td>\n",
       "      <td>1.0</td>\n",
       "      <td>0.9</td>\n",
       "      <td>1.0</td>\n",
       "      <td>0.9</td>\n",
       "      <td>1.0</td>\n",
       "      <td>0.9</td>\n",
       "      <td>0.9</td>\n",
       "      <td>0.8</td>\n",
       "    </tr>\n",
       "  </tbody>\n",
       "</table>\n",
       "</div>"
      ],
      "text/plain": [
       "   1000   2000   3000   4000   5000   6000   7000   8000   9000   10000\n",
       "0    1.0    0.8    1.0    1.0    1.0    1.0    0.9    1.0    1.0    1.0\n",
       "1    1.0    0.9    1.0    0.8    0.9    0.9    1.0    0.9    1.0    1.0\n",
       "2    0.8    1.0    0.8    0.9    0.8    1.0    0.7    0.8    1.0    0.9\n",
       "3    0.9    1.0    1.0    0.9    1.0    0.9    0.9    1.0    1.0    0.9\n",
       "4    0.9    1.0    0.9    1.0    1.0    1.0    0.9    0.9    0.9    1.0\n",
       "5    1.0    0.8    1.0    1.0    1.0    0.9    0.8    1.0    0.9    1.0\n",
       "6    1.0    1.0    0.9    0.9    1.0    0.9    0.8    1.0    1.0    0.8\n",
       "7    1.0    0.8    1.0    0.8    1.0    1.0    1.0    1.0    1.0    1.0\n",
       "8    0.7    1.0    0.9    0.8    1.0    0.9    1.0    0.8    0.8    1.0\n",
       "9    1.0    1.0    1.0    0.9    1.0    0.9    1.0    0.9    0.9    0.8"
      ]
     },
     "execution_count": 32,
     "metadata": {},
     "output_type": "execute_result"
    }
   ],
   "source": [
    "df_sites = pd.DataFrame.from_dict(coverage_ind, orient='index', columns=n_sites)\n",
    "df_sites"
   ]
  },
  {
   "cell_type": "code",
   "execution_count": 33,
   "metadata": {},
   "outputs": [
    {
     "data": {
      "text/plain": [
       "1000     0.93\n",
       "2000     0.93\n",
       "3000     0.95\n",
       "4000     0.90\n",
       "5000     0.97\n",
       "6000     0.94\n",
       "7000     0.90\n",
       "8000     0.93\n",
       "9000     0.95\n",
       "10000    0.94\n",
       "dtype: float64"
      ]
     },
     "execution_count": 33,
     "metadata": {},
     "output_type": "execute_result"
    }
   ],
   "source": [
    "df_sites.mean()"
   ]
  },
  {
   "cell_type": "code",
   "execution_count": null,
   "metadata": {},
   "outputs": [],
   "source": []
  }
 ],
 "metadata": {
  "kernelspec": {
   "display_name": "Python 3 (ipykernel)",
   "language": "python",
   "name": "python3"
  },
  "language_info": {
   "codemirror_mode": {
    "name": "ipython",
    "version": 3
   },
   "file_extension": ".py",
   "mimetype": "text/x-python",
   "name": "python",
   "nbconvert_exporter": "python",
   "pygments_lexer": "ipython3",
   "version": "3.9.5"
  }
 },
 "nbformat": 4,
 "nbformat_minor": 4
}
